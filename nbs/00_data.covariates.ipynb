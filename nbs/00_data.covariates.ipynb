{
 "cells": [
  {
   "cell_type": "code",
   "execution_count": null,
   "metadata": {},
   "outputs": [],
   "source": [
    "# default_exp data.covariates"
   ]
  },
  {
   "cell_type": "code",
   "execution_count": 14,
   "metadata": {},
   "outputs": [
    {
     "name": "stderr",
     "output_type": "stream",
     "text": [
      "[autoreload of prompt_toolkit.cache failed: Traceback (most recent call last):\n",
      "  File \"/opt/conda/lib/python3.8/site-packages/IPython/extensions/autoreload.py\", line 245, in check\n",
      "    superreload(m, reload, self.old_objects)\n",
      "  File \"/opt/conda/lib/python3.8/site-packages/IPython/extensions/autoreload.py\", line 410, in superreload\n",
      "    update_generic(old_obj, new_obj)\n",
      "  File \"/opt/conda/lib/python3.8/site-packages/IPython/extensions/autoreload.py\", line 347, in update_generic\n",
      "    update(a, b)\n",
      "  File \"/opt/conda/lib/python3.8/site-packages/IPython/extensions/autoreload.py\", line 317, in update_class\n",
      "    update_instances(old, new)\n",
      "  File \"/opt/conda/lib/python3.8/site-packages/IPython/extensions/autoreload.py\", line 280, in update_instances\n",
      "    ref.__class__ = new\n",
      "TypeError: __class__ assignment: 'SimpleCache' object layout differs from 'SimpleCache'\n",
      "]\n",
      "[autoreload of prompt_toolkit.filters.cli failed: Traceback (most recent call last):\n",
      "  File \"/opt/conda/lib/python3.8/site-packages/IPython/extensions/autoreload.py\", line 245, in check\n",
      "    superreload(m, reload, self.old_objects)\n",
      "  File \"/opt/conda/lib/python3.8/site-packages/IPython/extensions/autoreload.py\", line 410, in superreload\n",
      "    update_generic(old_obj, new_obj)\n",
      "  File \"/opt/conda/lib/python3.8/site-packages/IPython/extensions/autoreload.py\", line 347, in update_generic\n",
      "    update(a, b)\n",
      "  File \"/opt/conda/lib/python3.8/site-packages/IPython/extensions/autoreload.py\", line 266, in update_function\n",
      "    setattr(old, name, getattr(new, name))\n",
      "ValueError: <lambda>() requires a code object with 0 free vars, not 2\n",
      "]\n",
      "[autoreload of prompt_toolkit.history failed: Traceback (most recent call last):\n",
      "  File \"/opt/conda/lib/python3.8/site-packages/IPython/extensions/autoreload.py\", line 245, in check\n",
      "    superreload(m, reload, self.old_objects)\n",
      "  File \"/opt/conda/lib/python3.8/site-packages/IPython/extensions/autoreload.py\", line 410, in superreload\n",
      "    update_generic(old_obj, new_obj)\n",
      "  File \"/opt/conda/lib/python3.8/site-packages/IPython/extensions/autoreload.py\", line 347, in update_generic\n",
      "    update(a, b)\n",
      "  File \"/opt/conda/lib/python3.8/site-packages/IPython/extensions/autoreload.py\", line 302, in update_class\n",
      "    if update_generic(old_obj, new_obj): continue\n",
      "  File \"/opt/conda/lib/python3.8/site-packages/IPython/extensions/autoreload.py\", line 347, in update_generic\n",
      "    update(a, b)\n",
      "  File \"/opt/conda/lib/python3.8/site-packages/IPython/extensions/autoreload.py\", line 266, in update_function\n",
      "    setattr(old, name, getattr(new, name))\n",
      "ValueError: __init__() requires a code object with 1 free vars, not 0\n",
      "]\n",
      "[autoreload of prompt_toolkit.keys failed: Traceback (most recent call last):\n",
      "  File \"/opt/conda/lib/python3.8/site-packages/IPython/extensions/autoreload.py\", line 245, in check\n",
      "    superreload(m, reload, self.old_objects)\n",
      "  File \"/opt/conda/lib/python3.8/site-packages/IPython/extensions/autoreload.py\", line 410, in superreload\n",
      "    update_generic(old_obj, new_obj)\n",
      "  File \"/opt/conda/lib/python3.8/site-packages/IPython/extensions/autoreload.py\", line 347, in update_generic\n",
      "    update(a, b)\n",
      "  File \"/opt/conda/lib/python3.8/site-packages/IPython/extensions/autoreload.py\", line 317, in update_class\n",
      "    update_instances(old, new)\n",
      "  File \"/opt/conda/lib/python3.8/site-packages/IPython/extensions/autoreload.py\", line 280, in update_instances\n",
      "    ref.__class__ = new\n",
      "TypeError: __class__ assignment: 'Keys' object layout differs from 'Keys'\n",
      "]\n",
      "[autoreload of prompt_toolkit.key_binding.vi_state failed: Traceback (most recent call last):\n",
      "  File \"/opt/conda/lib/python3.8/site-packages/IPython/extensions/autoreload.py\", line 245, in check\n",
      "    superreload(m, reload, self.old_objects)\n",
      "  File \"/opt/conda/lib/python3.8/site-packages/IPython/extensions/autoreload.py\", line 410, in superreload\n",
      "    update_generic(old_obj, new_obj)\n",
      "  File \"/opt/conda/lib/python3.8/site-packages/IPython/extensions/autoreload.py\", line 347, in update_generic\n",
      "    update(a, b)\n",
      "  File \"/opt/conda/lib/python3.8/site-packages/IPython/extensions/autoreload.py\", line 317, in update_class\n",
      "    update_instances(old, new)\n",
      "  File \"/opt/conda/lib/python3.8/site-packages/IPython/extensions/autoreload.py\", line 280, in update_instances\n",
      "    ref.__class__ = new\n",
      "TypeError: __class__ assignment: 'InputMode' object layout differs from 'InputMode'\n",
      "]\n",
      "[autoreload of prompt_toolkit.key_binding.bindings.scroll failed: Traceback (most recent call last):\n",
      "  File \"/opt/conda/lib/python3.8/site-packages/IPython/extensions/autoreload.py\", line 245, in check\n",
      "    superreload(m, reload, self.old_objects)\n",
      "  File \"/opt/conda/lib/python3.8/site-packages/IPython/extensions/autoreload.py\", line 394, in superreload\n",
      "    module = reload(module)\n",
      "  File \"/opt/conda/lib/python3.8/imp.py\", line 314, in reload\n",
      "    return importlib.reload(module)\n",
      "  File \"/opt/conda/lib/python3.8/importlib/__init__.py\", line 169, in reload\n",
      "    _bootstrap._exec(spec, module)\n",
      "  File \"<frozen importlib._bootstrap>\", line 604, in _exec\n",
      "  File \"<frozen importlib._bootstrap_external>\", line 783, in exec_module\n",
      "  File \"<frozen importlib._bootstrap>\", line 219, in _call_with_frames_removed\n",
      "  File \"/opt/conda/lib/python3.8/site-packages/prompt_toolkit/key_binding/bindings/scroll.py\", line 10, in <module>\n",
      "    from prompt_toolkit.layout.utils import find_window_for_buffer_name\n",
      "ImportError: cannot import name 'find_window_for_buffer_name' from 'prompt_toolkit.layout.utils' (/opt/conda/lib/python3.8/site-packages/prompt_toolkit/layout/utils.py)\n",
      "]\n"
     ]
    },
    {
     "name": "stdout",
     "output_type": "stream",
     "text": [
      "The autoreload extension is already loaded. To reload it, use:\n",
      "  %reload_ext autoreload\n"
     ]
    },
    {
     "name": "stderr",
     "output_type": "stream",
     "text": [
      "[autoreload of prompt_toolkit.layout.containers failed: Traceback (most recent call last):\n",
      "  File \"/opt/conda/lib/python3.8/site-packages/IPython/extensions/autoreload.py\", line 245, in check\n",
      "    superreload(m, reload, self.old_objects)\n",
      "  File \"/opt/conda/lib/python3.8/site-packages/IPython/extensions/autoreload.py\", line 410, in superreload\n",
      "    update_generic(old_obj, new_obj)\n",
      "  File \"/opt/conda/lib/python3.8/site-packages/IPython/extensions/autoreload.py\", line 347, in update_generic\n",
      "    update(a, b)\n",
      "  File \"/opt/conda/lib/python3.8/site-packages/IPython/extensions/autoreload.py\", line 302, in update_class\n",
      "    if update_generic(old_obj, new_obj): continue\n",
      "  File \"/opt/conda/lib/python3.8/site-packages/IPython/extensions/autoreload.py\", line 347, in update_generic\n",
      "    update(a, b)\n",
      "  File \"/opt/conda/lib/python3.8/site-packages/IPython/extensions/autoreload.py\", line 266, in update_function\n",
      "    setattr(old, name, getattr(new, name))\n",
      "ValueError: __init__() requires a code object with 1 free vars, not 0\n",
      "]\n",
      "[autoreload of prompt_toolkit failed: Traceback (most recent call last):\n",
      "  File \"/opt/conda/lib/python3.8/site-packages/IPython/extensions/autoreload.py\", line 245, in check\n",
      "    superreload(m, reload, self.old_objects)\n",
      "  File \"/opt/conda/lib/python3.8/site-packages/IPython/extensions/autoreload.py\", line 394, in superreload\n",
      "    module = reload(module)\n",
      "  File \"/opt/conda/lib/python3.8/imp.py\", line 314, in reload\n",
      "    return importlib.reload(module)\n",
      "  File \"/opt/conda/lib/python3.8/importlib/__init__.py\", line 169, in reload\n",
      "    _bootstrap._exec(spec, module)\n",
      "  File \"<frozen importlib._bootstrap>\", line 604, in _exec\n",
      "  File \"<frozen importlib._bootstrap_external>\", line 783, in exec_module\n",
      "  File \"<frozen importlib._bootstrap>\", line 219, in _call_with_frames_removed\n",
      "  File \"/opt/conda/lib/python3.8/site-packages/prompt_toolkit/__init__.py\", line 16, in <module>\n",
      "    from .interface import CommandLineInterface\n",
      "  File \"/opt/conda/lib/python3.8/site-packages/prompt_toolkit/interface.py\", line 19, in <module>\n",
      "    from .application import Application, AbortAction\n",
      "ImportError: cannot import name 'AbortAction' from 'prompt_toolkit.application' (/opt/conda/lib/python3.8/site-packages/prompt_toolkit/application/__init__.py)\n",
      "]\n"
     ]
    }
   ],
   "source": [
    "# hide\n",
    "%load_ext autoreload\n",
    "%autoreload 2\n",
    "%matplotlib inline"
   ]
  },
  {
   "cell_type": "code",
   "execution_count": 16,
   "metadata": {},
   "outputs": [
    {
     "name": "stdout",
     "output_type": "stream",
     "text": [
      "Requirement already satisfied: tokenizers==0.9.3 in /opt/conda/lib/python3.8/site-packages (0.9.3)\n"
     ]
    }
   ],
   "source": [
    "! pip install 'tokenizers==0.9.3'\n",
    "#! pip install 'transformers==3.5.0'"
   ]
  },
  {
   "cell_type": "markdown",
   "metadata": {},
   "source": [
    "# Covariate Analysis and Feature Engineering \n",
    ">\n",
    ">@danaderp 11.17.20 .\n",
    ">"
   ]
  },
  {
   "cell_type": "code",
   "execution_count": 142,
   "metadata": {},
   "outputs": [],
   "source": [
    "#export\n",
    "import tensorflow as tf\n",
    "import numpy as np\n",
    "import pandas as pd\n",
    "import scipy.stats as st\n",
    "import os\n",
    "import time"
   ]
  },
  {
   "cell_type": "code",
   "execution_count": 18,
   "metadata": {},
   "outputs": [],
   "source": [
    "#export\n",
    "import matplotlib.pyplot as plt\n",
    "import seaborn as sns\n",
    "from scipy import stats"
   ]
  },
  {
   "cell_type": "code",
   "execution_count": 19,
   "metadata": {},
   "outputs": [],
   "source": [
    "#export\n",
    "import functools \n",
    "from operator import or_\n",
    "from collections import Counter\n",
    "import datetime"
   ]
  },
  {
   "cell_type": "code",
   "execution_count": 55,
   "metadata": {},
   "outputs": [],
   "source": [
    "#export\n",
    "#import sentencepiece as spm\n",
    "import pickle\n",
    "from pathlib import Path\n",
    "from tokenizers import Tokenizer, models"
   ]
  },
  {
   "cell_type": "code",
   "execution_count": 21,
   "metadata": {},
   "outputs": [],
   "source": [
    "#export\n",
    "from pandas.plotting import scatter_matrix\n",
    "from pandas.plotting import bootstrap_plot\n",
    "from sklearn import preprocessing"
   ]
  },
  {
   "cell_type": "code",
   "execution_count": 22,
   "metadata": {},
   "outputs": [],
   "source": [
    "#export\n",
    "import logging\n",
    "logging.basicConfig(format='%(asctime)s : %(levelname)s : %(message)s', level=logging.INFO)"
   ]
  },
  {
   "cell_type": "markdown",
   "metadata": {},
   "source": [
    "Fixing parameters"
   ]
  },
  {
   "cell_type": "code",
   "execution_count": 23,
   "metadata": {},
   "outputs": [],
   "source": [
    "#nbs_experiments/results/analyses/rnn_layers1_vocab10000_embed256_units1024\n",
    "#df_buggy.to_json(path / \"buggy.jsonl\", orient=\"records\", lines=True)\n",
    "dvc_path = Path('../dvc-icodegen/')\n",
    "def params():\n",
    "    return {\n",
    "        'tokenizer':dvc_path / 'models/bpe/tokenizer-java-v1.json',\n",
    "        'tb_01':dvc_path / 'nbs_experiments/results/analyses/rnn_layers1_vocab10000_embed256_units1024/bug_fix_error_taxonomy.jsonl',\n",
    "        'tb_02':dvc_path / 'nbs_experiments/results/analyses/rnn_layers1_vocab10000_embed256_units1024/bug_fix_cross_entropy.jsonl',\n",
    "        'output': dvc_path / 'nbs_experiments/results/analyses/rnn_layers1_vocab10000_embed256_units1024/'\n",
    "    }"
   ]
  },
  {
   "cell_type": "code",
   "execution_count": 24,
   "metadata": {},
   "outputs": [],
   "source": [
    "params = params()"
   ]
  },
  {
   "cell_type": "code",
   "execution_count": 25,
   "metadata": {},
   "outputs": [
    {
     "data": {
      "text/plain": [
       "PosixPath('../dvc-icodegen/nbs_experiments/results/analyses/rnn_layers1_vocab10000_embed256_units1024/xxx.jsonl')"
      ]
     },
     "execution_count": 25,
     "metadata": {},
     "output_type": "execute_result"
    }
   ],
   "source": [
    "params['output'] / 'xxx.jsonl'"
   ]
  },
  {
   "cell_type": "code",
   "execution_count": 26,
   "metadata": {},
   "outputs": [
    {
     "name": "stderr",
     "output_type": "stream",
     "text": [
      "2021-06-30 14:53:25,923 : INFO : ../dvc-icodegen/models/bpe/tokenizer-java-v1.json\n"
     ]
    }
   ],
   "source": [
    "#tst\n",
    "logging.info( params['tokenizer'] )"
   ]
  },
  {
   "cell_type": "code",
   "execution_count": 27,
   "metadata": {},
   "outputs": [
    {
     "name": "stderr",
     "output_type": "stream",
     "text": [
      "2021-06-30 14:53:28,371 : INFO : Note: detected 128 virtual cores but NumExpr set to maximum of 64, check \"NUMEXPR_MAX_THREADS\" environment variable.\n",
      "2021-06-30 14:53:28,372 : INFO : Note: NumExpr detected 128 cores but \"NUMEXPR_MAX_THREADS\" not set, so enforcing safe limit of 8.\n",
      "2021-06-30 14:53:28,373 : INFO : NumExpr defaulting to 8 threads.\n"
     ]
    }
   ],
   "source": [
    "df_error_tax = pd.read_json(\n",
    "            params['tb_01'], orient=\"records\", lines=True)"
   ]
  },
  {
   "cell_type": "code",
   "execution_count": 30,
   "metadata": {},
   "outputs": [
    {
     "data": {
      "text/html": [
       "<div>\n",
       "<style scoped>\n",
       "    .dataframe tbody tr th:only-of-type {\n",
       "        vertical-align: middle;\n",
       "    }\n",
       "\n",
       "    .dataframe tbody tr th {\n",
       "        vertical-align: top;\n",
       "    }\n",
       "\n",
       "    .dataframe thead th {\n",
       "        text-align: right;\n",
       "    }\n",
       "</style>\n",
       "<table border=\"1\" class=\"dataframe\">\n",
       "  <thead>\n",
       "    <tr style=\"text-align: right;\">\n",
       "      <th></th>\n",
       "      <th>y_blocks</th>\n",
       "      <th>y_exceptions</th>\n",
       "      <th>y_oop</th>\n",
       "      <th>y_tests</th>\n",
       "      <th>y_declarations</th>\n",
       "      <th>y_conditionals</th>\n",
       "      <th>y_loops</th>\n",
       "      <th>y_operators</th>\n",
       "      <th>y_datatypes</th>\n",
       "      <th>y_extra_tokens</th>\n",
       "      <th>code</th>\n",
       "      <th>x_treatment</th>\n",
       "    </tr>\n",
       "  </thead>\n",
       "  <tbody>\n",
       "    <tr>\n",
       "      <th>0</th>\n",
       "      <td>0.0027</td>\n",
       "      <td>0.0</td>\n",
       "      <td>0.0002</td>\n",
       "      <td>0.0</td>\n",
       "      <td>0.0001</td>\n",
       "      <td>0.0000</td>\n",
       "      <td>0.0</td>\n",
       "      <td>0.0003</td>\n",
       "      <td>0.0000</td>\n",
       "      <td>0.0008</td>\n",
       "      <td>&lt;private&gt; &lt;void&gt; success&lt;(&gt;io.netty.channel.Ch...</td>\n",
       "      <td>False</td>\n",
       "    </tr>\n",
       "    <tr>\n",
       "      <th>1</th>\n",
       "      <td>0.0027</td>\n",
       "      <td>0.0</td>\n",
       "      <td>0.0002</td>\n",
       "      <td>0.0</td>\n",
       "      <td>0.0001</td>\n",
       "      <td>0.0000</td>\n",
       "      <td>0.0</td>\n",
       "      <td>0.0003</td>\n",
       "      <td>0.0000</td>\n",
       "      <td>0.0008</td>\n",
       "      <td>&lt;private&gt; &lt;void&gt; success&lt;(&gt;io.netty.channel.Ch...</td>\n",
       "      <td>True</td>\n",
       "    </tr>\n",
       "    <tr>\n",
       "      <th>2</th>\n",
       "      <td>0.0027</td>\n",
       "      <td>0.0</td>\n",
       "      <td>0.0001</td>\n",
       "      <td>0.0</td>\n",
       "      <td>0.0001</td>\n",
       "      <td>0.0001</td>\n",
       "      <td>0.0</td>\n",
       "      <td>0.0002</td>\n",
       "      <td>0.0000</td>\n",
       "      <td>0.0012</td>\n",
       "      <td>&lt;private&gt; &lt;void&gt; handleConnectRequest&lt;(&gt;com.as...</td>\n",
       "      <td>False</td>\n",
       "    </tr>\n",
       "    <tr>\n",
       "      <th>3</th>\n",
       "      <td>0.0027</td>\n",
       "      <td>0.0</td>\n",
       "      <td>0.0001</td>\n",
       "      <td>0.0</td>\n",
       "      <td>0.0001</td>\n",
       "      <td>0.0001</td>\n",
       "      <td>0.0</td>\n",
       "      <td>0.0002</td>\n",
       "      <td>0.0000</td>\n",
       "      <td>0.0012</td>\n",
       "      <td>&lt;private&gt; &lt;void&gt; handleConnectRequest&lt;(&gt;com.as...</td>\n",
       "      <td>True</td>\n",
       "    </tr>\n",
       "    <tr>\n",
       "      <th>4</th>\n",
       "      <td>0.0018</td>\n",
       "      <td>0.0</td>\n",
       "      <td>0.0002</td>\n",
       "      <td>0.0</td>\n",
       "      <td>0.0001</td>\n",
       "      <td>0.0000</td>\n",
       "      <td>0.0</td>\n",
       "      <td>0.0006</td>\n",
       "      <td>0.0004</td>\n",
       "      <td>0.0009</td>\n",
       "      <td>&lt;@&gt;java.lang.Override&lt;n&gt;&lt;protected&gt; &lt;void&gt; onS...</td>\n",
       "      <td>False</td>\n",
       "    </tr>\n",
       "  </tbody>\n",
       "</table>\n",
       "</div>"
      ],
      "text/plain": [
       "   y_blocks  y_exceptions   y_oop  y_tests  y_declarations  y_conditionals  \\\n",
       "0    0.0027           0.0  0.0002      0.0          0.0001          0.0000   \n",
       "1    0.0027           0.0  0.0002      0.0          0.0001          0.0000   \n",
       "2    0.0027           0.0  0.0001      0.0          0.0001          0.0001   \n",
       "3    0.0027           0.0  0.0001      0.0          0.0001          0.0001   \n",
       "4    0.0018           0.0  0.0002      0.0          0.0001          0.0000   \n",
       "\n",
       "   y_loops  y_operators  y_datatypes  y_extra_tokens  \\\n",
       "0      0.0       0.0003       0.0000          0.0008   \n",
       "1      0.0       0.0003       0.0000          0.0008   \n",
       "2      0.0       0.0002       0.0000          0.0012   \n",
       "3      0.0       0.0002       0.0000          0.0012   \n",
       "4      0.0       0.0006       0.0004          0.0009   \n",
       "\n",
       "                                                code  x_treatment  \n",
       "0  <private> <void> success<(>io.netty.channel.Ch...        False  \n",
       "1  <private> <void> success<(>io.netty.channel.Ch...         True  \n",
       "2  <private> <void> handleConnectRequest<(>com.as...        False  \n",
       "3  <private> <void> handleConnectRequest<(>com.as...         True  \n",
       "4  <@>java.lang.Override<n><protected> <void> onS...        False  "
      ]
     },
     "execution_count": 30,
     "metadata": {},
     "output_type": "execute_result"
    }
   ],
   "source": [
    "df_error_tax.head()"
   ]
  },
  {
   "cell_type": "code",
   "execution_count": 28,
   "metadata": {},
   "outputs": [],
   "source": [
    "df_cross = pd.read_json(\n",
    "        params['tb_02'], orient=\"records\", lines=True)"
   ]
  },
  {
   "cell_type": "code",
   "execution_count": 105,
   "metadata": {},
   "outputs": [
    {
     "data": {
      "text/html": [
       "<div>\n",
       "<style scoped>\n",
       "    .dataframe tbody tr th:only-of-type {\n",
       "        vertical-align: middle;\n",
       "    }\n",
       "\n",
       "    .dataframe tbody tr th {\n",
       "        vertical-align: top;\n",
       "    }\n",
       "\n",
       "    .dataframe thead th {\n",
       "        text-align: right;\n",
       "    }\n",
       "</style>\n",
       "<table border=\"1\" class=\"dataframe\">\n",
       "  <thead>\n",
       "    <tr style=\"text-align: right;\">\n",
       "      <th></th>\n",
       "      <th>code</th>\n",
       "      <th>y_cross_entropy</th>\n",
       "      <th>x_treatment</th>\n",
       "    </tr>\n",
       "  </thead>\n",
       "  <tbody>\n",
       "    <tr>\n",
       "      <th>0</th>\n",
       "      <td>&lt;private&gt; &lt;void&gt; success&lt;(&gt;io.netty.channel.Ch...</td>\n",
       "      <td>6.006220</td>\n",
       "      <td>False</td>\n",
       "    </tr>\n",
       "    <tr>\n",
       "      <th>1</th>\n",
       "      <td>&lt;private&gt; &lt;void&gt; success&lt;(&gt;io.netty.channel.Ch...</td>\n",
       "      <td>6.008038</td>\n",
       "      <td>True</td>\n",
       "    </tr>\n",
       "    <tr>\n",
       "      <th>2</th>\n",
       "      <td>&lt;private&gt; &lt;void&gt; handleConnectRequest&lt;(&gt;com.as...</td>\n",
       "      <td>6.368741</td>\n",
       "      <td>False</td>\n",
       "    </tr>\n",
       "    <tr>\n",
       "      <th>3</th>\n",
       "      <td>&lt;private&gt; &lt;void&gt; handleConnectRequest&lt;(&gt;com.as...</td>\n",
       "      <td>6.337473</td>\n",
       "      <td>True</td>\n",
       "    </tr>\n",
       "    <tr>\n",
       "      <th>4</th>\n",
       "      <td>&lt;@&gt;java.lang.Override&lt;n&gt;&lt;protected&gt; &lt;void&gt; onS...</td>\n",
       "      <td>3.927699</td>\n",
       "      <td>False</td>\n",
       "    </tr>\n",
       "  </tbody>\n",
       "</table>\n",
       "</div>"
      ],
      "text/plain": [
       "                                                code  y_cross_entropy  \\\n",
       "0  <private> <void> success<(>io.netty.channel.Ch...         6.006220   \n",
       "1  <private> <void> success<(>io.netty.channel.Ch...         6.008038   \n",
       "2  <private> <void> handleConnectRequest<(>com.as...         6.368741   \n",
       "3  <private> <void> handleConnectRequest<(>com.as...         6.337473   \n",
       "4  <@>java.lang.Override<n><protected> <void> onS...         3.927699   \n",
       "\n",
       "   x_treatment  \n",
       "0        False  \n",
       "1         True  \n",
       "2        False  \n",
       "3         True  \n",
       "4        False  "
      ]
     },
     "execution_count": 105,
     "metadata": {},
     "output_type": "execute_result"
    }
   ],
   "source": [
    "df_cross.head()"
   ]
  },
  {
   "cell_type": "markdown",
   "metadata": {},
   "source": [
    "# First Covariate Analysis: Token Size"
   ]
  },
  {
   "cell_type": "code",
   "execution_count": null,
   "metadata": {},
   "outputs": [],
   "source": [
    "#Upload tokenizers here\n",
    "#Use Tokenizer recent version\n",
    "#Load tokenizer\n",
    "#Update files (for one time) the main json files to add the column of tokenizers\n",
    "#Count the tokens per method\n",
    "#Visualize the most popular tokens (and less popular)"
   ]
  },
  {
   "cell_type": "code",
   "execution_count": 83,
   "metadata": {},
   "outputs": [],
   "source": [
    "#export\n",
    "class TokenizeHF():\n",
    "    def __init__( self, no_padding = True, no_truncation = True ):\n",
    "        \"\"\"\n",
    "        :param method: Code snippet (plain text)\n",
    "        :returns: Encoded result using the provided tokenizer\n",
    "        \"\"\"\n",
    "        #Load tokenizer\n",
    "        self.tokenizer = Tokenizer.from_file( str( params['tokenizer'] ) )\n",
    "        if no_padding:\n",
    "            self.tokenizer.no_padding()\n",
    "        if no_truncation:\n",
    "            self.tokenizer.no_truncation()\n",
    "        pass\n",
    "    \n",
    "    #@staticmethod\n",
    "    def tokenizeHF(self, method ):\n",
    "        output = {}\n",
    "        # encode method and then convert to format that hf models expect\n",
    "        encoding = self.tokenizer.encode( #Tokenize a Seq\n",
    "            \"<sos>\" + method\n",
    "        )\n",
    "        \"\"\"\n",
    "        This source code is for further analysis\n",
    "        output[\"input_ids\"] = tf.expand_dims(\n",
    "             tf.convert_to_tensor(encoding.ids, dtype=tf.int32), 0\n",
    "        )\n",
    "        output[\"attention_mask\"] = tf.expand_dims(\n",
    "             tf.convert_to_tensor(encoding.attention_mask, dtype=tf.int32), 0\n",
    "        )\"\"\"\n",
    "        return encoding\n",
    "    \n",
    "    #@staticmethod\n",
    "    def decodingHF( self, idss ):\n",
    "        return self.tokenizer.decode( idss , skip_special_tokens=False )\n",
    "        #return self.tokenizer.convert_ids_to_tokens(idss )"
   ]
  },
  {
   "cell_type": "code",
   "execution_count": 39,
   "metadata": {},
   "outputs": [],
   "source": [
    "code = df_cross['code']"
   ]
  },
  {
   "cell_type": "code",
   "execution_count": 40,
   "metadata": {},
   "outputs": [
    {
     "data": {
      "text/plain": [
       "'<private> <void> success<(>io.netty.channel.Channel channel<)> <{><n>    org.mycat.netty.mysql.MySQLHandshakeHandler.logger.debug<(>\"success info <return> <for>m MySQLHandshakeHandler\"<)><;><n>    io.netty.buffer.ByteBuf out <=> channel.alloc<(><)>.buffer<(><)><;><n>    org.mycat.netty.mysql.OK ok <=> <new> org.mycat.netty.mysql.OK<(><)><;><n>    ok.sequenceId <=> 2<;><n>    ok.setStatusFlag<(>Flags.SERVER_STATUS_AUTOCOMMIT<)><;><n>    out.writeBytes<(>ok.toPacket<(><)><)><;><n>    channel.writeAndFlush<(>out<)><;><n><}>'"
      ]
     },
     "execution_count": 40,
     "metadata": {},
     "output_type": "execute_result"
    }
   ],
   "source": [
    "code[0]"
   ]
  },
  {
   "cell_type": "code",
   "execution_count": 84,
   "metadata": {},
   "outputs": [],
   "source": [
    "class_tokenize = TokenizeHF() "
   ]
  },
  {
   "cell_type": "code",
   "execution_count": 85,
   "metadata": {},
   "outputs": [],
   "source": [
    "input_ids = class_tokenize.tokenizeHF( method = 'this is a text <private> <void> success<(>io.netty' )"
   ]
  },
  {
   "cell_type": "code",
   "execution_count": 86,
   "metadata": {},
   "outputs": [
    {
     "data": {
      "text/plain": [
       "[1, 360, 492, 388, 1634, 189, 35, 189, 50, 3905, 83, 1702, 105, 3342, 487]"
      ]
     },
     "execution_count": 86,
     "metadata": {},
     "output_type": "execute_result"
    }
   ],
   "source": [
    "input_ids.ids"
   ]
  },
  {
   "cell_type": "code",
   "execution_count": 200,
   "metadata": {},
   "outputs": [
    {
     "data": {
      "text/plain": [
       "['<sos>',\n",
       " '<private>',\n",
       " 'Ġ',\n",
       " '<void>',\n",
       " 'Ġhandle',\n",
       " 'Connect',\n",
       " 'Request',\n",
       " '<(>',\n",
       " 'com',\n",
       " '.',\n",
       " 'ass',\n",
       " 'istant',\n",
       " '.',\n",
       " 'connection',\n",
       " '.',\n",
       " 'Connection',\n",
       " 'Manager',\n",
       " '.',\n",
       " 'Connect',\n",
       " 'Request',\n",
       " 'Ġrequest',\n",
       " '<)>',\n",
       " 'Ġ',\n",
       " '<{>',\n",
       " '<n>',\n",
       " 'ĠĠĠ',\n",
       " 'Ġcom',\n",
       " '.',\n",
       " 'ass',\n",
       " 'istant',\n",
       " '.',\n",
       " 'utils',\n",
       " '.',\n",
       " 'Log',\n",
       " '.',\n",
       " 'd',\n",
       " '<(>',\n",
       " 'com',\n",
       " '.',\n",
       " 'ass',\n",
       " 'istant',\n",
       " '.',\n",
       " 'connection',\n",
       " '.',\n",
       " 'Connection',\n",
       " 'Manager',\n",
       " '.',\n",
       " 'TAG',\n",
       " ',',\n",
       " 'Ġ',\n",
       " '<(>',\n",
       " '\"',\n",
       " 'handle',\n",
       " 'Connect',\n",
       " 'Request',\n",
       " ',',\n",
       " 'Ġrequest',\n",
       " '<:>',\n",
       " '\"',\n",
       " 'Ġ',\n",
       " '<+>',\n",
       " 'Ġrequest',\n",
       " '<)>',\n",
       " '<)>',\n",
       " '<;>',\n",
       " '<n>',\n",
       " 'ĠĠĠĠ',\n",
       " '<if>',\n",
       " 'Ġ',\n",
       " '<(>',\n",
       " 'm',\n",
       " 'Stop',\n",
       " 'ped',\n",
       " '<)>',\n",
       " 'Ġ',\n",
       " '<{>',\n",
       " '<n>',\n",
       " 'ĠĠĠĠĠĠĠ',\n",
       " 'Ġcom',\n",
       " '.',\n",
       " 'ass',\n",
       " 'istant',\n",
       " '.',\n",
       " 'utils',\n",
       " '.',\n",
       " 'Log',\n",
       " '.',\n",
       " 'd',\n",
       " '<(>',\n",
       " 'com',\n",
       " '.',\n",
       " 'ass',\n",
       " 'istant',\n",
       " '.',\n",
       " 'connection',\n",
       " '.',\n",
       " 'Connection',\n",
       " 'Manager',\n",
       " '.',\n",
       " 'TAG',\n",
       " ',',\n",
       " 'Ġ\"',\n",
       " 'handle',\n",
       " 'Connect',\n",
       " 'Request',\n",
       " ',',\n",
       " 'Ġm',\n",
       " 'Stop',\n",
       " 'ped',\n",
       " 'Ġis',\n",
       " 'Ġ',\n",
       " '<true>',\n",
       " '\"',\n",
       " '<)>',\n",
       " '<;>',\n",
       " '<n>',\n",
       " 'ĠĠĠĠĠĠĠ',\n",
       " 'Ġremove',\n",
       " 'Connect',\n",
       " 'Request',\n",
       " '<(>',\n",
       " 'request',\n",
       " '.',\n",
       " 'conn',\n",
       " 'Id',\n",
       " '<)>',\n",
       " '<;>',\n",
       " '<n>',\n",
       " 'ĠĠĠĠĠĠĠ',\n",
       " 'Ġnot',\n",
       " '<if>',\n",
       " 'y',\n",
       " 'Connection',\n",
       " 'Creation',\n",
       " 'Result',\n",
       " '<(>',\n",
       " '<null>',\n",
       " ',',\n",
       " 'Ġrequest',\n",
       " '.',\n",
       " 'listener',\n",
       " ',',\n",
       " 'Ġ',\n",
       " '<true>',\n",
       " ',',\n",
       " 'ĠConnection',\n",
       " '.',\n",
       " 'CONNECTION',\n",
       " '_',\n",
       " 'REA',\n",
       " 'SON',\n",
       " '_',\n",
       " 'CODE',\n",
       " '_',\n",
       " 'CONNECT',\n",
       " '_',\n",
       " 'REQUEST',\n",
       " '_',\n",
       " 'C',\n",
       " 'ANCE',\n",
       " 'LED',\n",
       " '<)>',\n",
       " '<;>',\n",
       " '<n>',\n",
       " 'ĠĠĠĠĠĠĠĠ',\n",
       " '<return>',\n",
       " 'Ġ',\n",
       " '<;>',\n",
       " '<n>',\n",
       " 'ĠĠĠĠ',\n",
       " '<}>',\n",
       " '<n>',\n",
       " 'ĠĠĠ',\n",
       " 'Ġconnect',\n",
       " 'To',\n",
       " 'Internal',\n",
       " '<(>',\n",
       " 'request',\n",
       " '.',\n",
       " 'ip',\n",
       " 'Address',\n",
       " ',',\n",
       " 'Ġrequest',\n",
       " '.',\n",
       " 'port',\n",
       " ',',\n",
       " 'Ġrequest',\n",
       " '.',\n",
       " 'listener',\n",
       " ',',\n",
       " 'Ġrequest',\n",
       " '<)>',\n",
       " '<;>',\n",
       " '<n>',\n",
       " '<}>']"
      ]
     },
     "execution_count": 200,
     "metadata": {},
     "output_type": "execute_result"
    }
   ],
   "source": [
    "input_ids.tokens"
   ]
  },
  {
   "cell_type": "code",
   "execution_count": 91,
   "metadata": {},
   "outputs": [
    {
     "name": "stderr",
     "output_type": "stream",
     "text": [
      "2021-06-30 15:56:46,797 : INFO : Encoding(num_tokens=177, attributes=[ids, type_ids, tokens, offsets, attention_mask, special_tokens_mask, overflowing])\n",
      "2021-06-30 15:56:46,797 : INFO : [1, 35, 189, 50, 3905, 83, 1702, 105, 3342, 487, 105, 2867, 105, 1821, 2647, 84, 189, 79, 91, 195, 2841, 105, 4047, 2853, 105, 3342, 487, 105, 168, 2387, 1366, 105, 136, 180, 2298, 3943, 5731, 1072, 105, 1926, 105, 1025, 83, 93, 6150, 2399, 189, 38, 189, 23, 168, 464, 180, 2298, 3943, 5731, 1072, 93, 84, 85, 91, 195, 3644, 105, 3342, 487, 105, 2057, 105, 881, 3453, 1062, 189, 53, 2647, 105, 212, 2586, 83, 84, 105, 2057, 83, 84, 85, 91, 195, 2841, 105, 4047, 2853, 105, 3342, 487, 105, 168, 2387, 1366, 105, 4236, 4959, 189, 53, 189, 33, 2841, 105, 4047, 2853, 105, 3342, 487, 105, 168, 2387, 1366, 105, 4236, 83, 84, 85, 91, 195, 4959, 105, 6909, 406, 189, 53, 883, 85, 91, 195, 4959, 105, 7941, 4880, 83, 4661, 105, 5872, 154, 5014, 154, 4723, 138, 9003, 84, 85, 91, 195, 1062, 105, 967, 1305, 83, 1649, 105, 422, 5262, 83, 84, 84, 85, 91, 195, 2647, 105, 967, 1258, 6419, 83, 614, 84, 85, 91, 80]\n",
      "2021-06-30 15:56:46,798 : INFO : 177\n",
      "2021-06-30 15:56:46,799 : INFO : ['<sos>', '<private>', 'Ġ', '<void>', 'Ġsuccess', '<(>', 'io', '.', 'net', 'ty', '.', 'channel', '.', 'Channel', 'Ġchannel', '<)>', 'Ġ', '<{>', '<n>', 'ĠĠĠ', 'Ġorg', '.', 'my', 'cat', '.', 'net', 'ty', '.', 'm', 'ys', 'ql', '.', 'M', 'y', 'SQL', 'Hand', 'shake', 'Handler', '.', 'logger', '.', 'debug', '<(>', '\"', 'success', 'Ġinfo', 'Ġ', '<return>', 'Ġ', '<for>', 'm', 'ĠM', 'y', 'SQL', 'Hand', 'shake', 'Handler', '\"', '<)>', '<;>', '<n>', 'ĠĠĠ', 'Ġio', '.', 'net', 'ty', '.', 'buffer', '.', 'Byte', 'Buf', 'Ġout', 'Ġ', '<=>', 'Ġchannel', '.', 'al', 'loc', '<(>', '<)>', '.', 'buffer', '<(>', '<)>', '<;>', '<n>', 'ĠĠĠ', 'Ġorg', '.', 'my', 'cat', '.', 'net', 'ty', '.', 'm', 'ys', 'ql', '.', 'OK', 'Ġok', 'Ġ', '<=>', 'Ġ', '<new>', 'Ġorg', '.', 'my', 'cat', '.', 'net', 'ty', '.', 'm', 'ys', 'ql', '.', 'OK', '<(>', '<)>', '<;>', '<n>', 'ĠĠĠ', 'Ġok', '.', 'sequence', 'Id', 'Ġ', '<=>', 'Ġ2', '<;>', '<n>', 'ĠĠĠ', 'Ġok', '.', 'setStatus', 'Flag', '<(>', 'Flags', '.', 'SERVER', '_', 'STATUS', '_', 'AUT', 'O', 'COMMIT', '<)>', '<;>', '<n>', 'ĠĠĠ', 'Ġout', '.', 'write', 'Bytes', '<(>', 'ok', '.', 'to', 'Packet', '<(>', '<)>', '<)>', '<;>', '<n>', 'ĠĠĠ', 'Ġchannel', '.', 'write', 'And', 'Flush', '<(>', 'out', '<)>', '<;>', '<n>', '<}>']\n"
     ]
    }
   ],
   "source": [
    "input_ids = class_tokenize.tokenizeHF( method = code[0] )\n",
    "#input_ids = input_ids['input_ids']\n",
    "logging.info(input_ids)\n",
    "#logging.info(input_ids.num_tokens)\n",
    "logging.info(input_ids.ids)\n",
    "logging.info(len(input_ids.ids))\n",
    "logging.info(input_ids.tokens)"
   ]
  },
  {
   "cell_type": "code",
   "execution_count": 104,
   "metadata": {},
   "outputs": [
    {
     "data": {
      "text/plain": [
       "'<sos><private> <void> handleConnectRequest<(>com.assistant.connection.ConnectionManager.ConnectRequest request<)> <{><n>    com.assistant.utils.Log.d<(>com.assistant.connection.ConnectionManager.TAG, <(>\"handleConnectRequest, request<:>\" <+> request<)><)><;><n>    <if> <(>mStopped<)> <{><n>        com.assistant.utils.Log.d<(>com.assistant.connection.ConnectionManager.TAG, \"handleConnectRequest, mStopped is <true>\"<)><;><n>        removeConnectRequest<(>request.connId<)><;><n>        not<if>yConnectionCreationResult<(><null>, request.listener, <true>, Connection.CONNECTION_REASON_CODE_CONNECT_REQUEST_CANCELED<)><;><n>        <return> <;><n>    <}><n>    connectToInternal<(>request.ipAddress, request.port, request.listener, request<)><;><n><}>'"
      ]
     },
     "execution_count": 104,
     "metadata": {},
     "output_type": "execute_result"
    }
   ],
   "source": [
    "class_tokenize.decodingHF( input_ids.ids )"
   ]
  },
  {
   "cell_type": "markdown",
   "metadata": {},
   "source": [
    "### Generating the covariate column in the dataset\n",
    "- For bootstrapping please follow [link](https://towardsdatascience.com/calculating-confidence-interval-with-bootstrapping-872c657c058d)\n",
    "- For confidence intervals follow [link](https://www.statology.org/confidence-intervals-python/)"
   ]
  },
  {
   "cell_type": "code",
   "execution_count": 106,
   "metadata": {},
   "outputs": [],
   "source": [
    "#export\n",
    "def method_size( method, class_tkz ):\n",
    "    '''Return the size of the tokens for a give method based on id'''\n",
    "    input_ids = class_tkz.tokenizeHF( method = method )\n",
    "    return len(input_ids.ids)"
   ]
  },
  {
   "cell_type": "code",
   "execution_count": 107,
   "metadata": {},
   "outputs": [],
   "source": [
    "z_count_subwords = [method_size( class_tkz = class_tokenize, method = mtd )  for mtd in df_cross['code'].values] #using df_cross"
   ]
  },
  {
   "cell_type": "code",
   "execution_count": 109,
   "metadata": {},
   "outputs": [],
   "source": [
    "#Attaching new column\n",
    "df_error_tax['z_count_subwords'] = z_count_subwords\n",
    "df_cross['z_count_subwords'] = z_count_subwords"
   ]
  },
  {
   "cell_type": "code",
   "execution_count": 110,
   "metadata": {},
   "outputs": [],
   "source": [
    "df_error_tax.to_json(params['output'] / 'bug_fix_error_taxonomy_z_v1.jsonl', orient=\"records\", lines=True)\n",
    "df_cross.to_json(params['output'] / 'bug_fix_cross_entropy_z_v1.jsonl', orient=\"records\", lines=True)"
   ]
  },
  {
   "cell_type": "code",
   "execution_count": 160,
   "metadata": {},
   "outputs": [],
   "source": [
    "#export\n",
    "def bootstrapping( np_data, np_func, size):\n",
    "    \"\"\"Create a bootstrap sample given data and a function\n",
    "    For instance, a bootstrap sample of means, or mediands. \n",
    "    The bootstrap replicates are a long as the original size\n",
    "    we can choose any observation more than once (resampling with replacement:np.random.choice)\n",
    "    \"\"\"\n",
    "    \n",
    "    #The size of the bootstrap replicate is as big as size\n",
    "    #Creating the boostrap replicates as long as the orignal data size\n",
    "    bootstrap_repl = [ np_func( np.random.choice( np_data, size=len(np_data) ) ) for i in range(size) ]\n",
    "    \n",
    "    logging.info(\"Empirical Mean: \" + str(np.mean(np_data))) #Empirical Mean\n",
    "    logging.info( \"Bootstrapped Mean: \" + str( np.mean(bootstrap_repl) ) ) #Bootstrapped Mean\n",
    "    \n",
    "    return pd.DataFrame(bootstrap_repl, columns = ['bootstrap_repl'])"
   ]
  },
  {
   "cell_type": "code",
   "execution_count": 161,
   "metadata": {},
   "outputs": [
    {
     "name": "stderr",
     "output_type": "stream",
     "text": [
      "2021-06-30 17:50:24,875 : INFO : Empirical Mean: 4.375\n",
      "2021-06-30 17:50:24,875 : INFO : Bootstrapped Mean: 4.39875\n"
     ]
    }
   ],
   "source": [
    "np_data = [2,3,4,5,6,7,8,0]\n",
    "np_boots = bootstrapping( np_data, np.mean, 100)"
   ]
  },
  {
   "cell_type": "code",
   "execution_count": 162,
   "metadata": {},
   "outputs": [
    {
     "data": {
      "text/plain": [
       "0.9437293044088436"
      ]
     },
     "execution_count": 162,
     "metadata": {},
     "output_type": "execute_result"
    }
   ],
   "source": [
    "st.sem(np_data)"
   ]
  },
  {
   "cell_type": "code",
   "execution_count": 163,
   "metadata": {},
   "outputs": [],
   "source": [
    "#export\n",
    "def confidence_intervals(np_data, conf=0.95):\n",
    "    \"\"\"Confidence Intervals with Gaussian Distribution (n>=30)\"\"\"\n",
    "    CI = st.norm.interval(alpha=conf, loc = np.mean( np_data ), scale = st.sem(np_data))\n",
    "    logging.info( CI )\n",
    "    return CI"
   ]
  },
  {
   "cell_type": "code",
   "execution_count": 164,
   "metadata": {},
   "outputs": [
    {
     "name": "stderr",
     "output_type": "stream",
     "text": [
      "2021-06-30 17:50:27,122 : INFO : (4.236137858789555, 4.561362141210444)\n",
      "2021-06-30 17:50:27,124 : INFO : (array([4.18504142]), array([4.61245858]))\n"
     ]
    },
    {
     "data": {
      "text/plain": [
       "(array([4.18504142]), array([4.61245858]))"
      ]
     },
     "execution_count": 164,
     "metadata": {},
     "output_type": "execute_result"
    }
   ],
   "source": [
    "confidence_intervals(np_boots.bootstrap_repl.values)\n",
    "confidence_intervals(np_boots,conf=0.99)"
   ]
  },
  {
   "cell_type": "markdown",
   "metadata": {},
   "source": [
    "## Descriptive Statistics for first covariate (z_count_subwords)"
   ]
  },
  {
   "cell_type": "code",
   "execution_count": 111,
   "metadata": {},
   "outputs": [
    {
     "data": {
      "text/html": [
       "<div>\n",
       "<style scoped>\n",
       "    .dataframe tbody tr th:only-of-type {\n",
       "        vertical-align: middle;\n",
       "    }\n",
       "\n",
       "    .dataframe tbody tr th {\n",
       "        vertical-align: top;\n",
       "    }\n",
       "\n",
       "    .dataframe thead th {\n",
       "        text-align: right;\n",
       "    }\n",
       "</style>\n",
       "<table border=\"1\" class=\"dataframe\">\n",
       "  <thead>\n",
       "    <tr style=\"text-align: right;\">\n",
       "      <th></th>\n",
       "      <th>code</th>\n",
       "      <th>y_cross_entropy</th>\n",
       "      <th>x_treatment</th>\n",
       "      <th>z_count_subwords</th>\n",
       "    </tr>\n",
       "  </thead>\n",
       "  <tbody>\n",
       "    <tr>\n",
       "      <th>0</th>\n",
       "      <td>&lt;private&gt; &lt;void&gt; success&lt;(&gt;io.netty.channel.Ch...</td>\n",
       "      <td>6.006220</td>\n",
       "      <td>False</td>\n",
       "      <td>177</td>\n",
       "    </tr>\n",
       "    <tr>\n",
       "      <th>1</th>\n",
       "      <td>&lt;private&gt; &lt;void&gt; success&lt;(&gt;io.netty.channel.Ch...</td>\n",
       "      <td>6.008038</td>\n",
       "      <td>True</td>\n",
       "      <td>177</td>\n",
       "    </tr>\n",
       "    <tr>\n",
       "      <th>2</th>\n",
       "      <td>&lt;private&gt; &lt;void&gt; handleConnectRequest&lt;(&gt;com.as...</td>\n",
       "      <td>6.368741</td>\n",
       "      <td>False</td>\n",
       "      <td>195</td>\n",
       "    </tr>\n",
       "    <tr>\n",
       "      <th>3</th>\n",
       "      <td>&lt;private&gt; &lt;void&gt; handleConnectRequest&lt;(&gt;com.as...</td>\n",
       "      <td>6.337473</td>\n",
       "      <td>True</td>\n",
       "      <td>195</td>\n",
       "    </tr>\n",
       "    <tr>\n",
       "      <th>4</th>\n",
       "      <td>&lt;@&gt;java.lang.Override&lt;n&gt;&lt;protected&gt; &lt;void&gt; onS...</td>\n",
       "      <td>3.927699</td>\n",
       "      <td>False</td>\n",
       "      <td>121</td>\n",
       "    </tr>\n",
       "  </tbody>\n",
       "</table>\n",
       "</div>"
      ],
      "text/plain": [
       "                                                code  y_cross_entropy  \\\n",
       "0  <private> <void> success<(>io.netty.channel.Ch...         6.006220   \n",
       "1  <private> <void> success<(>io.netty.channel.Ch...         6.008038   \n",
       "2  <private> <void> handleConnectRequest<(>com.as...         6.368741   \n",
       "3  <private> <void> handleConnectRequest<(>com.as...         6.337473   \n",
       "4  <@>java.lang.Override<n><protected> <void> onS...         3.927699   \n",
       "\n",
       "   x_treatment  z_count_subwords  \n",
       "0        False               177  \n",
       "1         True               177  \n",
       "2        False               195  \n",
       "3         True               195  \n",
       "4        False               121  "
      ]
     },
     "execution_count": 111,
     "metadata": {},
     "output_type": "execute_result"
    }
   ],
   "source": [
    "df_cross.head()"
   ]
  },
  {
   "cell_type": "code",
   "execution_count": 122,
   "metadata": {},
   "outputs": [
    {
     "data": {
      "text/html": [
       "<div>\n",
       "<style scoped>\n",
       "    .dataframe tbody tr th:only-of-type {\n",
       "        vertical-align: middle;\n",
       "    }\n",
       "\n",
       "    .dataframe tbody tr th {\n",
       "        vertical-align: top;\n",
       "    }\n",
       "\n",
       "    .dataframe thead th {\n",
       "        text-align: right;\n",
       "    }\n",
       "</style>\n",
       "<table border=\"1\" class=\"dataframe\">\n",
       "  <thead>\n",
       "    <tr style=\"text-align: right;\">\n",
       "      <th></th>\n",
       "      <th>y_cross_entropy</th>\n",
       "      <th>z_count_subwords</th>\n",
       "    </tr>\n",
       "  </thead>\n",
       "  <tbody>\n",
       "    <tr>\n",
       "      <th>count</th>\n",
       "      <td>129444.000000</td>\n",
       "      <td>129444.000000</td>\n",
       "    </tr>\n",
       "    <tr>\n",
       "      <th>mean</th>\n",
       "      <td>6.142502</td>\n",
       "      <td>185.407628</td>\n",
       "    </tr>\n",
       "    <tr>\n",
       "      <th>std</th>\n",
       "      <td>1.510858</td>\n",
       "      <td>64.357274</td>\n",
       "    </tr>\n",
       "    <tr>\n",
       "      <th>min</th>\n",
       "      <td>2.066005</td>\n",
       "      <td>68.000000</td>\n",
       "    </tr>\n",
       "    <tr>\n",
       "      <th>25%</th>\n",
       "      <td>5.038853</td>\n",
       "      <td>143.000000</td>\n",
       "    </tr>\n",
       "    <tr>\n",
       "      <th>50%</th>\n",
       "      <td>5.982966</td>\n",
       "      <td>176.000000</td>\n",
       "    </tr>\n",
       "    <tr>\n",
       "      <th>75%</th>\n",
       "      <td>7.085069</td>\n",
       "      <td>216.000000</td>\n",
       "    </tr>\n",
       "    <tr>\n",
       "      <th>max</th>\n",
       "      <td>12.283474</td>\n",
       "      <td>4465.000000</td>\n",
       "    </tr>\n",
       "  </tbody>\n",
       "</table>\n",
       "</div>"
      ],
      "text/plain": [
       "       y_cross_entropy  z_count_subwords\n",
       "count    129444.000000     129444.000000\n",
       "mean          6.142502        185.407628\n",
       "std           1.510858         64.357274\n",
       "min           2.066005         68.000000\n",
       "25%           5.038853        143.000000\n",
       "50%           5.982966        176.000000\n",
       "75%           7.085069        216.000000\n",
       "max          12.283474       4465.000000"
      ]
     },
     "execution_count": 122,
     "metadata": {},
     "output_type": "execute_result"
    }
   ],
   "source": [
    "df_cross.describe()"
   ]
  },
  {
   "cell_type": "markdown",
   "metadata": {},
   "source": [
    "### Correlation Analysis "
   ]
  },
  {
   "cell_type": "code",
   "execution_count": 194,
   "metadata": {},
   "outputs": [],
   "source": [
    "LIM = 500\n",
    "S = 2"
   ]
  },
  {
   "cell_type": "code",
   "execution_count": 176,
   "metadata": {},
   "outputs": [],
   "source": [
    "df_buggy = df_cross.loc[lambda row: row['x_treatment'] == True  ].copy()\n",
    "df_nonbuggy = df_cross.loc[lambda row: row['x_treatment'] == False  ].copy()"
   ]
  },
  {
   "cell_type": "code",
   "execution_count": 192,
   "metadata": {},
   "outputs": [
    {
     "data": {
      "text/plain": [
       "<AxesSubplot:xlabel='z_count_subwords', ylabel='y_cross_entropy'>"
      ]
     },
     "execution_count": 192,
     "metadata": {},
     "output_type": "execute_result"
    },
    {
     "data": {
      "image/png": "[encoded data removed]",
      "text/plain": [
       "<Figure size 432x288 with 1 Axes>"
      ]
     },
     "metadata": {
      "needs_background": "light"
     },
     "output_type": "display_data"
    }
   ],
   "source": [
    "ax = df_buggy.plot.scatter(x=\"z_count_subwords\", y=\"y_cross_entropy\", s=S, color=\"DarkBlue\", label=\"Buggy\")\n",
    "df_nonbuggy.plot.scatter(x=\"z_count_subwords\", y=\"y_cross_entropy\", s= S,color=\"DarkGreen\", label=\"non-Buggy\", alpha=0.1, ax=ax)"
   ]
  },
  {
   "cell_type": "code",
   "execution_count": 181,
   "metadata": {},
   "outputs": [
    {
     "data": {
      "text/plain": [
       "array([[1.        , 0.86976626],\n",
       "       [0.86976626, 1.        ]])"
      ]
     },
     "execution_count": 181,
     "metadata": {},
     "output_type": "execute_result"
    }
   ],
   "source": [
    "#General Correlation\n",
    "np.corrcoef(df_cross.y_cross_entropy.values, df_cross.z_count_subwords.values)"
   ]
  },
  {
   "cell_type": "code",
   "execution_count": 182,
   "metadata": {},
   "outputs": [
    {
     "data": {
      "text/plain": [
       "array([[1.        , 0.87261563],\n",
       "       [0.87261563, 1.        ]])"
      ]
     },
     "execution_count": 182,
     "metadata": {},
     "output_type": "execute_result"
    }
   ],
   "source": [
    "#Buggy Correlation\n",
    "np.corrcoef(df_buggy.y_cross_entropy.values, df_buggy.z_count_subwords.values)"
   ]
  },
  {
   "cell_type": "code",
   "execution_count": 183,
   "metadata": {},
   "outputs": [
    {
     "data": {
      "text/plain": [
       "array([[1.        , 0.86695886],\n",
       "       [0.86695886, 1.        ]])"
      ]
     },
     "execution_count": 183,
     "metadata": {},
     "output_type": "execute_result"
    }
   ],
   "source": [
    "#NonBuggy Correlation\n",
    "np.corrcoef(df_nonbuggy.y_cross_entropy.values, df_nonbuggy.z_count_subwords.values)"
   ]
  },
  {
   "cell_type": "code",
   "execution_count": 199,
   "metadata": {},
   "outputs": [
    {
     "data": {
      "text/plain": [
       "<AxesSubplot:title={'center':'z_count_subwords'}, xlabel='[x_treatment]'>"
      ]
     },
     "execution_count": 199,
     "metadata": {},
     "output_type": "execute_result"
    },
    {
     "data": {
      "image/png": "[encoded data removed]",
      "text/plain": [
       "<Figure size 432x288 with 1 Axes>"
      ]
     },
     "metadata": {
      "needs_background": "light"
     },
     "output_type": "display_data"
    }
   ],
   "source": [
    "#first covariate by treatment\n",
    "df_cross[['z_count_subwords','x_treatment']].boxplot( \n",
    "    by='x_treatment',\n",
    "    showfliers=False,\n",
    ")"
   ]
  },
  {
   "cell_type": "code",
   "execution_count": 195,
   "metadata": {},
   "outputs": [
    {
     "data": {
      "text/plain": [
       "<AxesSubplot:xlabel='z_count_subwords', ylabel='y_cross_entropy'>"
      ]
     },
     "execution_count": 195,
     "metadata": {},
     "output_type": "execute_result"
    },
    {
     "data": {
      "image/png": "[encoded data removed]",
      "text/plain": [
       "<Figure size 432x288 with 1 Axes>"
      ]
     },
     "metadata": {
      "needs_background": "light"
     },
     "output_type": "display_data"
    }
   ],
   "source": [
    "ax = df_buggy.loc[lambda row: row[\"z_count_subwords\"] < LIM ].plot.scatter(x=\"z_count_subwords\", y=\"y_cross_entropy\", s=S, color=\"DarkBlue\", label=\"Buggy\")\n",
    "df_nonbuggy.loc[lambda row: row[\"z_count_subwords\"] < LIM ].plot.scatter(x=\"z_count_subwords\", y=\"y_cross_entropy\", s=S, color=\"Green\", label=\"non-Buggy\", alpha=0.1, ax=ax)"
   ]
  },
  {
   "cell_type": "code",
   "execution_count": 121,
   "metadata": {},
   "outputs": [
    {
     "data": {
      "text/plain": [
       "0         177\n",
       "1         177\n",
       "2         195\n",
       "3         195\n",
       "4         121\n",
       "         ... \n",
       "129439    196\n",
       "129440    199\n",
       "129441    195\n",
       "129442    140\n",
       "129443    142\n",
       "Name: z_count_subwords, Length: 96787, dtype: int64"
      ]
     },
     "execution_count": 121,
     "metadata": {},
     "output_type": "execute_result"
    }
   ],
   "source": [
    "df_cross['z_count_subwords'].loc[lambda row: row < LIM ]"
   ]
  },
  {
   "cell_type": "markdown",
   "metadata": {},
   "source": [
    "### Bootstrapping of Means"
   ]
  },
  {
   "cell_type": "code",
   "execution_count": 165,
   "metadata": {},
   "outputs": [
    {
     "name": "stderr",
     "output_type": "stream",
     "text": [
      "2021-06-30 17:50:47,288 : INFO : Empirical Mean: 185.4076280090232\n",
      "2021-06-30 17:50:47,289 : INFO : Bootstrapped Mean: 185.40690630697446\n"
     ]
    }
   ],
   "source": [
    "bs_cross = bootstrapping( df_cross.z_count_subwords.values , np.mean, 500)"
   ]
  },
  {
   "cell_type": "code",
   "execution_count": 166,
   "metadata": {},
   "outputs": [
    {
     "name": "stderr",
     "output_type": "stream",
     "text": [
      "2021-06-30 17:50:50,405 : INFO : (185.3915753578344, 185.42223725611453)\n"
     ]
    },
    {
     "data": {
      "text/plain": [
       "(185.3915753578344, 185.42223725611453)"
      ]
     },
     "execution_count": 166,
     "metadata": {},
     "output_type": "execute_result"
    }
   ],
   "source": [
    "confidence_intervals( bs_cross.bootstrap_repl.values )"
   ]
  },
  {
   "cell_type": "code",
   "execution_count": 167,
   "metadata": {},
   "outputs": [
    {
     "data": {
      "text/plain": [
       "<AxesSubplot:ylabel='Frequency'>"
      ]
     },
     "execution_count": 167,
     "metadata": {},
     "output_type": "execute_result"
    },
    {
     "data": {
      "image/png": "[encoded data removed]",
      "text/plain": [
       "<Figure size 432x288 with 1 Axes>"
      ]
     },
     "metadata": {
      "needs_background": "light"
     },
     "output_type": "display_data"
    }
   ],
   "source": [
    "bs_cross.plot.hist(alpha=0.5, bins=50)"
   ]
  },
  {
   "cell_type": "markdown",
   "metadata": {},
   "source": [
    "### Empirical PDF and CDF"
   ]
  },
  {
   "cell_type": "code",
   "execution_count": 127,
   "metadata": {},
   "outputs": [
    {
     "data": {
      "text/plain": [
       "<AxesSubplot:ylabel='Frequency'>"
      ]
     },
     "execution_count": 127,
     "metadata": {},
     "output_type": "execute_result"
    },
    {
     "data": {
      "image/png": "[encoded data removed]",
      "text/plain": [
       "<Figure size 432x288 with 1 Axes>"
      ]
     },
     "metadata": {
      "needs_background": "light"
     },
     "output_type": "display_data"
    }
   ],
   "source": [
    "# Empirical PDF or Probability Density Function\n",
    "df_cross['z_count_subwords'].loc[lambda row: row < LIM ].plot.hist(alpha=0.5, bins=50)"
   ]
  },
  {
   "cell_type": "code",
   "execution_count": 128,
   "metadata": {},
   "outputs": [
    {
     "data": {
      "text/plain": [
       "<AxesSubplot:ylabel='Density'>"
      ]
     },
     "execution_count": 128,
     "metadata": {},
     "output_type": "execute_result"
    },
    {
     "data": {
      "image/png": "[encoded data removed]",
      "text/plain": [
       "<Figure size 432x288 with 1 Axes>"
      ]
     },
     "metadata": {
      "needs_background": "light"
     },
     "output_type": "display_data"
    }
   ],
   "source": [
    "# PDF or Probability Density Function\n",
    "df_cross['z_count_subwords'].loc[lambda row: row < LIM ].plot.kde()"
   ]
  },
  {
   "cell_type": "code",
   "execution_count": 131,
   "metadata": {},
   "outputs": [
    {
     "data": {
      "text/plain": [
       "<AxesSubplot:ylabel='Frequency'>"
      ]
     },
     "execution_count": 131,
     "metadata": {},
     "output_type": "execute_result"
    },
    {
     "data": {
      "image/png": "[encoded data removed]",
      "text/plain": [
       "<Figure size 432x288 with 1 Axes>"
      ]
     },
     "metadata": {
      "needs_background": "light"
     },
     "output_type": "display_data"
    }
   ],
   "source": [
    "#Empirical CDF demonstrate that 50% of methods in our sample have around 180 or less tokens. \n",
    "df_cross['z_count_subwords'].loc[lambda row: row < LIM ].plot.hist( \n",
    "    cumulative = True,\n",
    "    density =1,\n",
    "    bins=100\n",
    ")"
   ]
  },
  {
   "cell_type": "markdown",
   "metadata": {},
   "source": [
    "# Second Covariate Analysis: SE Metrics\n",
    "> This module provides a tool for computing metrics (from static analysis) for python source code using Using <a href=\"https://github.com/mauricioaniche/ck\">CK Package</a>\n",
    "\n",
    "CK is a java package (jar) which is going to be executed from terminal. It requires the code which is going to be analyzed to be located at <i>physical</i> files. For that reason, the dataset is going to be used to produce some <i>.java</i> files.\n",
    "\n",
    "Each record, corresponds to a individual class. When working with method-level snippets, \"articial\" classes are created for performing the analysis."
   ]
  },
  {
   "cell_type": "code",
   "execution_count": null,
   "metadata": {},
   "outputs": [],
   "source": [
    "# export\n",
    "def write_dataset_to_files(df_series, destination_path):\n",
    "    \"\"\"\n",
    "    Function to generate .java files.\n",
    "    \n",
    "    Params:\n",
    "    # df_series: Pandas Series (DataFrame column) with the source code records.\n",
    "    # destination_path: (str) Absolute path to be used as directory for the generated files.\n",
    "    \n",
    "    Returns:\n",
    "    \n",
    "    Collection of paths for the corresponding java files.\n",
    "    \n",
    "    \"\"\"\n",
    "    java_template = 'public class <class_name>{\\n    <code_snippet>\\n}'\n",
    "    \n",
    "    if not os.path.exists(destination_path):\n",
    "        logging.info('Creating directory.')\n",
    "        os.mkdir(destination_path)\n",
    "    \n",
    "    logging.info(\"Generating physical .java files.\")\n",
    "    \n",
    "    file_paths = []\n",
    "    for idx, value in df_series.iteritems():\n",
    "        class_name = f'ClassRecord{idx}'\n",
    "        code = java_template.replace('<class_name>', class_name)\n",
    "        code = code.replace('<code_snippet>', value)\n",
    "        file_path = f'{destination_path}/{class_name}.java'\n",
    "        with open(file_path, 'w') as file:\n",
    "            file.write(code)\n",
    "            file_paths.append(file_path)\n",
    "            \n",
    "    return file_paths"
   ]
  },
  {
   "cell_type": "code",
   "execution_count": null,
   "metadata": {},
   "outputs": [],
   "source": [
    "# export\n",
    "\n",
    "def jarWrapper(*args):\n",
    "    process = Popen(['java', '-jar']+list(args), stdout=PIPE, stderr=PIPE)\n",
    "    ret = []\n",
    "    while process.poll() is None:\n",
    "        line = process.stdout.readline()\n",
    "        if line != '' and line.endswith(b'\\n'):\n",
    "            ret.append(line[:-1])\n",
    "    stdout, stderr = process.communicate()\n",
    "    \n",
    "    ret += stdout.split(b'\\n')\n",
    "    if stderr != '':\n",
    "        ret += stderr.split(b'\\n')\n",
    "        \n",
    "    if '' in ret:\n",
    "        ret.remove('')\n",
    "    return ret"
   ]
  },
  {
   "cell_type": "code",
   "execution_count": null,
   "metadata": {},
   "outputs": [],
   "source": [
    "# export\n",
    "\n",
    "class JavaAnalyzer():\n",
    "    \"\"\"\n",
    "    Class get metrics f\n",
    "    \"\"\"\n",
    "    def __init__(self, ck_jar_path):\n",
    "        self.ck_jar_path = ck_jar_path\n",
    "    \n",
    "    def compute_metrics(self, df_series, files_destination_path):\n",
    "        \"\"\"\n",
    "        Computes metrics for a pandas series of java source code snippets\n",
    "        \n",
    "        Params\n",
    "        # df_series: Pandas series (df column) containing java source snippets\n",
    "        # files_destination_path: Path indicating where the physical .java files are going to be created (for metrics computation)\n",
    "        \n",
    "        Returns:\n",
    "        \n",
    "        Pandas Dataframe containing metrics\n",
    "        \n",
    "        \"\"\"\n",
    "        file_paths = write_dataset_to_files(df_series, files_destination_path)\n",
    "        self.__call_ck_package(files_destination_path)\n",
    "        metrics_df = self.__get_metrics_df()\n",
    "        self.__remove_csv_files()\n",
    "        self.__remove_tmp_java_files(file_paths)\n",
    "        \n",
    "        return metrics_df\n",
    "        \n",
    "    def __call_ck_package(self, files_path):\n",
    "        \"\"\"\n",
    "        Performs call to external .jar package.\n",
    "        \"\"\"\n",
    "        args = [self.ck_jar_path, files_path, 'false', '0', 'True']\n",
    "        result = jarWrapper(*args)\n",
    "        logging.info(f'CK package produced this output:\\n{result}')\n",
    "        \n",
    "    def __get_metrics_df(self):\n",
    "        \"\"\"\n",
    "        Reads report files (csv) generated by the CK package.\n",
    "        \n",
    "        Returns:\n",
    "        \n",
    "        Pandas Dataframe containing appropriate metrics\n",
    "        \"\"\"\n",
    "        class_metrics_df = pd.read_csv('class.csv')\n",
    "        # method_metrics_df = pd.read_csv('method.csv')\n",
    "\n",
    "        # merged_df = pd.merge(left = class_metrics_df, right = method_metrics_df, left_on='file', right_on='file')\n",
    "\n",
    "        appropriate_columns = ['file','class', 'wmc', 'totalMethodsQty', 'staticMethodsQty', 'publicMethodsQty', 'privateMethodsQty',\n",
    "                          'protectedMethodsQty', 'defaultMethodsQty', 'abstractMethodsQty', 'finalMethodsQty','synchronizedMethodsQty',\n",
    "                          'totalFieldsQty', 'staticFieldsQty', 'publicFieldsQty', 'privateFieldsQty', 'protectedFieldsQty',\n",
    "                          'defaultFieldsQty', 'visibleFieldsQty', 'finalFieldsQty', 'synchronizedFieldsQty',\n",
    "                          'nosi', 'loc', 'returnQty', 'loopQty', 'comparisonsQty', 'tryCatchQty', 'parenthesizedExpsQty',\n",
    "                          'stringLiteralsQty', 'numbersQty', 'assignmentsQty', 'mathOperationsQty', 'variablesQty', 'maxNestedBlocksQty',\n",
    "                          'anonymousClassesQty', 'innerClassesQty', 'lambdasQty', 'uniqueWordsQty', 'modifiers']\n",
    "\n",
    "        class_metrics_df = class_metrics_df[appropriate_columns]\n",
    "\n",
    "        return class_metrics_df\n",
    "    \n",
    "    def __remove_csv_files(self):\n",
    "        \"\"\"\n",
    "        Removes files generated by CK package.\n",
    "        \"\"\"\n",
    "        if os.path.exists('class.csv'):\n",
    "            os.remove('class.csv')\n",
    "        if os.path.exists('method.csv'):\n",
    "            os.remove('method.csv')\n",
    "        if os.path.exists('field.csv'):\n",
    "            os.remove('field.csv')\n",
    "            \n",
    "    def __remove_tmp_java_files(self, paths):\n",
    "        \"\"\"\n",
    "        Removes the temporary generated java files.\n",
    "        \"\"\"\n",
    "        for file_path in paths:\n",
    "            os.remove(file_path)"
   ]
  },
  {
   "cell_type": "code",
   "execution_count": null,
   "metadata": {},
   "outputs": [],
   "source": [
    "# General parameters for testing\n",
    "\n",
    "def get_default_params():\n",
    "    return {\n",
    "    'ck_jar_path': 'ck_metrics_tool/ck-metrics.jar',\n",
    "    'search_net_ds_path': '/tf/main/dvc-ds4se/code/searchnet/clean_java.csv',\n",
    "    'sampling_size': 100,\n",
    "    'physical_files_path': '/tf/main/nbs/test_data/test_metrics'\n",
    "}"
   ]
  },
  {
   "cell_type": "markdown",
   "metadata": {},
   "source": [
    "# Descriptive Statistics"
   ]
  },
  {
   "cell_type": "markdown",
   "metadata": {},
   "source": [
    "All Java Set"
   ]
  },
  {
   "cell_type": "code",
   "execution_count": null,
   "metadata": {},
   "outputs": [
    {
     "data": {
      "text/html": [
       "<div>\n",
       "<style scoped>\n",
       "    .dataframe tbody tr th:only-of-type {\n",
       "        vertical-align: middle;\n",
       "    }\n",
       "\n",
       "    .dataframe tbody tr th {\n",
       "        vertical-align: top;\n",
       "    }\n",
       "\n",
       "    .dataframe thead th {\n",
       "        text-align: right;\n",
       "    }\n",
       "</style>\n",
       "<table border=\"1\" class=\"dataframe\">\n",
       "  <thead>\n",
       "    <tr style=\"text-align: right;\">\n",
       "      <th></th>\n",
       "      <th>code_len</th>\n",
       "      <th>bpe32_len</th>\n",
       "    </tr>\n",
       "  </thead>\n",
       "  <tbody>\n",
       "    <tr>\n",
       "      <th>count</th>\n",
       "      <td>467203.000000</td>\n",
       "      <td>467203.000000</td>\n",
       "    </tr>\n",
       "    <tr>\n",
       "      <th>mean</th>\n",
       "      <td>113.079653</td>\n",
       "      <td>146.274557</td>\n",
       "    </tr>\n",
       "    <tr>\n",
       "      <th>std</th>\n",
       "      <td>189.121245</td>\n",
       "      <td>303.804009</td>\n",
       "    </tr>\n",
       "    <tr>\n",
       "      <th>min</th>\n",
       "      <td>20.000000</td>\n",
       "      <td>20.000000</td>\n",
       "    </tr>\n",
       "    <tr>\n",
       "      <th>25%</th>\n",
       "      <td>42.000000</td>\n",
       "      <td>50.000000</td>\n",
       "    </tr>\n",
       "    <tr>\n",
       "      <th>50%</th>\n",
       "      <td>67.000000</td>\n",
       "      <td>81.000000</td>\n",
       "    </tr>\n",
       "    <tr>\n",
       "      <th>75%</th>\n",
       "      <td>122.000000</td>\n",
       "      <td>150.000000</td>\n",
       "    </tr>\n",
       "    <tr>\n",
       "      <th>max</th>\n",
       "      <td>27192.000000</td>\n",
       "      <td>52975.000000</td>\n",
       "    </tr>\n",
       "  </tbody>\n",
       "</table>\n",
       "</div>"
      ],
      "text/plain": [
       "            code_len      bpe32_len\n",
       "count  467203.000000  467203.000000\n",
       "mean      113.079653     146.274557\n",
       "std       189.121245     303.804009\n",
       "min        20.000000      20.000000\n",
       "25%        42.000000      50.000000\n",
       "50%        67.000000      81.000000\n",
       "75%       122.000000     150.000000\n",
       "max     27192.000000   52975.000000"
      ]
     },
     "execution_count": null,
     "metadata": {},
     "output_type": "execute_result"
    }
   ],
   "source": [
    "java_df.describe()"
   ]
  },
  {
   "cell_type": "markdown",
   "metadata": {},
   "source": [
    "All Java Partition"
   ]
  },
  {
   "cell_type": "code",
   "execution_count": null,
   "metadata": {},
   "outputs": [
    {
     "data": {
      "text/html": [
       "<div>\n",
       "<style scoped>\n",
       "    .dataframe tbody tr th:only-of-type {\n",
       "        vertical-align: middle;\n",
       "    }\n",
       "\n",
       "    .dataframe tbody tr th {\n",
       "        vertical-align: top;\n",
       "    }\n",
       "\n",
       "    .dataframe thead th {\n",
       "        text-align: right;\n",
       "    }\n",
       "</style>\n",
       "<table border=\"1\" class=\"dataframe\">\n",
       "  <thead>\n",
       "    <tr style=\"text-align: right;\">\n",
       "      <th></th>\n",
       "      <th>code_len</th>\n",
       "      <th>bpe32_len</th>\n",
       "    </tr>\n",
       "  </thead>\n",
       "  <tbody>\n",
       "    <tr>\n",
       "      <th>count</th>\n",
       "      <td>384868.000000</td>\n",
       "      <td>384868.000000</td>\n",
       "    </tr>\n",
       "    <tr>\n",
       "      <th>mean</th>\n",
       "      <td>113.720826</td>\n",
       "      <td>147.151002</td>\n",
       "    </tr>\n",
       "    <tr>\n",
       "      <th>std</th>\n",
       "      <td>194.007951</td>\n",
       "      <td>313.904001</td>\n",
       "    </tr>\n",
       "    <tr>\n",
       "      <th>min</th>\n",
       "      <td>20.000000</td>\n",
       "      <td>20.000000</td>\n",
       "    </tr>\n",
       "    <tr>\n",
       "      <th>25%</th>\n",
       "      <td>42.000000</td>\n",
       "      <td>50.000000</td>\n",
       "    </tr>\n",
       "    <tr>\n",
       "      <th>50%</th>\n",
       "      <td>67.000000</td>\n",
       "      <td>81.000000</td>\n",
       "    </tr>\n",
       "    <tr>\n",
       "      <th>75%</th>\n",
       "      <td>122.000000</td>\n",
       "      <td>151.000000</td>\n",
       "    </tr>\n",
       "    <tr>\n",
       "      <th>max</th>\n",
       "      <td>27192.000000</td>\n",
       "      <td>52975.000000</td>\n",
       "    </tr>\n",
       "  </tbody>\n",
       "</table>\n",
       "</div>"
      ],
      "text/plain": [
       "            code_len      bpe32_len\n",
       "count  384868.000000  384868.000000\n",
       "mean      113.720826     147.151002\n",
       "std       194.007951     313.904001\n",
       "min        20.000000      20.000000\n",
       "25%        42.000000      50.000000\n",
       "50%        67.000000      81.000000\n",
       "75%       122.000000     151.000000\n",
       "max     27192.000000   52975.000000"
      ]
     },
     "execution_count": null,
     "metadata": {},
     "output_type": "execute_result"
    }
   ],
   "source": [
    "df_train.describe()"
   ]
  },
  {
   "cell_type": "code",
   "execution_count": null,
   "metadata": {},
   "outputs": [
    {
     "name": "stderr",
     "output_type": "stream",
     "text": [
      "2020-11-17 12:31:54,629 : INFO : [            code_len      bpe32_len\n",
      "count  384868.000000  384868.000000\n",
      "mean      113.720826     147.151002\n",
      "std       194.007951     313.904001\n",
      "min        20.000000      20.000000\n",
      "25%        42.000000      50.000000\n",
      "50%        67.000000      81.000000\n",
      "75%       122.000000     151.000000\n",
      "max     27192.000000   52975.000000,            code_len     bpe32_len\n",
      "count  14605.000000  14605.000000\n",
      "mean      94.331736    120.097843\n",
      "std      115.802231    171.079255\n",
      "min       21.000000     21.000000\n",
      "25%       39.000000     46.000000\n",
      "50%       59.000000     71.000000\n",
      "75%      104.000000    127.000000\n",
      "max     3099.000000   5747.000000,            code_len     bpe32_len\n",
      "count  25011.000000  25011.000000\n",
      "mean     114.274599    148.204710\n",
      "std      166.432695    245.938732\n",
      "min       21.000000     22.000000\n",
      "25%       43.000000     52.000000\n",
      "50%       69.000000     84.000000\n",
      "75%      125.000000    155.000000\n",
      "max     5685.000000  10015.000000,            code_len     bpe32_len\n",
      "count  42719.000000  42719.000000\n",
      "mean     113.013156    146.197781\n",
      "std      176.473185    275.722996\n",
      "min       20.000000     21.000000\n",
      "25%       42.000000     50.000000\n",
      "50%       67.000000     82.000000\n",
      "75%      123.000000    151.000000\n",
      "max     8404.000000  15552.000000]\n"
     ]
    }
   ],
   "source": [
    "logging.info([ p.describe() for p in list_all_partitions])"
   ]
  },
  {
   "cell_type": "code",
   "execution_count": null,
   "metadata": {},
   "outputs": [
    {
     "name": "stderr",
     "output_type": "stream",
     "text": [
      "2020-11-17 12:29:30,408 : INFO : [45.9606, 37.065, 47.4432, 44.477999999999994]\n"
     ]
    }
   ],
   "source": [
    "logging.info([ stats.median_absolute_deviation(p['code_len'].values) for p in list_all_partitions])"
   ]
  },
  {
   "cell_type": "markdown",
   "metadata": {},
   "source": [
    "Train Partition"
   ]
  },
  {
   "cell_type": "code",
   "execution_count": null,
   "metadata": {},
   "outputs": [],
   "source": [
    "# Frequent Characters\n",
    "train_tokens = df_train.code_tokens.values"
   ]
  },
  {
   "cell_type": "code",
   "execution_count": null,
   "metadata": {},
   "outputs": [],
   "source": [
    "train_vocab_tokens = [ eval(method)  for method in train_tokens ] #Evaluating given tokens"
   ]
  },
  {
   "cell_type": "code",
   "execution_count": null,
   "metadata": {},
   "outputs": [],
   "source": [
    "train_counter_tokens = [ Counter(method) for method in train_vocab_tokens ] #Counting the words"
   ]
  },
  {
   "cell_type": "code",
   "execution_count": null,
   "metadata": {},
   "outputs": [],
   "source": [
    "train_counter = functools.reduce(lambda a,b : a+b, train_counter_tokens ) ## [Warning! Time Consuming]"
   ]
  },
  {
   "cell_type": "code",
   "execution_count": null,
   "metadata": {},
   "outputs": [
    {
     "ename": "NameError",
     "evalue": "name 'train_counter' is not defined",
     "output_type": "error",
     "traceback": [
      "\u001b[0;31m---------------------------------------------------------------------------\u001b[0m",
      "\u001b[0;31mNameError\u001b[0m                                 Traceback (most recent call last)",
      "\u001b[0;32m<ipython-input-1-fc0adc03a92e>\u001b[0m in \u001b[0;36m<module>\u001b[0;34m\u001b[0m\n\u001b[0;32m----> 1\u001b[0;31m \u001b[0mtrain_counter\u001b[0m\u001b[0;34m\u001b[0m\u001b[0;34m\u001b[0m\u001b[0m\n\u001b[0m",
      "\u001b[0;31mNameError\u001b[0m: name 'train_counter' is not defined"
     ]
    }
   ],
   "source": [
    "train_counter"
   ]
  },
  {
   "cell_type": "code",
   "execution_count": null,
   "metadata": {},
   "outputs": [],
   "source": [
    "#Persisting the counter object\n",
    "with open(params['eda']+'['+ str(datetime.datetime.now()) +']-codesearchnet_token_counts.pickle', 'wb') as outputfile:\n",
    "    pickle.dump( train_counter, outputfile )"
   ]
  }
 ],
 "metadata": {
  "kernelspec": {
   "display_name": "Python 3",
   "language": "python",
   "name": "python3"
  },
  "language_info": {
   "codemirror_mode": {
    "name": "ipython",
    "version": 3
   },
   "file_extension": ".py",
   "mimetype": "text/x-python",
   "name": "python",
   "nbconvert_exporter": "python",
   "pygments_lexer": "ipython3",
   "version": "3.8.6"
  }
 },
 "nbformat": 4,
 "nbformat_minor": 4
}
