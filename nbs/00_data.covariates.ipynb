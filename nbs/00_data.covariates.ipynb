{
 "cells": [
  {
   "cell_type": "code",
   "execution_count": null,
   "metadata": {},
   "outputs": [],
   "source": [
    "# default_exp data.covariates"
   ]
  },
  {
   "cell_type": "code",
   "execution_count": 70,
   "metadata": {},
   "outputs": [],
   "source": [
    "# hide\n",
    "%load_ext autoreload\n",
    "%autoreload 2\n",
    "%matplotlib inline"
   ]
  },
  {
   "cell_type": "code",
   "execution_count": null,
   "metadata": {},
   "outputs": [
    {
     "name": "stdout",
     "output_type": "stream",
     "text": [
      "Requirement already satisfied: tokenizers==0.9.3 in /opt/conda/lib/python3.8/site-packages (0.9.3)\n"
     ]
    }
   ],
   "source": [
    "! pip install 'tokenizers==0.9.3'\n",
    "#! pip install 'transformers==3.5.0'"
   ]
  },
  {
   "cell_type": "markdown",
   "metadata": {},
   "source": [
    "# Covariate Analysis and Feature Engineering \n",
    ">\n",
    ">@danaderp 11.17.20 .\n",
    ">"
   ]
  },
  {
   "cell_type": "code",
   "execution_count": 1,
   "metadata": {},
   "outputs": [],
   "source": [
    "#export\n",
    "import tensorflow as tf\n",
    "import numpy as np\n",
    "import pandas as pd\n",
    "import scipy.stats as st\n",
    "import os\n",
    "import time"
   ]
  },
  {
   "cell_type": "code",
   "execution_count": 2,
   "metadata": {},
   "outputs": [],
   "source": [
    "#export\n",
    "import matplotlib.pyplot as plt\n",
    "import seaborn as sns\n",
    "from scipy import stats"
   ]
  },
  {
   "cell_type": "code",
   "execution_count": 3,
   "metadata": {},
   "outputs": [],
   "source": [
    "#export\n",
    "import functools \n",
    "from operator import or_\n",
    "from collections import Counter\n",
    "import datetime"
   ]
  },
  {
   "cell_type": "code",
   "execution_count": 4,
   "metadata": {},
   "outputs": [],
   "source": [
    "#export\n",
    "#import sentencepiece as spm\n",
    "import pickle\n",
    "from pathlib import Path\n",
    "from tokenizers import Tokenizer, models"
   ]
  },
  {
   "cell_type": "code",
   "execution_count": 5,
   "metadata": {},
   "outputs": [],
   "source": [
    "#export\n",
    "from pandas.plotting import scatter_matrix\n",
    "from pandas.plotting import bootstrap_plot\n",
    "from sklearn import preprocessing"
   ]
  },
  {
   "cell_type": "code",
   "execution_count": 6,
   "metadata": {},
   "outputs": [],
   "source": [
    "#export\n",
    "import logging\n",
    "logging.basicConfig(format='%(asctime)s : %(levelname)s : %(message)s', level=logging.INFO)"
   ]
  },
  {
   "cell_type": "markdown",
   "metadata": {},
   "source": [
    "Fixing parameters"
   ]
  },
  {
   "cell_type": "code",
   "execution_count": 7,
   "metadata": {},
   "outputs": [],
   "source": [
    "#nbs_experiments/results/analyses/rnn_layers1_vocab10000_embed256_units1024\n",
    "#df_buggy.to_json(path / \"buggy.jsonl\", orient=\"records\", lines=True)\n",
    "dvc_path = Path('../dvc-icodegen/')\n",
    "def params():\n",
    "    return {\n",
    "        'tokenizer':dvc_path / 'models/bpe/tokenizer-java-v1.json',\n",
    "        'tb_01':dvc_path / 'nbs/nbs_experiments/results/analyses/rnn_layers1_vocab10000_embed256_units1024/bug_fix_error_taxonomy.jsonl',\n",
    "        'tb_02':dvc_path / 'nbs/nbs_experiments/results/analyses/rnn_layers1_vocab10000_embed256_units1024/bug_fix_cross_entropy.jsonl',\n",
    "        'output': dvc_path / 'nbs/nbs_experiments/results/analyses/rnn_layers1_vocab10000_embed256_units1024/'\n",
    "    }"
   ]
  },
  {
   "cell_type": "code",
   "execution_count": 8,
   "metadata": {},
   "outputs": [
    {
     "data": {
      "text/plain": [
       "' TO BE USED JUST IN CASE\\nfrom icodegen.data.core import replace_spec_toks_to_original, java_special_tokens\\ndf[\"original_code\"] = replace_spec_toks_to_original(df, java_special_tokens).code.values\\n'"
      ]
     },
     "execution_count": 8,
     "metadata": {},
     "output_type": "execute_result"
    }
   ],
   "source": [
    "\"\"\" TO BE USED JUST IN CASE\n",
    "from icodegen.data.core import replace_spec_toks_to_original, java_special_tokens\n",
    "df[\"original_code\"] = replace_spec_toks_to_original(df, java_special_tokens).code.values\n",
    "\"\"\""
   ]
  },
  {
   "cell_type": "code",
   "execution_count": 9,
   "metadata": {},
   "outputs": [],
   "source": [
    "params = params()"
   ]
  },
  {
   "cell_type": "code",
   "execution_count": 10,
   "metadata": {},
   "outputs": [
    {
     "data": {
      "text/plain": [
       "PosixPath('../dvc-icodegen/nbs/nbs_experiments/results/analyses/rnn_layers1_vocab10000_embed256_units1024/xxx.jsonl')"
      ]
     },
     "execution_count": 10,
     "metadata": {},
     "output_type": "execute_result"
    }
   ],
   "source": [
    "params['output'] / 'xxx.jsonl'"
   ]
  },
  {
   "cell_type": "code",
   "execution_count": 11,
   "metadata": {},
   "outputs": [
    {
     "name": "stderr",
     "output_type": "stream",
     "text": [
      "2021-07-06 18:28:10,832 : INFO : ../dvc-icodegen/models/bpe/tokenizer-java-v1.json\n"
     ]
    }
   ],
   "source": [
    "#tst\n",
    "logging.info( params['tokenizer'] )"
   ]
  },
  {
   "cell_type": "code",
   "execution_count": 12,
   "metadata": {},
   "outputs": [
    {
     "name": "stderr",
     "output_type": "stream",
     "text": [
      "2021-07-06 18:28:13,799 : INFO : Note: detected 128 virtual cores but NumExpr set to maximum of 64, check \"NUMEXPR_MAX_THREADS\" environment variable.\n",
      "2021-07-06 18:28:13,800 : INFO : Note: NumExpr detected 128 cores but \"NUMEXPR_MAX_THREADS\" not set, so enforcing safe limit of 8.\n",
      "2021-07-06 18:28:13,800 : INFO : NumExpr defaulting to 8 threads.\n"
     ]
    }
   ],
   "source": [
    "df_error_tax = pd.read_json(\n",
    "            params['tb_01'], orient=\"records\", lines=True)"
   ]
  },
  {
   "cell_type": "code",
   "execution_count": 13,
   "metadata": {},
   "outputs": [
    {
     "data": {
      "text/html": [
       "<div>\n",
       "<style scoped>\n",
       "    .dataframe tbody tr th:only-of-type {\n",
       "        vertical-align: middle;\n",
       "    }\n",
       "\n",
       "    .dataframe tbody tr th {\n",
       "        vertical-align: top;\n",
       "    }\n",
       "\n",
       "    .dataframe thead th {\n",
       "        text-align: right;\n",
       "    }\n",
       "</style>\n",
       "<table border=\"1\" class=\"dataframe\">\n",
       "  <thead>\n",
       "    <tr style=\"text-align: right;\">\n",
       "      <th></th>\n",
       "      <th>y_blocks</th>\n",
       "      <th>y_exceptions</th>\n",
       "      <th>y_oop</th>\n",
       "      <th>y_tests</th>\n",
       "      <th>y_declarations</th>\n",
       "      <th>y_conditionals</th>\n",
       "      <th>y_loops</th>\n",
       "      <th>y_operators</th>\n",
       "      <th>y_datatypes</th>\n",
       "      <th>y_extra_tokens</th>\n",
       "      <th>original_code</th>\n",
       "      <th>transformed_code</th>\n",
       "      <th>x_treatment</th>\n",
       "    </tr>\n",
       "  </thead>\n",
       "  <tbody>\n",
       "    <tr>\n",
       "      <th>0</th>\n",
       "      <td>0.016686</td>\n",
       "      <td>NaN</td>\n",
       "      <td>8.931800e-06</td>\n",
       "      <td>NaN</td>\n",
       "      <td>3.518000e-07</td>\n",
       "      <td>NaN</td>\n",
       "      <td>NaN</td>\n",
       "      <td>0.000316</td>\n",
       "      <td>NaN</td>\n",
       "      <td>0.189851</td>\n",
       "      <td>private void success(io.netty.channel.Channel ...</td>\n",
       "      <td>&lt;private&gt; &lt;void&gt; success&lt;(&gt;io.netty.channel.Ch...</td>\n",
       "      <td>False</td>\n",
       "    </tr>\n",
       "    <tr>\n",
       "      <th>1</th>\n",
       "      <td>0.016562</td>\n",
       "      <td>NaN</td>\n",
       "      <td>8.914700e-06</td>\n",
       "      <td>NaN</td>\n",
       "      <td>3.518000e-07</td>\n",
       "      <td>NaN</td>\n",
       "      <td>NaN</td>\n",
       "      <td>0.000315</td>\n",
       "      <td>NaN</td>\n",
       "      <td>0.190934</td>\n",
       "      <td>private void success(io.netty.channel.Channel ...</td>\n",
       "      <td>&lt;private&gt; &lt;void&gt; success&lt;(&gt;io.netty.channel.Ch...</td>\n",
       "      <td>True</td>\n",
       "    </tr>\n",
       "    <tr>\n",
       "      <th>2</th>\n",
       "      <td>0.019514</td>\n",
       "      <td>NaN</td>\n",
       "      <td>1.240000e-08</td>\n",
       "      <td>NaN</td>\n",
       "      <td>3.518000e-07</td>\n",
       "      <td>0.00001</td>\n",
       "      <td>NaN</td>\n",
       "      <td>0.004353</td>\n",
       "      <td>NaN</td>\n",
       "      <td>0.131582</td>\n",
       "      <td>private void handleConnectRequest(com.assistan...</td>\n",
       "      <td>&lt;private&gt; &lt;void&gt; handleConnectRequest&lt;(&gt;com.as...</td>\n",
       "      <td>False</td>\n",
       "    </tr>\n",
       "    <tr>\n",
       "      <th>3</th>\n",
       "      <td>0.020454</td>\n",
       "      <td>NaN</td>\n",
       "      <td>1.240000e-08</td>\n",
       "      <td>NaN</td>\n",
       "      <td>3.518000e-07</td>\n",
       "      <td>0.00001</td>\n",
       "      <td>NaN</td>\n",
       "      <td>0.004353</td>\n",
       "      <td>NaN</td>\n",
       "      <td>0.129045</td>\n",
       "      <td>private void handleConnectRequest(com.assistan...</td>\n",
       "      <td>&lt;private&gt; &lt;void&gt; handleConnectRequest&lt;(&gt;com.as...</td>\n",
       "      <td>True</td>\n",
       "    </tr>\n",
       "    <tr>\n",
       "      <th>4</th>\n",
       "      <td>0.014277</td>\n",
       "      <td>NaN</td>\n",
       "      <td>1.757276e-04</td>\n",
       "      <td>NaN</td>\n",
       "      <td>3.090000e-07</td>\n",
       "      <td>NaN</td>\n",
       "      <td>NaN</td>\n",
       "      <td>0.000488</td>\n",
       "      <td>0.000028</td>\n",
       "      <td>0.162347</td>\n",
       "      <td>@java.lang.Override\\nprotected void onSizeChan...</td>\n",
       "      <td>&lt;@&gt;java.lang.Override&lt;n&gt;&lt;protected&gt; &lt;void&gt; onS...</td>\n",
       "      <td>False</td>\n",
       "    </tr>\n",
       "  </tbody>\n",
       "</table>\n",
       "</div>"
      ],
      "text/plain": [
       "   y_blocks  y_exceptions         y_oop  y_tests  y_declarations  \\\n",
       "0  0.016686           NaN  8.931800e-06      NaN    3.518000e-07   \n",
       "1  0.016562           NaN  8.914700e-06      NaN    3.518000e-07   \n",
       "2  0.019514           NaN  1.240000e-08      NaN    3.518000e-07   \n",
       "3  0.020454           NaN  1.240000e-08      NaN    3.518000e-07   \n",
       "4  0.014277           NaN  1.757276e-04      NaN    3.090000e-07   \n",
       "\n",
       "   y_conditionals  y_loops  y_operators  y_datatypes  y_extra_tokens  \\\n",
       "0             NaN      NaN     0.000316          NaN        0.189851   \n",
       "1             NaN      NaN     0.000315          NaN        0.190934   \n",
       "2         0.00001      NaN     0.004353          NaN        0.131582   \n",
       "3         0.00001      NaN     0.004353          NaN        0.129045   \n",
       "4             NaN      NaN     0.000488     0.000028        0.162347   \n",
       "\n",
       "                                       original_code  \\\n",
       "0  private void success(io.netty.channel.Channel ...   \n",
       "1  private void success(io.netty.channel.Channel ...   \n",
       "2  private void handleConnectRequest(com.assistan...   \n",
       "3  private void handleConnectRequest(com.assistan...   \n",
       "4  @java.lang.Override\\nprotected void onSizeChan...   \n",
       "\n",
       "                                    transformed_code  x_treatment  \n",
       "0  <private> <void> success<(>io.netty.channel.Ch...        False  \n",
       "1  <private> <void> success<(>io.netty.channel.Ch...         True  \n",
       "2  <private> <void> handleConnectRequest<(>com.as...        False  \n",
       "3  <private> <void> handleConnectRequest<(>com.as...         True  \n",
       "4  <@>java.lang.Override<n><protected> <void> onS...        False  "
      ]
     },
     "execution_count": 13,
     "metadata": {},
     "output_type": "execute_result"
    }
   ],
   "source": [
    "df_error_tax.head()"
   ]
  },
  {
   "cell_type": "code",
   "execution_count": 192,
   "metadata": {},
   "outputs": [
    {
     "data": {
      "text/plain": [
       "(129444, 13)"
      ]
     },
     "execution_count": 192,
     "metadata": {},
     "output_type": "execute_result"
    }
   ],
   "source": [
    "df_error_tax.shape"
   ]
  },
  {
   "cell_type": "code",
   "execution_count": 14,
   "metadata": {},
   "outputs": [],
   "source": [
    "df_cross = pd.read_json(\n",
    "        params['tb_02'], orient=\"records\", lines=True)"
   ]
  },
  {
   "cell_type": "code",
   "execution_count": 15,
   "metadata": {},
   "outputs": [
    {
     "data": {
      "text/html": [
       "<div>\n",
       "<style scoped>\n",
       "    .dataframe tbody tr th:only-of-type {\n",
       "        vertical-align: middle;\n",
       "    }\n",
       "\n",
       "    .dataframe tbody tr th {\n",
       "        vertical-align: top;\n",
       "    }\n",
       "\n",
       "    .dataframe thead th {\n",
       "        text-align: right;\n",
       "    }\n",
       "</style>\n",
       "<table border=\"1\" class=\"dataframe\">\n",
       "  <thead>\n",
       "    <tr style=\"text-align: right;\">\n",
       "      <th></th>\n",
       "      <th>transformed_code</th>\n",
       "      <th>y_cross_entropy</th>\n",
       "      <th>x_treatment</th>\n",
       "      <th>original_code</th>\n",
       "    </tr>\n",
       "  </thead>\n",
       "  <tbody>\n",
       "    <tr>\n",
       "      <th>0</th>\n",
       "      <td>&lt;private&gt; &lt;void&gt; success&lt;(&gt;io.netty.channel.Ch...</td>\n",
       "      <td>6.006220</td>\n",
       "      <td>False</td>\n",
       "      <td>private void success(io.netty.channel.Channel ...</td>\n",
       "    </tr>\n",
       "    <tr>\n",
       "      <th>1</th>\n",
       "      <td>&lt;private&gt; &lt;void&gt; success&lt;(&gt;io.netty.channel.Ch...</td>\n",
       "      <td>6.008038</td>\n",
       "      <td>True</td>\n",
       "      <td>private void success(io.netty.channel.Channel ...</td>\n",
       "    </tr>\n",
       "    <tr>\n",
       "      <th>2</th>\n",
       "      <td>&lt;private&gt; &lt;void&gt; handleConnectRequest&lt;(&gt;com.as...</td>\n",
       "      <td>6.368741</td>\n",
       "      <td>False</td>\n",
       "      <td>private void handleConnectRequest(com.assistan...</td>\n",
       "    </tr>\n",
       "    <tr>\n",
       "      <th>3</th>\n",
       "      <td>&lt;private&gt; &lt;void&gt; handleConnectRequest&lt;(&gt;com.as...</td>\n",
       "      <td>6.337473</td>\n",
       "      <td>True</td>\n",
       "      <td>private void handleConnectRequest(com.assistan...</td>\n",
       "    </tr>\n",
       "    <tr>\n",
       "      <th>4</th>\n",
       "      <td>&lt;@&gt;java.lang.Override&lt;n&gt;&lt;protected&gt; &lt;void&gt; onS...</td>\n",
       "      <td>3.927699</td>\n",
       "      <td>False</td>\n",
       "      <td>@java.lang.Override\\nprotected void onSizeChan...</td>\n",
       "    </tr>\n",
       "  </tbody>\n",
       "</table>\n",
       "</div>"
      ],
      "text/plain": [
       "                                    transformed_code  y_cross_entropy  \\\n",
       "0  <private> <void> success<(>io.netty.channel.Ch...         6.006220   \n",
       "1  <private> <void> success<(>io.netty.channel.Ch...         6.008038   \n",
       "2  <private> <void> handleConnectRequest<(>com.as...         6.368741   \n",
       "3  <private> <void> handleConnectRequest<(>com.as...         6.337473   \n",
       "4  <@>java.lang.Override<n><protected> <void> onS...         3.927699   \n",
       "\n",
       "   x_treatment                                      original_code  \n",
       "0        False  private void success(io.netty.channel.Channel ...  \n",
       "1         True  private void success(io.netty.channel.Channel ...  \n",
       "2        False  private void handleConnectRequest(com.assistan...  \n",
       "3         True  private void handleConnectRequest(com.assistan...  \n",
       "4        False  @java.lang.Override\\nprotected void onSizeChan...  "
      ]
     },
     "execution_count": 15,
     "metadata": {},
     "output_type": "execute_result"
    }
   ],
   "source": [
    "df_cross.head()"
   ]
  },
  {
   "cell_type": "code",
   "execution_count": 193,
   "metadata": {},
   "outputs": [
    {
     "data": {
      "text/plain": [
       "(129444, 4)"
      ]
     },
     "execution_count": 193,
     "metadata": {},
     "output_type": "execute_result"
    }
   ],
   "source": [
    "df_cross.shape"
   ]
  },
  {
   "cell_type": "markdown",
   "metadata": {},
   "source": [
    "# First Covariate Analysis: Token Size"
   ]
  },
  {
   "cell_type": "code",
   "execution_count": 86,
   "metadata": {},
   "outputs": [],
   "source": [
    "#Upload tokenizers here\n",
    "#Use Tokenizer recent version\n",
    "#Load tokenizer\n",
    "#Update files (for one time) the main json files to add the column of tokenizers\n",
    "#Count the tokens per method\n",
    "#Visualize the most popular tokens (and less popular)"
   ]
  },
  {
   "cell_type": "code",
   "execution_count": 16,
   "metadata": {},
   "outputs": [],
   "source": [
    "#export\n",
    "class TokenizeHF():\n",
    "    def __init__( self, no_padding = True, no_truncation = True ):\n",
    "        \"\"\"\n",
    "        :param method: Code snippet (plain text)\n",
    "        :returns: Encoded result using the provided tokenizer\n",
    "        \"\"\"\n",
    "        #Load tokenizer\n",
    "        self.tokenizer = Tokenizer.from_file( str( params['tokenizer'] ) )\n",
    "        if no_padding:\n",
    "            self.tokenizer.no_padding()\n",
    "        if no_truncation:\n",
    "            self.tokenizer.no_truncation()\n",
    "        pass\n",
    "    \n",
    "    #@staticmethod\n",
    "    def tokenizeHF(self, method ):\n",
    "        output = {}\n",
    "        # encode method and then convert to format that hf models expect\n",
    "        encoding = self.tokenizer.encode( #Tokenize a Seq\n",
    "            \"<sos>\" + method\n",
    "        )\n",
    "        \"\"\"\n",
    "        This source code is for further analysis\n",
    "        output[\"input_ids\"] = tf.expand_dims(\n",
    "             tf.convert_to_tensor(encoding.ids, dtype=tf.int32), 0\n",
    "        )\n",
    "        output[\"attention_mask\"] = tf.expand_dims(\n",
    "             tf.convert_to_tensor(encoding.attention_mask, dtype=tf.int32), 0\n",
    "        )\"\"\"\n",
    "        return encoding\n",
    "    \n",
    "    #@staticmethod\n",
    "    def decodingHF( self, idss ):\n",
    "        return self.tokenizer.decode( idss , skip_special_tokens=False )\n",
    "        #return self.tokenizer.convert_ids_to_tokens(idss )"
   ]
  },
  {
   "cell_type": "code",
   "execution_count": 17,
   "metadata": {},
   "outputs": [],
   "source": [
    "code = df_cross['original_code']"
   ]
  },
  {
   "cell_type": "code",
   "execution_count": 18,
   "metadata": {},
   "outputs": [
    {
     "data": {
      "text/plain": [
       "'private void success(io.netty.channel.Channel channel) {\\n    org.mycat.netty.mysql.MySQLHandshakeHandler.logger.debug(\"success info return form MySQLHandshakeHandler\");\\n    io.netty.buffer.ByteBuf out = channel.alloc().buffer();\\n    org.mycat.netty.mysql.OK ok = new org.mycat.netty.mysql.OK();\\n    ok.sequenceId = 2;\\n    ok.setStatusFlag(Flags.SERVER_STATUS_AUTOCOMMIT);\\n    out.writeBytes(ok.toPacket());\\n    channel.writeAndFlush(out);\\n}'"
      ]
     },
     "execution_count": 18,
     "metadata": {},
     "output_type": "execute_result"
    }
   ],
   "source": [
    "code[0]"
   ]
  },
  {
   "cell_type": "code",
   "execution_count": 19,
   "metadata": {},
   "outputs": [],
   "source": [
    "class_tokenize = TokenizeHF() "
   ]
  },
  {
   "cell_type": "code",
   "execution_count": 20,
   "metadata": {},
   "outputs": [],
   "source": [
    "input_ids = class_tokenize.tokenizeHF( method = 'this is a text <private> <void> success<(>io.netty' )"
   ]
  },
  {
   "cell_type": "code",
   "execution_count": 21,
   "metadata": {},
   "outputs": [
    {
     "data": {
      "text/plain": [
       "[1, 360, 492, 388, 1634, 189, 35, 189, 50, 3905, 83, 1702, 105, 3342, 487]"
      ]
     },
     "execution_count": 21,
     "metadata": {},
     "output_type": "execute_result"
    }
   ],
   "source": [
    "input_ids.ids"
   ]
  },
  {
   "cell_type": "code",
   "execution_count": null,
   "metadata": {},
   "outputs": [
    {
     "data": {
      "text/plain": [
       "['<sos>',\n",
       " 'this',\n",
       " 'Ġis',\n",
       " 'Ġa',\n",
       " 'Ġtext',\n",
       " 'Ġ',\n",
       " '<private>',\n",
       " 'Ġ',\n",
       " '<void>',\n",
       " 'Ġsuccess',\n",
       " '<(>',\n",
       " 'io',\n",
       " '.',\n",
       " 'net',\n",
       " 'ty']"
      ]
     },
     "execution_count": null,
     "metadata": {},
     "output_type": "execute_result"
    }
   ],
   "source": [
    "input_ids.tokens"
   ]
  },
  {
   "cell_type": "code",
   "execution_count": null,
   "metadata": {},
   "outputs": [
    {
     "name": "stderr",
     "output_type": "stream",
     "text": [
      "2021-07-02 17:57:43,923 : INFO : Encoding(num_tokens=177, attributes=[ids, type_ids, tokens, offsets, attention_mask, special_tokens_mask, overflowing])\n",
      "2021-07-02 17:57:43,924 : INFO : [1, 35, 189, 50, 3905, 83, 1702, 105, 3342, 487, 105, 2867, 105, 1821, 2647, 84, 189, 79, 91, 195, 2841, 105, 4047, 2853, 105, 3342, 487, 105, 168, 2387, 1366, 105, 136, 180, 2298, 3943, 5731, 1072, 105, 1926, 105, 1025, 83, 93, 6150, 2399, 189, 38, 189, 23, 168, 464, 180, 2298, 3943, 5731, 1072, 93, 84, 85, 91, 195, 3644, 105, 3342, 487, 105, 2057, 105, 881, 3453, 1062, 189, 53, 2647, 105, 212, 2586, 83, 84, 105, 2057, 83, 84, 85, 91, 195, 2841, 105, 4047, 2853, 105, 3342, 487, 105, 168, 2387, 1366, 105, 4236, 4959, 189, 53, 189, 33, 2841, 105, 4047, 2853, 105, 3342, 487, 105, 168, 2387, 1366, 105, 4236, 83, 84, 85, 91, 195, 4959, 105, 6909, 406, 189, 53, 883, 85, 91, 195, 4959, 105, 7941, 4880, 83, 4661, 105, 5872, 154, 5014, 154, 4723, 138, 9003, 84, 85, 91, 195, 1062, 105, 967, 1305, 83, 1649, 105, 422, 5262, 83, 84, 84, 85, 91, 195, 2647, 105, 967, 1258, 6419, 83, 614, 84, 85, 91, 80]\n",
      "2021-07-02 17:57:43,925 : INFO : 177\n",
      "2021-07-02 17:57:43,926 : INFO : ['<sos>', '<private>', 'Ġ', '<void>', 'Ġsuccess', '<(>', 'io', '.', 'net', 'ty', '.', 'channel', '.', 'Channel', 'Ġchannel', '<)>', 'Ġ', '<{>', '<n>', 'ĠĠĠ', 'Ġorg', '.', 'my', 'cat', '.', 'net', 'ty', '.', 'm', 'ys', 'ql', '.', 'M', 'y', 'SQL', 'Hand', 'shake', 'Handler', '.', 'logger', '.', 'debug', '<(>', '\"', 'success', 'Ġinfo', 'Ġ', '<return>', 'Ġ', '<for>', 'm', 'ĠM', 'y', 'SQL', 'Hand', 'shake', 'Handler', '\"', '<)>', '<;>', '<n>', 'ĠĠĠ', 'Ġio', '.', 'net', 'ty', '.', 'buffer', '.', 'Byte', 'Buf', 'Ġout', 'Ġ', '<=>', 'Ġchannel', '.', 'al', 'loc', '<(>', '<)>', '.', 'buffer', '<(>', '<)>', '<;>', '<n>', 'ĠĠĠ', 'Ġorg', '.', 'my', 'cat', '.', 'net', 'ty', '.', 'm', 'ys', 'ql', '.', 'OK', 'Ġok', 'Ġ', '<=>', 'Ġ', '<new>', 'Ġorg', '.', 'my', 'cat', '.', 'net', 'ty', '.', 'm', 'ys', 'ql', '.', 'OK', '<(>', '<)>', '<;>', '<n>', 'ĠĠĠ', 'Ġok', '.', 'sequence', 'Id', 'Ġ', '<=>', 'Ġ2', '<;>', '<n>', 'ĠĠĠ', 'Ġok', '.', 'setStatus', 'Flag', '<(>', 'Flags', '.', 'SERVER', '_', 'STATUS', '_', 'AUT', 'O', 'COMMIT', '<)>', '<;>', '<n>', 'ĠĠĠ', 'Ġout', '.', 'write', 'Bytes', '<(>', 'ok', '.', 'to', 'Packet', '<(>', '<)>', '<)>', '<;>', '<n>', 'ĠĠĠ', 'Ġchannel', '.', 'write', 'And', 'Flush', '<(>', 'out', '<)>', '<;>', '<n>', '<}>']\n"
     ]
    }
   ],
   "source": [
    "input_ids = class_tokenize.tokenizeHF( method = code[0] )\n",
    "#input_ids = input_ids['input_ids']\n",
    "logging.info(input_ids)\n",
    "#logging.info(input_ids.num_tokens)\n",
    "logging.info(input_ids.ids)\n",
    "logging.info(len(input_ids.ids))\n",
    "logging.info(input_ids.tokens)"
   ]
  },
  {
   "cell_type": "code",
   "execution_count": null,
   "metadata": {},
   "outputs": [
    {
     "data": {
      "text/plain": [
       "'<sos><private> <void> handleConnectRequest<(>com.assistant.connection.ConnectionManager.ConnectRequest request<)> <{><n>    com.assistant.utils.Log.d<(>com.assistant.connection.ConnectionManager.TAG, <(>\"handleConnectRequest, request<:>\" <+> request<)><)><;><n>    <if> <(>mStopped<)> <{><n>        com.assistant.utils.Log.d<(>com.assistant.connection.ConnectionManager.TAG, \"handleConnectRequest, mStopped is <true>\"<)><;><n>        removeConnectRequest<(>request.connId<)><;><n>        not<if>yConnectionCreationResult<(><null>, request.listener, <true>, Connection.CONNECTION_REASON_CODE_CONNECT_REQUEST_CANCELED<)><;><n>        <return> <;><n>    <}><n>    connectToInternal<(>request.ipAddress, request.port, request.listener, request<)><;><n><}>'"
      ]
     },
     "execution_count": null,
     "metadata": {},
     "output_type": "execute_result"
    }
   ],
   "source": [
    "class_tokenize.decodingHF( input_ids.ids )"
   ]
  },
  {
   "cell_type": "markdown",
   "metadata": {},
   "source": [
    "### Generating the covariate column in the dataset\n",
    "- For bootstrapping please follow [link](https://towardsdatascience.com/calculating-confidence-interval-with-bootstrapping-872c657c058d)\n",
    "- For confidence intervals follow [link](https://www.statology.org/confidence-intervals-python/)"
   ]
  },
  {
   "cell_type": "code",
   "execution_count": 19,
   "metadata": {},
   "outputs": [],
   "source": [
    "#export\n",
    "def method_size( method, class_tkz ):\n",
    "    '''Return the size of the tokens for a give method based on id'''\n",
    "    input_ids = class_tkz.tokenizeHF( method = method )\n",
    "    return len(input_ids.ids)"
   ]
  },
  {
   "cell_type": "code",
   "execution_count": null,
   "metadata": {},
   "outputs": [],
   "source": [
    "z_count_subwords = [method_size( class_tkz = class_tokenize, method = mtd )  for mtd in df_cross['code'].values] #using df_cross"
   ]
  },
  {
   "cell_type": "code",
   "execution_count": null,
   "metadata": {},
   "outputs": [],
   "source": [
    "#Attaching new column\n",
    "df_error_tax['z_count_subwords'] = z_count_subwords\n",
    "df_cross['z_count_subwords'] = z_count_subwords"
   ]
  },
  {
   "cell_type": "code",
   "execution_count": null,
   "metadata": {},
   "outputs": [],
   "source": [
    "df_error_tax.to_json(params['output'] / 'bug_fix_error_taxonomy_z_v1.jsonl', orient=\"records\", lines=True)\n",
    "df_cross.to_json(params['output'] / 'bug_fix_cross_entropy_z_v1.jsonl', orient=\"records\", lines=True)"
   ]
  },
  {
   "cell_type": "code",
   "execution_count": 20,
   "metadata": {},
   "outputs": [],
   "source": [
    "#export\n",
    "def bootstrapping( np_data, np_func, size):\n",
    "    \"\"\"Create a bootstrap sample given data and a function\n",
    "    For instance, a bootstrap sample of means, or mediands. \n",
    "    The bootstrap replicates are a long as the original size\n",
    "    we can choose any observation more than once (resampling with replacement:np.random.choice)\n",
    "    \"\"\"\n",
    "    \n",
    "    #The size of the bootstrap replicate is as big as size\n",
    "    #Creating the boostrap replicates as long as the orignal data size\n",
    "    bootstrap_repl = [ np_func( np.random.choice( np_data, size=len(np_data) ) ) for i in range(size) ]\n",
    "    \n",
    "    logging.info(\"Empirical Mean: \" + str(np.mean(np_data))) #Empirical Mean\n",
    "    logging.info( \"Bootstrapped Mean: \" + str( np.mean(bootstrap_repl) ) ) #Bootstrapped Mean\n",
    "    \n",
    "    return pd.DataFrame(bootstrap_repl, columns = ['bootstrap_repl'])"
   ]
  },
  {
   "cell_type": "code",
   "execution_count": null,
   "metadata": {},
   "outputs": [
    {
     "name": "stderr",
     "output_type": "stream",
     "text": [
      "2021-06-30 17:50:24,875 : INFO : Empirical Mean: 4.375\n",
      "2021-06-30 17:50:24,875 : INFO : Bootstrapped Mean: 4.39875\n"
     ]
    }
   ],
   "source": [
    "np_data = [2,3,4,5,6,7,8,0]\n",
    "np_boots = bootstrapping( np_data, np.mean, 100)"
   ]
  },
  {
   "cell_type": "code",
   "execution_count": null,
   "metadata": {},
   "outputs": [
    {
     "data": {
      "text/plain": [
       "0.9437293044088436"
      ]
     },
     "execution_count": null,
     "metadata": {},
     "output_type": "execute_result"
    }
   ],
   "source": [
    "st.sem(np_data)"
   ]
  },
  {
   "cell_type": "code",
   "execution_count": 21,
   "metadata": {},
   "outputs": [],
   "source": [
    "#export\n",
    "def confidence_intervals(np_data, conf=0.95):\n",
    "    \"\"\"Confidence Intervals with Gaussian Distribution (n>=30)\"\"\"\n",
    "    CI = st.norm.interval(alpha=conf, loc = np.mean( np_data ), scale = st.sem(np_data))\n",
    "    logging.info( CI )\n",
    "    return CI"
   ]
  },
  {
   "cell_type": "code",
   "execution_count": null,
   "metadata": {},
   "outputs": [
    {
     "name": "stderr",
     "output_type": "stream",
     "text": [
      "2021-06-30 17:50:27,122 : INFO : (4.236137858789555, 4.561362141210444)\n",
      "2021-06-30 17:50:27,124 : INFO : (array([4.18504142]), array([4.61245858]))\n"
     ]
    },
    {
     "data": {
      "text/plain": [
       "(array([4.18504142]), array([4.61245858]))"
      ]
     },
     "execution_count": null,
     "metadata": {},
     "output_type": "execute_result"
    }
   ],
   "source": [
    "confidence_intervals(np_boots.bootstrap_repl.values)\n",
    "confidence_intervals(np_boots,conf=0.99)"
   ]
  },
  {
   "cell_type": "markdown",
   "metadata": {},
   "source": [
    "## Descriptive Statistics for first covariate (z_count_subwords)"
   ]
  },
  {
   "cell_type": "code",
   "execution_count": 22,
   "metadata": {},
   "outputs": [],
   "source": [
    "# Configuration for Second Covariate Analysis\n",
    "def params1():\n",
    "    return {\n",
    "        'tokenizer':dvc_path / 'models/bpe/tokenizer-java-v1.json',\n",
    "        'tb_01':dvc_path / 'nbs/nbs_experiments/results/analyses/rnn_layers1_vocab10000_embed256_units1024/bug_fix_error_taxonomy_z_v0.jsonl',\n",
    "        'tb_02':dvc_path / 'nbs/nbs_experiments/results/analyses/rnn_layers1_vocab10000_embed256_units1024/bug_fix_cross_entropy_z_v0.jsonl',\n",
    "        'output': dvc_path / 'nbs/nbs_experiments/results/analyses/rnn_layers1_vocab10000_embed256_units1024/',\n",
    "        'ck_jar_path': dvc_path / 'nbs/tools/ck-metrics.jar',\n",
    "        'physical_files_path': dvc_path/'nbs/nbs_experiments/results/analyses/rnn_layers1_vocab10000_embed256_units1024/test_metrics'\n",
    "    }"
   ]
  },
  {
   "cell_type": "code",
   "execution_count": 23,
   "metadata": {},
   "outputs": [],
   "source": [
    "params1 = params1()"
   ]
  },
  {
   "cell_type": "code",
   "execution_count": 24,
   "metadata": {},
   "outputs": [],
   "source": [
    "df_cross_v0 = pd.read_json(params1['tb_02'], orient=\"records\", lines=True)\n",
    "df_error_tax_v0 = pd.read_json(params1['tb_01'], orient=\"records\", lines=True)"
   ]
  },
  {
   "cell_type": "code",
   "execution_count": 25,
   "metadata": {},
   "outputs": [
    {
     "data": {
      "text/html": [
       "<div>\n",
       "<style scoped>\n",
       "    .dataframe tbody tr th:only-of-type {\n",
       "        vertical-align: middle;\n",
       "    }\n",
       "\n",
       "    .dataframe tbody tr th {\n",
       "        vertical-align: top;\n",
       "    }\n",
       "\n",
       "    .dataframe thead th {\n",
       "        text-align: right;\n",
       "    }\n",
       "</style>\n",
       "<table border=\"1\" class=\"dataframe\">\n",
       "  <thead>\n",
       "    <tr style=\"text-align: right;\">\n",
       "      <th></th>\n",
       "      <th>y_blocks</th>\n",
       "      <th>y_exceptions</th>\n",
       "      <th>y_oop</th>\n",
       "      <th>y_tests</th>\n",
       "      <th>y_declarations</th>\n",
       "      <th>y_conditionals</th>\n",
       "      <th>y_loops</th>\n",
       "      <th>y_operators</th>\n",
       "      <th>y_datatypes</th>\n",
       "      <th>y_extra_tokens</th>\n",
       "      <th>original_code</th>\n",
       "      <th>transformed_code</th>\n",
       "      <th>x_treatment</th>\n",
       "      <th>z_count_subwords</th>\n",
       "    </tr>\n",
       "  </thead>\n",
       "  <tbody>\n",
       "    <tr>\n",
       "      <th>0</th>\n",
       "      <td>0.016686</td>\n",
       "      <td>NaN</td>\n",
       "      <td>0.000009</td>\n",
       "      <td>NaN</td>\n",
       "      <td>3.518000e-07</td>\n",
       "      <td>NaN</td>\n",
       "      <td>NaN</td>\n",
       "      <td>0.000316</td>\n",
       "      <td>NaN</td>\n",
       "      <td>0.189851</td>\n",
       "      <td>private void success(io.netty.channel.Channel ...</td>\n",
       "      <td>&lt;private&gt; &lt;void&gt; success&lt;(&gt;io.netty.channel.Ch...</td>\n",
       "      <td>False</td>\n",
       "      <td>177</td>\n",
       "    </tr>\n",
       "  </tbody>\n",
       "</table>\n",
       "</div>"
      ],
      "text/plain": [
       "   y_blocks  y_exceptions     y_oop  y_tests  y_declarations  y_conditionals  \\\n",
       "0  0.016686           NaN  0.000009      NaN    3.518000e-07             NaN   \n",
       "\n",
       "   y_loops  y_operators  y_datatypes  y_extra_tokens  \\\n",
       "0      NaN     0.000316          NaN        0.189851   \n",
       "\n",
       "                                       original_code  \\\n",
       "0  private void success(io.netty.channel.Channel ...   \n",
       "\n",
       "                                    transformed_code  x_treatment  \\\n",
       "0  <private> <void> success<(>io.netty.channel.Ch...        False   \n",
       "\n",
       "   z_count_subwords  \n",
       "0               177  "
      ]
     },
     "execution_count": 25,
     "metadata": {},
     "output_type": "execute_result"
    }
   ],
   "source": [
    "df_error_tax_v0.head(1)"
   ]
  },
  {
   "cell_type": "code",
   "execution_count": 26,
   "metadata": {},
   "outputs": [
    {
     "data": {
      "text/html": [
       "<div>\n",
       "<style scoped>\n",
       "    .dataframe tbody tr th:only-of-type {\n",
       "        vertical-align: middle;\n",
       "    }\n",
       "\n",
       "    .dataframe tbody tr th {\n",
       "        vertical-align: top;\n",
       "    }\n",
       "\n",
       "    .dataframe thead th {\n",
       "        text-align: right;\n",
       "    }\n",
       "</style>\n",
       "<table border=\"1\" class=\"dataframe\">\n",
       "  <thead>\n",
       "    <tr style=\"text-align: right;\">\n",
       "      <th></th>\n",
       "      <th>transformed_code</th>\n",
       "      <th>y_cross_entropy</th>\n",
       "      <th>x_treatment</th>\n",
       "      <th>original_code</th>\n",
       "      <th>z_count_subwords</th>\n",
       "    </tr>\n",
       "  </thead>\n",
       "  <tbody>\n",
       "    <tr>\n",
       "      <th>0</th>\n",
       "      <td>&lt;private&gt; &lt;void&gt; success&lt;(&gt;io.netty.channel.Ch...</td>\n",
       "      <td>6.006</td>\n",
       "      <td>False</td>\n",
       "      <td>private void success(io.netty.channel.Channel ...</td>\n",
       "      <td>177</td>\n",
       "    </tr>\n",
       "  </tbody>\n",
       "</table>\n",
       "</div>"
      ],
      "text/plain": [
       "                                    transformed_code  y_cross_entropy  \\\n",
       "0  <private> <void> success<(>io.netty.channel.Ch...            6.006   \n",
       "\n",
       "   x_treatment                                      original_code  \\\n",
       "0        False  private void success(io.netty.channel.Channel ...   \n",
       "\n",
       "   z_count_subwords  \n",
       "0               177  "
      ]
     },
     "execution_count": 26,
     "metadata": {},
     "output_type": "execute_result"
    }
   ],
   "source": [
    "df_cross_v0.round(3).head(1)"
   ]
  },
  {
   "cell_type": "code",
   "execution_count": 27,
   "metadata": {},
   "outputs": [
    {
     "data": {
      "text/html": [
       "<div>\n",
       "<style scoped>\n",
       "    .dataframe tbody tr th:only-of-type {\n",
       "        vertical-align: middle;\n",
       "    }\n",
       "\n",
       "    .dataframe tbody tr th {\n",
       "        vertical-align: top;\n",
       "    }\n",
       "\n",
       "    .dataframe thead th {\n",
       "        text-align: right;\n",
       "    }\n",
       "</style>\n",
       "<table border=\"1\" class=\"dataframe\">\n",
       "  <thead>\n",
       "    <tr style=\"text-align: right;\">\n",
       "      <th></th>\n",
       "      <th>y_blocks</th>\n",
       "      <th>y_exceptions</th>\n",
       "      <th>y_oop</th>\n",
       "      <th>y_tests</th>\n",
       "      <th>y_declarations</th>\n",
       "      <th>y_conditionals</th>\n",
       "      <th>y_loops</th>\n",
       "      <th>y_operators</th>\n",
       "      <th>y_datatypes</th>\n",
       "      <th>y_extra_tokens</th>\n",
       "      <th>z_count_subwords</th>\n",
       "    </tr>\n",
       "  </thead>\n",
       "  <tbody>\n",
       "    <tr>\n",
       "      <th>count</th>\n",
       "      <td>129444.000000</td>\n",
       "      <td>3.237900e+04</td>\n",
       "      <td>1.280570e+05</td>\n",
       "      <td>7.080000e+02</td>\n",
       "      <td>8.949200e+04</td>\n",
       "      <td>7.478600e+04</td>\n",
       "      <td>3.163100e+04</td>\n",
       "      <td>1.238690e+05</td>\n",
       "      <td>5.470000e+04</td>\n",
       "      <td>129435.000000</td>\n",
       "      <td>129444.000000</td>\n",
       "    </tr>\n",
       "    <tr>\n",
       "      <th>mean</th>\n",
       "      <td>0.027398</td>\n",
       "      <td>6.619357e-06</td>\n",
       "      <td>1.560847e-03</td>\n",
       "      <td>2.682235e-06</td>\n",
       "      <td>7.849119e-07</td>\n",
       "      <td>1.756289e-05</td>\n",
       "      <td>2.001032e-05</td>\n",
       "      <td>2.942739e-03</td>\n",
       "      <td>1.386176e-05</td>\n",
       "      <td>0.138973</td>\n",
       "      <td>185.407628</td>\n",
       "    </tr>\n",
       "    <tr>\n",
       "      <th>std</th>\n",
       "      <td>0.018042</td>\n",
       "      <td>1.147974e-05</td>\n",
       "      <td>3.662612e-03</td>\n",
       "      <td>1.730872e-06</td>\n",
       "      <td>9.729956e-06</td>\n",
       "      <td>1.632367e-05</td>\n",
       "      <td>7.926272e-05</td>\n",
       "      <td>1.205765e-02</td>\n",
       "      <td>3.451656e-05</td>\n",
       "      <td>0.041075</td>\n",
       "      <td>64.357274</td>\n",
       "    </tr>\n",
       "    <tr>\n",
       "      <th>min</th>\n",
       "      <td>0.000492</td>\n",
       "      <td>1.300000e-09</td>\n",
       "      <td>8.000000e-10</td>\n",
       "      <td>1.842000e-07</td>\n",
       "      <td>4.300000e-09</td>\n",
       "      <td>2.500000e-09</td>\n",
       "      <td>7.630000e-08</td>\n",
       "      <td>1.400000e-09</td>\n",
       "      <td>2.400000e-09</td>\n",
       "      <td>0.000181</td>\n",
       "      <td>68.000000</td>\n",
       "    </tr>\n",
       "    <tr>\n",
       "      <th>25%</th>\n",
       "      <td>0.013624</td>\n",
       "      <td>8.082000e-07</td>\n",
       "      <td>8.300000e-08</td>\n",
       "      <td>1.641200e-06</td>\n",
       "      <td>1.819000e-07</td>\n",
       "      <td>7.591900e-06</td>\n",
       "      <td>4.239600e-06</td>\n",
       "      <td>1.492274e-04</td>\n",
       "      <td>8.347000e-07</td>\n",
       "      <td>0.111008</td>\n",
       "      <td>143.000000</td>\n",
       "    </tr>\n",
       "    <tr>\n",
       "      <th>50%</th>\n",
       "      <td>0.024140</td>\n",
       "      <td>1.648700e-06</td>\n",
       "      <td>8.668500e-06</td>\n",
       "      <td>2.242750e-06</td>\n",
       "      <td>3.461000e-07</td>\n",
       "      <td>1.201850e-05</td>\n",
       "      <td>9.298200e-06</td>\n",
       "      <td>3.664036e-04</td>\n",
       "      <td>3.514200e-06</td>\n",
       "      <td>0.137228</td>\n",
       "      <td>176.000000</td>\n",
       "    </tr>\n",
       "    <tr>\n",
       "      <th>75%</th>\n",
       "      <td>0.037357</td>\n",
       "      <td>8.043200e-06</td>\n",
       "      <td>1.417618e-03</td>\n",
       "      <td>3.153475e-06</td>\n",
       "      <td>4.551000e-07</td>\n",
       "      <td>2.195810e-05</td>\n",
       "      <td>1.711530e-05</td>\n",
       "      <td>1.072184e-03</td>\n",
       "      <td>1.234690e-05</td>\n",
       "      <td>0.164987</td>\n",
       "      <td>216.000000</td>\n",
       "    </tr>\n",
       "    <tr>\n",
       "      <th>max</th>\n",
       "      <td>0.180986</td>\n",
       "      <td>2.466836e-04</td>\n",
       "      <td>1.678386e-01</td>\n",
       "      <td>1.249600e-05</td>\n",
       "      <td>1.013232e-03</td>\n",
       "      <td>5.137535e-04</td>\n",
       "      <td>8.033565e-03</td>\n",
       "      <td>4.924544e-01</td>\n",
       "      <td>1.900545e-03</td>\n",
       "      <td>0.369389</td>\n",
       "      <td>4465.000000</td>\n",
       "    </tr>\n",
       "  </tbody>\n",
       "</table>\n",
       "</div>"
      ],
      "text/plain": [
       "            y_blocks  y_exceptions         y_oop       y_tests  \\\n",
       "count  129444.000000  3.237900e+04  1.280570e+05  7.080000e+02   \n",
       "mean        0.027398  6.619357e-06  1.560847e-03  2.682235e-06   \n",
       "std         0.018042  1.147974e-05  3.662612e-03  1.730872e-06   \n",
       "min         0.000492  1.300000e-09  8.000000e-10  1.842000e-07   \n",
       "25%         0.013624  8.082000e-07  8.300000e-08  1.641200e-06   \n",
       "50%         0.024140  1.648700e-06  8.668500e-06  2.242750e-06   \n",
       "75%         0.037357  8.043200e-06  1.417618e-03  3.153475e-06   \n",
       "max         0.180986  2.466836e-04  1.678386e-01  1.249600e-05   \n",
       "\n",
       "       y_declarations  y_conditionals       y_loops   y_operators  \\\n",
       "count    8.949200e+04    7.478600e+04  3.163100e+04  1.238690e+05   \n",
       "mean     7.849119e-07    1.756289e-05  2.001032e-05  2.942739e-03   \n",
       "std      9.729956e-06    1.632367e-05  7.926272e-05  1.205765e-02   \n",
       "min      4.300000e-09    2.500000e-09  7.630000e-08  1.400000e-09   \n",
       "25%      1.819000e-07    7.591900e-06  4.239600e-06  1.492274e-04   \n",
       "50%      3.461000e-07    1.201850e-05  9.298200e-06  3.664036e-04   \n",
       "75%      4.551000e-07    2.195810e-05  1.711530e-05  1.072184e-03   \n",
       "max      1.013232e-03    5.137535e-04  8.033565e-03  4.924544e-01   \n",
       "\n",
       "        y_datatypes  y_extra_tokens  z_count_subwords  \n",
       "count  5.470000e+04   129435.000000     129444.000000  \n",
       "mean   1.386176e-05        0.138973        185.407628  \n",
       "std    3.451656e-05        0.041075         64.357274  \n",
       "min    2.400000e-09        0.000181         68.000000  \n",
       "25%    8.347000e-07        0.111008        143.000000  \n",
       "50%    3.514200e-06        0.137228        176.000000  \n",
       "75%    1.234690e-05        0.164987        216.000000  \n",
       "max    1.900545e-03        0.369389       4465.000000  "
      ]
     },
     "execution_count": 27,
     "metadata": {},
     "output_type": "execute_result"
    }
   ],
   "source": [
    "df_error_tax_v0.describe()"
   ]
  },
  {
   "cell_type": "code",
   "execution_count": 31,
   "metadata": {},
   "outputs": [
    {
     "data": {
      "text/html": [
       "<div>\n",
       "<style scoped>\n",
       "    .dataframe tbody tr th:only-of-type {\n",
       "        vertical-align: middle;\n",
       "    }\n",
       "\n",
       "    .dataframe tbody tr th {\n",
       "        vertical-align: top;\n",
       "    }\n",
       "\n",
       "    .dataframe thead th {\n",
       "        text-align: right;\n",
       "    }\n",
       "</style>\n",
       "<table border=\"1\" class=\"dataframe\">\n",
       "  <thead>\n",
       "    <tr style=\"text-align: right;\">\n",
       "      <th></th>\n",
       "      <th>y_cross_entropy</th>\n",
       "      <th>z_count_subwords</th>\n",
       "    </tr>\n",
       "  </thead>\n",
       "  <tbody>\n",
       "    <tr>\n",
       "      <th>count</th>\n",
       "      <td>129444.000</td>\n",
       "      <td>129444.000</td>\n",
       "    </tr>\n",
       "    <tr>\n",
       "      <th>mean</th>\n",
       "      <td>6.143</td>\n",
       "      <td>185.408</td>\n",
       "    </tr>\n",
       "    <tr>\n",
       "      <th>std</th>\n",
       "      <td>1.511</td>\n",
       "      <td>64.357</td>\n",
       "    </tr>\n",
       "    <tr>\n",
       "      <th>min</th>\n",
       "      <td>2.066</td>\n",
       "      <td>68.000</td>\n",
       "    </tr>\n",
       "    <tr>\n",
       "      <th>25%</th>\n",
       "      <td>5.039</td>\n",
       "      <td>143.000</td>\n",
       "    </tr>\n",
       "    <tr>\n",
       "      <th>50%</th>\n",
       "      <td>5.983</td>\n",
       "      <td>176.000</td>\n",
       "    </tr>\n",
       "    <tr>\n",
       "      <th>75%</th>\n",
       "      <td>7.085</td>\n",
       "      <td>216.000</td>\n",
       "    </tr>\n",
       "    <tr>\n",
       "      <th>max</th>\n",
       "      <td>12.283</td>\n",
       "      <td>4465.000</td>\n",
       "    </tr>\n",
       "  </tbody>\n",
       "</table>\n",
       "</div>"
      ],
      "text/plain": [
       "       y_cross_entropy  z_count_subwords\n",
       "count       129444.000        129444.000\n",
       "mean             6.143           185.408\n",
       "std              1.511            64.357\n",
       "min              2.066            68.000\n",
       "25%              5.039           143.000\n",
       "50%              5.983           176.000\n",
       "75%              7.085           216.000\n",
       "max             12.283          4465.000"
      ]
     },
     "execution_count": 31,
     "metadata": {},
     "output_type": "execute_result"
    }
   ],
   "source": [
    "df_cross_v0.describe().round(3)"
   ]
  },
  {
   "cell_type": "code",
   "execution_count": 32,
   "metadata": {},
   "outputs": [
    {
     "data": {
      "text/plain": [
       "<AxesSubplot:title={'center':'z_count_subwords'}, xlabel='[x_treatment]'>"
      ]
     },
     "execution_count": 32,
     "metadata": {},
     "output_type": "execute_result"
    },
    {
     "data": {
      "image/png": "[encoded data removed]",
      "text/plain": [
       "<Figure size 432x288 with 1 Axes>"
      ]
     },
     "metadata": {
      "needs_background": "light"
     },
     "output_type": "display_data"
    }
   ],
   "source": [
    "#first covariate by treatment\n",
    "df_cross_v0[['z_count_subwords','x_treatment']].boxplot( \n",
    "    by='x_treatment',\n",
    "    showfliers=False,\n",
    ")"
   ]
  },
  {
   "cell_type": "markdown",
   "metadata": {},
   "source": [
    "### Correlation Analysis Entropy"
   ]
  },
  {
   "cell_type": "code",
   "execution_count": 33,
   "metadata": {},
   "outputs": [],
   "source": [
    "LIM = 500\n",
    "S = 2"
   ]
  },
  {
   "cell_type": "code",
   "execution_count": 34,
   "metadata": {},
   "outputs": [],
   "source": [
    "df_buggy_cross_v0 = df_cross_v0.loc[lambda row: row['x_treatment'] == True  ].copy()\n",
    "df_nonbuggy_cross_v0 = df_cross_v0.loc[lambda row: row['x_treatment'] == False  ].copy()"
   ]
  },
  {
   "cell_type": "code",
   "execution_count": 35,
   "metadata": {},
   "outputs": [
    {
     "data": {
      "text/html": [
       "<div>\n",
       "<style scoped>\n",
       "    .dataframe tbody tr th:only-of-type {\n",
       "        vertical-align: middle;\n",
       "    }\n",
       "\n",
       "    .dataframe tbody tr th {\n",
       "        vertical-align: top;\n",
       "    }\n",
       "\n",
       "    .dataframe thead th {\n",
       "        text-align: right;\n",
       "    }\n",
       "</style>\n",
       "<table border=\"1\" class=\"dataframe\">\n",
       "  <thead>\n",
       "    <tr style=\"text-align: right;\">\n",
       "      <th></th>\n",
       "      <th>y_cross_entropy</th>\n",
       "      <th>z_count_subwords</th>\n",
       "    </tr>\n",
       "  </thead>\n",
       "  <tbody>\n",
       "    <tr>\n",
       "      <th>count</th>\n",
       "      <td>64722.000000</td>\n",
       "      <td>64722.000000</td>\n",
       "    </tr>\n",
       "    <tr>\n",
       "      <th>mean</th>\n",
       "      <td>6.148851</td>\n",
       "      <td>185.643460</td>\n",
       "    </tr>\n",
       "    <tr>\n",
       "      <th>std</th>\n",
       "      <td>1.513355</td>\n",
       "      <td>64.668787</td>\n",
       "    </tr>\n",
       "    <tr>\n",
       "      <th>min</th>\n",
       "      <td>2.118368</td>\n",
       "      <td>68.000000</td>\n",
       "    </tr>\n",
       "    <tr>\n",
       "      <th>25%</th>\n",
       "      <td>5.047101</td>\n",
       "      <td>143.000000</td>\n",
       "    </tr>\n",
       "    <tr>\n",
       "      <th>50%</th>\n",
       "      <td>5.987264</td>\n",
       "      <td>176.000000</td>\n",
       "    </tr>\n",
       "    <tr>\n",
       "      <th>75%</th>\n",
       "      <td>7.099688</td>\n",
       "      <td>216.000000</td>\n",
       "    </tr>\n",
       "    <tr>\n",
       "      <th>max</th>\n",
       "      <td>12.283474</td>\n",
       "      <td>4448.000000</td>\n",
       "    </tr>\n",
       "  </tbody>\n",
       "</table>\n",
       "</div>"
      ],
      "text/plain": [
       "       y_cross_entropy  z_count_subwords\n",
       "count     64722.000000      64722.000000\n",
       "mean          6.148851        185.643460\n",
       "std           1.513355         64.668787\n",
       "min           2.118368         68.000000\n",
       "25%           5.047101        143.000000\n",
       "50%           5.987264        176.000000\n",
       "75%           7.099688        216.000000\n",
       "max          12.283474       4448.000000"
      ]
     },
     "execution_count": 35,
     "metadata": {},
     "output_type": "execute_result"
    }
   ],
   "source": [
    "df_nonbuggy_cross_v0.describe()"
   ]
  },
  {
   "cell_type": "code",
   "execution_count": 36,
   "metadata": {},
   "outputs": [
    {
     "data": {
      "text/plain": [
       "<AxesSubplot:xlabel='z_count_subwords', ylabel='y_cross_entropy'>"
      ]
     },
     "execution_count": 36,
     "metadata": {},
     "output_type": "execute_result"
    },
    {
     "data": {
      "image/png": "[encoded data removed]",
      "text/plain": [
       "<Figure size 432x288 with 1 Axes>"
      ]
     },
     "metadata": {
      "needs_background": "light"
     },
     "output_type": "display_data"
    }
   ],
   "source": [
    "ax = df_buggy_cross_v0.plot.scatter(x=\"z_count_subwords\", y=\"y_cross_entropy\", s=S, color=\"DarkBlue\", label=\"Buggy\")\n",
    "df_nonbuggy_cross_v0.plot.scatter(x=\"z_count_subwords\", y=\"y_cross_entropy\", s= S,color=\"Green\", label=\"non-Buggy\", alpha=0.3, ax=ax)"
   ]
  },
  {
   "cell_type": "code",
   "execution_count": 37,
   "metadata": {},
   "outputs": [],
   "source": [
    "def corrcoef(v,w):\n",
    "    x = np.corrcoef(v,w)\n",
    "    x = np.round(x[0][1],3)\n",
    "    return x"
   ]
  },
  {
   "cell_type": "code",
   "execution_count": 38,
   "metadata": {},
   "outputs": [
    {
     "data": {
      "text/plain": [
       "0.87"
      ]
     },
     "execution_count": 38,
     "metadata": {},
     "output_type": "execute_result"
    }
   ],
   "source": [
    "#General Correlation\n",
    "corrcoef(df_cross_v0.y_cross_entropy.values,df_cross_v0.z_count_subwords.values)"
   ]
  },
  {
   "cell_type": "code",
   "execution_count": 39,
   "metadata": {},
   "outputs": [
    {
     "data": {
      "text/plain": [
       "0.873"
      ]
     },
     "execution_count": 39,
     "metadata": {},
     "output_type": "execute_result"
    }
   ],
   "source": [
    "#Buggy Correlation\n",
    "corrcoef(df_buggy_cross_v0.y_cross_entropy.values, df_buggy_cross_v0.z_count_subwords.values)"
   ]
  },
  {
   "cell_type": "code",
   "execution_count": 40,
   "metadata": {},
   "outputs": [
    {
     "data": {
      "text/plain": [
       "0.867"
      ]
     },
     "execution_count": 40,
     "metadata": {},
     "output_type": "execute_result"
    }
   ],
   "source": [
    "#NonBuggy Correlation\n",
    "corrcoef(df_nonbuggy_cross_v0.y_cross_entropy.values, df_nonbuggy_cross_v0.z_count_subwords.values)"
   ]
  },
  {
   "cell_type": "code",
   "execution_count": 41,
   "metadata": {},
   "outputs": [
    {
     "data": {
      "text/plain": [
       "<AxesSubplot:xlabel='z_count_subwords', ylabel='y_cross_entropy'>"
      ]
     },
     "execution_count": 41,
     "metadata": {},
     "output_type": "execute_result"
    },
    {
     "data": {
      "image/png": "[encoded data removed]",
      "text/plain": [
       "<Figure size 432x288 with 1 Axes>"
      ]
     },
     "metadata": {
      "needs_background": "light"
     },
     "output_type": "display_data"
    }
   ],
   "source": [
    "ax = df_buggy_cross_v0.loc[lambda row: row[\"z_count_subwords\"] < LIM ].plot.scatter(x=\"z_count_subwords\", y=\"y_cross_entropy\", s=S, color=\"DarkBlue\", label=\"Buggy\")\n",
    "df_nonbuggy_cross_v0.loc[lambda row: row[\"z_count_subwords\"] < LIM ].plot.scatter(x=\"z_count_subwords\", y=\"y_cross_entropy\", s=S, color=\"Green\", label=\"non-Buggy\", alpha=0.3, ax=ax)"
   ]
  },
  {
   "cell_type": "markdown",
   "metadata": {},
   "source": [
    "### Correlation Analysis Error Taxonomy"
   ]
  },
  {
   "cell_type": "code",
   "execution_count": 42,
   "metadata": {},
   "outputs": [],
   "source": [
    "taxonomy = ['y_blocks',\n",
    "'y_exceptions','y_oop','y_tests',\n",
    "'y_declarations','y_conditionals','y_loops',\n",
    "'y_operators','y_datatypes','y_extra_tokens']"
   ]
  },
  {
   "cell_type": "code",
   "execution_count": 43,
   "metadata": {},
   "outputs": [],
   "source": [
    "df_buggy_error_tax_v0  = df_error_tax_v0.loc[lambda row: row['x_treatment'] == True  ].copy()\n",
    "df_nonbuggy_error_tax_v0  = df_error_tax_v0.loc[lambda row: row['x_treatment'] == False  ].copy()"
   ]
  },
  {
   "cell_type": "code",
   "execution_count": 172,
   "metadata": {},
   "outputs": [
    {
     "data": {
      "text/plain": [
       "0        NaN\n",
       "1        NaN\n",
       "2        NaN\n",
       "3        NaN\n",
       "4        NaN\n",
       "          ..\n",
       "129435   NaN\n",
       "129438   NaN\n",
       "129439   NaN\n",
       "129440   NaN\n",
       "129441   NaN\n",
       "Name: y_exceptions, Length: 97065, dtype: float64"
      ]
     },
     "execution_count": 172,
     "metadata": {},
     "output_type": "execute_result"
    }
   ],
   "source": [
    "df_error_tax_v0['y_exceptions'][df_error_tax_v0['y_exceptions'].isnull()] #Counting nans"
   ]
  },
  {
   "cell_type": "code",
   "execution_count": 44,
   "metadata": {},
   "outputs": [
    {
     "data": {
      "text/html": [
       "<div>\n",
       "<style scoped>\n",
       "    .dataframe tbody tr th:only-of-type {\n",
       "        vertical-align: middle;\n",
       "    }\n",
       "\n",
       "    .dataframe tbody tr th {\n",
       "        vertical-align: top;\n",
       "    }\n",
       "\n",
       "    .dataframe thead th {\n",
       "        text-align: right;\n",
       "    }\n",
       "</style>\n",
       "<table border=\"1\" class=\"dataframe\">\n",
       "  <thead>\n",
       "    <tr style=\"text-align: right;\">\n",
       "      <th></th>\n",
       "      <th>y_exceptions</th>\n",
       "      <th>z_count_subwords</th>\n",
       "    </tr>\n",
       "  </thead>\n",
       "  <tbody>\n",
       "    <tr>\n",
       "      <th>10</th>\n",
       "      <td>2.952000e-07</td>\n",
       "      <td>142</td>\n",
       "    </tr>\n",
       "    <tr>\n",
       "      <th>11</th>\n",
       "      <td>2.952000e-07</td>\n",
       "      <td>137</td>\n",
       "    </tr>\n",
       "    <tr>\n",
       "      <th>14</th>\n",
       "      <td>9.763000e-07</td>\n",
       "      <td>147</td>\n",
       "    </tr>\n",
       "    <tr>\n",
       "      <th>15</th>\n",
       "      <td>7.271000e-07</td>\n",
       "      <td>142</td>\n",
       "    </tr>\n",
       "    <tr>\n",
       "      <th>26</th>\n",
       "      <td>9.242300e-06</td>\n",
       "      <td>125</td>\n",
       "    </tr>\n",
       "    <tr>\n",
       "      <th>...</th>\n",
       "      <td>...</td>\n",
       "      <td>...</td>\n",
       "    </tr>\n",
       "    <tr>\n",
       "      <th>129429</th>\n",
       "      <td>5.148000e-07</td>\n",
       "      <td>167</td>\n",
       "    </tr>\n",
       "    <tr>\n",
       "      <th>129436</th>\n",
       "      <td>8.380000e-07</td>\n",
       "      <td>137</td>\n",
       "    </tr>\n",
       "    <tr>\n",
       "      <th>129437</th>\n",
       "      <td>8.394000e-07</td>\n",
       "      <td>120</td>\n",
       "    </tr>\n",
       "    <tr>\n",
       "      <th>129442</th>\n",
       "      <td>9.771000e-07</td>\n",
       "      <td>140</td>\n",
       "    </tr>\n",
       "    <tr>\n",
       "      <th>129443</th>\n",
       "      <td>9.960000e-07</td>\n",
       "      <td>142</td>\n",
       "    </tr>\n",
       "  </tbody>\n",
       "</table>\n",
       "<p>32379 rows × 2 columns</p>\n",
       "</div>"
      ],
      "text/plain": [
       "        y_exceptions  z_count_subwords\n",
       "10      2.952000e-07               142\n",
       "11      2.952000e-07               137\n",
       "14      9.763000e-07               147\n",
       "15      7.271000e-07               142\n",
       "26      9.242300e-06               125\n",
       "...              ...               ...\n",
       "129429  5.148000e-07               167\n",
       "129436  8.380000e-07               137\n",
       "129437  8.394000e-07               120\n",
       "129442  9.771000e-07               140\n",
       "129443  9.960000e-07               142\n",
       "\n",
       "[32379 rows x 2 columns]"
      ]
     },
     "execution_count": 44,
     "metadata": {},
     "output_type": "execute_result"
    }
   ],
   "source": [
    "df_error_tax_v0[['y_exceptions','z_count_subwords']].dropna(axis=0, how='any')"
   ]
  },
  {
   "cell_type": "code",
   "execution_count": 44,
   "metadata": {},
   "outputs": [
    {
     "name": "stderr",
     "output_type": "stream",
     "text": [
      "2021-07-06 18:33:11,095 : INFO : y_blocks-0.102\n"
     ]
    }
   ],
   "source": [
    "df_temp = df_error_tax_v0[['y_blocks','z_count_subwords']].dropna(axis=0, how='any')\n",
    "logging.info( 'y_blocks' + str( corrcoef(df_temp['y_blocks'].values, df_temp.z_count_subwords.values) ) )"
   ]
  },
  {
   "cell_type": "code",
   "execution_count": 45,
   "metadata": {},
   "outputs": [
    {
     "name": "stderr",
     "output_type": "stream",
     "text": [
      "2021-07-06 18:33:21,773 : INFO : y_blocks:-0.102\n",
      "2021-07-06 18:33:21,778 : INFO : y_exceptions:0.013\n",
      "2021-07-06 18:33:21,785 : INFO : y_oop:0.029\n",
      "2021-07-06 18:33:21,789 : INFO : y_tests:-0.046\n",
      "2021-07-06 18:33:21,796 : INFO : y_declarations:-0.003\n",
      "2021-07-06 18:33:21,804 : INFO : y_conditionals:0.03\n",
      "2021-07-06 18:33:21,809 : INFO : y_loops:0.1\n",
      "2021-07-06 18:33:21,816 : INFO : y_operators:0.015\n",
      "2021-07-06 18:33:21,821 : INFO : y_datatypes:-0.043\n",
      "2021-07-06 18:33:21,828 : INFO : y_extra_tokens:0.025\n"
     ]
    }
   ],
   "source": [
    "#General Correlation\n",
    "for i in taxonomy:\n",
    "    df_temp = df_error_tax_v0[[i,'z_count_subwords']].dropna(axis=0, how='any')\n",
    "    logging.info( str(i)+':' + str( corrcoef(df_temp[i].values, df_temp.z_count_subwords.values) ) )"
   ]
  },
  {
   "cell_type": "code",
   "execution_count": 46,
   "metadata": {},
   "outputs": [
    {
     "name": "stderr",
     "output_type": "stream",
     "text": [
      "2021-07-06 18:33:22,866 : INFO : y_blocks:-0.103\n",
      "2021-07-06 18:33:22,870 : INFO : y_exceptions:0.013\n",
      "2021-07-06 18:33:22,875 : INFO : y_oop:0.028\n",
      "2021-07-06 18:33:22,878 : INFO : y_tests:-0.047\n",
      "2021-07-06 18:33:22,883 : INFO : y_declarations:-0.004\n",
      "2021-07-06 18:33:22,890 : INFO : y_conditionals:0.026\n",
      "2021-07-06 18:33:22,894 : INFO : y_loops:0.098\n",
      "2021-07-06 18:33:22,898 : INFO : y_operators:0.018\n",
      "2021-07-06 18:33:22,904 : INFO : y_datatypes:-0.044\n",
      "2021-07-06 18:33:22,910 : INFO : y_extra_tokens:0.023\n"
     ]
    }
   ],
   "source": [
    "#Buggy Correlation\n",
    "for i in taxonomy:\n",
    "    df_temp = df_buggy_error_tax_v0[[i,'z_count_subwords']].dropna(axis=0, how='any')\n",
    "    logging.info( str(i)+':' + str( corrcoef(df_temp[i].values, df_temp.z_count_subwords.values) ) )"
   ]
  },
  {
   "cell_type": "code",
   "execution_count": 47,
   "metadata": {},
   "outputs": [
    {
     "name": "stderr",
     "output_type": "stream",
     "text": [
      "2021-07-06 18:33:25,359 : INFO : y_blocks:-0.102\n",
      "2021-07-06 18:33:25,363 : INFO : y_exceptions:0.014\n",
      "2021-07-06 18:33:25,367 : INFO : y_oop:0.029\n",
      "2021-07-06 18:33:25,370 : INFO : y_tests:-0.047\n",
      "2021-07-06 18:33:25,374 : INFO : y_declarations:-0.003\n",
      "2021-07-06 18:33:25,379 : INFO : y_conditionals:0.033\n",
      "2021-07-06 18:33:25,383 : INFO : y_loops:0.101\n",
      "2021-07-06 18:33:25,389 : INFO : y_operators:0.013\n",
      "2021-07-06 18:33:25,394 : INFO : y_datatypes:-0.043\n",
      "2021-07-06 18:33:25,399 : INFO : y_extra_tokens:0.027\n"
     ]
    }
   ],
   "source": [
    "#nonBuggy Correlation\n",
    "for i in taxonomy:\n",
    "    df_temp = df_nonbuggy_error_tax_v0[[i,'z_count_subwords']].dropna(axis=0, how='any')\n",
    "    logging.info( str(i)+':' + str( corrcoef(df_temp[i].values, df_temp.z_count_subwords.values) ) )"
   ]
  },
  {
   "cell_type": "code",
   "execution_count": null,
   "metadata": {},
   "outputs": [
    {
     "data": {
      "text/plain": [
       "0         177\n",
       "1         177\n",
       "2         195\n",
       "3         195\n",
       "4         121\n",
       "         ... \n",
       "129439    196\n",
       "129440    199\n",
       "129441    195\n",
       "129442    140\n",
       "129443    142\n",
       "Name: z_count_subwords, Length: 96787, dtype: int64"
      ]
     },
     "execution_count": null,
     "metadata": {},
     "output_type": "execute_result"
    }
   ],
   "source": [
    "df_cross_v0['z_count_subwords'].loc[lambda row: row < LIM ]"
   ]
  },
  {
   "cell_type": "markdown",
   "metadata": {},
   "source": [
    "### Bootstrapping of Means [z_count_subwords]"
   ]
  },
  {
   "cell_type": "code",
   "execution_count": 48,
   "metadata": {},
   "outputs": [
    {
     "name": "stderr",
     "output_type": "stream",
     "text": [
      "2021-07-06 18:33:40,134 : INFO : Empirical Mean: 185.4076280090232\n",
      "2021-07-06 18:33:40,135 : INFO : Bootstrapped Mean: 185.3918577763357\n"
     ]
    }
   ],
   "source": [
    "bs_cross = bootstrapping( df_cross_v0.z_count_subwords.values , np.mean, 500)"
   ]
  },
  {
   "cell_type": "code",
   "execution_count": 49,
   "metadata": {},
   "outputs": [
    {
     "name": "stderr",
     "output_type": "stream",
     "text": [
      "2021-07-06 18:33:41,942 : INFO : (185.37534785223545, 185.40836770043597)\n"
     ]
    },
    {
     "data": {
      "text/plain": [
       "(185.37534785223545, 185.40836770043597)"
      ]
     },
     "execution_count": 49,
     "metadata": {},
     "output_type": "execute_result"
    }
   ],
   "source": [
    "confidence_intervals( bs_cross.bootstrap_repl.values )"
   ]
  },
  {
   "cell_type": "code",
   "execution_count": 50,
   "metadata": {},
   "outputs": [
    {
     "data": {
      "text/plain": [
       "<AxesSubplot:ylabel='Frequency'>"
      ]
     },
     "execution_count": 50,
     "metadata": {},
     "output_type": "execute_result"
    },
    {
     "data": {
      "image/png": "[encoded data removed]",
      "text/plain": [
       "<Figure size 432x288 with 1 Axes>"
      ]
     },
     "metadata": {
      "needs_background": "light"
     },
     "output_type": "display_data"
    }
   ],
   "source": [
    "bs_cross.plot.hist(alpha=0.5, bins=50)"
   ]
  },
  {
   "cell_type": "markdown",
   "metadata": {},
   "source": [
    "### Empirical PDF and CDF [z_count_subwords]"
   ]
  },
  {
   "cell_type": "code",
   "execution_count": 51,
   "metadata": {},
   "outputs": [
    {
     "data": {
      "text/plain": [
       "<AxesSubplot:ylabel='Frequency'>"
      ]
     },
     "execution_count": 51,
     "metadata": {},
     "output_type": "execute_result"
    },
    {
     "data": {
      "image/png": "[encoded data removed]",
      "text/plain": [
       "<Figure size 432x288 with 1 Axes>"
      ]
     },
     "metadata": {
      "needs_background": "light"
     },
     "output_type": "display_data"
    }
   ],
   "source": [
    "# Empirical PDF or Probability Density Function\n",
    "df_cross_v0['z_count_subwords'].loc[lambda row: row < LIM ].plot.hist(alpha=0.5, bins=50)"
   ]
  },
  {
   "cell_type": "code",
   "execution_count": 52,
   "metadata": {},
   "outputs": [
    {
     "data": {
      "text/plain": [
       "<AxesSubplot:ylabel='Density'>"
      ]
     },
     "execution_count": 52,
     "metadata": {},
     "output_type": "execute_result"
    },
    {
     "data": {
      "image/png": "[encoded data removed]",
      "text/plain": [
       "<Figure size 432x288 with 1 Axes>"
      ]
     },
     "metadata": {
      "needs_background": "light"
     },
     "output_type": "display_data"
    }
   ],
   "source": [
    "# PDF or Probability Density Function\n",
    "df_cross_v0['z_count_subwords'].loc[lambda row: row < LIM ].plot.kde()"
   ]
  },
  {
   "cell_type": "code",
   "execution_count": 53,
   "metadata": {},
   "outputs": [
    {
     "data": {
      "text/plain": [
       "<AxesSubplot:ylabel='Frequency'>"
      ]
     },
     "execution_count": 53,
     "metadata": {},
     "output_type": "execute_result"
    },
    {
     "data": {
      "image/png": "[encoded data removed]",
      "text/plain": [
       "<Figure size 432x288 with 1 Axes>"
      ]
     },
     "metadata": {
      "needs_background": "light"
     },
     "output_type": "display_data"
    }
   ],
   "source": [
    "#Empirical CDF demonstrate that 50% of methods in our sample have around 180 or less tokens. \n",
    "df_cross_v0['z_count_subwords'].loc[lambda row: row < LIM ].plot.hist( \n",
    "    cumulative = True,\n",
    "    density =1,\n",
    "    bins=100\n",
    ")"
   ]
  },
  {
   "cell_type": "markdown",
   "metadata": {},
   "source": [
    "# Second Covariate Analysis: SE Metrics\n",
    "> This module provides a tool for computing metrics (from static analysis) for python source code using Using <a href=\"https://github.com/mauricioaniche/ck\">CK Package</a>\n",
    "\n",
    "CK is a java package (jar) which is going to be executed from terminal. It requires the code which is going to be analyzed to be located at <i>physical</i> files. For that reason, the dataset is going to be used to produce some <i>.java</i> files.\n",
    "\n",
    "Each record, corresponds to a individual class. When working with method-level snippets, \"articial\" classes are created for performing the analysis."
   ]
  },
  {
   "cell_type": "code",
   "execution_count": 54,
   "metadata": {},
   "outputs": [],
   "source": [
    "from subprocess import *\n",
    "import os\n",
    "import shutil"
   ]
  },
  {
   "cell_type": "code",
   "execution_count": 55,
   "metadata": {},
   "outputs": [
    {
     "data": {
      "text/plain": [
       "subprocess.Popen"
      ]
     },
     "execution_count": 55,
     "metadata": {},
     "output_type": "execute_result"
    }
   ],
   "source": [
    "Popen"
   ]
  },
  {
   "cell_type": "code",
   "execution_count": 56,
   "metadata": {},
   "outputs": [],
   "source": [
    "# export\n",
    "def write_dataset_to_files(df_series, destination_path):\n",
    "    \"\"\"\n",
    "    Function to generate .java files.\n",
    "    \n",
    "    Params:\n",
    "    # df_series: Pandas Series (DataFrame column) with the source code records.\n",
    "    # destination_path: (str) Absolute path to be used as directory for the generated files.\n",
    "    \n",
    "    Returns:\n",
    "    \n",
    "    Collection of paths for the corresponding java files.\n",
    "    \n",
    "    \"\"\"\n",
    "    java_template = 'public class <class_name>{\\n    <code_snippet>\\n}'\n",
    "    \n",
    "    if not os.path.exists(destination_path):\n",
    "        logging.info('Creating directory.')\n",
    "        os.mkdir(destination_path)\n",
    "    \n",
    "    logging.info(\"Generating physical .java files.\")\n",
    "    \n",
    "    file_paths = []\n",
    "    for idx, value in df_series.iteritems():\n",
    "        class_name = f'ClassRecord{idx}'\n",
    "        code = java_template.replace('<class_name>', class_name)\n",
    "        code = code.replace('<code_snippet>', value)\n",
    "        file_path = f'{destination_path}/{class_name}.java'\n",
    "        with open(file_path, 'w') as file:\n",
    "            file.write(code)\n",
    "            file_paths.append(file_path)\n",
    "            \n",
    "    return file_paths"
   ]
  },
  {
   "cell_type": "code",
   "execution_count": 57,
   "metadata": {},
   "outputs": [],
   "source": [
    "# export\n",
    "def jarWrapper(*args):\n",
    "    process = Popen(['java', '-jar']+list(args), stdout=PIPE, stderr=PIPE)\n",
    "    ret = []\n",
    "    while process.poll() is None:\n",
    "        line = process.stdout.readline()\n",
    "        if line != '' and line.endswith(b'\\n'):\n",
    "            ret.append(line[:-1])\n",
    "    stdout, stderr = process.communicate()\n",
    "    \n",
    "    ret += stdout.split(b'\\n')\n",
    "    if stderr != '':\n",
    "        ret += stderr.split(b'\\n')\n",
    "        \n",
    "    if '' in ret:\n",
    "        ret.remove('')\n",
    "    return ret"
   ]
  },
  {
   "cell_type": "code",
   "execution_count": 58,
   "metadata": {},
   "outputs": [],
   "source": [
    "# export\n",
    "class JavaAnalyzer():\n",
    "    \"\"\"\n",
    "    Class get metrics f\n",
    "    \"\"\"\n",
    "    def __init__(self, ck_jar_path):\n",
    "        self.ck_jar_path = ck_jar_path\n",
    "    \n",
    "    def compute_metrics(self, df_series, files_destination_path):\n",
    "        \"\"\"\n",
    "        Computes metrics for a pandas series of java source code snippets\n",
    "        \n",
    "        Params\n",
    "        # df_series: Pandas series (df column) containing java source snippets\n",
    "        # files_destination_path: Path indicating where the physical .java files are going to be created (for metrics computation)\n",
    "        \n",
    "        Returns:\n",
    "        \n",
    "        Pandas Dataframe containing metrics\n",
    "        \n",
    "        \"\"\"\n",
    "        file_paths = write_dataset_to_files(df_series, files_destination_path)\n",
    "        self.__call_ck_package(files_destination_path)\n",
    "        metrics_df = self.__get_metrics_df()\n",
    "        self.__remove_csv_files()\n",
    "        self.__remove_tmp_java_files(file_paths)\n",
    "        \n",
    "        return metrics_df\n",
    "        \n",
    "    def __call_ck_package(self, files_path):\n",
    "        \"\"\"\n",
    "        Performs call to external .jar package.\n",
    "        \"\"\"\n",
    "        args = [self.ck_jar_path, files_path, 'false', '0', 'True']\n",
    "        result = jarWrapper(*args)\n",
    "        logging.info(f'CK package produced this output:\\n{result}')\n",
    "        \n",
    "    def __get_metrics_df(self):\n",
    "        \"\"\"\n",
    "        Reads report files (csv) generated by the CK package.\n",
    "        \n",
    "        Returns:\n",
    "        \n",
    "        Pandas Dataframe containing appropriate metrics\n",
    "        \"\"\"\n",
    "        class_metrics_df = pd.read_csv('class.csv')\n",
    "        # method_metrics_df = pd.read_csv('method.csv')\n",
    "\n",
    "        # merged_df = pd.merge(left = class_metrics_df, right = method_metrics_df, left_on='file', right_on='file')\n",
    "\n",
    "        appropriate_columns = ['file','class', 'wmc', 'totalMethodsQty', 'staticMethodsQty', 'publicMethodsQty', 'privateMethodsQty',\n",
    "                          'protectedMethodsQty', 'defaultMethodsQty', 'abstractMethodsQty', 'finalMethodsQty','synchronizedMethodsQty',\n",
    "                          'totalFieldsQty', 'staticFieldsQty', 'publicFieldsQty', 'privateFieldsQty', 'protectedFieldsQty',\n",
    "                          'defaultFieldsQty', 'visibleFieldsQty', 'finalFieldsQty', 'synchronizedFieldsQty',\n",
    "                          'nosi', 'loc', 'returnQty', 'loopQty', 'comparisonsQty', 'tryCatchQty', 'parenthesizedExpsQty',\n",
    "                          'stringLiteralsQty', 'numbersQty', 'assignmentsQty', 'mathOperationsQty', 'variablesQty', 'maxNestedBlocksQty',\n",
    "                          'anonymousClassesQty', 'innerClassesQty', 'lambdasQty', 'uniqueWordsQty', 'modifiers']\n",
    "\n",
    "        class_metrics_df = class_metrics_df[appropriate_columns]\n",
    "\n",
    "        return class_metrics_df\n",
    "    \n",
    "    def __remove_csv_files(self):\n",
    "        \"\"\"\n",
    "        Removes files generated by CK package.\n",
    "        \"\"\"\n",
    "        if os.path.exists('class.csv'):\n",
    "            os.remove('class.csv')\n",
    "        if os.path.exists('method.csv'):\n",
    "            os.remove('method.csv')\n",
    "        if os.path.exists('field.csv'):\n",
    "            os.remove('field.csv')\n",
    "            \n",
    "    def __remove_tmp_java_files(self, paths):\n",
    "        \"\"\"\n",
    "        Removes the temporary generated java files.\n",
    "        \"\"\"\n",
    "        for file_path in paths:\n",
    "            os.remove(file_path)"
   ]
  },
  {
   "cell_type": "code",
   "execution_count": 59,
   "metadata": {},
   "outputs": [],
   "source": [
    "# Configuration for Second Covariate Analysis\n",
    "def params2():\n",
    "    return {\n",
    "        'tokenizer':dvc_path / 'models/bpe/tokenizer-java-v1.json',\n",
    "        'tb_01':dvc_path / 'nbs/nbs_experiments/results/analyses/rnn_layers1_vocab10000_embed256_units1024/bug_fix_error_taxonomy_z_v0.jsonl',\n",
    "        'tb_02':dvc_path / 'nbs/nbs_experiments/results/analyses/rnn_layers1_vocab10000_embed256_units1024/bug_fix_cross_entropy_z_v0.jsonl',\n",
    "        'output': dvc_path / 'nbs/nbs_experiments/results/analyses/rnn_layers1_vocab10000_embed256_units1024/',\n",
    "        'ck_jar_path': dvc_path / 'nbs/tools/ck-metrics.jar',\n",
    "        'physical_files_path': dvc_path/'nbs/nbs_experiments/results/analyses/rnn_layers1_vocab10000_embed256_units1024/test_metrics'\n",
    "    }"
   ]
  },
  {
   "cell_type": "code",
   "execution_count": 60,
   "metadata": {},
   "outputs": [],
   "source": [
    "params2 = params2()"
   ]
  },
  {
   "cell_type": "code",
   "execution_count": 61,
   "metadata": {},
   "outputs": [
    {
     "data": {
      "text/plain": [
       "'../dvc-icodegen/nbs/tools/ck-metrics.jar'"
      ]
     },
     "execution_count": 61,
     "metadata": {},
     "output_type": "execute_result"
    }
   ],
   "source": [
    "str(params2['ck_jar_path'])"
   ]
  },
  {
   "cell_type": "code",
   "execution_count": 63,
   "metadata": {},
   "outputs": [
    {
     "data": {
      "text/plain": [
       "PosixPath('../dvc-icodegen/nbs/tools/ck-metrics.jar')"
      ]
     },
     "execution_count": 63,
     "metadata": {},
     "output_type": "execute_result"
    }
   ],
   "source": [
    "params2['ck_jar_path']"
   ]
  },
  {
   "cell_type": "code",
   "execution_count": 126,
   "metadata": {},
   "outputs": [
    {
     "data": {
      "text/html": [
       "<div>\n",
       "<style scoped>\n",
       "    .dataframe tbody tr th:only-of-type {\n",
       "        vertical-align: middle;\n",
       "    }\n",
       "\n",
       "    .dataframe tbody tr th {\n",
       "        vertical-align: top;\n",
       "    }\n",
       "\n",
       "    .dataframe thead th {\n",
       "        text-align: right;\n",
       "    }\n",
       "</style>\n",
       "<table border=\"1\" class=\"dataframe\">\n",
       "  <thead>\n",
       "    <tr style=\"text-align: right;\">\n",
       "      <th></th>\n",
       "      <th>transformed_code</th>\n",
       "      <th>y_cross_entropy</th>\n",
       "      <th>x_treatment</th>\n",
       "      <th>original_code</th>\n",
       "      <th>z_count_subwords</th>\n",
       "      <th>file</th>\n",
       "    </tr>\n",
       "  </thead>\n",
       "  <tbody>\n",
       "    <tr>\n",
       "      <th>0</th>\n",
       "      <td>&lt;private&gt; &lt;void&gt; success&lt;(&gt;io.netty.channel.Ch...</td>\n",
       "      <td>6.00622</td>\n",
       "      <td>False</td>\n",
       "      <td>private void success(io.netty.channel.Channel ...</td>\n",
       "      <td>177</td>\n",
       "      <td>../dvc-icodegen/nbs/nbs_experiments/results/an...</td>\n",
       "    </tr>\n",
       "  </tbody>\n",
       "</table>\n",
       "</div>"
      ],
      "text/plain": [
       "                                    transformed_code  y_cross_entropy  \\\n",
       "0  <private> <void> success<(>io.netty.channel.Ch...          6.00622   \n",
       "\n",
       "   x_treatment                                      original_code  \\\n",
       "0        False  private void success(io.netty.channel.Channel ...   \n",
       "\n",
       "   z_count_subwords                                               file  \n",
       "0               177  ../dvc-icodegen/nbs/nbs_experiments/results/an...  "
      ]
     },
     "execution_count": 126,
     "metadata": {},
     "output_type": "execute_result"
    }
   ],
   "source": [
    "df_cross_v0.head(1)"
   ]
  },
  {
   "cell_type": "code",
   "execution_count": 65,
   "metadata": {},
   "outputs": [
    {
     "data": {
      "text/html": [
       "<div>\n",
       "<style scoped>\n",
       "    .dataframe tbody tr th:only-of-type {\n",
       "        vertical-align: middle;\n",
       "    }\n",
       "\n",
       "    .dataframe tbody tr th {\n",
       "        vertical-align: top;\n",
       "    }\n",
       "\n",
       "    .dataframe thead th {\n",
       "        text-align: right;\n",
       "    }\n",
       "</style>\n",
       "<table border=\"1\" class=\"dataframe\">\n",
       "  <thead>\n",
       "    <tr style=\"text-align: right;\">\n",
       "      <th></th>\n",
       "      <th>y_blocks</th>\n",
       "      <th>y_exceptions</th>\n",
       "      <th>y_oop</th>\n",
       "      <th>y_tests</th>\n",
       "      <th>y_declarations</th>\n",
       "      <th>y_conditionals</th>\n",
       "      <th>y_loops</th>\n",
       "      <th>y_operators</th>\n",
       "      <th>y_datatypes</th>\n",
       "      <th>y_extra_tokens</th>\n",
       "      <th>original_code</th>\n",
       "      <th>transformed_code</th>\n",
       "      <th>x_treatment</th>\n",
       "      <th>z_count_subwords</th>\n",
       "    </tr>\n",
       "  </thead>\n",
       "  <tbody>\n",
       "    <tr>\n",
       "      <th>0</th>\n",
       "      <td>0.016686</td>\n",
       "      <td>NaN</td>\n",
       "      <td>0.000009</td>\n",
       "      <td>NaN</td>\n",
       "      <td>3.518000e-07</td>\n",
       "      <td>NaN</td>\n",
       "      <td>NaN</td>\n",
       "      <td>0.000316</td>\n",
       "      <td>NaN</td>\n",
       "      <td>0.189851</td>\n",
       "      <td>private void success(io.netty.channel.Channel ...</td>\n",
       "      <td>&lt;private&gt; &lt;void&gt; success&lt;(&gt;io.netty.channel.Ch...</td>\n",
       "      <td>False</td>\n",
       "      <td>177</td>\n",
       "    </tr>\n",
       "  </tbody>\n",
       "</table>\n",
       "</div>"
      ],
      "text/plain": [
       "   y_blocks  y_exceptions     y_oop  y_tests  y_declarations  y_conditionals  \\\n",
       "0  0.016686           NaN  0.000009      NaN    3.518000e-07             NaN   \n",
       "\n",
       "   y_loops  y_operators  y_datatypes  y_extra_tokens  \\\n",
       "0      NaN     0.000316          NaN        0.189851   \n",
       "\n",
       "                                       original_code  \\\n",
       "0  private void success(io.netty.channel.Channel ...   \n",
       "\n",
       "                                    transformed_code  x_treatment  \\\n",
       "0  <private> <void> success<(>io.netty.channel.Ch...        False   \n",
       "\n",
       "   z_count_subwords  \n",
       "0               177  "
      ]
     },
     "execution_count": 65,
     "metadata": {},
     "output_type": "execute_result"
    }
   ],
   "source": [
    "df_error_tax_v0.head(1)"
   ]
  },
  {
   "cell_type": "code",
   "execution_count": 66,
   "metadata": {},
   "outputs": [],
   "source": [
    "java_analyzer = JavaAnalyzer( params2['ck_jar_path'] )"
   ]
  },
  {
   "cell_type": "code",
   "execution_count": 79,
   "metadata": {},
   "outputs": [
    {
     "name": "stderr",
     "output_type": "stream",
     "text": [
      "2021-07-06 20:50:25,036 : INFO : Generating physical .java files.\n"
     ]
    }
   ],
   "source": [
    "#Updates df_cross_v0\n",
    "#Becareful to not recompute this code, make sure to erase the folder afterwards\n",
    "df_cross_v0_paths = write_dataset_to_files( df_cross_v0['original_code'], params2['physical_files_path'] )"
   ]
  },
  {
   "cell_type": "code",
   "execution_count": 114,
   "metadata": {},
   "outputs": [
    {
     "data": {
      "text/plain": [
       "'private void success(io.netty.channel.Channel channel) {\\n    org.mycat.netty.mysql.MySQLHandshakeHandler.logger.debug(\"success info return form MySQLHandshakeHandler\");\\n    io.netty.buffer.ByteBuf out = channel.alloc().buffer();\\n    org.mycat.netty.mysql.OK ok = new org.mycat.netty.mysql.OK();\\n    ok.sequenceId = 2;\\n    ok.setStatusFlag(Flags.SERVER_STATUS_AUTOCOMMIT);\\n    out.writeBytes(ok.toPacket());\\n    channel.writeAndFlush(out);\\n}'"
      ]
     },
     "execution_count": 114,
     "metadata": {},
     "output_type": "execute_result"
    }
   ],
   "source": [
    "df_cross_v0['original_code'][0]"
   ]
  },
  {
   "cell_type": "code",
   "execution_count": 81,
   "metadata": {},
   "outputs": [
    {
     "data": {
      "text/plain": [
       "'../dvc-icodegen/nbs/nbs_experiments/results/analyses/rnn_layers1_vocab10000_embed256_units1024/test_metrics/ClassRecord0.java'"
      ]
     },
     "execution_count": 81,
     "metadata": {},
     "output_type": "execute_result"
    }
   ],
   "source": [
    "df_cross_v0_paths[0]"
   ]
  },
  {
   "cell_type": "code",
   "execution_count": 127,
   "metadata": {},
   "outputs": [],
   "source": [
    "file_path = ['/home/jovyan/work/nbs/'+i for i in df_cross_v0_paths]"
   ]
  },
  {
   "cell_type": "code",
   "execution_count": 220,
   "metadata": {},
   "outputs": [
    {
     "data": {
      "text/plain": [
       "129444"
      ]
     },
     "execution_count": 220,
     "metadata": {},
     "output_type": "execute_result"
    }
   ],
   "source": [
    "len(file_path)"
   ]
  },
  {
   "cell_type": "code",
   "execution_count": null,
   "metadata": {},
   "outputs": [],
   "source": []
  },
  {
   "cell_type": "code",
   "execution_count": 129,
   "metadata": {},
   "outputs": [],
   "source": [
    "#updating main frames with filepaths\n",
    "df_cross_v0['file'] = file_path"
   ]
  },
  {
   "cell_type": "code",
   "execution_count": 130,
   "metadata": {},
   "outputs": [
    {
     "data": {
      "text/html": [
       "<div>\n",
       "<style scoped>\n",
       "    .dataframe tbody tr th:only-of-type {\n",
       "        vertical-align: middle;\n",
       "    }\n",
       "\n",
       "    .dataframe tbody tr th {\n",
       "        vertical-align: top;\n",
       "    }\n",
       "\n",
       "    .dataframe thead th {\n",
       "        text-align: right;\n",
       "    }\n",
       "</style>\n",
       "<table border=\"1\" class=\"dataframe\">\n",
       "  <thead>\n",
       "    <tr style=\"text-align: right;\">\n",
       "      <th></th>\n",
       "      <th>transformed_code</th>\n",
       "      <th>y_cross_entropy</th>\n",
       "      <th>x_treatment</th>\n",
       "      <th>original_code</th>\n",
       "      <th>z_count_subwords</th>\n",
       "      <th>file</th>\n",
       "    </tr>\n",
       "  </thead>\n",
       "  <tbody>\n",
       "    <tr>\n",
       "      <th>0</th>\n",
       "      <td>&lt;private&gt; &lt;void&gt; success&lt;(&gt;io.netty.channel.Ch...</td>\n",
       "      <td>6.00622</td>\n",
       "      <td>False</td>\n",
       "      <td>private void success(io.netty.channel.Channel ...</td>\n",
       "      <td>177</td>\n",
       "      <td>/home/jovyan/work/nbs/../dvc-icodegen/nbs/nbs_...</td>\n",
       "    </tr>\n",
       "  </tbody>\n",
       "</table>\n",
       "</div>"
      ],
      "text/plain": [
       "                                    transformed_code  y_cross_entropy  \\\n",
       "0  <private> <void> success<(>io.netty.channel.Ch...          6.00622   \n",
       "\n",
       "   x_treatment                                      original_code  \\\n",
       "0        False  private void success(io.netty.channel.Channel ...   \n",
       "\n",
       "   z_count_subwords                                               file  \n",
       "0               177  /home/jovyan/work/nbs/../dvc-icodegen/nbs/nbs_...  "
      ]
     },
     "execution_count": 130,
     "metadata": {},
     "output_type": "execute_result"
    }
   ],
   "source": [
    "df_cross_v0.head(1)"
   ]
  },
  {
   "cell_type": "code",
   "execution_count": null,
   "metadata": {},
   "outputs": [],
   "source": [
    "#renaming just in case\n",
    "df_cross_v0.rename(columns = {'file':'file'}, inplace = True)"
   ]
  },
  {
   "cell_type": "code",
   "execution_count": 131,
   "metadata": {},
   "outputs": [],
   "source": [
    "assert len(df_cross_v0_paths) == len(df_error_tax_v0)"
   ]
  },
  {
   "cell_type": "code",
   "execution_count": 95,
   "metadata": {},
   "outputs": [
    {
     "name": "stderr",
     "output_type": "stream",
     "text": [
      "2021-07-06 21:58:35,544 : INFO : Generating physical .java files.\n",
      "2021-07-06 23:29:06,703 : INFO : CK package produced this output:\n",
      "[b'', b'log4j:WARN No appenders could be found for logger (com.github.mauricioaniche.ck.CK).', b'log4j:WARN Please initialize the log4j system properly.', b'']\n"
     ]
    }
   ],
   "source": [
    "df_cross_v0_java_metrics = java_analyzer.compute_metrics( df_cross_v0['original_code'], params2['physical_files_path'] )"
   ]
  },
  {
   "cell_type": "code",
   "execution_count": 235,
   "metadata": {},
   "outputs": [
    {
     "data": {
      "text/plain": [
       "(132540, 39)"
      ]
     },
     "execution_count": 235,
     "metadata": {},
     "output_type": "execute_result"
    }
   ],
   "source": [
    "df_cross_v0_java_metrics.shape"
   ]
  },
  {
   "cell_type": "markdown",
   "metadata": {},
   "source": [
    "### Anonymous Class Treatment"
   ]
  },
  {
   "cell_type": "code",
   "execution_count": 229,
   "metadata": {},
   "outputs": [],
   "source": [
    "#tst\n",
    "cnt = Counter()\n",
    "redundant_class = [] #Anonimous Classes Paths"
   ]
  },
  {
   "cell_type": "code",
   "execution_count": 230,
   "metadata": {},
   "outputs": [],
   "source": [
    "#tst\n",
    "for path in file_path:\n",
    "    instances = df_cross_v0_java_metrics[df_cross_v0_java_metrics['file']==path].shape[0]\n",
    "    cnt[path] += instances\n",
    "    if instances > 1:\n",
    "        redundant_class.append([instances,path])"
   ]
  },
  {
   "cell_type": "code",
   "execution_count": 231,
   "metadata": {},
   "outputs": [
    {
     "data": {
      "text/plain": [
       "2904"
      ]
     },
     "execution_count": 231,
     "metadata": {},
     "output_type": "execute_result"
    }
   ],
   "source": [
    "len(redundant_class)"
   ]
  },
  {
   "cell_type": "code",
   "execution_count": 233,
   "metadata": {},
   "outputs": [
    {
     "data": {
      "text/plain": [
       "[2,\n",
       " '/home/jovyan/work/nbs/../dvc-icodegen/nbs/nbs_experiments/results/analyses/rnn_layers1_vocab10000_embed256_units1024/test_metrics/ClassRecord170.java']"
      ]
     },
     "execution_count": 233,
     "metadata": {},
     "output_type": "execute_result"
    }
   ],
   "source": [
    "redundant_class[0]"
   ]
  },
  {
   "cell_type": "code",
   "execution_count": 234,
   "metadata": {},
   "outputs": [
    {
     "data": {
      "text/plain": [
       "129444"
      ]
     },
     "execution_count": 234,
     "metadata": {},
     "output_type": "execute_result"
    }
   ],
   "source": [
    "len(cnt[''])"
   ]
  },
  {
   "cell_type": "code",
   "execution_count": 239,
   "metadata": {},
   "outputs": [],
   "source": [
    "#Non anonimous clases\n",
    "temporal = [i for i in cnt.values() if i==1]"
   ]
  },
  {
   "cell_type": "code",
   "execution_count": 240,
   "metadata": {},
   "outputs": [
    {
     "data": {
      "text/plain": [
       "126540"
      ]
     },
     "execution_count": 240,
     "metadata": {},
     "output_type": "execute_result"
    }
   ],
   "source": [
    "len(temporal)"
   ]
  },
  {
   "cell_type": "code",
   "execution_count": 224,
   "metadata": {},
   "outputs": [
    {
     "data": {
      "text/html": [
       "<div>\n",
       "<style scoped>\n",
       "    .dataframe tbody tr th:only-of-type {\n",
       "        vertical-align: middle;\n",
       "    }\n",
       "\n",
       "    .dataframe tbody tr th {\n",
       "        vertical-align: top;\n",
       "    }\n",
       "\n",
       "    .dataframe thead th {\n",
       "        text-align: right;\n",
       "    }\n",
       "</style>\n",
       "<table border=\"1\" class=\"dataframe\">\n",
       "  <thead>\n",
       "    <tr style=\"text-align: right;\">\n",
       "      <th></th>\n",
       "      <th>file</th>\n",
       "      <th>class</th>\n",
       "      <th>wmc</th>\n",
       "      <th>totalMethodsQty</th>\n",
       "      <th>staticMethodsQty</th>\n",
       "      <th>publicMethodsQty</th>\n",
       "      <th>privateMethodsQty</th>\n",
       "      <th>protectedMethodsQty</th>\n",
       "      <th>defaultMethodsQty</th>\n",
       "      <th>abstractMethodsQty</th>\n",
       "      <th>...</th>\n",
       "      <th>numbersQty</th>\n",
       "      <th>assignmentsQty</th>\n",
       "      <th>mathOperationsQty</th>\n",
       "      <th>variablesQty</th>\n",
       "      <th>maxNestedBlocksQty</th>\n",
       "      <th>anonymousClassesQty</th>\n",
       "      <th>innerClassesQty</th>\n",
       "      <th>lambdasQty</th>\n",
       "      <th>uniqueWordsQty</th>\n",
       "      <th>modifiers</th>\n",
       "    </tr>\n",
       "  </thead>\n",
       "  <tbody>\n",
       "    <tr>\n",
       "      <th>0</th>\n",
       "      <td>/home/jovyan/work/nbs/../dvc-icodegen/nbs/nbs_...</td>\n",
       "      <td>ClassRecord52629</td>\n",
       "      <td>2</td>\n",
       "      <td>1</td>\n",
       "      <td>0</td>\n",
       "      <td>0</td>\n",
       "      <td>1</td>\n",
       "      <td>0</td>\n",
       "      <td>0</td>\n",
       "      <td>0</td>\n",
       "      <td>...</td>\n",
       "      <td>0</td>\n",
       "      <td>4</td>\n",
       "      <td>0</td>\n",
       "      <td>2</td>\n",
       "      <td>1</td>\n",
       "      <td>0</td>\n",
       "      <td>0</td>\n",
       "      <td>0</td>\n",
       "      <td>13</td>\n",
       "      <td>1</td>\n",
       "    </tr>\n",
       "  </tbody>\n",
       "</table>\n",
       "<p>1 rows × 39 columns</p>\n",
       "</div>"
      ],
      "text/plain": [
       "                                                file             class  wmc  \\\n",
       "0  /home/jovyan/work/nbs/../dvc-icodegen/nbs/nbs_...  ClassRecord52629    2   \n",
       "\n",
       "   totalMethodsQty  staticMethodsQty  publicMethodsQty  privateMethodsQty  \\\n",
       "0                1                 0                 0                  1   \n",
       "\n",
       "   protectedMethodsQty  defaultMethodsQty  abstractMethodsQty  ...  \\\n",
       "0                    0                  0                   0  ...   \n",
       "\n",
       "   numbersQty  assignmentsQty  mathOperationsQty  variablesQty  \\\n",
       "0           0               4                  0             2   \n",
       "\n",
       "   maxNestedBlocksQty  anonymousClassesQty  innerClassesQty  lambdasQty  \\\n",
       "0                   1                    0                0           0   \n",
       "\n",
       "   uniqueWordsQty  modifiers  \n",
       "0              13          1  \n",
       "\n",
       "[1 rows x 39 columns]"
      ]
     },
     "execution_count": 224,
     "metadata": {},
     "output_type": "execute_result"
    }
   ],
   "source": [
    "#tst\n",
    "df_cross_v0_java_metrics.head(1)"
   ]
  },
  {
   "cell_type": "code",
   "execution_count": 218,
   "metadata": {},
   "outputs": [
    {
     "data": {
      "text/plain": [
       "(132540, 39)"
      ]
     },
     "execution_count": 218,
     "metadata": {},
     "output_type": "execute_result"
    }
   ],
   "source": [
    "df_cross_v0_java_metrics.shape"
   ]
  },
  {
   "cell_type": "code",
   "execution_count": 241,
   "metadata": {},
   "outputs": [],
   "source": [
    "#With Anonymous\n",
    "df_cross_v0_java_metrics_anony = df_cross_v0_java_metrics[df_cross_v0_java_metrics['class'].str.contains('Anonymous')].copy() \n",
    "\n",
    "#df_cross_v0_java_metrics_anony = df_cross_v0_java_metrics[df_cross_v0_java_metrics['class'].str.contains('Anonymous') &  \n",
    "#                                                     (df_cross_v0_java_metrics['anonymousClassesQty']!=0)].copy() "
   ]
  },
  {
   "cell_type": "code",
   "execution_count": 242,
   "metadata": {},
   "outputs": [
    {
     "data": {
      "text/plain": [
       "(3049, 39)"
      ]
     },
     "execution_count": 242,
     "metadata": {},
     "output_type": "execute_result"
    }
   ],
   "source": [
    "df_cross_v0_java_metrics_anony.shape"
   ]
  },
  {
   "cell_type": "code",
   "execution_count": 213,
   "metadata": {},
   "outputs": [
    {
     "data": {
      "text/html": [
       "<div>\n",
       "<style scoped>\n",
       "    .dataframe tbody tr th:only-of-type {\n",
       "        vertical-align: middle;\n",
       "    }\n",
       "\n",
       "    .dataframe tbody tr th {\n",
       "        vertical-align: top;\n",
       "    }\n",
       "\n",
       "    .dataframe thead th {\n",
       "        text-align: right;\n",
       "    }\n",
       "</style>\n",
       "<table border=\"1\" class=\"dataframe\">\n",
       "  <thead>\n",
       "    <tr style=\"text-align: right;\">\n",
       "      <th></th>\n",
       "      <th>file</th>\n",
       "      <th>class</th>\n",
       "      <th>wmc</th>\n",
       "      <th>totalMethodsQty</th>\n",
       "      <th>staticMethodsQty</th>\n",
       "      <th>publicMethodsQty</th>\n",
       "      <th>privateMethodsQty</th>\n",
       "      <th>protectedMethodsQty</th>\n",
       "      <th>defaultMethodsQty</th>\n",
       "      <th>abstractMethodsQty</th>\n",
       "      <th>...</th>\n",
       "      <th>numbersQty</th>\n",
       "      <th>assignmentsQty</th>\n",
       "      <th>mathOperationsQty</th>\n",
       "      <th>variablesQty</th>\n",
       "      <th>maxNestedBlocksQty</th>\n",
       "      <th>anonymousClassesQty</th>\n",
       "      <th>innerClassesQty</th>\n",
       "      <th>lambdasQty</th>\n",
       "      <th>uniqueWordsQty</th>\n",
       "      <th>modifiers</th>\n",
       "    </tr>\n",
       "  </thead>\n",
       "  <tbody>\n",
       "    <tr>\n",
       "      <th>163</th>\n",
       "      <td>/home/jovyan/work/nbs/../dvc-icodegen/nbs/nbs_...</td>\n",
       "      <td>ClassRecord121896$Anonymous1</td>\n",
       "      <td>1</td>\n",
       "      <td>1</td>\n",
       "      <td>0</td>\n",
       "      <td>0</td>\n",
       "      <td>0</td>\n",
       "      <td>1</td>\n",
       "      <td>0</td>\n",
       "      <td>1</td>\n",
       "      <td>...</td>\n",
       "      <td>0</td>\n",
       "      <td>0</td>\n",
       "      <td>0</td>\n",
       "      <td>0</td>\n",
       "      <td>0</td>\n",
       "      <td>1</td>\n",
       "      <td>0</td>\n",
       "      <td>0</td>\n",
       "      <td>2</td>\n",
       "      <td>-1</td>\n",
       "    </tr>\n",
       "  </tbody>\n",
       "</table>\n",
       "<p>1 rows × 39 columns</p>\n",
       "</div>"
      ],
      "text/plain": [
       "                                                  file  \\\n",
       "163  /home/jovyan/work/nbs/../dvc-icodegen/nbs/nbs_...   \n",
       "\n",
       "                            class  wmc  totalMethodsQty  staticMethodsQty  \\\n",
       "163  ClassRecord121896$Anonymous1    1                1                 0   \n",
       "\n",
       "     publicMethodsQty  privateMethodsQty  protectedMethodsQty  \\\n",
       "163                 0                  0                    1   \n",
       "\n",
       "     defaultMethodsQty  abstractMethodsQty  ...  numbersQty  assignmentsQty  \\\n",
       "163                  0                   1  ...           0               0   \n",
       "\n",
       "     mathOperationsQty  variablesQty  maxNestedBlocksQty  anonymousClassesQty  \\\n",
       "163                  0             0                   0                    1   \n",
       "\n",
       "     innerClassesQty  lambdasQty  uniqueWordsQty  modifiers  \n",
       "163                0           0               2         -1  \n",
       "\n",
       "[1 rows x 39 columns]"
      ]
     },
     "execution_count": 213,
     "metadata": {},
     "output_type": "execute_result"
    }
   ],
   "source": [
    "df_cross_v0_java_metrics_anony.head(1)"
   ]
  },
  {
   "cell_type": "code",
   "execution_count": 208,
   "metadata": {},
   "outputs": [],
   "source": [
    "df_cross_v0_java_metrics_anony_tmp = df_cross_v0_java_metrics[df_cross_v0_java_metrics['anonymousClassesQty']!=0].copy()"
   ]
  },
  {
   "cell_type": "code",
   "execution_count": 209,
   "metadata": {},
   "outputs": [
    {
     "data": {
      "text/plain": [
       "(2917, 39)"
      ]
     },
     "execution_count": 209,
     "metadata": {},
     "output_type": "execute_result"
    }
   ],
   "source": [
    "df_cross_v0_java_metrics_anony_tmp.shape"
   ]
  },
  {
   "cell_type": "code",
   "execution_count": 210,
   "metadata": {},
   "outputs": [
    {
     "data": {
      "text/html": [
       "<div>\n",
       "<style scoped>\n",
       "    .dataframe tbody tr th:only-of-type {\n",
       "        vertical-align: middle;\n",
       "    }\n",
       "\n",
       "    .dataframe tbody tr th {\n",
       "        vertical-align: top;\n",
       "    }\n",
       "\n",
       "    .dataframe thead th {\n",
       "        text-align: right;\n",
       "    }\n",
       "</style>\n",
       "<table border=\"1\" class=\"dataframe\">\n",
       "  <thead>\n",
       "    <tr style=\"text-align: right;\">\n",
       "      <th></th>\n",
       "      <th>file</th>\n",
       "      <th>class</th>\n",
       "      <th>wmc</th>\n",
       "      <th>totalMethodsQty</th>\n",
       "      <th>staticMethodsQty</th>\n",
       "      <th>publicMethodsQty</th>\n",
       "      <th>privateMethodsQty</th>\n",
       "      <th>protectedMethodsQty</th>\n",
       "      <th>defaultMethodsQty</th>\n",
       "      <th>abstractMethodsQty</th>\n",
       "      <th>...</th>\n",
       "      <th>numbersQty</th>\n",
       "      <th>assignmentsQty</th>\n",
       "      <th>mathOperationsQty</th>\n",
       "      <th>variablesQty</th>\n",
       "      <th>maxNestedBlocksQty</th>\n",
       "      <th>anonymousClassesQty</th>\n",
       "      <th>innerClassesQty</th>\n",
       "      <th>lambdasQty</th>\n",
       "      <th>uniqueWordsQty</th>\n",
       "      <th>modifiers</th>\n",
       "    </tr>\n",
       "  </thead>\n",
       "  <tbody>\n",
       "    <tr>\n",
       "      <th>18</th>\n",
       "      <td>/home/jovyan/work/nbs/../dvc-icodegen/nbs/nbs_...</td>\n",
       "      <td>ClassRecord23299</td>\n",
       "      <td>4</td>\n",
       "      <td>1</td>\n",
       "      <td>0</td>\n",
       "      <td>0</td>\n",
       "      <td>0</td>\n",
       "      <td>0</td>\n",
       "      <td>1</td>\n",
       "      <td>1</td>\n",
       "      <td>...</td>\n",
       "      <td>1</td>\n",
       "      <td>1</td>\n",
       "      <td>0</td>\n",
       "      <td>0</td>\n",
       "      <td>1</td>\n",
       "      <td>1</td>\n",
       "      <td>0</td>\n",
       "      <td>0</td>\n",
       "      <td>16</td>\n",
       "      <td>1</td>\n",
       "    </tr>\n",
       "    <tr>\n",
       "      <th>109</th>\n",
       "      <td>/home/jovyan/work/nbs/../dvc-icodegen/nbs/nbs_...</td>\n",
       "      <td>ClassRecord69514</td>\n",
       "      <td>1</td>\n",
       "      <td>1</td>\n",
       "      <td>0</td>\n",
       "      <td>1</td>\n",
       "      <td>0</td>\n",
       "      <td>0</td>\n",
       "      <td>0</td>\n",
       "      <td>1</td>\n",
       "      <td>...</td>\n",
       "      <td>0</td>\n",
       "      <td>1</td>\n",
       "      <td>0</td>\n",
       "      <td>1</td>\n",
       "      <td>0</td>\n",
       "      <td>1</td>\n",
       "      <td>0</td>\n",
       "      <td>0</td>\n",
       "      <td>18</td>\n",
       "      <td>1</td>\n",
       "    </tr>\n",
       "    <tr>\n",
       "      <th>115</th>\n",
       "      <td>/home/jovyan/work/nbs/../dvc-icodegen/nbs/nbs_...</td>\n",
       "      <td>ClassRecord64397</td>\n",
       "      <td>1</td>\n",
       "      <td>1</td>\n",
       "      <td>0</td>\n",
       "      <td>1</td>\n",
       "      <td>0</td>\n",
       "      <td>0</td>\n",
       "      <td>0</td>\n",
       "      <td>1</td>\n",
       "      <td>...</td>\n",
       "      <td>1</td>\n",
       "      <td>1</td>\n",
       "      <td>0</td>\n",
       "      <td>1</td>\n",
       "      <td>0</td>\n",
       "      <td>1</td>\n",
       "      <td>0</td>\n",
       "      <td>0</td>\n",
       "      <td>6</td>\n",
       "      <td>1</td>\n",
       "    </tr>\n",
       "    <tr>\n",
       "      <th>148</th>\n",
       "      <td>/home/jovyan/work/nbs/../dvc-icodegen/nbs/nbs_...</td>\n",
       "      <td>ClassRecord112685</td>\n",
       "      <td>1</td>\n",
       "      <td>1</td>\n",
       "      <td>0</td>\n",
       "      <td>1</td>\n",
       "      <td>0</td>\n",
       "      <td>0</td>\n",
       "      <td>0</td>\n",
       "      <td>1</td>\n",
       "      <td>...</td>\n",
       "      <td>0</td>\n",
       "      <td>0</td>\n",
       "      <td>0</td>\n",
       "      <td>0</td>\n",
       "      <td>0</td>\n",
       "      <td>1</td>\n",
       "      <td>0</td>\n",
       "      <td>0</td>\n",
       "      <td>6</td>\n",
       "      <td>1</td>\n",
       "    </tr>\n",
       "    <tr>\n",
       "      <th>162</th>\n",
       "      <td>/home/jovyan/work/nbs/../dvc-icodegen/nbs/nbs_...</td>\n",
       "      <td>ClassRecord121896</td>\n",
       "      <td>2</td>\n",
       "      <td>1</td>\n",
       "      <td>0</td>\n",
       "      <td>1</td>\n",
       "      <td>0</td>\n",
       "      <td>0</td>\n",
       "      <td>0</td>\n",
       "      <td>1</td>\n",
       "      <td>...</td>\n",
       "      <td>0</td>\n",
       "      <td>2</td>\n",
       "      <td>0</td>\n",
       "      <td>2</td>\n",
       "      <td>1</td>\n",
       "      <td>1</td>\n",
       "      <td>0</td>\n",
       "      <td>0</td>\n",
       "      <td>11</td>\n",
       "      <td>1</td>\n",
       "    </tr>\n",
       "    <tr>\n",
       "      <th>...</th>\n",
       "      <td>...</td>\n",
       "      <td>...</td>\n",
       "      <td>...</td>\n",
       "      <td>...</td>\n",
       "      <td>...</td>\n",
       "      <td>...</td>\n",
       "      <td>...</td>\n",
       "      <td>...</td>\n",
       "      <td>...</td>\n",
       "      <td>...</td>\n",
       "      <td>...</td>\n",
       "      <td>...</td>\n",
       "      <td>...</td>\n",
       "      <td>...</td>\n",
       "      <td>...</td>\n",
       "      <td>...</td>\n",
       "      <td>...</td>\n",
       "      <td>...</td>\n",
       "      <td>...</td>\n",
       "      <td>...</td>\n",
       "      <td>...</td>\n",
       "    </tr>\n",
       "    <tr>\n",
       "      <th>132123</th>\n",
       "      <td>/home/jovyan/work/nbs/../dvc-icodegen/nbs/nbs_...</td>\n",
       "      <td>ClassRecord25489</td>\n",
       "      <td>3</td>\n",
       "      <td>1</td>\n",
       "      <td>0</td>\n",
       "      <td>0</td>\n",
       "      <td>1</td>\n",
       "      <td>0</td>\n",
       "      <td>0</td>\n",
       "      <td>0</td>\n",
       "      <td>...</td>\n",
       "      <td>0</td>\n",
       "      <td>1</td>\n",
       "      <td>0</td>\n",
       "      <td>0</td>\n",
       "      <td>2</td>\n",
       "      <td>1</td>\n",
       "      <td>0</td>\n",
       "      <td>0</td>\n",
       "      <td>9</td>\n",
       "      <td>1</td>\n",
       "    </tr>\n",
       "    <tr>\n",
       "      <th>132135</th>\n",
       "      <td>/home/jovyan/work/nbs/../dvc-icodegen/nbs/nbs_...</td>\n",
       "      <td>ClassRecord40945</td>\n",
       "      <td>1</td>\n",
       "      <td>1</td>\n",
       "      <td>0</td>\n",
       "      <td>0</td>\n",
       "      <td>1</td>\n",
       "      <td>0</td>\n",
       "      <td>0</td>\n",
       "      <td>0</td>\n",
       "      <td>...</td>\n",
       "      <td>0</td>\n",
       "      <td>1</td>\n",
       "      <td>0</td>\n",
       "      <td>1</td>\n",
       "      <td>0</td>\n",
       "      <td>3</td>\n",
       "      <td>0</td>\n",
       "      <td>0</td>\n",
       "      <td>7</td>\n",
       "      <td>1</td>\n",
       "    </tr>\n",
       "    <tr>\n",
       "      <th>132163</th>\n",
       "      <td>/home/jovyan/work/nbs/../dvc-icodegen/nbs/nbs_...</td>\n",
       "      <td>ClassRecord86163</td>\n",
       "      <td>1</td>\n",
       "      <td>1</td>\n",
       "      <td>0</td>\n",
       "      <td>1</td>\n",
       "      <td>0</td>\n",
       "      <td>0</td>\n",
       "      <td>0</td>\n",
       "      <td>1</td>\n",
       "      <td>...</td>\n",
       "      <td>1</td>\n",
       "      <td>1</td>\n",
       "      <td>0</td>\n",
       "      <td>0</td>\n",
       "      <td>0</td>\n",
       "      <td>1</td>\n",
       "      <td>0</td>\n",
       "      <td>0</td>\n",
       "      <td>4</td>\n",
       "      <td>1</td>\n",
       "    </tr>\n",
       "    <tr>\n",
       "      <th>132321</th>\n",
       "      <td>/home/jovyan/work/nbs/../dvc-icodegen/nbs/nbs_...</td>\n",
       "      <td>ClassRecord24210</td>\n",
       "      <td>1</td>\n",
       "      <td>1</td>\n",
       "      <td>1</td>\n",
       "      <td>1</td>\n",
       "      <td>0</td>\n",
       "      <td>0</td>\n",
       "      <td>0</td>\n",
       "      <td>1</td>\n",
       "      <td>...</td>\n",
       "      <td>3</td>\n",
       "      <td>3</td>\n",
       "      <td>0</td>\n",
       "      <td>0</td>\n",
       "      <td>0</td>\n",
       "      <td>1</td>\n",
       "      <td>0</td>\n",
       "      <td>0</td>\n",
       "      <td>4</td>\n",
       "      <td>1</td>\n",
       "    </tr>\n",
       "    <tr>\n",
       "      <th>132508</th>\n",
       "      <td>/home/jovyan/work/nbs/../dvc-icodegen/nbs/nbs_...</td>\n",
       "      <td>ClassRecord112668</td>\n",
       "      <td>2</td>\n",
       "      <td>1</td>\n",
       "      <td>0</td>\n",
       "      <td>1</td>\n",
       "      <td>0</td>\n",
       "      <td>0</td>\n",
       "      <td>0</td>\n",
       "      <td>1</td>\n",
       "      <td>...</td>\n",
       "      <td>0</td>\n",
       "      <td>0</td>\n",
       "      <td>0</td>\n",
       "      <td>0</td>\n",
       "      <td>1</td>\n",
       "      <td>1</td>\n",
       "      <td>0</td>\n",
       "      <td>0</td>\n",
       "      <td>6</td>\n",
       "      <td>1</td>\n",
       "    </tr>\n",
       "  </tbody>\n",
       "</table>\n",
       "<p>2917 rows × 39 columns</p>\n",
       "</div>"
      ],
      "text/plain": [
       "                                                     file              class  \\\n",
       "18      /home/jovyan/work/nbs/../dvc-icodegen/nbs/nbs_...   ClassRecord23299   \n",
       "109     /home/jovyan/work/nbs/../dvc-icodegen/nbs/nbs_...   ClassRecord69514   \n",
       "115     /home/jovyan/work/nbs/../dvc-icodegen/nbs/nbs_...   ClassRecord64397   \n",
       "148     /home/jovyan/work/nbs/../dvc-icodegen/nbs/nbs_...  ClassRecord112685   \n",
       "162     /home/jovyan/work/nbs/../dvc-icodegen/nbs/nbs_...  ClassRecord121896   \n",
       "...                                                   ...                ...   \n",
       "132123  /home/jovyan/work/nbs/../dvc-icodegen/nbs/nbs_...   ClassRecord25489   \n",
       "132135  /home/jovyan/work/nbs/../dvc-icodegen/nbs/nbs_...   ClassRecord40945   \n",
       "132163  /home/jovyan/work/nbs/../dvc-icodegen/nbs/nbs_...   ClassRecord86163   \n",
       "132321  /home/jovyan/work/nbs/../dvc-icodegen/nbs/nbs_...   ClassRecord24210   \n",
       "132508  /home/jovyan/work/nbs/../dvc-icodegen/nbs/nbs_...  ClassRecord112668   \n",
       "\n",
       "        wmc  totalMethodsQty  staticMethodsQty  publicMethodsQty  \\\n",
       "18        4                1                 0                 0   \n",
       "109       1                1                 0                 1   \n",
       "115       1                1                 0                 1   \n",
       "148       1                1                 0                 1   \n",
       "162       2                1                 0                 1   \n",
       "...     ...              ...               ...               ...   \n",
       "132123    3                1                 0                 0   \n",
       "132135    1                1                 0                 0   \n",
       "132163    1                1                 0                 1   \n",
       "132321    1                1                 1                 1   \n",
       "132508    2                1                 0                 1   \n",
       "\n",
       "        privateMethodsQty  protectedMethodsQty  defaultMethodsQty  \\\n",
       "18                      0                    0                  1   \n",
       "109                     0                    0                  0   \n",
       "115                     0                    0                  0   \n",
       "148                     0                    0                  0   \n",
       "162                     0                    0                  0   \n",
       "...                   ...                  ...                ...   \n",
       "132123                  1                    0                  0   \n",
       "132135                  1                    0                  0   \n",
       "132163                  0                    0                  0   \n",
       "132321                  0                    0                  0   \n",
       "132508                  0                    0                  0   \n",
       "\n",
       "        abstractMethodsQty  ...  numbersQty  assignmentsQty  \\\n",
       "18                       1  ...           1               1   \n",
       "109                      1  ...           0               1   \n",
       "115                      1  ...           1               1   \n",
       "148                      1  ...           0               0   \n",
       "162                      1  ...           0               2   \n",
       "...                    ...  ...         ...             ...   \n",
       "132123                   0  ...           0               1   \n",
       "132135                   0  ...           0               1   \n",
       "132163                   1  ...           1               1   \n",
       "132321                   1  ...           3               3   \n",
       "132508                   1  ...           0               0   \n",
       "\n",
       "        mathOperationsQty  variablesQty  maxNestedBlocksQty  \\\n",
       "18                      0             0                   1   \n",
       "109                     0             1                   0   \n",
       "115                     0             1                   0   \n",
       "148                     0             0                   0   \n",
       "162                     0             2                   1   \n",
       "...                   ...           ...                 ...   \n",
       "132123                  0             0                   2   \n",
       "132135                  0             1                   0   \n",
       "132163                  0             0                   0   \n",
       "132321                  0             0                   0   \n",
       "132508                  0             0                   1   \n",
       "\n",
       "        anonymousClassesQty  innerClassesQty  lambdasQty  uniqueWordsQty  \\\n",
       "18                        1                0           0              16   \n",
       "109                       1                0           0              18   \n",
       "115                       1                0           0               6   \n",
       "148                       1                0           0               6   \n",
       "162                       1                0           0              11   \n",
       "...                     ...              ...         ...             ...   \n",
       "132123                    1                0           0               9   \n",
       "132135                    3                0           0               7   \n",
       "132163                    1                0           0               4   \n",
       "132321                    1                0           0               4   \n",
       "132508                    1                0           0               6   \n",
       "\n",
       "        modifiers  \n",
       "18              1  \n",
       "109             1  \n",
       "115             1  \n",
       "148             1  \n",
       "162             1  \n",
       "...           ...  \n",
       "132123          1  \n",
       "132135          1  \n",
       "132163          1  \n",
       "132321          1  \n",
       "132508          1  \n",
       "\n",
       "[2917 rows x 39 columns]"
      ]
     },
     "execution_count": 210,
     "metadata": {},
     "output_type": "execute_result"
    }
   ],
   "source": [
    "df_cross_v0_java_metrics_anony_tmp"
   ]
  },
  {
   "cell_type": "code",
   "execution_count": 214,
   "metadata": {},
   "outputs": [],
   "source": [
    "#Without Anonymous\n",
    "df_cross_v0_java_metrics_base = df_cross_v0_java_metrics[~df_cross_v0_java_metrics['class'].str.contains('Anonymous') &\n",
    "                                                        (df_cross_v0_java_metrics['anonymousClassesQty']==0)].copy()"
   ]
  },
  {
   "cell_type": "code",
   "execution_count": 219,
   "metadata": {},
   "outputs": [
    {
     "data": {
      "text/html": [
       "<div>\n",
       "<style scoped>\n",
       "    .dataframe tbody tr th:only-of-type {\n",
       "        vertical-align: middle;\n",
       "    }\n",
       "\n",
       "    .dataframe tbody tr th {\n",
       "        vertical-align: top;\n",
       "    }\n",
       "\n",
       "    .dataframe thead th {\n",
       "        text-align: right;\n",
       "    }\n",
       "</style>\n",
       "<table border=\"1\" class=\"dataframe\">\n",
       "  <thead>\n",
       "    <tr style=\"text-align: right;\">\n",
       "      <th></th>\n",
       "      <th>file</th>\n",
       "      <th>class</th>\n",
       "      <th>wmc</th>\n",
       "      <th>totalMethodsQty</th>\n",
       "      <th>staticMethodsQty</th>\n",
       "      <th>publicMethodsQty</th>\n",
       "      <th>privateMethodsQty</th>\n",
       "      <th>protectedMethodsQty</th>\n",
       "      <th>defaultMethodsQty</th>\n",
       "      <th>abstractMethodsQty</th>\n",
       "      <th>...</th>\n",
       "      <th>numbersQty</th>\n",
       "      <th>assignmentsQty</th>\n",
       "      <th>mathOperationsQty</th>\n",
       "      <th>variablesQty</th>\n",
       "      <th>maxNestedBlocksQty</th>\n",
       "      <th>anonymousClassesQty</th>\n",
       "      <th>innerClassesQty</th>\n",
       "      <th>lambdasQty</th>\n",
       "      <th>uniqueWordsQty</th>\n",
       "      <th>modifiers</th>\n",
       "    </tr>\n",
       "  </thead>\n",
       "  <tbody>\n",
       "    <tr>\n",
       "      <th>0</th>\n",
       "      <td>/home/jovyan/work/nbs/../dvc-icodegen/nbs/nbs_...</td>\n",
       "      <td>ClassRecord52629</td>\n",
       "      <td>2</td>\n",
       "      <td>1</td>\n",
       "      <td>0</td>\n",
       "      <td>0</td>\n",
       "      <td>1</td>\n",
       "      <td>0</td>\n",
       "      <td>0</td>\n",
       "      <td>0</td>\n",
       "      <td>...</td>\n",
       "      <td>0</td>\n",
       "      <td>4</td>\n",
       "      <td>0</td>\n",
       "      <td>2</td>\n",
       "      <td>1</td>\n",
       "      <td>0</td>\n",
       "      <td>0</td>\n",
       "      <td>0</td>\n",
       "      <td>13</td>\n",
       "      <td>1</td>\n",
       "    </tr>\n",
       "    <tr>\n",
       "      <th>1</th>\n",
       "      <td>/home/jovyan/work/nbs/../dvc-icodegen/nbs/nbs_...</td>\n",
       "      <td>ClassRecord117102</td>\n",
       "      <td>2</td>\n",
       "      <td>1</td>\n",
       "      <td>0</td>\n",
       "      <td>1</td>\n",
       "      <td>0</td>\n",
       "      <td>0</td>\n",
       "      <td>0</td>\n",
       "      <td>1</td>\n",
       "      <td>...</td>\n",
       "      <td>8</td>\n",
       "      <td>0</td>\n",
       "      <td>2</td>\n",
       "      <td>0</td>\n",
       "      <td>1</td>\n",
       "      <td>0</td>\n",
       "      <td>0</td>\n",
       "      <td>0</td>\n",
       "      <td>6</td>\n",
       "      <td>1</td>\n",
       "    </tr>\n",
       "    <tr>\n",
       "      <th>2</th>\n",
       "      <td>/home/jovyan/work/nbs/../dvc-icodegen/nbs/nbs_...</td>\n",
       "      <td>ClassRecord91512</td>\n",
       "      <td>4</td>\n",
       "      <td>1</td>\n",
       "      <td>0</td>\n",
       "      <td>0</td>\n",
       "      <td>1</td>\n",
       "      <td>0</td>\n",
       "      <td>0</td>\n",
       "      <td>0</td>\n",
       "      <td>...</td>\n",
       "      <td>2</td>\n",
       "      <td>1</td>\n",
       "      <td>0</td>\n",
       "      <td>1</td>\n",
       "      <td>1</td>\n",
       "      <td>0</td>\n",
       "      <td>0</td>\n",
       "      <td>0</td>\n",
       "      <td>14</td>\n",
       "      <td>1</td>\n",
       "    </tr>\n",
       "    <tr>\n",
       "      <th>3</th>\n",
       "      <td>/home/jovyan/work/nbs/../dvc-icodegen/nbs/nbs_...</td>\n",
       "      <td>ClassRecord42082</td>\n",
       "      <td>2</td>\n",
       "      <td>1</td>\n",
       "      <td>0</td>\n",
       "      <td>1</td>\n",
       "      <td>0</td>\n",
       "      <td>0</td>\n",
       "      <td>0</td>\n",
       "      <td>1</td>\n",
       "      <td>...</td>\n",
       "      <td>0</td>\n",
       "      <td>1</td>\n",
       "      <td>0</td>\n",
       "      <td>1</td>\n",
       "      <td>1</td>\n",
       "      <td>0</td>\n",
       "      <td>0</td>\n",
       "      <td>0</td>\n",
       "      <td>13</td>\n",
       "      <td>1</td>\n",
       "    </tr>\n",
       "    <tr>\n",
       "      <th>4</th>\n",
       "      <td>/home/jovyan/work/nbs/../dvc-icodegen/nbs/nbs_...</td>\n",
       "      <td>ClassRecord98590</td>\n",
       "      <td>3</td>\n",
       "      <td>1</td>\n",
       "      <td>0</td>\n",
       "      <td>1</td>\n",
       "      <td>0</td>\n",
       "      <td>0</td>\n",
       "      <td>0</td>\n",
       "      <td>1</td>\n",
       "      <td>...</td>\n",
       "      <td>1</td>\n",
       "      <td>0</td>\n",
       "      <td>0</td>\n",
       "      <td>0</td>\n",
       "      <td>1</td>\n",
       "      <td>0</td>\n",
       "      <td>0</td>\n",
       "      <td>0</td>\n",
       "      <td>18</td>\n",
       "      <td>1</td>\n",
       "    </tr>\n",
       "    <tr>\n",
       "      <th>...</th>\n",
       "      <td>...</td>\n",
       "      <td>...</td>\n",
       "      <td>...</td>\n",
       "      <td>...</td>\n",
       "      <td>...</td>\n",
       "      <td>...</td>\n",
       "      <td>...</td>\n",
       "      <td>...</td>\n",
       "      <td>...</td>\n",
       "      <td>...</td>\n",
       "      <td>...</td>\n",
       "      <td>...</td>\n",
       "      <td>...</td>\n",
       "      <td>...</td>\n",
       "      <td>...</td>\n",
       "      <td>...</td>\n",
       "      <td>...</td>\n",
       "      <td>...</td>\n",
       "      <td>...</td>\n",
       "      <td>...</td>\n",
       "      <td>...</td>\n",
       "    </tr>\n",
       "    <tr>\n",
       "      <th>132535</th>\n",
       "      <td>/home/jovyan/work/nbs/../dvc-icodegen/nbs/nbs_...</td>\n",
       "      <td>ClassRecord110729</td>\n",
       "      <td>3</td>\n",
       "      <td>1</td>\n",
       "      <td>0</td>\n",
       "      <td>1</td>\n",
       "      <td>0</td>\n",
       "      <td>0</td>\n",
       "      <td>0</td>\n",
       "      <td>1</td>\n",
       "      <td>...</td>\n",
       "      <td>0</td>\n",
       "      <td>3</td>\n",
       "      <td>0</td>\n",
       "      <td>3</td>\n",
       "      <td>2</td>\n",
       "      <td>0</td>\n",
       "      <td>0</td>\n",
       "      <td>0</td>\n",
       "      <td>9</td>\n",
       "      <td>1</td>\n",
       "    </tr>\n",
       "    <tr>\n",
       "      <th>132536</th>\n",
       "      <td>/home/jovyan/work/nbs/../dvc-icodegen/nbs/nbs_...</td>\n",
       "      <td>ClassRecord27302</td>\n",
       "      <td>3</td>\n",
       "      <td>1</td>\n",
       "      <td>0</td>\n",
       "      <td>1</td>\n",
       "      <td>0</td>\n",
       "      <td>0</td>\n",
       "      <td>0</td>\n",
       "      <td>1</td>\n",
       "      <td>...</td>\n",
       "      <td>2</td>\n",
       "      <td>1</td>\n",
       "      <td>0</td>\n",
       "      <td>0</td>\n",
       "      <td>2</td>\n",
       "      <td>0</td>\n",
       "      <td>0</td>\n",
       "      <td>0</td>\n",
       "      <td>11</td>\n",
       "      <td>1</td>\n",
       "    </tr>\n",
       "    <tr>\n",
       "      <th>132537</th>\n",
       "      <td>/home/jovyan/work/nbs/../dvc-icodegen/nbs/nbs_...</td>\n",
       "      <td>ClassRecord85623</td>\n",
       "      <td>1</td>\n",
       "      <td>1</td>\n",
       "      <td>0</td>\n",
       "      <td>1</td>\n",
       "      <td>0</td>\n",
       "      <td>0</td>\n",
       "      <td>0</td>\n",
       "      <td>1</td>\n",
       "      <td>...</td>\n",
       "      <td>11</td>\n",
       "      <td>8</td>\n",
       "      <td>0</td>\n",
       "      <td>1</td>\n",
       "      <td>0</td>\n",
       "      <td>0</td>\n",
       "      <td>0</td>\n",
       "      <td>0</td>\n",
       "      <td>20</td>\n",
       "      <td>1</td>\n",
       "    </tr>\n",
       "    <tr>\n",
       "      <th>132538</th>\n",
       "      <td>/home/jovyan/work/nbs/../dvc-icodegen/nbs/nbs_...</td>\n",
       "      <td>ClassRecord5976</td>\n",
       "      <td>3</td>\n",
       "      <td>1</td>\n",
       "      <td>0</td>\n",
       "      <td>0</td>\n",
       "      <td>0</td>\n",
       "      <td>0</td>\n",
       "      <td>1</td>\n",
       "      <td>1</td>\n",
       "      <td>...</td>\n",
       "      <td>2</td>\n",
       "      <td>1</td>\n",
       "      <td>0</td>\n",
       "      <td>1</td>\n",
       "      <td>2</td>\n",
       "      <td>0</td>\n",
       "      <td>0</td>\n",
       "      <td>0</td>\n",
       "      <td>7</td>\n",
       "      <td>1</td>\n",
       "    </tr>\n",
       "    <tr>\n",
       "      <th>132539</th>\n",
       "      <td>/home/jovyan/work/nbs/../dvc-icodegen/nbs/nbs_...</td>\n",
       "      <td>ClassRecord64113</td>\n",
       "      <td>4</td>\n",
       "      <td>1</td>\n",
       "      <td>0</td>\n",
       "      <td>0</td>\n",
       "      <td>0</td>\n",
       "      <td>1</td>\n",
       "      <td>0</td>\n",
       "      <td>1</td>\n",
       "      <td>...</td>\n",
       "      <td>0</td>\n",
       "      <td>1</td>\n",
       "      <td>0</td>\n",
       "      <td>1</td>\n",
       "      <td>2</td>\n",
       "      <td>0</td>\n",
       "      <td>0</td>\n",
       "      <td>0</td>\n",
       "      <td>8</td>\n",
       "      <td>1</td>\n",
       "    </tr>\n",
       "  </tbody>\n",
       "</table>\n",
       "<p>132540 rows × 39 columns</p>\n",
       "</div>"
      ],
      "text/plain": [
       "                                                     file              class  \\\n",
       "0       /home/jovyan/work/nbs/../dvc-icodegen/nbs/nbs_...   ClassRecord52629   \n",
       "1       /home/jovyan/work/nbs/../dvc-icodegen/nbs/nbs_...  ClassRecord117102   \n",
       "2       /home/jovyan/work/nbs/../dvc-icodegen/nbs/nbs_...   ClassRecord91512   \n",
       "3       /home/jovyan/work/nbs/../dvc-icodegen/nbs/nbs_...   ClassRecord42082   \n",
       "4       /home/jovyan/work/nbs/../dvc-icodegen/nbs/nbs_...   ClassRecord98590   \n",
       "...                                                   ...                ...   \n",
       "132535  /home/jovyan/work/nbs/../dvc-icodegen/nbs/nbs_...  ClassRecord110729   \n",
       "132536  /home/jovyan/work/nbs/../dvc-icodegen/nbs/nbs_...   ClassRecord27302   \n",
       "132537  /home/jovyan/work/nbs/../dvc-icodegen/nbs/nbs_...   ClassRecord85623   \n",
       "132538  /home/jovyan/work/nbs/../dvc-icodegen/nbs/nbs_...    ClassRecord5976   \n",
       "132539  /home/jovyan/work/nbs/../dvc-icodegen/nbs/nbs_...   ClassRecord64113   \n",
       "\n",
       "        wmc  totalMethodsQty  staticMethodsQty  publicMethodsQty  \\\n",
       "0         2                1                 0                 0   \n",
       "1         2                1                 0                 1   \n",
       "2         4                1                 0                 0   \n",
       "3         2                1                 0                 1   \n",
       "4         3                1                 0                 1   \n",
       "...     ...              ...               ...               ...   \n",
       "132535    3                1                 0                 1   \n",
       "132536    3                1                 0                 1   \n",
       "132537    1                1                 0                 1   \n",
       "132538    3                1                 0                 0   \n",
       "132539    4                1                 0                 0   \n",
       "\n",
       "        privateMethodsQty  protectedMethodsQty  defaultMethodsQty  \\\n",
       "0                       1                    0                  0   \n",
       "1                       0                    0                  0   \n",
       "2                       1                    0                  0   \n",
       "3                       0                    0                  0   \n",
       "4                       0                    0                  0   \n",
       "...                   ...                  ...                ...   \n",
       "132535                  0                    0                  0   \n",
       "132536                  0                    0                  0   \n",
       "132537                  0                    0                  0   \n",
       "132538                  0                    0                  1   \n",
       "132539                  0                    1                  0   \n",
       "\n",
       "        abstractMethodsQty  ...  numbersQty  assignmentsQty  \\\n",
       "0                        0  ...           0               4   \n",
       "1                        1  ...           8               0   \n",
       "2                        0  ...           2               1   \n",
       "3                        1  ...           0               1   \n",
       "4                        1  ...           1               0   \n",
       "...                    ...  ...         ...             ...   \n",
       "132535                   1  ...           0               3   \n",
       "132536                   1  ...           2               1   \n",
       "132537                   1  ...          11               8   \n",
       "132538                   1  ...           2               1   \n",
       "132539                   1  ...           0               1   \n",
       "\n",
       "        mathOperationsQty  variablesQty  maxNestedBlocksQty  \\\n",
       "0                       0             2                   1   \n",
       "1                       2             0                   1   \n",
       "2                       0             1                   1   \n",
       "3                       0             1                   1   \n",
       "4                       0             0                   1   \n",
       "...                   ...           ...                 ...   \n",
       "132535                  0             3                   2   \n",
       "132536                  0             0                   2   \n",
       "132537                  0             1                   0   \n",
       "132538                  0             1                   2   \n",
       "132539                  0             1                   2   \n",
       "\n",
       "        anonymousClassesQty  innerClassesQty  lambdasQty  uniqueWordsQty  \\\n",
       "0                         0                0           0              13   \n",
       "1                         0                0           0               6   \n",
       "2                         0                0           0              14   \n",
       "3                         0                0           0              13   \n",
       "4                         0                0           0              18   \n",
       "...                     ...              ...         ...             ...   \n",
       "132535                    0                0           0               9   \n",
       "132536                    0                0           0              11   \n",
       "132537                    0                0           0              20   \n",
       "132538                    0                0           0               7   \n",
       "132539                    0                0           0               8   \n",
       "\n",
       "        modifiers  \n",
       "0               1  \n",
       "1               1  \n",
       "2               1  \n",
       "3               1  \n",
       "4               1  \n",
       "...           ...  \n",
       "132535          1  \n",
       "132536          1  \n",
       "132537          1  \n",
       "132538          1  \n",
       "132539          1  \n",
       "\n",
       "[132540 rows x 39 columns]"
      ]
     },
     "execution_count": 219,
     "metadata": {},
     "output_type": "execute_result"
    }
   ],
   "source": [
    "df_cross_v0_java_metrics"
   ]
  },
  {
   "cell_type": "code",
   "execution_count": 215,
   "metadata": {},
   "outputs": [
    {
     "data": {
      "text/plain": [
       "(126628, 39)"
      ]
     },
     "execution_count": 215,
     "metadata": {},
     "output_type": "execute_result"
    }
   ],
   "source": [
    "df_cross_v0_java_metrics.shape"
   ]
  },
  {
   "cell_type": "code",
   "execution_count": 186,
   "metadata": {},
   "outputs": [
    {
     "ename": "AssertionError",
     "evalue": "",
     "output_type": "error",
     "traceback": [
      "\u001b[0;31m---------------------------------------------------------------------------\u001b[0m",
      "\u001b[0;31mAssertionError\u001b[0m                            Traceback (most recent call last)",
      "\u001b[0;32m<ipython-input-186-66e8d1ebc6da>\u001b[0m in \u001b[0;36m<module>\u001b[0;34m\u001b[0m\n\u001b[0;32m----> 1\u001b[0;31m \u001b[0;32massert\u001b[0m \u001b[0mlen\u001b[0m\u001b[0;34m(\u001b[0m\u001b[0mdf_cross_v0\u001b[0m\u001b[0;34m)\u001b[0m \u001b[0;34m==\u001b[0m \u001b[0mlen\u001b[0m\u001b[0;34m(\u001b[0m\u001b[0mdf_cross_v0_java_metrics_base\u001b[0m\u001b[0;34m)\u001b[0m\u001b[0;34m\u001b[0m\u001b[0;34m\u001b[0m\u001b[0m\n\u001b[0m",
      "\u001b[0;31mAssertionError\u001b[0m: "
     ]
    }
   ],
   "source": [
    "assert len(df_cross_v0) == len(df_cross_v0_java_metrics_base)"
   ]
  },
  {
   "cell_type": "code",
   "execution_count": 187,
   "metadata": {},
   "outputs": [
    {
     "data": {
      "text/plain": [
       "129444"
      ]
     },
     "execution_count": 187,
     "metadata": {},
     "output_type": "execute_result"
    }
   ],
   "source": [
    "len(df_cross_v0)"
   ]
  },
  {
   "cell_type": "code",
   "execution_count": 69,
   "metadata": {},
   "outputs": [],
   "source": [
    "#saving\n",
    "df_cross_v0_java_metrics.to_json(params2['output'] / 'ck-metrics.jsonl', orient=\"records\", lines=True)"
   ]
  },
  {
   "cell_type": "code",
   "execution_count": 132,
   "metadata": {},
   "outputs": [],
   "source": [
    "#Merging DataFrames\n",
    "df_cross_v1 = pd.merge( df_cross_v0, df_cross_v0_java_metrics, on = 'file' )"
   ]
  },
  {
   "cell_type": "code",
   "execution_count": 133,
   "metadata": {},
   "outputs": [
    {
     "data": {
      "text/plain": [
       "132540"
      ]
     },
     "execution_count": 133,
     "metadata": {},
     "output_type": "execute_result"
    }
   ],
   "source": [
    "len(df_cross_v1)"
   ]
  },
  {
   "cell_type": "code",
   "execution_count": 194,
   "metadata": {},
   "outputs": [
    {
     "data": {
      "text/html": [
       "<div>\n",
       "<style scoped>\n",
       "    .dataframe tbody tr th:only-of-type {\n",
       "        vertical-align: middle;\n",
       "    }\n",
       "\n",
       "    .dataframe tbody tr th {\n",
       "        vertical-align: top;\n",
       "    }\n",
       "\n",
       "    .dataframe thead th {\n",
       "        text-align: right;\n",
       "    }\n",
       "</style>\n",
       "<table border=\"1\" class=\"dataframe\">\n",
       "  <thead>\n",
       "    <tr style=\"text-align: right;\">\n",
       "      <th></th>\n",
       "      <th>transformed_code</th>\n",
       "      <th>y_cross_entropy</th>\n",
       "      <th>x_treatment</th>\n",
       "      <th>original_code</th>\n",
       "      <th>z_count_subwords</th>\n",
       "      <th>file</th>\n",
       "      <th>class</th>\n",
       "      <th>wmc</th>\n",
       "      <th>totalMethodsQty</th>\n",
       "      <th>staticMethodsQty</th>\n",
       "      <th>...</th>\n",
       "      <th>numbersQty</th>\n",
       "      <th>assignmentsQty</th>\n",
       "      <th>mathOperationsQty</th>\n",
       "      <th>variablesQty</th>\n",
       "      <th>maxNestedBlocksQty</th>\n",
       "      <th>anonymousClassesQty</th>\n",
       "      <th>innerClassesQty</th>\n",
       "      <th>lambdasQty</th>\n",
       "      <th>uniqueWordsQty</th>\n",
       "      <th>modifiers</th>\n",
       "    </tr>\n",
       "  </thead>\n",
       "  <tbody>\n",
       "    <tr>\n",
       "      <th>0</th>\n",
       "      <td>&lt;private&gt; &lt;void&gt; success&lt;(&gt;io.netty.channel.Ch...</td>\n",
       "      <td>6.00622</td>\n",
       "      <td>False</td>\n",
       "      <td>private void success(io.netty.channel.Channel ...</td>\n",
       "      <td>177</td>\n",
       "      <td>/home/jovyan/work/nbs/../dvc-icodegen/nbs/nbs_...</td>\n",
       "      <td>ClassRecord0</td>\n",
       "      <td>1</td>\n",
       "      <td>1</td>\n",
       "      <td>0</td>\n",
       "      <td>...</td>\n",
       "      <td>1</td>\n",
       "      <td>3</td>\n",
       "      <td>0</td>\n",
       "      <td>2</td>\n",
       "      <td>0</td>\n",
       "      <td>0</td>\n",
       "      <td>0</td>\n",
       "      <td>0</td>\n",
       "      <td>8</td>\n",
       "      <td>1</td>\n",
       "    </tr>\n",
       "  </tbody>\n",
       "</table>\n",
       "<p>1 rows × 44 columns</p>\n",
       "</div>"
      ],
      "text/plain": [
       "                                    transformed_code  y_cross_entropy  \\\n",
       "0  <private> <void> success<(>io.netty.channel.Ch...          6.00622   \n",
       "\n",
       "   x_treatment                                      original_code  \\\n",
       "0        False  private void success(io.netty.channel.Channel ...   \n",
       "\n",
       "   z_count_subwords                                               file  \\\n",
       "0               177  /home/jovyan/work/nbs/../dvc-icodegen/nbs/nbs_...   \n",
       "\n",
       "          class  wmc  totalMethodsQty  staticMethodsQty  ...  numbersQty  \\\n",
       "0  ClassRecord0    1                1                 0  ...           1   \n",
       "\n",
       "   assignmentsQty  mathOperationsQty  variablesQty  maxNestedBlocksQty  \\\n",
       "0               3                  0             2                   0   \n",
       "\n",
       "   anonymousClassesQty  innerClassesQty  lambdasQty  uniqueWordsQty  modifiers  \n",
       "0                    0                0           0               8          1  \n",
       "\n",
       "[1 rows x 44 columns]"
      ]
     },
     "execution_count": 194,
     "metadata": {},
     "output_type": "execute_result"
    }
   ],
   "source": [
    "df_cross_v1.head(1)"
   ]
  },
  {
   "cell_type": "code",
   "execution_count": 195,
   "metadata": {},
   "outputs": [],
   "source": [
    "df_cross_v1_anony = df_cross_v1[df_cross_v1['class'].str.contains('Anonymous')].copy() "
   ]
  },
  {
   "cell_type": "code",
   "execution_count": 196,
   "metadata": {},
   "outputs": [
    {
     "data": {
      "text/plain": [
       "(3049, 44)"
      ]
     },
     "execution_count": 196,
     "metadata": {},
     "output_type": "execute_result"
    }
   ],
   "source": [
    "df_cross_v1_anony.shape"
   ]
  },
  {
   "cell_type": "code",
   "execution_count": 197,
   "metadata": {},
   "outputs": [],
   "source": [
    "df_cross_v1_base = df_cross_v1[~df_cross_v1['class'].str.contains('Anonymous')].copy()"
   ]
  },
  {
   "cell_type": "code",
   "execution_count": 198,
   "metadata": {},
   "outputs": [
    {
     "data": {
      "text/plain": [
       "(129491, 44)"
      ]
     },
     "execution_count": 198,
     "metadata": {},
     "output_type": "execute_result"
    }
   ],
   "source": [
    "df_cross_v1_base.shape"
   ]
  },
  {
   "cell_type": "code",
   "execution_count": 173,
   "metadata": {},
   "outputs": [
    {
     "data": {
      "text/plain": [
       "array(['private void initLeftButton() {\\n    android.widget.FrameLayout fl = ((android.widget.FrameLayout) (this.findViewById(R.id.flLeftButton)));\\n    com.joshsera.ViewGroup.LayoutParams lp = fl.getLayoutParams();\\n    fl.setLayoutParams(lp);\\n    fl.setOnTouchListener(new android.view.View.OnTouchListener() {\\n        public boolean onTouch(android.view.View v, android.view.MotionEvent ev) {\\n            return onLeftTouch(ev);\\n        }\\n    });\\n    this.flLeftButton = fl;\\n}'],\n",
       "      dtype=object)"
      ]
     },
     "execution_count": 173,
     "metadata": {},
     "output_type": "execute_result"
    }
   ],
   "source": [
    "df_cross_v1[df_cross_v1['class']=='ClassRecord105270']['original_code'].values"
   ]
  },
  {
   "cell_type": "code",
   "execution_count": 151,
   "metadata": {},
   "outputs": [
    {
     "data": {
      "text/plain": [
       "transformed_code          <private> <void> handleConnectRequest<(>com.as...\n",
       "y_cross_entropy                                                     6.36874\n",
       "x_treatment                                                           False\n",
       "original_code             private void handleConnectRequest(com.assistan...\n",
       "z_count_subwords                                                        195\n",
       "file                      /home/jovyan/work/nbs/../dvc-icodegen/nbs/nbs_...\n",
       "class                                                          ClassRecord2\n",
       "wmc                                                                       2\n",
       "totalMethodsQty                                                           1\n",
       "staticMethodsQty                                                          0\n",
       "publicMethodsQty                                                          0\n",
       "privateMethodsQty                                                         1\n",
       "protectedMethodsQty                                                       0\n",
       "defaultMethodsQty                                                         0\n",
       "abstractMethodsQty                                                        0\n",
       "finalMethodsQty                                                           0\n",
       "synchronizedMethodsQty                                                    0\n",
       "totalFieldsQty                                                            0\n",
       "staticFieldsQty                                                           0\n",
       "publicFieldsQty                                                           0\n",
       "privateFieldsQty                                                          0\n",
       "protectedFieldsQty                                                        0\n",
       "defaultFieldsQty                                                          0\n",
       "visibleFieldsQty                                                          0\n",
       "finalFieldsQty                                                            0\n",
       "synchronizedFieldsQty                                                     0\n",
       "nosi                                                                      0\n",
       "loc                                                                      12\n",
       "returnQty                                                                 1\n",
       "loopQty                                                                   0\n",
       "comparisonsQty                                                            0\n",
       "tryCatchQty                                                               0\n",
       "parenthesizedExpsQty                                                      1\n",
       "stringLiteralsQty                                                         2\n",
       "numbersQty                                                                0\n",
       "assignmentsQty                                                            0\n",
       "mathOperationsQty                                                         1\n",
       "variablesQty                                                              0\n",
       "maxNestedBlocksQty                                                        1\n",
       "anonymousClassesQty                                                       0\n",
       "innerClassesQty                                                           0\n",
       "lambdasQty                                                                0\n",
       "uniqueWordsQty                                                           17\n",
       "modifiers                                                                 1\n",
       "Name: 2, dtype: object"
      ]
     },
     "execution_count": 151,
     "metadata": {},
     "output_type": "execute_result"
    }
   ],
   "source": [
    "df_cross_v1.loc[2]"
   ]
  },
  {
   "cell_type": "code",
   "execution_count": 152,
   "metadata": {},
   "outputs": [
    {
     "data": {
      "text/plain": [
       "'private void handleConnectRequest(com.assistant.connection.ConnectionManager.ConnectRequest request) {\\n    com.assistant.utils.Log.d(com.assistant.connection.ConnectionManager.TAG, (\"handleConnectRequest, request:\" + request));\\n    if (mStopped) {\\n        com.assistant.utils.Log.d(com.assistant.connection.ConnectionManager.TAG, \"handleConnectRequest, mStopped is true\");\\n        removeConnectRequest(request.connId);\\n        notifyConnectionCreationResult(null, request.listener, true, Connection.CONNECTION_REASON_CODE_CONNECT_REQUEST_CANCELED);\\n        return ;\\n    }\\n    connectToInternal(request.ipAddress, request.port, request.listener, request);\\n}'"
      ]
     },
     "execution_count": 152,
     "metadata": {},
     "output_type": "execute_result"
    }
   ],
   "source": [
    "df_cross_v1.loc[2][3]"
   ]
  },
  {
   "cell_type": "markdown",
   "metadata": {},
   "source": [
    "# Descriptive Statistics\n",
    "\n",
    "hierarchical:\n",
    "- [hierarchical] wmc: Weight Method Class or McCabe's complexity\n",
    "\n",
    "code size:\n",
    "- [code size] loc: Lines of code\n",
    "- [code size] Number of methods: Count the number of fields, both total (totalMethodsQty) and specific (i.e., static, public, abstract, private, protected, default, final, and synchronized)\n",
    "- [code size] totalMethodsQty:\n",
    "- [code size] staticMethodsQty\n",
    "- [code size] publicMethodsQty\n",
    "- [code size] privateMethodsQty\n",
    "- [code size] protectedMethodsQty\n",
    "- [code size] defaultMethodsQty\n",
    "- [code size] abstractMethodsQty\n",
    "- [code size] finalMethodsQty\n",
    "- [code size] synchronizedMethodsQty\n",
    "- [code size] Number of fields: Count the number of fields, both total (totalFieldsQty) and specific (i.e., static, public, private, protected, default, final, and synchronized)\n",
    "- [code size] totalFieldsQty\n",
    "- [code size] staticFieldsQty\n",
    "- [code size] publicFieldsQty\n",
    "- [code size] privateFieldsQty\n",
    "- [code size] protectedFieldsQty\n",
    "- [code size] defaultFieldsQty\n",
    "- [code size] visibleFieldsQty\n",
    "- [code size] finalFieldsQty\n",
    "- [code size] synchronizedFieldsQty\n",
    "- [code size] anonymousClassesQty: Number of anonymous classes\n",
    "- [code size] innerClassesQty: Number of inner classes\n",
    "- [code size] lambdasQty: Number of lambda expressions\n",
    "\n",
    "structural:\n",
    "- [structural] returnQty: Number of return instructions\n",
    "- [structural] loopQty: Number of loops (i.e., for, while, do while, enhanced for).\n",
    "- [structural] comparisonsQty: Number of comparisons (i.e., == and !=)\n",
    "- [structural] tryCatchQty: Number of try/catch blocks\n",
    "- [structural] parenthesizedExpsQty: The number of expressions inside parenthesis\n",
    "- [structural] nosi: number of invocations to static methods. It can only count the ones that can be resolved by the JDT.\n",
    "- [structural] assignmentsQty\n",
    "- [structural] mathOperationsQty: The number of math operations (times, divide, remainder, plus, minus, left shit, right shift).\n",
    "- [structural] variablesQty: Number of declared variables\n",
    "- [structural] maxNestedBlocksQty: The highest number of blocks nested together.\n",
    "- [structural] stringLiteralsQty: Number of string literals\n",
    "- [structural] numbersQty: Number of numeric literals\n",
    "- [structural] modifiers: public/abstract/private/protected/native modifiers of classes/methods\n",
    "\n",
    "word size:\n",
    "- [word size] uniqueWordsQty: Number of unique words: Number of unique words in the source code. At method level, it only uses the method body as input. At class level, it uses the entire body of the class as metrics. The algorithm basically counts the number of words in a method/class, after removing Java keywords.\n"
   ]
  },
  {
   "cell_type": "markdown",
   "metadata": {},
   "source": [
    "All Java Set"
   ]
  },
  {
   "cell_type": "code",
   "execution_count": 70,
   "metadata": {},
   "outputs": [
    {
     "data": {
      "text/html": [
       "<div>\n",
       "<style scoped>\n",
       "    .dataframe tbody tr th:only-of-type {\n",
       "        vertical-align: middle;\n",
       "    }\n",
       "\n",
       "    .dataframe tbody tr th {\n",
       "        vertical-align: top;\n",
       "    }\n",
       "\n",
       "    .dataframe thead th {\n",
       "        text-align: right;\n",
       "    }\n",
       "</style>\n",
       "<table border=\"1\" class=\"dataframe\">\n",
       "  <thead>\n",
       "    <tr style=\"text-align: right;\">\n",
       "      <th></th>\n",
       "      <th>wmc</th>\n",
       "      <th>totalMethodsQty</th>\n",
       "      <th>staticMethodsQty</th>\n",
       "      <th>publicMethodsQty</th>\n",
       "      <th>privateMethodsQty</th>\n",
       "      <th>protectedMethodsQty</th>\n",
       "      <th>defaultMethodsQty</th>\n",
       "      <th>abstractMethodsQty</th>\n",
       "      <th>finalMethodsQty</th>\n",
       "      <th>synchronizedMethodsQty</th>\n",
       "      <th>...</th>\n",
       "      <th>numbersQty</th>\n",
       "      <th>assignmentsQty</th>\n",
       "      <th>mathOperationsQty</th>\n",
       "      <th>variablesQty</th>\n",
       "      <th>maxNestedBlocksQty</th>\n",
       "      <th>anonymousClassesQty</th>\n",
       "      <th>innerClassesQty</th>\n",
       "      <th>lambdasQty</th>\n",
       "      <th>uniqueWordsQty</th>\n",
       "      <th>modifiers</th>\n",
       "    </tr>\n",
       "  </thead>\n",
       "  <tbody>\n",
       "    <tr>\n",
       "      <th>count</th>\n",
       "      <td>132540.000000</td>\n",
       "      <td>132540.000000</td>\n",
       "      <td>132540.000000</td>\n",
       "      <td>132540.000000</td>\n",
       "      <td>132540.000000</td>\n",
       "      <td>132540.000000</td>\n",
       "      <td>132540.000000</td>\n",
       "      <td>132540.000000</td>\n",
       "      <td>132540.0</td>\n",
       "      <td>132540.000000</td>\n",
       "      <td>...</td>\n",
       "      <td>132540.000000</td>\n",
       "      <td>132540.000000</td>\n",
       "      <td>132540.000000</td>\n",
       "      <td>132540.000000</td>\n",
       "      <td>132540.000000</td>\n",
       "      <td>132540.000000</td>\n",
       "      <td>132540.000000</td>\n",
       "      <td>132540.000000</td>\n",
       "      <td>132540.000000</td>\n",
       "      <td>132540.000000</td>\n",
       "    </tr>\n",
       "    <tr>\n",
       "      <th>mean</th>\n",
       "      <td>2.455470</td>\n",
       "      <td>1.001298</td>\n",
       "      <td>0.125449</td>\n",
       "      <td>0.711793</td>\n",
       "      <td>0.202784</td>\n",
       "      <td>0.064750</td>\n",
       "      <td>0.021971</td>\n",
       "      <td>0.799208</td>\n",
       "      <td>0.0</td>\n",
       "      <td>0.008322</td>\n",
       "      <td>...</td>\n",
       "      <td>0.895450</td>\n",
       "      <td>1.846567</td>\n",
       "      <td>0.559989</td>\n",
       "      <td>1.206519</td>\n",
       "      <td>0.999366</td>\n",
       "      <td>0.023004</td>\n",
       "      <td>0.000355</td>\n",
       "      <td>0.005953</td>\n",
       "      <td>11.183771</td>\n",
       "      <td>0.953637</td>\n",
       "    </tr>\n",
       "    <tr>\n",
       "      <th>std</th>\n",
       "      <td>1.310938</td>\n",
       "      <td>0.077583</td>\n",
       "      <td>0.331228</td>\n",
       "      <td>0.460283</td>\n",
       "      <td>0.402075</td>\n",
       "      <td>0.246759</td>\n",
       "      <td>0.146691</td>\n",
       "      <td>0.409627</td>\n",
       "      <td>0.0</td>\n",
       "      <td>0.090845</td>\n",
       "      <td>...</td>\n",
       "      <td>1.705478</td>\n",
       "      <td>1.584186</td>\n",
       "      <td>1.350558</td>\n",
       "      <td>1.161094</td>\n",
       "      <td>0.832667</td>\n",
       "      <td>0.156805</td>\n",
       "      <td>0.020368</td>\n",
       "      <td>0.091444</td>\n",
       "      <td>5.059827</td>\n",
       "      <td>0.300372</td>\n",
       "    </tr>\n",
       "    <tr>\n",
       "      <th>min</th>\n",
       "      <td>0.000000</td>\n",
       "      <td>0.000000</td>\n",
       "      <td>0.000000</td>\n",
       "      <td>0.000000</td>\n",
       "      <td>0.000000</td>\n",
       "      <td>0.000000</td>\n",
       "      <td>0.000000</td>\n",
       "      <td>0.000000</td>\n",
       "      <td>0.0</td>\n",
       "      <td>0.000000</td>\n",
       "      <td>...</td>\n",
       "      <td>0.000000</td>\n",
       "      <td>0.000000</td>\n",
       "      <td>0.000000</td>\n",
       "      <td>0.000000</td>\n",
       "      <td>0.000000</td>\n",
       "      <td>0.000000</td>\n",
       "      <td>0.000000</td>\n",
       "      <td>0.000000</td>\n",
       "      <td>0.000000</td>\n",
       "      <td>-1.000000</td>\n",
       "    </tr>\n",
       "    <tr>\n",
       "      <th>25%</th>\n",
       "      <td>1.000000</td>\n",
       "      <td>1.000000</td>\n",
       "      <td>0.000000</td>\n",
       "      <td>0.000000</td>\n",
       "      <td>0.000000</td>\n",
       "      <td>0.000000</td>\n",
       "      <td>0.000000</td>\n",
       "      <td>1.000000</td>\n",
       "      <td>0.0</td>\n",
       "      <td>0.000000</td>\n",
       "      <td>...</td>\n",
       "      <td>0.000000</td>\n",
       "      <td>1.000000</td>\n",
       "      <td>0.000000</td>\n",
       "      <td>0.000000</td>\n",
       "      <td>0.000000</td>\n",
       "      <td>0.000000</td>\n",
       "      <td>0.000000</td>\n",
       "      <td>0.000000</td>\n",
       "      <td>8.000000</td>\n",
       "      <td>1.000000</td>\n",
       "    </tr>\n",
       "    <tr>\n",
       "      <th>50%</th>\n",
       "      <td>2.000000</td>\n",
       "      <td>1.000000</td>\n",
       "      <td>0.000000</td>\n",
       "      <td>1.000000</td>\n",
       "      <td>0.000000</td>\n",
       "      <td>0.000000</td>\n",
       "      <td>0.000000</td>\n",
       "      <td>1.000000</td>\n",
       "      <td>0.0</td>\n",
       "      <td>0.000000</td>\n",
       "      <td>...</td>\n",
       "      <td>0.000000</td>\n",
       "      <td>2.000000</td>\n",
       "      <td>0.000000</td>\n",
       "      <td>1.000000</td>\n",
       "      <td>1.000000</td>\n",
       "      <td>0.000000</td>\n",
       "      <td>0.000000</td>\n",
       "      <td>0.000000</td>\n",
       "      <td>10.000000</td>\n",
       "      <td>1.000000</td>\n",
       "    </tr>\n",
       "    <tr>\n",
       "      <th>75%</th>\n",
       "      <td>3.000000</td>\n",
       "      <td>1.000000</td>\n",
       "      <td>0.000000</td>\n",
       "      <td>1.000000</td>\n",
       "      <td>0.000000</td>\n",
       "      <td>0.000000</td>\n",
       "      <td>0.000000</td>\n",
       "      <td>1.000000</td>\n",
       "      <td>0.0</td>\n",
       "      <td>0.000000</td>\n",
       "      <td>...</td>\n",
       "      <td>1.000000</td>\n",
       "      <td>3.000000</td>\n",
       "      <td>0.000000</td>\n",
       "      <td>2.000000</td>\n",
       "      <td>1.000000</td>\n",
       "      <td>0.000000</td>\n",
       "      <td>0.000000</td>\n",
       "      <td>0.000000</td>\n",
       "      <td>13.000000</td>\n",
       "      <td>1.000000</td>\n",
       "    </tr>\n",
       "    <tr>\n",
       "      <th>max</th>\n",
       "      <td>18.000000</td>\n",
       "      <td>4.000000</td>\n",
       "      <td>1.000000</td>\n",
       "      <td>4.000000</td>\n",
       "      <td>1.000000</td>\n",
       "      <td>3.000000</td>\n",
       "      <td>2.000000</td>\n",
       "      <td>4.000000</td>\n",
       "      <td>0.0</td>\n",
       "      <td>1.000000</td>\n",
       "      <td>...</td>\n",
       "      <td>41.000000</td>\n",
       "      <td>19.000000</td>\n",
       "      <td>21.000000</td>\n",
       "      <td>11.000000</td>\n",
       "      <td>6.000000</td>\n",
       "      <td>4.000000</td>\n",
       "      <td>2.000000</td>\n",
       "      <td>5.000000</td>\n",
       "      <td>336.000000</td>\n",
       "      <td>1.000000</td>\n",
       "    </tr>\n",
       "  </tbody>\n",
       "</table>\n",
       "<p>8 rows × 37 columns</p>\n",
       "</div>"
      ],
      "text/plain": [
       "                 wmc  totalMethodsQty  staticMethodsQty  publicMethodsQty  \\\n",
       "count  132540.000000    132540.000000     132540.000000     132540.000000   \n",
       "mean        2.455470         1.001298          0.125449          0.711793   \n",
       "std         1.310938         0.077583          0.331228          0.460283   \n",
       "min         0.000000         0.000000          0.000000          0.000000   \n",
       "25%         1.000000         1.000000          0.000000          0.000000   \n",
       "50%         2.000000         1.000000          0.000000          1.000000   \n",
       "75%         3.000000         1.000000          0.000000          1.000000   \n",
       "max        18.000000         4.000000          1.000000          4.000000   \n",
       "\n",
       "       privateMethodsQty  protectedMethodsQty  defaultMethodsQty  \\\n",
       "count      132540.000000        132540.000000      132540.000000   \n",
       "mean            0.202784             0.064750           0.021971   \n",
       "std             0.402075             0.246759           0.146691   \n",
       "min             0.000000             0.000000           0.000000   \n",
       "25%             0.000000             0.000000           0.000000   \n",
       "50%             0.000000             0.000000           0.000000   \n",
       "75%             0.000000             0.000000           0.000000   \n",
       "max             1.000000             3.000000           2.000000   \n",
       "\n",
       "       abstractMethodsQty  finalMethodsQty  synchronizedMethodsQty  ...  \\\n",
       "count       132540.000000         132540.0           132540.000000  ...   \n",
       "mean             0.799208              0.0                0.008322  ...   \n",
       "std              0.409627              0.0                0.090845  ...   \n",
       "min              0.000000              0.0                0.000000  ...   \n",
       "25%              1.000000              0.0                0.000000  ...   \n",
       "50%              1.000000              0.0                0.000000  ...   \n",
       "75%              1.000000              0.0                0.000000  ...   \n",
       "max              4.000000              0.0                1.000000  ...   \n",
       "\n",
       "          numbersQty  assignmentsQty  mathOperationsQty   variablesQty  \\\n",
       "count  132540.000000   132540.000000      132540.000000  132540.000000   \n",
       "mean        0.895450        1.846567           0.559989       1.206519   \n",
       "std         1.705478        1.584186           1.350558       1.161094   \n",
       "min         0.000000        0.000000           0.000000       0.000000   \n",
       "25%         0.000000        1.000000           0.000000       0.000000   \n",
       "50%         0.000000        2.000000           0.000000       1.000000   \n",
       "75%         1.000000        3.000000           0.000000       2.000000   \n",
       "max        41.000000       19.000000          21.000000      11.000000   \n",
       "\n",
       "       maxNestedBlocksQty  anonymousClassesQty  innerClassesQty  \\\n",
       "count       132540.000000        132540.000000    132540.000000   \n",
       "mean             0.999366             0.023004         0.000355   \n",
       "std              0.832667             0.156805         0.020368   \n",
       "min              0.000000             0.000000         0.000000   \n",
       "25%              0.000000             0.000000         0.000000   \n",
       "50%              1.000000             0.000000         0.000000   \n",
       "75%              1.000000             0.000000         0.000000   \n",
       "max              6.000000             4.000000         2.000000   \n",
       "\n",
       "          lambdasQty  uniqueWordsQty      modifiers  \n",
       "count  132540.000000   132540.000000  132540.000000  \n",
       "mean        0.005953       11.183771       0.953637  \n",
       "std         0.091444        5.059827       0.300372  \n",
       "min         0.000000        0.000000      -1.000000  \n",
       "25%         0.000000        8.000000       1.000000  \n",
       "50%         0.000000       10.000000       1.000000  \n",
       "75%         0.000000       13.000000       1.000000  \n",
       "max         5.000000      336.000000       1.000000  \n",
       "\n",
       "[8 rows x 37 columns]"
      ]
     },
     "execution_count": 70,
     "metadata": {},
     "output_type": "execute_result"
    }
   ],
   "source": [
    "df_cross_v0_java_metrics.describe()"
   ]
  }
 ],
 "metadata": {
  "kernelspec": {
   "display_name": "Python 3",
   "language": "python",
   "name": "python3"
  },
  "language_info": {
   "codemirror_mode": {
    "name": "ipython",
    "version": 3
   },
   "file_extension": ".py",
   "mimetype": "text/x-python",
   "name": "python",
   "nbconvert_exporter": "python",
   "pygments_lexer": "ipython3",
   "version": "3.8.6"
  }
 },
 "nbformat": 4,
 "nbformat_minor": 4
}
