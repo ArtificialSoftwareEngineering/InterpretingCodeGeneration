{
 "cells": [
  {
   "cell_type": "code",
   "execution_count": null,
   "metadata": {},
   "outputs": [],
   "source": [
    "# default_exp data.covariates"
   ]
  },
  {
   "cell_type": "code",
   "execution_count": 70,
   "metadata": {},
   "outputs": [],
   "source": [
    "# hide\n",
    "%load_ext autoreload\n",
    "%autoreload 2\n",
    "%matplotlib inline"
   ]
  },
  {
   "cell_type": "code",
   "execution_count": null,
   "metadata": {},
   "outputs": [
    {
     "name": "stdout",
     "output_type": "stream",
     "text": [
      "Requirement already satisfied: tokenizers==0.9.3 in /opt/conda/lib/python3.8/site-packages (0.9.3)\n"
     ]
    }
   ],
   "source": [
    "! pip install 'tokenizers==0.9.3'\n",
    "#! pip install 'transformers==3.5.0'"
   ]
  },
  {
   "cell_type": "markdown",
   "metadata": {},
   "source": [
    "# Covariate Analysis and Feature Engineering \n",
    ">\n",
    ">@danaderp 11.17.20 .\n",
    ">"
   ]
  },
  {
   "cell_type": "code",
   "execution_count": 1,
   "metadata": {},
   "outputs": [],
   "source": [
    "#export\n",
    "import tensorflow as tf\n",
    "import numpy as np\n",
    "import pandas as pd\n",
    "import scipy.stats as st\n",
    "import os\n",
    "import time"
   ]
  },
  {
   "cell_type": "code",
   "execution_count": 2,
   "metadata": {},
   "outputs": [],
   "source": [
    "#export\n",
    "import matplotlib.pyplot as plt\n",
    "import seaborn as sns\n",
    "from scipy import stats"
   ]
  },
  {
   "cell_type": "code",
   "execution_count": 3,
   "metadata": {},
   "outputs": [],
   "source": [
    "#export\n",
    "import functools \n",
    "from operator import or_\n",
    "from collections import Counter\n",
    "import datetime"
   ]
  },
  {
   "cell_type": "code",
   "execution_count": 4,
   "metadata": {},
   "outputs": [],
   "source": [
    "#export\n",
    "#import sentencepiece as spm\n",
    "import pickle\n",
    "from pathlib import Path\n",
    "from tokenizers import Tokenizer, models"
   ]
  },
  {
   "cell_type": "code",
   "execution_count": 5,
   "metadata": {},
   "outputs": [],
   "source": [
    "#export\n",
    "from pandas.plotting import scatter_matrix\n",
    "from pandas.plotting import bootstrap_plot\n",
    "from sklearn import preprocessing"
   ]
  },
  {
   "cell_type": "code",
   "execution_count": 6,
   "metadata": {},
   "outputs": [],
   "source": [
    "#export\n",
    "import logging\n",
    "logging.basicConfig(format='%(asctime)s : %(levelname)s : %(message)s', level=logging.INFO)"
   ]
  },
  {
   "cell_type": "markdown",
   "metadata": {},
   "source": [
    "Fixing parameters"
   ]
  },
  {
   "cell_type": "code",
   "execution_count": 7,
   "metadata": {},
   "outputs": [],
   "source": [
    "#nbs_experiments/results/analyses/rnn_layers1_vocab10000_embed256_units1024\n",
    "#df_buggy.to_json(path / \"buggy.jsonl\", orient=\"records\", lines=True)\n",
    "dvc_path = Path('../dvc-icodegen/')\n",
    "def params():\n",
    "    return {\n",
    "        'tokenizer':dvc_path / 'models/bpe/tokenizer-java-v1.json',\n",
    "        'tb_01':dvc_path / 'nbs/nbs_experiments/results/analyses/rnn_layers1_vocab10000_embed256_units1024/bug_fix_error_taxonomy.jsonl',\n",
    "        'tb_02':dvc_path / 'nbs/nbs_experiments/results/analyses/rnn_layers1_vocab10000_embed256_units1024/bug_fix_cross_entropy.jsonl',\n",
    "        'output': dvc_path / 'nbs/nbs_experiments/results/analyses/rnn_layers1_vocab10000_embed256_units1024/'\n",
    "    }"
   ]
  },
  {
   "cell_type": "code",
   "execution_count": 8,
   "metadata": {},
   "outputs": [
    {
     "data": {
      "text/plain": [
       "' TO BE USED JUST IN CASE\\nfrom icodegen.data.core import replace_spec_toks_to_original, java_special_tokens\\ndf[\"original_code\"] = replace_spec_toks_to_original(df, java_special_tokens).code.values\\n'"
      ]
     },
     "execution_count": 8,
     "metadata": {},
     "output_type": "execute_result"
    }
   ],
   "source": [
    "\"\"\" TO BE USED JUST IN CASE\n",
    "from icodegen.data.core import replace_spec_toks_to_original, java_special_tokens\n",
    "df[\"original_code\"] = replace_spec_toks_to_original(df, java_special_tokens).code.values\n",
    "\"\"\""
   ]
  },
  {
   "cell_type": "code",
   "execution_count": 9,
   "metadata": {},
   "outputs": [],
   "source": [
    "params = params()"
   ]
  },
  {
   "cell_type": "code",
   "execution_count": 10,
   "metadata": {},
   "outputs": [
    {
     "data": {
      "text/plain": [
       "PosixPath('../dvc-icodegen/nbs/nbs_experiments/results/analyses/rnn_layers1_vocab10000_embed256_units1024/xxx.jsonl')"
      ]
     },
     "execution_count": 10,
     "metadata": {},
     "output_type": "execute_result"
    }
   ],
   "source": [
    "params['output'] / 'xxx.jsonl'"
   ]
  },
  {
   "cell_type": "code",
   "execution_count": 11,
   "metadata": {},
   "outputs": [
    {
     "name": "stderr",
     "output_type": "stream",
     "text": [
      "2021-07-06 18:28:10,832 : INFO : ../dvc-icodegen/models/bpe/tokenizer-java-v1.json\n"
     ]
    }
   ],
   "source": [
    "#tst\n",
    "logging.info( params['tokenizer'] )"
   ]
  },
  {
   "cell_type": "code",
   "execution_count": 12,
   "metadata": {},
   "outputs": [
    {
     "name": "stderr",
     "output_type": "stream",
     "text": [
      "2021-07-06 18:28:13,799 : INFO : Note: detected 128 virtual cores but NumExpr set to maximum of 64, check \"NUMEXPR_MAX_THREADS\" environment variable.\n",
      "2021-07-06 18:28:13,800 : INFO : Note: NumExpr detected 128 cores but \"NUMEXPR_MAX_THREADS\" not set, so enforcing safe limit of 8.\n",
      "2021-07-06 18:28:13,800 : INFO : NumExpr defaulting to 8 threads.\n"
     ]
    }
   ],
   "source": [
    "df_error_tax = pd.read_json(\n",
    "            params['tb_01'], orient=\"records\", lines=True)"
   ]
  },
  {
   "cell_type": "code",
   "execution_count": 13,
   "metadata": {},
   "outputs": [
    {
     "data": {
      "text/html": [
       "<div>\n",
       "<style scoped>\n",
       "    .dataframe tbody tr th:only-of-type {\n",
       "        vertical-align: middle;\n",
       "    }\n",
       "\n",
       "    .dataframe tbody tr th {\n",
       "        vertical-align: top;\n",
       "    }\n",
       "\n",
       "    .dataframe thead th {\n",
       "        text-align: right;\n",
       "    }\n",
       "</style>\n",
       "<table border=\"1\" class=\"dataframe\">\n",
       "  <thead>\n",
       "    <tr style=\"text-align: right;\">\n",
       "      <th></th>\n",
       "      <th>y_blocks</th>\n",
       "      <th>y_exceptions</th>\n",
       "      <th>y_oop</th>\n",
       "      <th>y_tests</th>\n",
       "      <th>y_declarations</th>\n",
       "      <th>y_conditionals</th>\n",
       "      <th>y_loops</th>\n",
       "      <th>y_operators</th>\n",
       "      <th>y_datatypes</th>\n",
       "      <th>y_extra_tokens</th>\n",
       "      <th>original_code</th>\n",
       "      <th>transformed_code</th>\n",
       "      <th>x_treatment</th>\n",
       "    </tr>\n",
       "  </thead>\n",
       "  <tbody>\n",
       "    <tr>\n",
       "      <th>0</th>\n",
       "      <td>0.016686</td>\n",
       "      <td>NaN</td>\n",
       "      <td>8.931800e-06</td>\n",
       "      <td>NaN</td>\n",
       "      <td>3.518000e-07</td>\n",
       "      <td>NaN</td>\n",
       "      <td>NaN</td>\n",
       "      <td>0.000316</td>\n",
       "      <td>NaN</td>\n",
       "      <td>0.189851</td>\n",
       "      <td>private void success(io.netty.channel.Channel ...</td>\n",
       "      <td>&lt;private&gt; &lt;void&gt; success&lt;(&gt;io.netty.channel.Ch...</td>\n",
       "      <td>False</td>\n",
       "    </tr>\n",
       "    <tr>\n",
       "      <th>1</th>\n",
       "      <td>0.016562</td>\n",
       "      <td>NaN</td>\n",
       "      <td>8.914700e-06</td>\n",
       "      <td>NaN</td>\n",
       "      <td>3.518000e-07</td>\n",
       "      <td>NaN</td>\n",
       "      <td>NaN</td>\n",
       "      <td>0.000315</td>\n",
       "      <td>NaN</td>\n",
       "      <td>0.190934</td>\n",
       "      <td>private void success(io.netty.channel.Channel ...</td>\n",
       "      <td>&lt;private&gt; &lt;void&gt; success&lt;(&gt;io.netty.channel.Ch...</td>\n",
       "      <td>True</td>\n",
       "    </tr>\n",
       "    <tr>\n",
       "      <th>2</th>\n",
       "      <td>0.019514</td>\n",
       "      <td>NaN</td>\n",
       "      <td>1.240000e-08</td>\n",
       "      <td>NaN</td>\n",
       "      <td>3.518000e-07</td>\n",
       "      <td>0.00001</td>\n",
       "      <td>NaN</td>\n",
       "      <td>0.004353</td>\n",
       "      <td>NaN</td>\n",
       "      <td>0.131582</td>\n",
       "      <td>private void handleConnectRequest(com.assistan...</td>\n",
       "      <td>&lt;private&gt; &lt;void&gt; handleConnectRequest&lt;(&gt;com.as...</td>\n",
       "      <td>False</td>\n",
       "    </tr>\n",
       "    <tr>\n",
       "      <th>3</th>\n",
       "      <td>0.020454</td>\n",
       "      <td>NaN</td>\n",
       "      <td>1.240000e-08</td>\n",
       "      <td>NaN</td>\n",
       "      <td>3.518000e-07</td>\n",
       "      <td>0.00001</td>\n",
       "      <td>NaN</td>\n",
       "      <td>0.004353</td>\n",
       "      <td>NaN</td>\n",
       "      <td>0.129045</td>\n",
       "      <td>private void handleConnectRequest(com.assistan...</td>\n",
       "      <td>&lt;private&gt; &lt;void&gt; handleConnectRequest&lt;(&gt;com.as...</td>\n",
       "      <td>True</td>\n",
       "    </tr>\n",
       "    <tr>\n",
       "      <th>4</th>\n",
       "      <td>0.014277</td>\n",
       "      <td>NaN</td>\n",
       "      <td>1.757276e-04</td>\n",
       "      <td>NaN</td>\n",
       "      <td>3.090000e-07</td>\n",
       "      <td>NaN</td>\n",
       "      <td>NaN</td>\n",
       "      <td>0.000488</td>\n",
       "      <td>0.000028</td>\n",
       "      <td>0.162347</td>\n",
       "      <td>@java.lang.Override\\nprotected void onSizeChan...</td>\n",
       "      <td>&lt;@&gt;java.lang.Override&lt;n&gt;&lt;protected&gt; &lt;void&gt; onS...</td>\n",
       "      <td>False</td>\n",
       "    </tr>\n",
       "  </tbody>\n",
       "</table>\n",
       "</div>"
      ],
      "text/plain": [
       "   y_blocks  y_exceptions         y_oop  y_tests  y_declarations  \\\n",
       "0  0.016686           NaN  8.931800e-06      NaN    3.518000e-07   \n",
       "1  0.016562           NaN  8.914700e-06      NaN    3.518000e-07   \n",
       "2  0.019514           NaN  1.240000e-08      NaN    3.518000e-07   \n",
       "3  0.020454           NaN  1.240000e-08      NaN    3.518000e-07   \n",
       "4  0.014277           NaN  1.757276e-04      NaN    3.090000e-07   \n",
       "\n",
       "   y_conditionals  y_loops  y_operators  y_datatypes  y_extra_tokens  \\\n",
       "0             NaN      NaN     0.000316          NaN        0.189851   \n",
       "1             NaN      NaN     0.000315          NaN        0.190934   \n",
       "2         0.00001      NaN     0.004353          NaN        0.131582   \n",
       "3         0.00001      NaN     0.004353          NaN        0.129045   \n",
       "4             NaN      NaN     0.000488     0.000028        0.162347   \n",
       "\n",
       "                                       original_code  \\\n",
       "0  private void success(io.netty.channel.Channel ...   \n",
       "1  private void success(io.netty.channel.Channel ...   \n",
       "2  private void handleConnectRequest(com.assistan...   \n",
       "3  private void handleConnectRequest(com.assistan...   \n",
       "4  @java.lang.Override\\nprotected void onSizeChan...   \n",
       "\n",
       "                                    transformed_code  x_treatment  \n",
       "0  <private> <void> success<(>io.netty.channel.Ch...        False  \n",
       "1  <private> <void> success<(>io.netty.channel.Ch...         True  \n",
       "2  <private> <void> handleConnectRequest<(>com.as...        False  \n",
       "3  <private> <void> handleConnectRequest<(>com.as...         True  \n",
       "4  <@>java.lang.Override<n><protected> <void> onS...        False  "
      ]
     },
     "execution_count": 13,
     "metadata": {},
     "output_type": "execute_result"
    }
   ],
   "source": [
    "df_error_tax.head()"
   ]
  },
  {
   "cell_type": "code",
   "execution_count": 192,
   "metadata": {},
   "outputs": [
    {
     "data": {
      "text/plain": [
       "(129444, 13)"
      ]
     },
     "execution_count": 192,
     "metadata": {},
     "output_type": "execute_result"
    }
   ],
   "source": [
    "df_error_tax.shape"
   ]
  },
  {
   "cell_type": "code",
   "execution_count": 14,
   "metadata": {},
   "outputs": [],
   "source": [
    "df_cross = pd.read_json(\n",
    "        params['tb_02'], orient=\"records\", lines=True)"
   ]
  },
  {
   "cell_type": "code",
   "execution_count": 15,
   "metadata": {},
   "outputs": [
    {
     "data": {
      "text/html": [
       "<div>\n",
       "<style scoped>\n",
       "    .dataframe tbody tr th:only-of-type {\n",
       "        vertical-align: middle;\n",
       "    }\n",
       "\n",
       "    .dataframe tbody tr th {\n",
       "        vertical-align: top;\n",
       "    }\n",
       "\n",
       "    .dataframe thead th {\n",
       "        text-align: right;\n",
       "    }\n",
       "</style>\n",
       "<table border=\"1\" class=\"dataframe\">\n",
       "  <thead>\n",
       "    <tr style=\"text-align: right;\">\n",
       "      <th></th>\n",
       "      <th>transformed_code</th>\n",
       "      <th>y_cross_entropy</th>\n",
       "      <th>x_treatment</th>\n",
       "      <th>original_code</th>\n",
       "    </tr>\n",
       "  </thead>\n",
       "  <tbody>\n",
       "    <tr>\n",
       "      <th>0</th>\n",
       "      <td>&lt;private&gt; &lt;void&gt; success&lt;(&gt;io.netty.channel.Ch...</td>\n",
       "      <td>6.006220</td>\n",
       "      <td>False</td>\n",
       "      <td>private void success(io.netty.channel.Channel ...</td>\n",
       "    </tr>\n",
       "    <tr>\n",
       "      <th>1</th>\n",
       "      <td>&lt;private&gt; &lt;void&gt; success&lt;(&gt;io.netty.channel.Ch...</td>\n",
       "      <td>6.008038</td>\n",
       "      <td>True</td>\n",
       "      <td>private void success(io.netty.channel.Channel ...</td>\n",
       "    </tr>\n",
       "    <tr>\n",
       "      <th>2</th>\n",
       "      <td>&lt;private&gt; &lt;void&gt; handleConnectRequest&lt;(&gt;com.as...</td>\n",
       "      <td>6.368741</td>\n",
       "      <td>False</td>\n",
       "      <td>private void handleConnectRequest(com.assistan...</td>\n",
       "    </tr>\n",
       "    <tr>\n",
       "      <th>3</th>\n",
       "      <td>&lt;private&gt; &lt;void&gt; handleConnectRequest&lt;(&gt;com.as...</td>\n",
       "      <td>6.337473</td>\n",
       "      <td>True</td>\n",
       "      <td>private void handleConnectRequest(com.assistan...</td>\n",
       "    </tr>\n",
       "    <tr>\n",
       "      <th>4</th>\n",
       "      <td>&lt;@&gt;java.lang.Override&lt;n&gt;&lt;protected&gt; &lt;void&gt; onS...</td>\n",
       "      <td>3.927699</td>\n",
       "      <td>False</td>\n",
       "      <td>@java.lang.Override\\nprotected void onSizeChan...</td>\n",
       "    </tr>\n",
       "  </tbody>\n",
       "</table>\n",
       "</div>"
      ],
      "text/plain": [
       "                                    transformed_code  y_cross_entropy  \\\n",
       "0  <private> <void> success<(>io.netty.channel.Ch...         6.006220   \n",
       "1  <private> <void> success<(>io.netty.channel.Ch...         6.008038   \n",
       "2  <private> <void> handleConnectRequest<(>com.as...         6.368741   \n",
       "3  <private> <void> handleConnectRequest<(>com.as...         6.337473   \n",
       "4  <@>java.lang.Override<n><protected> <void> onS...         3.927699   \n",
       "\n",
       "   x_treatment                                      original_code  \n",
       "0        False  private void success(io.netty.channel.Channel ...  \n",
       "1         True  private void success(io.netty.channel.Channel ...  \n",
       "2        False  private void handleConnectRequest(com.assistan...  \n",
       "3         True  private void handleConnectRequest(com.assistan...  \n",
       "4        False  @java.lang.Override\\nprotected void onSizeChan...  "
      ]
     },
     "execution_count": 15,
     "metadata": {},
     "output_type": "execute_result"
    }
   ],
   "source": [
    "df_cross.head()"
   ]
  },
  {
   "cell_type": "code",
   "execution_count": 193,
   "metadata": {},
   "outputs": [
    {
     "data": {
      "text/plain": [
       "(129444, 4)"
      ]
     },
     "execution_count": 193,
     "metadata": {},
     "output_type": "execute_result"
    }
   ],
   "source": [
    "df_cross.shape"
   ]
  },
  {
   "cell_type": "markdown",
   "metadata": {},
   "source": [
    "# First Covariate Analysis: Token Size"
   ]
  },
  {
   "cell_type": "code",
   "execution_count": 86,
   "metadata": {},
   "outputs": [],
   "source": [
    "#Upload tokenizers here\n",
    "#Use Tokenizer recent version\n",
    "#Load tokenizer\n",
    "#Update files (for one time) the main json files to add the column of tokenizers\n",
    "#Count the tokens per method\n",
    "#Visualize the most popular tokens (and less popular)"
   ]
  },
  {
   "cell_type": "code",
   "execution_count": 16,
   "metadata": {},
   "outputs": [],
   "source": [
    "#export\n",
    "class TokenizeHF():\n",
    "    def __init__( self, no_padding = True, no_truncation = True ):\n",
    "        \"\"\"\n",
    "        :param method: Code snippet (plain text)\n",
    "        :returns: Encoded result using the provided tokenizer\n",
    "        \"\"\"\n",
    "        #Load tokenizer\n",
    "        self.tokenizer = Tokenizer.from_file( str( params['tokenizer'] ) )\n",
    "        if no_padding:\n",
    "            self.tokenizer.no_padding()\n",
    "        if no_truncation:\n",
    "            self.tokenizer.no_truncation()\n",
    "        pass\n",
    "    \n",
    "    #@staticmethod\n",
    "    def tokenizeHF(self, method ):\n",
    "        output = {}\n",
    "        # encode method and then convert to format that hf models expect\n",
    "        encoding = self.tokenizer.encode( #Tokenize a Seq\n",
    "            \"<sos>\" + method\n",
    "        )\n",
    "        \"\"\"\n",
    "        This source code is for further analysis\n",
    "        output[\"input_ids\"] = tf.expand_dims(\n",
    "             tf.convert_to_tensor(encoding.ids, dtype=tf.int32), 0\n",
    "        )\n",
    "        output[\"attention_mask\"] = tf.expand_dims(\n",
    "             tf.convert_to_tensor(encoding.attention_mask, dtype=tf.int32), 0\n",
    "        )\"\"\"\n",
    "        return encoding\n",
    "    \n",
    "    #@staticmethod\n",
    "    def decodingHF( self, idss ):\n",
    "        return self.tokenizer.decode( idss , skip_special_tokens=False )\n",
    "        #return self.tokenizer.convert_ids_to_tokens(idss )"
   ]
  },
  {
   "cell_type": "code",
   "execution_count": 17,
   "metadata": {},
   "outputs": [],
   "source": [
    "code = df_cross['original_code']"
   ]
  },
  {
   "cell_type": "code",
   "execution_count": 18,
   "metadata": {},
   "outputs": [
    {
     "data": {
      "text/plain": [
       "'private void success(io.netty.channel.Channel channel) {\\n    org.mycat.netty.mysql.MySQLHandshakeHandler.logger.debug(\"success info return form MySQLHandshakeHandler\");\\n    io.netty.buffer.ByteBuf out = channel.alloc().buffer();\\n    org.mycat.netty.mysql.OK ok = new org.mycat.netty.mysql.OK();\\n    ok.sequenceId = 2;\\n    ok.setStatusFlag(Flags.SERVER_STATUS_AUTOCOMMIT);\\n    out.writeBytes(ok.toPacket());\\n    channel.writeAndFlush(out);\\n}'"
      ]
     },
     "execution_count": 18,
     "metadata": {},
     "output_type": "execute_result"
    }
   ],
   "source": [
    "code[0]"
   ]
  },
  {
   "cell_type": "code",
   "execution_count": 19,
   "metadata": {},
   "outputs": [],
   "source": [
    "class_tokenize = TokenizeHF() "
   ]
  },
  {
   "cell_type": "code",
   "execution_count": 20,
   "metadata": {},
   "outputs": [],
   "source": [
    "input_ids = class_tokenize.tokenizeHF( method = 'this is a text <private> <void> success<(>io.netty' )"
   ]
  },
  {
   "cell_type": "code",
   "execution_count": 21,
   "metadata": {},
   "outputs": [
    {
     "data": {
      "text/plain": [
       "[1, 360, 492, 388, 1634, 189, 35, 189, 50, 3905, 83, 1702, 105, 3342, 487]"
      ]
     },
     "execution_count": 21,
     "metadata": {},
     "output_type": "execute_result"
    }
   ],
   "source": [
    "input_ids.ids"
   ]
  },
  {
   "cell_type": "code",
   "execution_count": null,
   "metadata": {},
   "outputs": [
    {
     "data": {
      "text/plain": [
       "['<sos>',\n",
       " 'this',\n",
       " 'Ġis',\n",
       " 'Ġa',\n",
       " 'Ġtext',\n",
       " 'Ġ',\n",
       " '<private>',\n",
       " 'Ġ',\n",
       " '<void>',\n",
       " 'Ġsuccess',\n",
       " '<(>',\n",
       " 'io',\n",
       " '.',\n",
       " 'net',\n",
       " 'ty']"
      ]
     },
     "execution_count": null,
     "metadata": {},
     "output_type": "execute_result"
    }
   ],
   "source": [
    "input_ids.tokens"
   ]
  },
  {
   "cell_type": "code",
   "execution_count": null,
   "metadata": {},
   "outputs": [
    {
     "name": "stderr",
     "output_type": "stream",
     "text": [
      "2021-07-02 17:57:43,923 : INFO : Encoding(num_tokens=177, attributes=[ids, type_ids, tokens, offsets, attention_mask, special_tokens_mask, overflowing])\n",
      "2021-07-02 17:57:43,924 : INFO : [1, 35, 189, 50, 3905, 83, 1702, 105, 3342, 487, 105, 2867, 105, 1821, 2647, 84, 189, 79, 91, 195, 2841, 105, 4047, 2853, 105, 3342, 487, 105, 168, 2387, 1366, 105, 136, 180, 2298, 3943, 5731, 1072, 105, 1926, 105, 1025, 83, 93, 6150, 2399, 189, 38, 189, 23, 168, 464, 180, 2298, 3943, 5731, 1072, 93, 84, 85, 91, 195, 3644, 105, 3342, 487, 105, 2057, 105, 881, 3453, 1062, 189, 53, 2647, 105, 212, 2586, 83, 84, 105, 2057, 83, 84, 85, 91, 195, 2841, 105, 4047, 2853, 105, 3342, 487, 105, 168, 2387, 1366, 105, 4236, 4959, 189, 53, 189, 33, 2841, 105, 4047, 2853, 105, 3342, 487, 105, 168, 2387, 1366, 105, 4236, 83, 84, 85, 91, 195, 4959, 105, 6909, 406, 189, 53, 883, 85, 91, 195, 4959, 105, 7941, 4880, 83, 4661, 105, 5872, 154, 5014, 154, 4723, 138, 9003, 84, 85, 91, 195, 1062, 105, 967, 1305, 83, 1649, 105, 422, 5262, 83, 84, 84, 85, 91, 195, 2647, 105, 967, 1258, 6419, 83, 614, 84, 85, 91, 80]\n",
      "2021-07-02 17:57:43,925 : INFO : 177\n",
      "2021-07-02 17:57:43,926 : INFO : ['<sos>', '<private>', 'Ġ', '<void>', 'Ġsuccess', '<(>', 'io', '.', 'net', 'ty', '.', 'channel', '.', 'Channel', 'Ġchannel', '<)>', 'Ġ', '<{>', '<n>', 'ĠĠĠ', 'Ġorg', '.', 'my', 'cat', '.', 'net', 'ty', '.', 'm', 'ys', 'ql', '.', 'M', 'y', 'SQL', 'Hand', 'shake', 'Handler', '.', 'logger', '.', 'debug', '<(>', '\"', 'success', 'Ġinfo', 'Ġ', '<return>', 'Ġ', '<for>', 'm', 'ĠM', 'y', 'SQL', 'Hand', 'shake', 'Handler', '\"', '<)>', '<;>', '<n>', 'ĠĠĠ', 'Ġio', '.', 'net', 'ty', '.', 'buffer', '.', 'Byte', 'Buf', 'Ġout', 'Ġ', '<=>', 'Ġchannel', '.', 'al', 'loc', '<(>', '<)>', '.', 'buffer', '<(>', '<)>', '<;>', '<n>', 'ĠĠĠ', 'Ġorg', '.', 'my', 'cat', '.', 'net', 'ty', '.', 'm', 'ys', 'ql', '.', 'OK', 'Ġok', 'Ġ', '<=>', 'Ġ', '<new>', 'Ġorg', '.', 'my', 'cat', '.', 'net', 'ty', '.', 'm', 'ys', 'ql', '.', 'OK', '<(>', '<)>', '<;>', '<n>', 'ĠĠĠ', 'Ġok', '.', 'sequence', 'Id', 'Ġ', '<=>', 'Ġ2', '<;>', '<n>', 'ĠĠĠ', 'Ġok', '.', 'setStatus', 'Flag', '<(>', 'Flags', '.', 'SERVER', '_', 'STATUS', '_', 'AUT', 'O', 'COMMIT', '<)>', '<;>', '<n>', 'ĠĠĠ', 'Ġout', '.', 'write', 'Bytes', '<(>', 'ok', '.', 'to', 'Packet', '<(>', '<)>', '<)>', '<;>', '<n>', 'ĠĠĠ', 'Ġchannel', '.', 'write', 'And', 'Flush', '<(>', 'out', '<)>', '<;>', '<n>', '<}>']\n"
     ]
    }
   ],
   "source": [
    "input_ids = class_tokenize.tokenizeHF( method = code[0] )\n",
    "#input_ids = input_ids['input_ids']\n",
    "logging.info(input_ids)\n",
    "#logging.info(input_ids.num_tokens)\n",
    "logging.info(input_ids.ids)\n",
    "logging.info(len(input_ids.ids))\n",
    "logging.info(input_ids.tokens)"
   ]
  },
  {
   "cell_type": "code",
   "execution_count": null,
   "metadata": {},
   "outputs": [
    {
     "data": {
      "text/plain": [
       "'<sos><private> <void> handleConnectRequest<(>com.assistant.connection.ConnectionManager.ConnectRequest request<)> <{><n>    com.assistant.utils.Log.d<(>com.assistant.connection.ConnectionManager.TAG, <(>\"handleConnectRequest, request<:>\" <+> request<)><)><;><n>    <if> <(>mStopped<)> <{><n>        com.assistant.utils.Log.d<(>com.assistant.connection.ConnectionManager.TAG, \"handleConnectRequest, mStopped is <true>\"<)><;><n>        removeConnectRequest<(>request.connId<)><;><n>        not<if>yConnectionCreationResult<(><null>, request.listener, <true>, Connection.CONNECTION_REASON_CODE_CONNECT_REQUEST_CANCELED<)><;><n>        <return> <;><n>    <}><n>    connectToInternal<(>request.ipAddress, request.port, request.listener, request<)><;><n><}>'"
      ]
     },
     "execution_count": null,
     "metadata": {},
     "output_type": "execute_result"
    }
   ],
   "source": [
    "class_tokenize.decodingHF( input_ids.ids )"
   ]
  },
  {
   "cell_type": "markdown",
   "metadata": {},
   "source": [
    "### Generating the covariate column in the dataset\n",
    "- For bootstrapping please follow [link](https://towardsdatascience.com/calculating-confidence-interval-with-bootstrapping-872c657c058d)\n",
    "- For confidence intervals follow [link](https://www.statology.org/confidence-intervals-python/)"
   ]
  },
  {
   "cell_type": "code",
   "execution_count": 19,
   "metadata": {},
   "outputs": [],
   "source": [
    "#export\n",
    "def method_size( method, class_tkz ):\n",
    "    '''Return the size of the tokens for a give method based on id'''\n",
    "    input_ids = class_tkz.tokenizeHF( method = method )\n",
    "    return len(input_ids.ids)"
   ]
  },
  {
   "cell_type": "code",
   "execution_count": null,
   "metadata": {},
   "outputs": [],
   "source": [
    "z_count_subwords = [method_size( class_tkz = class_tokenize, method = mtd )  for mtd in df_cross['code'].values] #using df_cross"
   ]
  },
  {
   "cell_type": "code",
   "execution_count": null,
   "metadata": {},
   "outputs": [],
   "source": [
    "#Attaching new column\n",
    "df_error_tax['z_count_subwords'] = z_count_subwords\n",
    "df_cross['z_count_subwords'] = z_count_subwords"
   ]
  },
  {
   "cell_type": "code",
   "execution_count": null,
   "metadata": {},
   "outputs": [],
   "source": [
    "df_error_tax.to_json(params['output'] / 'bug_fix_error_taxonomy_z_v1.jsonl', orient=\"records\", lines=True)\n",
    "df_cross.to_json(params['output'] / 'bug_fix_cross_entropy_z_v1.jsonl', orient=\"records\", lines=True)"
   ]
  },
  {
   "cell_type": "code",
   "execution_count": 20,
   "metadata": {},
   "outputs": [],
   "source": [
    "#export\n",
    "def bootstrapping( np_data, np_func, size):\n",
    "    \"\"\"Create a bootstrap sample given data and a function\n",
    "    For instance, a bootstrap sample of means, or mediands. \n",
    "    The bootstrap replicates are a long as the original size\n",
    "    we can choose any observation more than once (resampling with replacement:np.random.choice)\n",
    "    \"\"\"\n",
    "    \n",
    "    #The size of the bootstrap replicate is as big as size\n",
    "    #Creating the boostrap replicates as long as the orignal data size\n",
    "    bootstrap_repl = [ np_func( np.random.choice( np_data, size=len(np_data) ) ) for i in range(size) ]\n",
    "    \n",
    "    logging.info(\"Empirical Mean: \" + str(np.mean(np_data))) #Empirical Mean\n",
    "    logging.info( \"Bootstrapped Mean: \" + str( np.mean(bootstrap_repl) ) ) #Bootstrapped Mean\n",
    "    \n",
    "    return pd.DataFrame(bootstrap_repl, columns = ['bootstrap_repl'])"
   ]
  },
  {
   "cell_type": "code",
   "execution_count": null,
   "metadata": {},
   "outputs": [
    {
     "name": "stderr",
     "output_type": "stream",
     "text": [
      "2021-06-30 17:50:24,875 : INFO : Empirical Mean: 4.375\n",
      "2021-06-30 17:50:24,875 : INFO : Bootstrapped Mean: 4.39875\n"
     ]
    }
   ],
   "source": [
    "np_data = [2,3,4,5,6,7,8,0]\n",
    "np_boots = bootstrapping( np_data, np.mean, 100)"
   ]
  },
  {
   "cell_type": "code",
   "execution_count": null,
   "metadata": {},
   "outputs": [
    {
     "data": {
      "text/plain": [
       "0.9437293044088436"
      ]
     },
     "execution_count": null,
     "metadata": {},
     "output_type": "execute_result"
    }
   ],
   "source": [
    "st.sem(np_data)"
   ]
  },
  {
   "cell_type": "code",
   "execution_count": 21,
   "metadata": {},
   "outputs": [],
   "source": [
    "#export\n",
    "def confidence_intervals(np_data, conf=0.95):\n",
    "    \"\"\"Confidence Intervals with Gaussian Distribution (n>=30)\"\"\"\n",
    "    CI = st.norm.interval(alpha=conf, loc = np.mean( np_data ), scale = st.sem(np_data))\n",
    "    logging.info( CI )\n",
    "    return CI"
   ]
  },
  {
   "cell_type": "code",
   "execution_count": null,
   "metadata": {},
   "outputs": [
    {
     "name": "stderr",
     "output_type": "stream",
     "text": [
      "2021-06-30 17:50:27,122 : INFO : (4.236137858789555, 4.561362141210444)\n",
      "2021-06-30 17:50:27,124 : INFO : (array([4.18504142]), array([4.61245858]))\n"
     ]
    },
    {
     "data": {
      "text/plain": [
       "(array([4.18504142]), array([4.61245858]))"
      ]
     },
     "execution_count": null,
     "metadata": {},
     "output_type": "execute_result"
    }
   ],
   "source": [
    "confidence_intervals(np_boots.bootstrap_repl.values)\n",
    "confidence_intervals(np_boots,conf=0.99)"
   ]
  },
  {
   "cell_type": "markdown",
   "metadata": {},
   "source": [
    "## Descriptive Statistics for first covariate (z_count_subwords)"
   ]
  },
  {
   "cell_type": "code",
   "execution_count": 22,
   "metadata": {},
   "outputs": [],
   "source": [
    "# Configuration for Second Covariate Analysis\n",
    "def params1():\n",
    "    return {\n",
    "        'tokenizer':dvc_path / 'models/bpe/tokenizer-java-v1.json',\n",
    "        'tb_01':dvc_path / 'nbs/nbs_experiments/results/analyses/rnn_layers1_vocab10000_embed256_units1024/bug_fix_error_taxonomy_z_v0.jsonl',\n",
    "        'tb_02':dvc_path / 'nbs/nbs_experiments/results/analyses/rnn_layers1_vocab10000_embed256_units1024/bug_fix_cross_entropy_z_v0.jsonl',\n",
    "        'output': dvc_path / 'nbs/nbs_experiments/results/analyses/rnn_layers1_vocab10000_embed256_units1024/',\n",
    "        'ck_jar_path': dvc_path / 'nbs/tools/ck-metrics.jar',\n",
    "        'physical_files_path': dvc_path/'nbs/nbs_experiments/results/analyses/rnn_layers1_vocab10000_embed256_units1024/test_metrics'\n",
    "    }"
   ]
  },
  {
   "cell_type": "code",
   "execution_count": 23,
   "metadata": {},
   "outputs": [],
   "source": [
    "params1 = params1()"
   ]
  },
  {
   "cell_type": "code",
   "execution_count": 24,
   "metadata": {},
   "outputs": [],
   "source": [
    "df_cross_v0 = pd.read_json(params1['tb_02'], orient=\"records\", lines=True)\n",
    "df_error_tax_v0 = pd.read_json(params1['tb_01'], orient=\"records\", lines=True)"
   ]
  },
  {
   "cell_type": "code",
   "execution_count": 25,
   "metadata": {},
   "outputs": [
    {
     "data": {
      "text/html": [
       "<div>\n",
       "<style scoped>\n",
       "    .dataframe tbody tr th:only-of-type {\n",
       "        vertical-align: middle;\n",
       "    }\n",
       "\n",
       "    .dataframe tbody tr th {\n",
       "        vertical-align: top;\n",
       "    }\n",
       "\n",
       "    .dataframe thead th {\n",
       "        text-align: right;\n",
       "    }\n",
       "</style>\n",
       "<table border=\"1\" class=\"dataframe\">\n",
       "  <thead>\n",
       "    <tr style=\"text-align: right;\">\n",
       "      <th></th>\n",
       "      <th>y_blocks</th>\n",
       "      <th>y_exceptions</th>\n",
       "      <th>y_oop</th>\n",
       "      <th>y_tests</th>\n",
       "      <th>y_declarations</th>\n",
       "      <th>y_conditionals</th>\n",
       "      <th>y_loops</th>\n",
       "      <th>y_operators</th>\n",
       "      <th>y_datatypes</th>\n",
       "      <th>y_extra_tokens</th>\n",
       "      <th>original_code</th>\n",
       "      <th>transformed_code</th>\n",
       "      <th>x_treatment</th>\n",
       "      <th>z_count_subwords</th>\n",
       "    </tr>\n",
       "  </thead>\n",
       "  <tbody>\n",
       "    <tr>\n",
       "      <th>0</th>\n",
       "      <td>0.016686</td>\n",
       "      <td>NaN</td>\n",
       "      <td>0.000009</td>\n",
       "      <td>NaN</td>\n",
       "      <td>3.518000e-07</td>\n",
       "      <td>NaN</td>\n",
       "      <td>NaN</td>\n",
       "      <td>0.000316</td>\n",
       "      <td>NaN</td>\n",
       "      <td>0.189851</td>\n",
       "      <td>private void success(io.netty.channel.Channel ...</td>\n",
       "      <td>&lt;private&gt; &lt;void&gt; success&lt;(&gt;io.netty.channel.Ch...</td>\n",
       "      <td>False</td>\n",
       "      <td>177</td>\n",
       "    </tr>\n",
       "  </tbody>\n",
       "</table>\n",
       "</div>"
      ],
      "text/plain": [
       "   y_blocks  y_exceptions     y_oop  y_tests  y_declarations  y_conditionals  \\\n",
       "0  0.016686           NaN  0.000009      NaN    3.518000e-07             NaN   \n",
       "\n",
       "   y_loops  y_operators  y_datatypes  y_extra_tokens  \\\n",
       "0      NaN     0.000316          NaN        0.189851   \n",
       "\n",
       "                                       original_code  \\\n",
       "0  private void success(io.netty.channel.Channel ...   \n",
       "\n",
       "                                    transformed_code  x_treatment  \\\n",
       "0  <private> <void> success<(>io.netty.channel.Ch...        False   \n",
       "\n",
       "   z_count_subwords  \n",
       "0               177  "
      ]
     },
     "execution_count": 25,
     "metadata": {},
     "output_type": "execute_result"
    }
   ],
   "source": [
    "df_error_tax_v0.head(1)"
   ]
  },
  {
   "cell_type": "code",
   "execution_count": 26,
   "metadata": {},
   "outputs": [
    {
     "data": {
      "text/html": [
       "<div>\n",
       "<style scoped>\n",
       "    .dataframe tbody tr th:only-of-type {\n",
       "        vertical-align: middle;\n",
       "    }\n",
       "\n",
       "    .dataframe tbody tr th {\n",
       "        vertical-align: top;\n",
       "    }\n",
       "\n",
       "    .dataframe thead th {\n",
       "        text-align: right;\n",
       "    }\n",
       "</style>\n",
       "<table border=\"1\" class=\"dataframe\">\n",
       "  <thead>\n",
       "    <tr style=\"text-align: right;\">\n",
       "      <th></th>\n",
       "      <th>transformed_code</th>\n",
       "      <th>y_cross_entropy</th>\n",
       "      <th>x_treatment</th>\n",
       "      <th>original_code</th>\n",
       "      <th>z_count_subwords</th>\n",
       "    </tr>\n",
       "  </thead>\n",
       "  <tbody>\n",
       "    <tr>\n",
       "      <th>0</th>\n",
       "      <td>&lt;private&gt; &lt;void&gt; success&lt;(&gt;io.netty.channel.Ch...</td>\n",
       "      <td>6.006</td>\n",
       "      <td>False</td>\n",
       "      <td>private void success(io.netty.channel.Channel ...</td>\n",
       "      <td>177</td>\n",
       "    </tr>\n",
       "  </tbody>\n",
       "</table>\n",
       "</div>"
      ],
      "text/plain": [
       "                                    transformed_code  y_cross_entropy  \\\n",
       "0  <private> <void> success<(>io.netty.channel.Ch...            6.006   \n",
       "\n",
       "   x_treatment                                      original_code  \\\n",
       "0        False  private void success(io.netty.channel.Channel ...   \n",
       "\n",
       "   z_count_subwords  \n",
       "0               177  "
      ]
     },
     "execution_count": 26,
     "metadata": {},
     "output_type": "execute_result"
    }
   ],
   "source": [
    "df_cross_v0.round(3).head(1)"
   ]
  },
  {
   "cell_type": "code",
   "execution_count": 27,
   "metadata": {},
   "outputs": [
    {
     "data": {
      "text/html": [
       "<div>\n",
       "<style scoped>\n",
       "    .dataframe tbody tr th:only-of-type {\n",
       "        vertical-align: middle;\n",
       "    }\n",
       "\n",
       "    .dataframe tbody tr th {\n",
       "        vertical-align: top;\n",
       "    }\n",
       "\n",
       "    .dataframe thead th {\n",
       "        text-align: right;\n",
       "    }\n",
       "</style>\n",
       "<table border=\"1\" class=\"dataframe\">\n",
       "  <thead>\n",
       "    <tr style=\"text-align: right;\">\n",
       "      <th></th>\n",
       "      <th>y_blocks</th>\n",
       "      <th>y_exceptions</th>\n",
       "      <th>y_oop</th>\n",
       "      <th>y_tests</th>\n",
       "      <th>y_declarations</th>\n",
       "      <th>y_conditionals</th>\n",
       "      <th>y_loops</th>\n",
       "      <th>y_operators</th>\n",
       "      <th>y_datatypes</th>\n",
       "      <th>y_extra_tokens</th>\n",
       "      <th>z_count_subwords</th>\n",
       "    </tr>\n",
       "  </thead>\n",
       "  <tbody>\n",
       "    <tr>\n",
       "      <th>count</th>\n",
       "      <td>129444.000000</td>\n",
       "      <td>3.237900e+04</td>\n",
       "      <td>1.280570e+05</td>\n",
       "      <td>7.080000e+02</td>\n",
       "      <td>8.949200e+04</td>\n",
       "      <td>7.478600e+04</td>\n",
       "      <td>3.163100e+04</td>\n",
       "      <td>1.238690e+05</td>\n",
       "      <td>5.470000e+04</td>\n",
       "      <td>129435.000000</td>\n",
       "      <td>129444.000000</td>\n",
       "    </tr>\n",
       "    <tr>\n",
       "      <th>mean</th>\n",
       "      <td>0.027398</td>\n",
       "      <td>6.619357e-06</td>\n",
       "      <td>1.560847e-03</td>\n",
       "      <td>2.682235e-06</td>\n",
       "      <td>7.849119e-07</td>\n",
       "      <td>1.756289e-05</td>\n",
       "      <td>2.001032e-05</td>\n",
       "      <td>2.942739e-03</td>\n",
       "      <td>1.386176e-05</td>\n",
       "      <td>0.138973</td>\n",
       "      <td>185.407628</td>\n",
       "    </tr>\n",
       "    <tr>\n",
       "      <th>std</th>\n",
       "      <td>0.018042</td>\n",
       "      <td>1.147974e-05</td>\n",
       "      <td>3.662612e-03</td>\n",
       "      <td>1.730872e-06</td>\n",
       "      <td>9.729956e-06</td>\n",
       "      <td>1.632367e-05</td>\n",
       "      <td>7.926272e-05</td>\n",
       "      <td>1.205765e-02</td>\n",
       "      <td>3.451656e-05</td>\n",
       "      <td>0.041075</td>\n",
       "      <td>64.357274</td>\n",
       "    </tr>\n",
       "    <tr>\n",
       "      <th>min</th>\n",
       "      <td>0.000492</td>\n",
       "      <td>1.300000e-09</td>\n",
       "      <td>8.000000e-10</td>\n",
       "      <td>1.842000e-07</td>\n",
       "      <td>4.300000e-09</td>\n",
       "      <td>2.500000e-09</td>\n",
       "      <td>7.630000e-08</td>\n",
       "      <td>1.400000e-09</td>\n",
       "      <td>2.400000e-09</td>\n",
       "      <td>0.000181</td>\n",
       "      <td>68.000000</td>\n",
       "    </tr>\n",
       "    <tr>\n",
       "      <th>25%</th>\n",
       "      <td>0.013624</td>\n",
       "      <td>8.082000e-07</td>\n",
       "      <td>8.300000e-08</td>\n",
       "      <td>1.641200e-06</td>\n",
       "      <td>1.819000e-07</td>\n",
       "      <td>7.591900e-06</td>\n",
       "      <td>4.239600e-06</td>\n",
       "      <td>1.492274e-04</td>\n",
       "      <td>8.347000e-07</td>\n",
       "      <td>0.111008</td>\n",
       "      <td>143.000000</td>\n",
       "    </tr>\n",
       "    <tr>\n",
       "      <th>50%</th>\n",
       "      <td>0.024140</td>\n",
       "      <td>1.648700e-06</td>\n",
       "      <td>8.668500e-06</td>\n",
       "      <td>2.242750e-06</td>\n",
       "      <td>3.461000e-07</td>\n",
       "      <td>1.201850e-05</td>\n",
       "      <td>9.298200e-06</td>\n",
       "      <td>3.664036e-04</td>\n",
       "      <td>3.514200e-06</td>\n",
       "      <td>0.137228</td>\n",
       "      <td>176.000000</td>\n",
       "    </tr>\n",
       "    <tr>\n",
       "      <th>75%</th>\n",
       "      <td>0.037357</td>\n",
       "      <td>8.043200e-06</td>\n",
       "      <td>1.417618e-03</td>\n",
       "      <td>3.153475e-06</td>\n",
       "      <td>4.551000e-07</td>\n",
       "      <td>2.195810e-05</td>\n",
       "      <td>1.711530e-05</td>\n",
       "      <td>1.072184e-03</td>\n",
       "      <td>1.234690e-05</td>\n",
       "      <td>0.164987</td>\n",
       "      <td>216.000000</td>\n",
       "    </tr>\n",
       "    <tr>\n",
       "      <th>max</th>\n",
       "      <td>0.180986</td>\n",
       "      <td>2.466836e-04</td>\n",
       "      <td>1.678386e-01</td>\n",
       "      <td>1.249600e-05</td>\n",
       "      <td>1.013232e-03</td>\n",
       "      <td>5.137535e-04</td>\n",
       "      <td>8.033565e-03</td>\n",
       "      <td>4.924544e-01</td>\n",
       "      <td>1.900545e-03</td>\n",
       "      <td>0.369389</td>\n",
       "      <td>4465.000000</td>\n",
       "    </tr>\n",
       "  </tbody>\n",
       "</table>\n",
       "</div>"
      ],
      "text/plain": [
       "            y_blocks  y_exceptions         y_oop       y_tests  \\\n",
       "count  129444.000000  3.237900e+04  1.280570e+05  7.080000e+02   \n",
       "mean        0.027398  6.619357e-06  1.560847e-03  2.682235e-06   \n",
       "std         0.018042  1.147974e-05  3.662612e-03  1.730872e-06   \n",
       "min         0.000492  1.300000e-09  8.000000e-10  1.842000e-07   \n",
       "25%         0.013624  8.082000e-07  8.300000e-08  1.641200e-06   \n",
       "50%         0.024140  1.648700e-06  8.668500e-06  2.242750e-06   \n",
       "75%         0.037357  8.043200e-06  1.417618e-03  3.153475e-06   \n",
       "max         0.180986  2.466836e-04  1.678386e-01  1.249600e-05   \n",
       "\n",
       "       y_declarations  y_conditionals       y_loops   y_operators  \\\n",
       "count    8.949200e+04    7.478600e+04  3.163100e+04  1.238690e+05   \n",
       "mean     7.849119e-07    1.756289e-05  2.001032e-05  2.942739e-03   \n",
       "std      9.729956e-06    1.632367e-05  7.926272e-05  1.205765e-02   \n",
       "min      4.300000e-09    2.500000e-09  7.630000e-08  1.400000e-09   \n",
       "25%      1.819000e-07    7.591900e-06  4.239600e-06  1.492274e-04   \n",
       "50%      3.461000e-07    1.201850e-05  9.298200e-06  3.664036e-04   \n",
       "75%      4.551000e-07    2.195810e-05  1.711530e-05  1.072184e-03   \n",
       "max      1.013232e-03    5.137535e-04  8.033565e-03  4.924544e-01   \n",
       "\n",
       "        y_datatypes  y_extra_tokens  z_count_subwords  \n",
       "count  5.470000e+04   129435.000000     129444.000000  \n",
       "mean   1.386176e-05        0.138973        185.407628  \n",
       "std    3.451656e-05        0.041075         64.357274  \n",
       "min    2.400000e-09        0.000181         68.000000  \n",
       "25%    8.347000e-07        0.111008        143.000000  \n",
       "50%    3.514200e-06        0.137228        176.000000  \n",
       "75%    1.234690e-05        0.164987        216.000000  \n",
       "max    1.900545e-03        0.369389       4465.000000  "
      ]
     },
     "execution_count": 27,
     "metadata": {},
     "output_type": "execute_result"
    }
   ],
   "source": [
    "df_error_tax_v0.describe()"
   ]
  },
  {
   "cell_type": "code",
   "execution_count": 31,
   "metadata": {},
   "outputs": [
    {
     "data": {
      "text/html": [
       "<div>\n",
       "<style scoped>\n",
       "    .dataframe tbody tr th:only-of-type {\n",
       "        vertical-align: middle;\n",
       "    }\n",
       "\n",
       "    .dataframe tbody tr th {\n",
       "        vertical-align: top;\n",
       "    }\n",
       "\n",
       "    .dataframe thead th {\n",
       "        text-align: right;\n",
       "    }\n",
       "</style>\n",
       "<table border=\"1\" class=\"dataframe\">\n",
       "  <thead>\n",
       "    <tr style=\"text-align: right;\">\n",
       "      <th></th>\n",
       "      <th>y_cross_entropy</th>\n",
       "      <th>z_count_subwords</th>\n",
       "    </tr>\n",
       "  </thead>\n",
       "  <tbody>\n",
       "    <tr>\n",
       "      <th>count</th>\n",
       "      <td>129444.000</td>\n",
       "      <td>129444.000</td>\n",
       "    </tr>\n",
       "    <tr>\n",
       "      <th>mean</th>\n",
       "      <td>6.143</td>\n",
       "      <td>185.408</td>\n",
       "    </tr>\n",
       "    <tr>\n",
       "      <th>std</th>\n",
       "      <td>1.511</td>\n",
       "      <td>64.357</td>\n",
       "    </tr>\n",
       "    <tr>\n",
       "      <th>min</th>\n",
       "      <td>2.066</td>\n",
       "      <td>68.000</td>\n",
       "    </tr>\n",
       "    <tr>\n",
       "      <th>25%</th>\n",
       "      <td>5.039</td>\n",
       "      <td>143.000</td>\n",
       "    </tr>\n",
       "    <tr>\n",
       "      <th>50%</th>\n",
       "      <td>5.983</td>\n",
       "      <td>176.000</td>\n",
       "    </tr>\n",
       "    <tr>\n",
       "      <th>75%</th>\n",
       "      <td>7.085</td>\n",
       "      <td>216.000</td>\n",
       "    </tr>\n",
       "    <tr>\n",
       "      <th>max</th>\n",
       "      <td>12.283</td>\n",
       "      <td>4465.000</td>\n",
       "    </tr>\n",
       "  </tbody>\n",
       "</table>\n",
       "</div>"
      ],
      "text/plain": [
       "       y_cross_entropy  z_count_subwords\n",
       "count       129444.000        129444.000\n",
       "mean             6.143           185.408\n",
       "std              1.511            64.357\n",
       "min              2.066            68.000\n",
       "25%              5.039           143.000\n",
       "50%              5.983           176.000\n",
       "75%              7.085           216.000\n",
       "max             12.283          4465.000"
      ]
     },
     "execution_count": 31,
     "metadata": {},
     "output_type": "execute_result"
    }
   ],
   "source": [
    "df_cross_v0.describe().round(3)"
   ]
  },
  {
   "cell_type": "code",
   "execution_count": 32,
   "metadata": {},
   "outputs": [
    {
     "data": {
      "text/plain": [
       "<AxesSubplot:title={'center':'z_count_subwords'}, xlabel='[x_treatment]'>"
      ]
     },
     "execution_count": 32,
     "metadata": {},
     "output_type": "execute_result"
    },
    {
     "data": {
      "image/png": "[encoded data removed]",
      "text/plain": [
       "<Figure size 432x288 with 1 Axes>"
      ]
     },
     "metadata": {
      "needs_background": "light"
     },
     "output_type": "display_data"
    }
   ],
   "source": [
    "#first covariate by treatment\n",
    "df_cross_v0[['z_count_subwords','x_treatment']].boxplot( \n",
    "    by='x_treatment',\n",
    "    showfliers=False,\n",
    ")"
   ]
  },
  {
   "cell_type": "markdown",
   "metadata": {},
   "source": [
    "### Correlation Analysis Entropy"
   ]
  },
  {
   "cell_type": "code",
   "execution_count": 33,
   "metadata": {},
   "outputs": [],
   "source": [
    "LIM = 500\n",
    "S = 2"
   ]
  },
  {
   "cell_type": "code",
   "execution_count": 34,
   "metadata": {},
   "outputs": [],
   "source": [
    "df_buggy_cross_v0 = df_cross_v0.loc[lambda row: row['x_treatment'] == True  ].copy()\n",
    "df_nonbuggy_cross_v0 = df_cross_v0.loc[lambda row: row['x_treatment'] == False  ].copy()"
   ]
  },
  {
   "cell_type": "code",
   "execution_count": 35,
   "metadata": {},
   "outputs": [
    {
     "data": {
      "text/html": [
       "<div>\n",
       "<style scoped>\n",
       "    .dataframe tbody tr th:only-of-type {\n",
       "        vertical-align: middle;\n",
       "    }\n",
       "\n",
       "    .dataframe tbody tr th {\n",
       "        vertical-align: top;\n",
       "    }\n",
       "\n",
       "    .dataframe thead th {\n",
       "        text-align: right;\n",
       "    }\n",
       "</style>\n",
       "<table border=\"1\" class=\"dataframe\">\n",
       "  <thead>\n",
       "    <tr style=\"text-align: right;\">\n",
       "      <th></th>\n",
       "      <th>y_cross_entropy</th>\n",
       "      <th>z_count_subwords</th>\n",
       "    </tr>\n",
       "  </thead>\n",
       "  <tbody>\n",
       "    <tr>\n",
       "      <th>count</th>\n",
       "      <td>64722.000000</td>\n",
       "      <td>64722.000000</td>\n",
       "    </tr>\n",
       "    <tr>\n",
       "      <th>mean</th>\n",
       "      <td>6.148851</td>\n",
       "      <td>185.643460</td>\n",
       "    </tr>\n",
       "    <tr>\n",
       "      <th>std</th>\n",
       "      <td>1.513355</td>\n",
       "      <td>64.668787</td>\n",
       "    </tr>\n",
       "    <tr>\n",
       "      <th>min</th>\n",
       "      <td>2.118368</td>\n",
       "      <td>68.000000</td>\n",
       "    </tr>\n",
       "    <tr>\n",
       "      <th>25%</th>\n",
       "      <td>5.047101</td>\n",
       "      <td>143.000000</td>\n",
       "    </tr>\n",
       "    <tr>\n",
       "      <th>50%</th>\n",
       "      <td>5.987264</td>\n",
       "      <td>176.000000</td>\n",
       "    </tr>\n",
       "    <tr>\n",
       "      <th>75%</th>\n",
       "      <td>7.099688</td>\n",
       "      <td>216.000000</td>\n",
       "    </tr>\n",
       "    <tr>\n",
       "      <th>max</th>\n",
       "      <td>12.283474</td>\n",
       "      <td>4448.000000</td>\n",
       "    </tr>\n",
       "  </tbody>\n",
       "</table>\n",
       "</div>"
      ],
      "text/plain": [
       "       y_cross_entropy  z_count_subwords\n",
       "count     64722.000000      64722.000000\n",
       "mean          6.148851        185.643460\n",
       "std           1.513355         64.668787\n",
       "min           2.118368         68.000000\n",
       "25%           5.047101        143.000000\n",
       "50%           5.987264        176.000000\n",
       "75%           7.099688        216.000000\n",
       "max          12.283474       4448.000000"
      ]
     },
     "execution_count": 35,
     "metadata": {},
     "output_type": "execute_result"
    }
   ],
   "source": [
    "df_nonbuggy_cross_v0.describe()"
   ]
  },
  {
   "cell_type": "code",
   "execution_count": 36,
   "metadata": {},
   "outputs": [
    {
     "data": {
      "text/plain": [
       "<AxesSubplot:xlabel='z_count_subwords', ylabel='y_cross_entropy'>"
      ]
     },
     "execution_count": 36,
     "metadata": {},
     "output_type": "execute_result"
    },
    {
     "data": {
      "image/png": "[encoded data removed]",
      "text/plain": [
       "<Figure size 432x288 with 1 Axes>"
      ]
     },
     "metadata": {
      "needs_background": "light"
     },
     "output_type": "display_data"
    }
   ],
   "source": [
    "ax = df_buggy_cross_v0.plot.scatter(x=\"z_count_subwords\", y=\"y_cross_entropy\", s=S, color=\"DarkBlue\", label=\"Buggy\")\n",
    "df_nonbuggy_cross_v0.plot.scatter(x=\"z_count_subwords\", y=\"y_cross_entropy\", s= S,color=\"Green\", label=\"non-Buggy\", alpha=0.3, ax=ax)"
   ]
  },
  {
   "cell_type": "code",
   "execution_count": 37,
   "metadata": {},
   "outputs": [],
   "source": [
    "def corrcoef(v,w):\n",
    "    x = np.corrcoef(v,w)\n",
    "    x = np.round(x[0][1],3)\n",
    "    return x"
   ]
  },
  {
   "cell_type": "code",
   "execution_count": 38,
   "metadata": {},
   "outputs": [
    {
     "data": {
      "text/plain": [
       "0.87"
      ]
     },
     "execution_count": 38,
     "metadata": {},
     "output_type": "execute_result"
    }
   ],
   "source": [
    "#General Correlation\n",
    "corrcoef(df_cross_v0.y_cross_entropy.values,df_cross_v0.z_count_subwords.values)"
   ]
  },
  {
   "cell_type": "code",
   "execution_count": 39,
   "metadata": {},
   "outputs": [
    {
     "data": {
      "text/plain": [
       "0.873"
      ]
     },
     "execution_count": 39,
     "metadata": {},
     "output_type": "execute_result"
    }
   ],
   "source": [
    "#Buggy Correlation\n",
    "corrcoef(df_buggy_cross_v0.y_cross_entropy.values, df_buggy_cross_v0.z_count_subwords.values)"
   ]
  },
  {
   "cell_type": "code",
   "execution_count": 40,
   "metadata": {},
   "outputs": [
    {
     "data": {
      "text/plain": [
       "0.867"
      ]
     },
     "execution_count": 40,
     "metadata": {},
     "output_type": "execute_result"
    }
   ],
   "source": [
    "#NonBuggy Correlation\n",
    "corrcoef(df_nonbuggy_cross_v0.y_cross_entropy.values, df_nonbuggy_cross_v0.z_count_subwords.values)"
   ]
  },
  {
   "cell_type": "code",
   "execution_count": 41,
   "metadata": {},
   "outputs": [
    {
     "data": {
      "text/plain": [
       "<AxesSubplot:xlabel='z_count_subwords', ylabel='y_cross_entropy'>"
      ]
     },
     "execution_count": 41,
     "metadata": {},
     "output_type": "execute_result"
    },
    {
     "data": {
      "image/png": "[encoded data removed]",
      "text/plain": [
       "<Figure size 432x288 with 1 Axes>"
      ]
     },
     "metadata": {
      "needs_background": "light"
     },
     "output_type": "display_data"
    }
   ],
   "source": [
    "ax = df_buggy_cross_v0.loc[lambda row: row[\"z_count_subwords\"] < LIM ].plot.scatter(x=\"z_count_subwords\", y=\"y_cross_entropy\", s=S, color=\"DarkBlue\", label=\"Buggy\")\n",
    "df_nonbuggy_cross_v0.loc[lambda row: row[\"z_count_subwords\"] < LIM ].plot.scatter(x=\"z_count_subwords\", y=\"y_cross_entropy\", s=S, color=\"Green\", label=\"non-Buggy\", alpha=0.3, ax=ax)"
   ]
  },
  {
   "cell_type": "markdown",
   "metadata": {},
   "source": [
    "### Correlation Analysis Error Taxonomy"
   ]
  },
  {
   "cell_type": "code",
   "execution_count": 42,
   "metadata": {},
   "outputs": [],
   "source": [
    "taxonomy = ['y_blocks',\n",
    "'y_exceptions','y_oop','y_tests',\n",
    "'y_declarations','y_conditionals','y_loops',\n",
    "'y_operators','y_datatypes','y_extra_tokens']"
   ]
  },
  {
   "cell_type": "code",
   "execution_count": 43,
   "metadata": {},
   "outputs": [],
   "source": [
    "df_buggy_error_tax_v0  = df_error_tax_v0.loc[lambda row: row['x_treatment'] == True  ].copy()\n",
    "df_nonbuggy_error_tax_v0  = df_error_tax_v0.loc[lambda row: row['x_treatment'] == False  ].copy()"
   ]
  },
  {
   "cell_type": "code",
   "execution_count": 172,
   "metadata": {},
   "outputs": [
    {
     "data": {
      "text/plain": [
       "0        NaN\n",
       "1        NaN\n",
       "2        NaN\n",
       "3        NaN\n",
       "4        NaN\n",
       "          ..\n",
       "129435   NaN\n",
       "129438   NaN\n",
       "129439   NaN\n",
       "129440   NaN\n",
       "129441   NaN\n",
       "Name: y_exceptions, Length: 97065, dtype: float64"
      ]
     },
     "execution_count": 172,
     "metadata": {},
     "output_type": "execute_result"
    }
   ],
   "source": [
    "df_error_tax_v0['y_exceptions'][df_error_tax_v0['y_exceptions'].isnull()] #Counting nans"
   ]
  },
  {
   "cell_type": "code",
   "execution_count": 44,
   "metadata": {},
   "outputs": [
    {
     "data": {
      "text/html": [
       "<div>\n",
       "<style scoped>\n",
       "    .dataframe tbody tr th:only-of-type {\n",
       "        vertical-align: middle;\n",
       "    }\n",
       "\n",
       "    .dataframe tbody tr th {\n",
       "        vertical-align: top;\n",
       "    }\n",
       "\n",
       "    .dataframe thead th {\n",
       "        text-align: right;\n",
       "    }\n",
       "</style>\n",
       "<table border=\"1\" class=\"dataframe\">\n",
       "  <thead>\n",
       "    <tr style=\"text-align: right;\">\n",
       "      <th></th>\n",
       "      <th>y_exceptions</th>\n",
       "      <th>z_count_subwords</th>\n",
       "    </tr>\n",
       "  </thead>\n",
       "  <tbody>\n",
       "    <tr>\n",
       "      <th>10</th>\n",
       "      <td>2.952000e-07</td>\n",
       "      <td>142</td>\n",
       "    </tr>\n",
       "    <tr>\n",
       "      <th>11</th>\n",
       "      <td>2.952000e-07</td>\n",
       "      <td>137</td>\n",
       "    </tr>\n",
       "    <tr>\n",
       "      <th>14</th>\n",
       "      <td>9.763000e-07</td>\n",
       "      <td>147</td>\n",
       "    </tr>\n",
       "    <tr>\n",
       "      <th>15</th>\n",
       "      <td>7.271000e-07</td>\n",
       "      <td>142</td>\n",
       "    </tr>\n",
       "    <tr>\n",
       "      <th>26</th>\n",
       "      <td>9.242300e-06</td>\n",
       "      <td>125</td>\n",
       "    </tr>\n",
       "    <tr>\n",
       "      <th>...</th>\n",
       "      <td>...</td>\n",
       "      <td>...</td>\n",
       "    </tr>\n",
       "    <tr>\n",
       "      <th>129429</th>\n",
       "      <td>5.148000e-07</td>\n",
       "      <td>167</td>\n",
       "    </tr>\n",
       "    <tr>\n",
       "      <th>129436</th>\n",
       "      <td>8.380000e-07</td>\n",
       "      <td>137</td>\n",
       "    </tr>\n",
       "    <tr>\n",
       "      <th>129437</th>\n",
       "      <td>8.394000e-07</td>\n",
       "      <td>120</td>\n",
       "    </tr>\n",
       "    <tr>\n",
       "      <th>129442</th>\n",
       "      <td>9.771000e-07</td>\n",
       "      <td>140</td>\n",
       "    </tr>\n",
       "    <tr>\n",
       "      <th>129443</th>\n",
       "      <td>9.960000e-07</td>\n",
       "      <td>142</td>\n",
       "    </tr>\n",
       "  </tbody>\n",
       "</table>\n",
       "<p>32379 rows × 2 columns</p>\n",
       "</div>"
      ],
      "text/plain": [
       "        y_exceptions  z_count_subwords\n",
       "10      2.952000e-07               142\n",
       "11      2.952000e-07               137\n",
       "14      9.763000e-07               147\n",
       "15      7.271000e-07               142\n",
       "26      9.242300e-06               125\n",
       "...              ...               ...\n",
       "129429  5.148000e-07               167\n",
       "129436  8.380000e-07               137\n",
       "129437  8.394000e-07               120\n",
       "129442  9.771000e-07               140\n",
       "129443  9.960000e-07               142\n",
       "\n",
       "[32379 rows x 2 columns]"
      ]
     },
     "execution_count": 44,
     "metadata": {},
     "output_type": "execute_result"
    }
   ],
   "source": [
    "df_error_tax_v0[['y_exceptions','z_count_subwords']].dropna(axis=0, how='any')"
   ]
  },
  {
   "cell_type": "code",
   "execution_count": 44,
   "metadata": {},
   "outputs": [
    {
     "name": "stderr",
     "output_type": "stream",
     "text": [
      "2021-07-06 18:33:11,095 : INFO : y_blocks-0.102\n"
     ]
    }
   ],
   "source": [
    "df_temp = df_error_tax_v0[['y_blocks','z_count_subwords']].dropna(axis=0, how='any')\n",
    "logging.info( 'y_blocks' + str( corrcoef(df_temp['y_blocks'].values, df_temp.z_count_subwords.values) ) )"
   ]
  },
  {
   "cell_type": "code",
   "execution_count": 45,
   "metadata": {},
   "outputs": [
    {
     "name": "stderr",
     "output_type": "stream",
     "text": [
      "2021-07-06 18:33:21,773 : INFO : y_blocks:-0.102\n",
      "2021-07-06 18:33:21,778 : INFO : y_exceptions:0.013\n",
      "2021-07-06 18:33:21,785 : INFO : y_oop:0.029\n",
      "2021-07-06 18:33:21,789 : INFO : y_tests:-0.046\n",
      "2021-07-06 18:33:21,796 : INFO : y_declarations:-0.003\n",
      "2021-07-06 18:33:21,804 : INFO : y_conditionals:0.03\n",
      "2021-07-06 18:33:21,809 : INFO : y_loops:0.1\n",
      "2021-07-06 18:33:21,816 : INFO : y_operators:0.015\n",
      "2021-07-06 18:33:21,821 : INFO : y_datatypes:-0.043\n",
      "2021-07-06 18:33:21,828 : INFO : y_extra_tokens:0.025\n"
     ]
    }
   ],
   "source": [
    "#General Correlation\n",
    "for i in taxonomy:\n",
    "    df_temp = df_error_tax_v0[[i,'z_count_subwords']].dropna(axis=0, how='any')\n",
    "    logging.info( str(i)+':' + str( corrcoef(df_temp[i].values, df_temp.z_count_subwords.values) ) )"
   ]
  },
  {
   "cell_type": "code",
   "execution_count": 46,
   "metadata": {},
   "outputs": [
    {
     "name": "stderr",
     "output_type": "stream",
     "text": [
      "2021-07-06 18:33:22,866 : INFO : y_blocks:-0.103\n",
      "2021-07-06 18:33:22,870 : INFO : y_exceptions:0.013\n",
      "2021-07-06 18:33:22,875 : INFO : y_oop:0.028\n",
      "2021-07-06 18:33:22,878 : INFO : y_tests:-0.047\n",
      "2021-07-06 18:33:22,883 : INFO : y_declarations:-0.004\n",
      "2021-07-06 18:33:22,890 : INFO : y_conditionals:0.026\n",
      "2021-07-06 18:33:22,894 : INFO : y_loops:0.098\n",
      "2021-07-06 18:33:22,898 : INFO : y_operators:0.018\n",
      "2021-07-06 18:33:22,904 : INFO : y_datatypes:-0.044\n",
      "2021-07-06 18:33:22,910 : INFO : y_extra_tokens:0.023\n"
     ]
    }
   ],
   "source": [
    "#Buggy Correlation\n",
    "for i in taxonomy:\n",
    "    df_temp = df_buggy_error_tax_v0[[i,'z_count_subwords']].dropna(axis=0, how='any')\n",
    "    logging.info( str(i)+':' + str( corrcoef(df_temp[i].values, df_temp.z_count_subwords.values) ) )"
   ]
  },
  {
   "cell_type": "code",
   "execution_count": 47,
   "metadata": {},
   "outputs": [
    {
     "name": "stderr",
     "output_type": "stream",
     "text": [
      "2021-07-06 18:33:25,359 : INFO : y_blocks:-0.102\n",
      "2021-07-06 18:33:25,363 : INFO : y_exceptions:0.014\n",
      "2021-07-06 18:33:25,367 : INFO : y_oop:0.029\n",
      "2021-07-06 18:33:25,370 : INFO : y_tests:-0.047\n",
      "2021-07-06 18:33:25,374 : INFO : y_declarations:-0.003\n",
      "2021-07-06 18:33:25,379 : INFO : y_conditionals:0.033\n",
      "2021-07-06 18:33:25,383 : INFO : y_loops:0.101\n",
      "2021-07-06 18:33:25,389 : INFO : y_operators:0.013\n",
      "2021-07-06 18:33:25,394 : INFO : y_datatypes:-0.043\n",
      "2021-07-06 18:33:25,399 : INFO : y_extra_tokens:0.027\n"
     ]
    }
   ],
   "source": [
    "#nonBuggy Correlation\n",
    "for i in taxonomy:\n",
    "    df_temp = df_nonbuggy_error_tax_v0[[i,'z_count_subwords']].dropna(axis=0, how='any')\n",
    "    logging.info( str(i)+':' + str( corrcoef(df_temp[i].values, df_temp.z_count_subwords.values) ) )"
   ]
  },
  {
   "cell_type": "code",
   "execution_count": null,
   "metadata": {},
   "outputs": [
    {
     "data": {
      "text/plain": [
       "0         177\n",
       "1         177\n",
       "2         195\n",
       "3         195\n",
       "4         121\n",
       "         ... \n",
       "129439    196\n",
       "129440    199\n",
       "129441    195\n",
       "129442    140\n",
       "129443    142\n",
       "Name: z_count_subwords, Length: 96787, dtype: int64"
      ]
     },
     "execution_count": null,
     "metadata": {},
     "output_type": "execute_result"
    }
   ],
   "source": [
    "df_cross_v0['z_count_subwords'].loc[lambda row: row < LIM ]"
   ]
  },
  {
   "cell_type": "markdown",
   "metadata": {},
   "source": [
    "### Bootstrapping of Means [z_count_subwords]"
   ]
  },
  {
   "cell_type": "code",
   "execution_count": 48,
   "metadata": {},
   "outputs": [
    {
     "name": "stderr",
     "output_type": "stream",
     "text": [
      "2021-07-06 18:33:40,134 : INFO : Empirical Mean: 185.4076280090232\n",
      "2021-07-06 18:33:40,135 : INFO : Bootstrapped Mean: 185.3918577763357\n"
     ]
    }
   ],
   "source": [
    "bs_cross = bootstrapping( df_cross_v0.z_count_subwords.values , np.mean, 500)"
   ]
  },
  {
   "cell_type": "code",
   "execution_count": 49,
   "metadata": {},
   "outputs": [
    {
     "name": "stderr",
     "output_type": "stream",
     "text": [
      "2021-07-06 18:33:41,942 : INFO : (185.37534785223545, 185.40836770043597)\n"
     ]
    },
    {
     "data": {
      "text/plain": [
       "(185.37534785223545, 185.40836770043597)"
      ]
     },
     "execution_count": 49,
     "metadata": {},
     "output_type": "execute_result"
    }
   ],
   "source": [
    "confidence_intervals( bs_cross.bootstrap_repl.values )"
   ]
  },
  {
   "cell_type": "code",
   "execution_count": 50,
   "metadata": {},
   "outputs": [
    {
     "data": {
      "text/plain": [
       "<AxesSubplot:ylabel='Frequency'>"
      ]
     },
     "execution_count": 50,
     "metadata": {},
     "output_type": "execute_result"
    },
    {
     "data": {
      "image/png": "[encoded data removed]",
      "text/plain": [
       "<Figure size 432x288 with 1 Axes>"
      ]
     },
     "metadata": {
      "needs_background": "light"
     },
     "output_type": "display_data"
    }
   ],
   "source": [
    "bs_cross.plot.hist(alpha=0.5, bins=50)"
   ]
  },
  {
   "cell_type": "markdown",
   "metadata": {},
   "source": [
    "### Empirical PDF and CDF [z_count_subwords]"
   ]
  },
  {
   "cell_type": "code",
   "execution_count": 51,
   "metadata": {},
   "outputs": [
    {
     "data": {
      "text/plain": [
       "<AxesSubplot:ylabel='Frequency'>"
      ]
     },
     "execution_count": 51,
     "metadata": {},
     "output_type": "execute_result"
    },
    {
     "data": {
      "image/png": "[encoded data removed]",
      "text/plain": [
       "<Figure size 432x288 with 1 Axes>"
      ]
     },
     "metadata": {
      "needs_background": "light"
     },
     "output_type": "display_data"
    }
   ],
   "source": [
    "# Empirical PDF or Probability Density Function\n",
    "df_cross_v0['z_count_subwords'].loc[lambda row: row < LIM ].plot.hist(alpha=0.5, bins=50)"
   ]
  },
  {
   "cell_type": "code",
   "execution_count": 52,
   "metadata": {},
   "outputs": [
    {
     "data": {
      "text/plain": [
       "<AxesSubplot:ylabel='Density'>"
      ]
     },
     "execution_count": 52,
     "metadata": {},
     "output_type": "execute_result"
    },
    {
     "data": {
      "image/png": "[encoded data removed]",
      "text/plain": [
       "<Figure size 432x288 with 1 Axes>"
      ]
     },
     "metadata": {
      "needs_background": "light"
     },
     "output_type": "display_data"
    }
   ],
   "source": [
    "# PDF or Probability Density Function\n",
    "df_cross_v0['z_count_subwords'].loc[lambda row: row < LIM ].plot.kde()"
   ]
  },
  {
   "cell_type": "code",
   "execution_count": 53,
   "metadata": {},
   "outputs": [
    {
     "data": {
      "text/plain": [
       "<AxesSubplot:ylabel='Frequency'>"
      ]
     },
     "execution_count": 53,
     "metadata": {},
     "output_type": "execute_result"
    },
    {
     "data": {
      "image/png": "[encoded data removed]",
      "text/plain": [
       "<Figure size 432x288 with 1 Axes>"
      ]
     },
     "metadata": {
      "needs_background": "light"
     },
     "output_type": "display_data"
    }
   ],
   "source": [
    "#Empirical CDF demonstrate that 50% of methods in our sample have around 180 or less tokens. \n",
    "df_cross_v0['z_count_subwords'].loc[lambda row: row < LIM ].plot.hist( \n",
    "    cumulative = True,\n",
    "    density =1,\n",
    "    bins=100\n",
    ")"
   ]
  },
  {
   "cell_type": "markdown",
   "metadata": {},
   "source": [
    "# Second Covariate Analysis: SE Metrics\n",
    "> This module provides a tool for computing metrics (from static analysis) for python source code using Using <a href=\"https://github.com/mauricioaniche/ck\">CK Package</a>\n",
    "\n",
    "CK is a java package (jar) which is going to be executed from terminal. It requires the code which is going to be analyzed to be located at <i>physical</i> files. For that reason, the dataset is going to be used to produce some <i>.java</i> files.\n",
    "\n",
    "Each record, corresponds to a individual class. When working with method-level snippets, \"articial\" classes are created for performing the analysis."
   ]
  },
  {
   "cell_type": "code",
   "execution_count": 54,
   "metadata": {},
   "outputs": [],
   "source": [
    "from subprocess import *\n",
    "import os\n",
    "import shutil"
   ]
  },
  {
   "cell_type": "code",
   "execution_count": 55,
   "metadata": {},
   "outputs": [
    {
     "data": {
      "text/plain": [
       "subprocess.Popen"
      ]
     },
     "execution_count": 55,
     "metadata": {},
     "output_type": "execute_result"
    }
   ],
   "source": [
    "Popen"
   ]
  },
  {
   "cell_type": "code",
   "execution_count": 56,
   "metadata": {},
   "outputs": [],
   "source": [
    "# export\n",
    "def write_dataset_to_files(df_series, destination_path):\n",
    "    \"\"\"\n",
    "    Function to generate .java files.\n",
    "    \n",
    "    Params:\n",
    "    # df_series: Pandas Series (DataFrame column) with the source code records.\n",
    "    # destination_path: (str) Absolute path to be used as directory for the generated files.\n",
    "    \n",
    "    Returns:\n",
    "    \n",
    "    Collection of paths for the corresponding java files.\n",
    "    \n",
    "    \"\"\"\n",
    "    java_template = 'public class <class_name>{\\n    <code_snippet>\\n}'\n",
    "    \n",
    "    if not os.path.exists(destination_path):\n",
    "        logging.info('Creating directory.')\n",
    "        os.mkdir(destination_path)\n",
    "    \n",
    "    logging.info(\"Generating physical .java files.\")\n",
    "    \n",
    "    file_paths = []\n",
    "    for idx, value in df_series.iteritems():\n",
    "        class_name = f'ClassRecord{idx}'\n",
    "        code = java_template.replace('<class_name>', class_name)\n",
    "        code = code.replace('<code_snippet>', value)\n",
    "        file_path = f'{destination_path}/{class_name}.java'\n",
    "        with open(file_path, 'w') as file:\n",
    "            file.write(code)\n",
    "            file_paths.append(file_path)\n",
    "            \n",
    "    return file_paths"
   ]
  },
  {
   "cell_type": "code",
   "execution_count": 57,
   "metadata": {},
   "outputs": [],
   "source": [
    "# export\n",
    "def jarWrapper(*args):\n",
    "    process = Popen(['java', '-jar']+list(args), stdout=PIPE, stderr=PIPE)\n",
    "    ret = []\n",
    "    while process.poll() is None:\n",
    "        line = process.stdout.readline()\n",
    "        if line != '' and line.endswith(b'\\n'):\n",
    "            ret.append(line[:-1])\n",
    "    stdout, stderr = process.communicate()\n",
    "    \n",
    "    ret += stdout.split(b'\\n')\n",
    "    if stderr != '':\n",
    "        ret += stderr.split(b'\\n')\n",
    "        \n",
    "    if '' in ret:\n",
    "        ret.remove('')\n",
    "    return ret"
   ]
  },
  {
   "cell_type": "code",
   "execution_count": 58,
   "metadata": {},
   "outputs": [],
   "source": [
    "# export\n",
    "class JavaAnalyzer():\n",
    "    \"\"\"\n",
    "    Class get metrics f\n",
    "    \"\"\"\n",
    "    def __init__(self, ck_jar_path):\n",
    "        self.ck_jar_path = ck_jar_path\n",
    "    \n",
    "    def compute_metrics(self, df_series, files_destination_path):\n",
    "        \"\"\"\n",
    "        Computes metrics for a pandas series of java source code snippets\n",
    "        \n",
    "        Params\n",
    "        # df_series: Pandas series (df column) containing java source snippets\n",
    "        # files_destination_path: Path indicating where the physical .java files are going to be created (for metrics computation)\n",
    "        \n",
    "        Returns:\n",
    "        \n",
    "        Pandas Dataframe containing metrics\n",
    "        \n",
    "        \"\"\"\n",
    "        file_paths = write_dataset_to_files(df_series, files_destination_path)\n",
    "        self.__call_ck_package(files_destination_path)\n",
    "        metrics_df = self.__get_metrics_df()\n",
    "        self.__remove_csv_files()\n",
    "        self.__remove_tmp_java_files(file_paths)\n",
    "        \n",
    "        return metrics_df\n",
    "        \n",
    "    def __call_ck_package(self, files_path):\n",
    "        \"\"\"\n",
    "        Performs call to external .jar package.\n",
    "        \"\"\"\n",
    "        args = [self.ck_jar_path, files_path, 'false', '0', 'True']\n",
    "        result = jarWrapper(*args)\n",
    "        logging.info(f'CK package produced this output:\\n{result}')\n",
    "        \n",
    "    def __get_metrics_df(self):\n",
    "        \"\"\"\n",
    "        Reads report files (csv) generated by the CK package.\n",
    "        \n",
    "        Returns:\n",
    "        \n",
    "        Pandas Dataframe containing appropriate metrics\n",
    "        \"\"\"\n",
    "        class_metrics_df = pd.read_csv('class.csv')\n",
    "        # method_metrics_df = pd.read_csv('method.csv')\n",
    "\n",
    "        # merged_df = pd.merge(left = class_metrics_df, right = method_metrics_df, left_on='file', right_on='file')\n",
    "\n",
    "        appropriate_columns = ['file','class', 'wmc', 'totalMethodsQty', 'staticMethodsQty', 'publicMethodsQty', 'privateMethodsQty',\n",
    "                          'protectedMethodsQty', 'defaultMethodsQty', 'abstractMethodsQty', 'finalMethodsQty','synchronizedMethodsQty',\n",
    "                          'totalFieldsQty', 'staticFieldsQty', 'publicFieldsQty', 'privateFieldsQty', 'protectedFieldsQty',\n",
    "                          'defaultFieldsQty', 'visibleFieldsQty', 'finalFieldsQty', 'synchronizedFieldsQty',\n",
    "                          'nosi', 'loc', 'returnQty', 'loopQty', 'comparisonsQty', 'tryCatchQty', 'parenthesizedExpsQty',\n",
    "                          'stringLiteralsQty', 'numbersQty', 'assignmentsQty', 'mathOperationsQty', 'variablesQty', 'maxNestedBlocksQty',\n",
    "                          'anonymousClassesQty', 'innerClassesQty', 'lambdasQty', 'uniqueWordsQty', 'modifiers']\n",
    "\n",
    "        class_metrics_df = class_metrics_df[appropriate_columns]\n",
    "\n",
    "        return class_metrics_df\n",
    "    \n",
    "    def __remove_csv_files(self):\n",
    "        \"\"\"\n",
    "        Removes files generated by CK package.\n",
    "        \"\"\"\n",
    "        if os.path.exists('class.csv'):\n",
    "            os.remove('class.csv')\n",
    "        if os.path.exists('method.csv'):\n",
    "            os.remove('method.csv')\n",
    "        if os.path.exists('field.csv'):\n",
    "            os.remove('field.csv')\n",
    "            \n",
    "    def __remove_tmp_java_files(self, paths):\n",
    "        \"\"\"\n",
    "        Removes the temporary generated java files.\n",
    "        \"\"\"\n",
    "        for file_path in paths:\n",
    "            os.remove(file_path)"
   ]
  },
  {
   "cell_type": "code",
   "execution_count": 395,
   "metadata": {},
   "outputs": [],
   "source": [
    "# Configuration for Second Covariate Analysis\n",
    "def params2():\n",
    "    return {\n",
    "        'tokenizer':dvc_path / 'models/bpe/tokenizer-java-v1.json',\n",
    "        'tb_01':dvc_path / 'nbs/nbs_experiments/results/analyses/rnn_layers1_vocab10000_embed256_units1024/bug_fix_error_taxonomy_z_v0.jsonl',\n",
    "        'tb_02':dvc_path / 'nbs/nbs_experiments/results/analyses/rnn_layers1_vocab10000_embed256_units1024/bug_fix_cross_entropy_z_v0.jsonl',\n",
    "        'output': dvc_path / 'datax/data_z_covariates/rnn_layers1_vocab10000_embed256_units1024/',\n",
    "        'ck_jar_path': dvc_path / 'nbs/tools/ck-metrics.jar',\n",
    "        'physical_files_path': dvc_path/'nbs/nbs_experiments/results/analyses/rnn_layers1_vocab10000_embed256_units1024/test_metrics'\n",
    "    }"
   ]
  },
  {
   "cell_type": "code",
   "execution_count": 396,
   "metadata": {},
   "outputs": [],
   "source": [
    "params2 = params2()"
   ]
  },
  {
   "cell_type": "code",
   "execution_count": 61,
   "metadata": {},
   "outputs": [
    {
     "data": {
      "text/plain": [
       "'../dvc-icodegen/nbs/tools/ck-metrics.jar'"
      ]
     },
     "execution_count": 61,
     "metadata": {},
     "output_type": "execute_result"
    }
   ],
   "source": [
    "str(params2['ck_jar_path'])"
   ]
  },
  {
   "cell_type": "code",
   "execution_count": 63,
   "metadata": {},
   "outputs": [
    {
     "data": {
      "text/plain": [
       "PosixPath('../dvc-icodegen/nbs/tools/ck-metrics.jar')"
      ]
     },
     "execution_count": 63,
     "metadata": {},
     "output_type": "execute_result"
    }
   ],
   "source": [
    "params2['ck_jar_path']"
   ]
  },
  {
   "cell_type": "code",
   "execution_count": 126,
   "metadata": {},
   "outputs": [
    {
     "data": {
      "text/html": [
       "<div>\n",
       "<style scoped>\n",
       "    .dataframe tbody tr th:only-of-type {\n",
       "        vertical-align: middle;\n",
       "    }\n",
       "\n",
       "    .dataframe tbody tr th {\n",
       "        vertical-align: top;\n",
       "    }\n",
       "\n",
       "    .dataframe thead th {\n",
       "        text-align: right;\n",
       "    }\n",
       "</style>\n",
       "<table border=\"1\" class=\"dataframe\">\n",
       "  <thead>\n",
       "    <tr style=\"text-align: right;\">\n",
       "      <th></th>\n",
       "      <th>transformed_code</th>\n",
       "      <th>y_cross_entropy</th>\n",
       "      <th>x_treatment</th>\n",
       "      <th>original_code</th>\n",
       "      <th>z_count_subwords</th>\n",
       "      <th>file</th>\n",
       "    </tr>\n",
       "  </thead>\n",
       "  <tbody>\n",
       "    <tr>\n",
       "      <th>0</th>\n",
       "      <td>&lt;private&gt; &lt;void&gt; success&lt;(&gt;io.netty.channel.Ch...</td>\n",
       "      <td>6.00622</td>\n",
       "      <td>False</td>\n",
       "      <td>private void success(io.netty.channel.Channel ...</td>\n",
       "      <td>177</td>\n",
       "      <td>../dvc-icodegen/nbs/nbs_experiments/results/an...</td>\n",
       "    </tr>\n",
       "  </tbody>\n",
       "</table>\n",
       "</div>"
      ],
      "text/plain": [
       "                                    transformed_code  y_cross_entropy  \\\n",
       "0  <private> <void> success<(>io.netty.channel.Ch...          6.00622   \n",
       "\n",
       "   x_treatment                                      original_code  \\\n",
       "0        False  private void success(io.netty.channel.Channel ...   \n",
       "\n",
       "   z_count_subwords                                               file  \n",
       "0               177  ../dvc-icodegen/nbs/nbs_experiments/results/an...  "
      ]
     },
     "execution_count": 126,
     "metadata": {},
     "output_type": "execute_result"
    }
   ],
   "source": [
    "df_cross_v0.head(1)"
   ]
  },
  {
   "cell_type": "code",
   "execution_count": 65,
   "metadata": {},
   "outputs": [
    {
     "data": {
      "text/html": [
       "<div>\n",
       "<style scoped>\n",
       "    .dataframe tbody tr th:only-of-type {\n",
       "        vertical-align: middle;\n",
       "    }\n",
       "\n",
       "    .dataframe tbody tr th {\n",
       "        vertical-align: top;\n",
       "    }\n",
       "\n",
       "    .dataframe thead th {\n",
       "        text-align: right;\n",
       "    }\n",
       "</style>\n",
       "<table border=\"1\" class=\"dataframe\">\n",
       "  <thead>\n",
       "    <tr style=\"text-align: right;\">\n",
       "      <th></th>\n",
       "      <th>y_blocks</th>\n",
       "      <th>y_exceptions</th>\n",
       "      <th>y_oop</th>\n",
       "      <th>y_tests</th>\n",
       "      <th>y_declarations</th>\n",
       "      <th>y_conditionals</th>\n",
       "      <th>y_loops</th>\n",
       "      <th>y_operators</th>\n",
       "      <th>y_datatypes</th>\n",
       "      <th>y_extra_tokens</th>\n",
       "      <th>original_code</th>\n",
       "      <th>transformed_code</th>\n",
       "      <th>x_treatment</th>\n",
       "      <th>z_count_subwords</th>\n",
       "    </tr>\n",
       "  </thead>\n",
       "  <tbody>\n",
       "    <tr>\n",
       "      <th>0</th>\n",
       "      <td>0.016686</td>\n",
       "      <td>NaN</td>\n",
       "      <td>0.000009</td>\n",
       "      <td>NaN</td>\n",
       "      <td>3.518000e-07</td>\n",
       "      <td>NaN</td>\n",
       "      <td>NaN</td>\n",
       "      <td>0.000316</td>\n",
       "      <td>NaN</td>\n",
       "      <td>0.189851</td>\n",
       "      <td>private void success(io.netty.channel.Channel ...</td>\n",
       "      <td>&lt;private&gt; &lt;void&gt; success&lt;(&gt;io.netty.channel.Ch...</td>\n",
       "      <td>False</td>\n",
       "      <td>177</td>\n",
       "    </tr>\n",
       "  </tbody>\n",
       "</table>\n",
       "</div>"
      ],
      "text/plain": [
       "   y_blocks  y_exceptions     y_oop  y_tests  y_declarations  y_conditionals  \\\n",
       "0  0.016686           NaN  0.000009      NaN    3.518000e-07             NaN   \n",
       "\n",
       "   y_loops  y_operators  y_datatypes  y_extra_tokens  \\\n",
       "0      NaN     0.000316          NaN        0.189851   \n",
       "\n",
       "                                       original_code  \\\n",
       "0  private void success(io.netty.channel.Channel ...   \n",
       "\n",
       "                                    transformed_code  x_treatment  \\\n",
       "0  <private> <void> success<(>io.netty.channel.Ch...        False   \n",
       "\n",
       "   z_count_subwords  \n",
       "0               177  "
      ]
     },
     "execution_count": 65,
     "metadata": {},
     "output_type": "execute_result"
    }
   ],
   "source": [
    "df_error_tax_v0.head(1)"
   ]
  },
  {
   "cell_type": "code",
   "execution_count": 66,
   "metadata": {},
   "outputs": [],
   "source": [
    "java_analyzer = JavaAnalyzer( params2['ck_jar_path'] )"
   ]
  },
  {
   "cell_type": "code",
   "execution_count": 79,
   "metadata": {},
   "outputs": [
    {
     "name": "stderr",
     "output_type": "stream",
     "text": [
      "2021-07-06 20:50:25,036 : INFO : Generating physical .java files.\n"
     ]
    }
   ],
   "source": [
    "#Updates df_cross_v0\n",
    "#Becareful to not recompute this code, make sure to erase the folder afterwards\n",
    "df_cross_v0_paths = write_dataset_to_files( df_cross_v0['original_code'], params2['physical_files_path'] )"
   ]
  },
  {
   "cell_type": "code",
   "execution_count": 114,
   "metadata": {},
   "outputs": [
    {
     "data": {
      "text/plain": [
       "'private void success(io.netty.channel.Channel channel) {\\n    org.mycat.netty.mysql.MySQLHandshakeHandler.logger.debug(\"success info return form MySQLHandshakeHandler\");\\n    io.netty.buffer.ByteBuf out = channel.alloc().buffer();\\n    org.mycat.netty.mysql.OK ok = new org.mycat.netty.mysql.OK();\\n    ok.sequenceId = 2;\\n    ok.setStatusFlag(Flags.SERVER_STATUS_AUTOCOMMIT);\\n    out.writeBytes(ok.toPacket());\\n    channel.writeAndFlush(out);\\n}'"
      ]
     },
     "execution_count": 114,
     "metadata": {},
     "output_type": "execute_result"
    }
   ],
   "source": [
    "df_cross_v0['original_code'][0]"
   ]
  },
  {
   "cell_type": "code",
   "execution_count": 81,
   "metadata": {},
   "outputs": [
    {
     "data": {
      "text/plain": [
       "'../dvc-icodegen/nbs/nbs_experiments/results/analyses/rnn_layers1_vocab10000_embed256_units1024/test_metrics/ClassRecord0.java'"
      ]
     },
     "execution_count": 81,
     "metadata": {},
     "output_type": "execute_result"
    }
   ],
   "source": [
    "df_cross_v0_paths[0]"
   ]
  },
  {
   "cell_type": "code",
   "execution_count": 127,
   "metadata": {},
   "outputs": [],
   "source": [
    "file_path = ['/home/jovyan/work/nbs/'+i for i in df_cross_v0_paths]"
   ]
  },
  {
   "cell_type": "code",
   "execution_count": 220,
   "metadata": {},
   "outputs": [
    {
     "data": {
      "text/plain": [
       "129444"
      ]
     },
     "execution_count": 220,
     "metadata": {},
     "output_type": "execute_result"
    }
   ],
   "source": [
    "len(file_path)"
   ]
  },
  {
   "cell_type": "code",
   "execution_count": 129,
   "metadata": {},
   "outputs": [],
   "source": [
    "#updating main frames with filepaths\n",
    "df_cross_v0['file'] = file_path"
   ]
  },
  {
   "cell_type": "code",
   "execution_count": 370,
   "metadata": {},
   "outputs": [],
   "source": [
    "df_error_tax_v0['file'] = file_path"
   ]
  },
  {
   "cell_type": "code",
   "execution_count": 130,
   "metadata": {},
   "outputs": [
    {
     "data": {
      "text/html": [
       "<div>\n",
       "<style scoped>\n",
       "    .dataframe tbody tr th:only-of-type {\n",
       "        vertical-align: middle;\n",
       "    }\n",
       "\n",
       "    .dataframe tbody tr th {\n",
       "        vertical-align: top;\n",
       "    }\n",
       "\n",
       "    .dataframe thead th {\n",
       "        text-align: right;\n",
       "    }\n",
       "</style>\n",
       "<table border=\"1\" class=\"dataframe\">\n",
       "  <thead>\n",
       "    <tr style=\"text-align: right;\">\n",
       "      <th></th>\n",
       "      <th>transformed_code</th>\n",
       "      <th>y_cross_entropy</th>\n",
       "      <th>x_treatment</th>\n",
       "      <th>original_code</th>\n",
       "      <th>z_count_subwords</th>\n",
       "      <th>file</th>\n",
       "    </tr>\n",
       "  </thead>\n",
       "  <tbody>\n",
       "    <tr>\n",
       "      <th>0</th>\n",
       "      <td>&lt;private&gt; &lt;void&gt; success&lt;(&gt;io.netty.channel.Ch...</td>\n",
       "      <td>6.00622</td>\n",
       "      <td>False</td>\n",
       "      <td>private void success(io.netty.channel.Channel ...</td>\n",
       "      <td>177</td>\n",
       "      <td>/home/jovyan/work/nbs/../dvc-icodegen/nbs/nbs_...</td>\n",
       "    </tr>\n",
       "  </tbody>\n",
       "</table>\n",
       "</div>"
      ],
      "text/plain": [
       "                                    transformed_code  y_cross_entropy  \\\n",
       "0  <private> <void> success<(>io.netty.channel.Ch...          6.00622   \n",
       "\n",
       "   x_treatment                                      original_code  \\\n",
       "0        False  private void success(io.netty.channel.Channel ...   \n",
       "\n",
       "   z_count_subwords                                               file  \n",
       "0               177  /home/jovyan/work/nbs/../dvc-icodegen/nbs/nbs_...  "
      ]
     },
     "execution_count": 130,
     "metadata": {},
     "output_type": "execute_result"
    }
   ],
   "source": [
    "df_cross_v0.head(1)"
   ]
  },
  {
   "cell_type": "code",
   "execution_count": null,
   "metadata": {},
   "outputs": [],
   "source": [
    "#renaming just in case\n",
    "df_cross_v0.rename(columns = {'file':'file'}, inplace = True)"
   ]
  },
  {
   "cell_type": "code",
   "execution_count": 131,
   "metadata": {},
   "outputs": [],
   "source": [
    "assert len(df_cross_v0_paths) == len(df_error_tax_v0)"
   ]
  },
  {
   "cell_type": "code",
   "execution_count": 95,
   "metadata": {},
   "outputs": [
    {
     "name": "stderr",
     "output_type": "stream",
     "text": [
      "2021-07-06 21:58:35,544 : INFO : Generating physical .java files.\n",
      "2021-07-06 23:29:06,703 : INFO : CK package produced this output:\n",
      "[b'', b'log4j:WARN No appenders could be found for logger (com.github.mauricioaniche.ck.CK).', b'log4j:WARN Please initialize the log4j system properly.', b'']\n"
     ]
    }
   ],
   "source": [
    "#TODO\n",
    "#df_cross_v0_java_metrics should change the name to something about the covariate\n",
    "df_cross_v0_java_metrics = java_analyzer.compute_metrics( df_cross_v0['original_code'], params2['physical_files_path'] )"
   ]
  },
  {
   "cell_type": "code",
   "execution_count": 235,
   "metadata": {},
   "outputs": [
    {
     "data": {
      "text/plain": [
       "(132540, 39)"
      ]
     },
     "execution_count": 235,
     "metadata": {},
     "output_type": "execute_result"
    }
   ],
   "source": [
    "df_cross_v0_java_metrics.shape"
   ]
  },
  {
   "cell_type": "markdown",
   "metadata": {},
   "source": [
    "### Anonymous Class Treatment"
   ]
  },
  {
   "cell_type": "code",
   "execution_count": 229,
   "metadata": {},
   "outputs": [],
   "source": [
    "#tst\n",
    "cnt = Counter()\n",
    "redundant_class = [] #Anonimous Classes Paths"
   ]
  },
  {
   "cell_type": "code",
   "execution_count": 230,
   "metadata": {},
   "outputs": [],
   "source": [
    "#tst\n",
    "for path in file_path:\n",
    "    instances = df_cross_v0_java_metrics[df_cross_v0_java_metrics['file']==path].shape[0]\n",
    "    cnt[path] += instances\n",
    "    if instances > 1:\n",
    "        redundant_class.append([instances,path])"
   ]
  },
  {
   "cell_type": "code",
   "execution_count": 245,
   "metadata": {},
   "outputs": [
    {
     "data": {
      "text/plain": [
       "2904"
      ]
     },
     "execution_count": 245,
     "metadata": {},
     "output_type": "execute_result"
    }
   ],
   "source": [
    "len(redundant_class)"
   ]
  },
  {
   "cell_type": "code",
   "execution_count": 249,
   "metadata": {},
   "outputs": [
    {
     "data": {
      "text/plain": [
       "[[2,\n",
       "  '/home/jovyan/work/nbs/../dvc-icodegen/nbs/nbs_experiments/results/analyses/rnn_layers1_vocab10000_embed256_units1024/test_metrics/ClassRecord170.java'],\n",
       " [2,\n",
       "  '/home/jovyan/work/nbs/../dvc-icodegen/nbs/nbs_experiments/results/analyses/rnn_layers1_vocab10000_embed256_units1024/test_metrics/ClassRecord171.java']]"
      ]
     },
     "execution_count": 249,
     "metadata": {},
     "output_type": "execute_result"
    }
   ],
   "source": [
    "redundant_class[:2]"
   ]
  },
  {
   "cell_type": "code",
   "execution_count": 234,
   "metadata": {},
   "outputs": [
    {
     "data": {
      "text/plain": [
       "129444"
      ]
     },
     "execution_count": 234,
     "metadata": {},
     "output_type": "execute_result"
    }
   ],
   "source": [
    "len(cnt[''])"
   ]
  },
  {
   "cell_type": "code",
   "execution_count": 265,
   "metadata": {},
   "outputs": [],
   "source": [
    "#Non anonimous clases\n",
    "temporal = [k for k in cnt if cnt[k]==1]"
   ]
  },
  {
   "cell_type": "code",
   "execution_count": 266,
   "metadata": {},
   "outputs": [
    {
     "data": {
      "text/plain": [
       "'/home/jovyan/work/nbs/../dvc-icodegen/nbs/nbs_experiments/results/analyses/rnn_layers1_vocab10000_embed256_units1024/test_metrics/ClassRecord0.java'"
      ]
     },
     "execution_count": 266,
     "metadata": {},
     "output_type": "execute_result"
    }
   ],
   "source": [
    "temporal[0]"
   ]
  },
  {
   "cell_type": "code",
   "execution_count": 267,
   "metadata": {},
   "outputs": [
    {
     "data": {
      "text/plain": [
       "126540"
      ]
     },
     "execution_count": 267,
     "metadata": {},
     "output_type": "execute_result"
    }
   ],
   "source": [
    "len(temporal) #Total Number of Samples without Anonymous Classes"
   ]
  },
  {
   "cell_type": "code",
   "execution_count": 258,
   "metadata": {},
   "outputs": [
    {
     "data": {
      "text/plain": [
       "(6000, 39)"
      ]
     },
     "execution_count": 258,
     "metadata": {},
     "output_type": "execute_result"
    }
   ],
   "source": [
    "df_cross_v0_java_metrics_anony.shape"
   ]
  },
  {
   "cell_type": "code",
   "execution_count": 259,
   "metadata": {},
   "outputs": [
    {
     "data": {
      "text/html": [
       "<div>\n",
       "<style scoped>\n",
       "    .dataframe tbody tr th:only-of-type {\n",
       "        vertical-align: middle;\n",
       "    }\n",
       "\n",
       "    .dataframe tbody tr th {\n",
       "        vertical-align: top;\n",
       "    }\n",
       "\n",
       "    .dataframe thead th {\n",
       "        text-align: right;\n",
       "    }\n",
       "</style>\n",
       "<table border=\"1\" class=\"dataframe\">\n",
       "  <thead>\n",
       "    <tr style=\"text-align: right;\">\n",
       "      <th></th>\n",
       "      <th>file</th>\n",
       "      <th>class</th>\n",
       "      <th>wmc</th>\n",
       "      <th>totalMethodsQty</th>\n",
       "      <th>staticMethodsQty</th>\n",
       "      <th>publicMethodsQty</th>\n",
       "      <th>privateMethodsQty</th>\n",
       "      <th>protectedMethodsQty</th>\n",
       "      <th>defaultMethodsQty</th>\n",
       "      <th>abstractMethodsQty</th>\n",
       "      <th>...</th>\n",
       "      <th>numbersQty</th>\n",
       "      <th>assignmentsQty</th>\n",
       "      <th>mathOperationsQty</th>\n",
       "      <th>variablesQty</th>\n",
       "      <th>maxNestedBlocksQty</th>\n",
       "      <th>anonymousClassesQty</th>\n",
       "      <th>innerClassesQty</th>\n",
       "      <th>lambdasQty</th>\n",
       "      <th>uniqueWordsQty</th>\n",
       "      <th>modifiers</th>\n",
       "    </tr>\n",
       "  </thead>\n",
       "  <tbody>\n",
       "    <tr>\n",
       "      <th>18</th>\n",
       "      <td>/home/jovyan/work/nbs/../dvc-icodegen/nbs/nbs_...</td>\n",
       "      <td>ClassRecord23299</td>\n",
       "      <td>4</td>\n",
       "      <td>1</td>\n",
       "      <td>0</td>\n",
       "      <td>0</td>\n",
       "      <td>0</td>\n",
       "      <td>0</td>\n",
       "      <td>1</td>\n",
       "      <td>1</td>\n",
       "      <td>...</td>\n",
       "      <td>1</td>\n",
       "      <td>1</td>\n",
       "      <td>0</td>\n",
       "      <td>0</td>\n",
       "      <td>1</td>\n",
       "      <td>1</td>\n",
       "      <td>0</td>\n",
       "      <td>0</td>\n",
       "      <td>16</td>\n",
       "      <td>1</td>\n",
       "    </tr>\n",
       "  </tbody>\n",
       "</table>\n",
       "<p>1 rows × 39 columns</p>\n",
       "</div>"
      ],
      "text/plain": [
       "                                                 file             class  wmc  \\\n",
       "18  /home/jovyan/work/nbs/../dvc-icodegen/nbs/nbs_...  ClassRecord23299    4   \n",
       "\n",
       "    totalMethodsQty  staticMethodsQty  publicMethodsQty  privateMethodsQty  \\\n",
       "18                1                 0                 0                  0   \n",
       "\n",
       "    protectedMethodsQty  defaultMethodsQty  abstractMethodsQty  ...  \\\n",
       "18                    0                  1                   1  ...   \n",
       "\n",
       "    numbersQty  assignmentsQty  mathOperationsQty  variablesQty  \\\n",
       "18           1               1                  0             0   \n",
       "\n",
       "    maxNestedBlocksQty  anonymousClassesQty  innerClassesQty  lambdasQty  \\\n",
       "18                   1                    1                0           0   \n",
       "\n",
       "    uniqueWordsQty  modifiers  \n",
       "18              16          1  \n",
       "\n",
       "[1 rows x 39 columns]"
      ]
     },
     "execution_count": 259,
     "metadata": {},
     "output_type": "execute_result"
    }
   ],
   "source": [
    "df_cross_v0_java_metrics_anony.head(1)"
   ]
  },
  {
   "cell_type": "code",
   "execution_count": 338,
   "metadata": {},
   "outputs": [],
   "source": [
    "#Without Anonymous\n",
    "df_cross_v0_java_metrics_base = df_cross_v0_java_metrics[df_cross_v0_java_metrics.file.isin( [i for i in temporal] )].copy()"
   ]
  },
  {
   "cell_type": "code",
   "execution_count": 339,
   "metadata": {},
   "outputs": [
    {
     "data": {
      "text/plain": [
       "(126540, 39)"
      ]
     },
     "execution_count": 339,
     "metadata": {},
     "output_type": "execute_result"
    }
   ],
   "source": [
    "df_cross_v0_java_metrics_base.shape"
   ]
  },
  {
   "cell_type": "code",
   "execution_count": 331,
   "metadata": {},
   "outputs": [],
   "source": [
    "t = df_cross_v0_java_metrics_anony[ ~df_cross_v0_java_metrics_anony['class'].str.match( '^.*\\$.*$' ) ] #Regular Expression to Find Cases"
   ]
  },
  {
   "cell_type": "code",
   "execution_count": 332,
   "metadata": {},
   "outputs": [
    {
     "data": {
      "text/plain": [
       "(2904, 39)"
      ]
     },
     "execution_count": 332,
     "metadata": {},
     "output_type": "execute_result"
    }
   ],
   "source": [
    "t.shape"
   ]
  },
  {
   "cell_type": "code",
   "execution_count": 337,
   "metadata": {},
   "outputs": [
    {
     "data": {
      "text/html": [
       "<div>\n",
       "<style scoped>\n",
       "    .dataframe tbody tr th:only-of-type {\n",
       "        vertical-align: middle;\n",
       "    }\n",
       "\n",
       "    .dataframe tbody tr th {\n",
       "        vertical-align: top;\n",
       "    }\n",
       "\n",
       "    .dataframe thead th {\n",
       "        text-align: right;\n",
       "    }\n",
       "</style>\n",
       "<table border=\"1\" class=\"dataframe\">\n",
       "  <thead>\n",
       "    <tr style=\"text-align: right;\">\n",
       "      <th></th>\n",
       "      <th>file</th>\n",
       "      <th>class</th>\n",
       "      <th>wmc</th>\n",
       "      <th>totalMethodsQty</th>\n",
       "      <th>staticMethodsQty</th>\n",
       "      <th>publicMethodsQty</th>\n",
       "      <th>privateMethodsQty</th>\n",
       "      <th>protectedMethodsQty</th>\n",
       "      <th>defaultMethodsQty</th>\n",
       "      <th>abstractMethodsQty</th>\n",
       "      <th>...</th>\n",
       "      <th>numbersQty</th>\n",
       "      <th>assignmentsQty</th>\n",
       "      <th>mathOperationsQty</th>\n",
       "      <th>variablesQty</th>\n",
       "      <th>maxNestedBlocksQty</th>\n",
       "      <th>anonymousClassesQty</th>\n",
       "      <th>innerClassesQty</th>\n",
       "      <th>lambdasQty</th>\n",
       "      <th>uniqueWordsQty</th>\n",
       "      <th>modifiers</th>\n",
       "    </tr>\n",
       "  </thead>\n",
       "  <tbody>\n",
       "    <tr>\n",
       "      <th>18</th>\n",
       "      <td>/home/jovyan/work/nbs/../dvc-icodegen/nbs/nbs_...</td>\n",
       "      <td>ClassRecord23299</td>\n",
       "      <td>4</td>\n",
       "      <td>1</td>\n",
       "      <td>0</td>\n",
       "      <td>0</td>\n",
       "      <td>0</td>\n",
       "      <td>0</td>\n",
       "      <td>1</td>\n",
       "      <td>1</td>\n",
       "      <td>...</td>\n",
       "      <td>1</td>\n",
       "      <td>1</td>\n",
       "      <td>0</td>\n",
       "      <td>0</td>\n",
       "      <td>1</td>\n",
       "      <td>1</td>\n",
       "      <td>0</td>\n",
       "      <td>0</td>\n",
       "      <td>16</td>\n",
       "      <td>1</td>\n",
       "    </tr>\n",
       "  </tbody>\n",
       "</table>\n",
       "<p>1 rows × 39 columns</p>\n",
       "</div>"
      ],
      "text/plain": [
       "                                                 file             class  wmc  \\\n",
       "18  /home/jovyan/work/nbs/../dvc-icodegen/nbs/nbs_...  ClassRecord23299    4   \n",
       "\n",
       "    totalMethodsQty  staticMethodsQty  publicMethodsQty  privateMethodsQty  \\\n",
       "18                1                 0                 0                  0   \n",
       "\n",
       "    protectedMethodsQty  defaultMethodsQty  abstractMethodsQty  ...  \\\n",
       "18                    0                  1                   1  ...   \n",
       "\n",
       "    numbersQty  assignmentsQty  mathOperationsQty  variablesQty  \\\n",
       "18           1               1                  0             0   \n",
       "\n",
       "    maxNestedBlocksQty  anonymousClassesQty  innerClassesQty  lambdasQty  \\\n",
       "18                   1                    1                0           0   \n",
       "\n",
       "    uniqueWordsQty  modifiers  \n",
       "18              16          1  \n",
       "\n",
       "[1 rows x 39 columns]"
      ]
     },
     "execution_count": 337,
     "metadata": {},
     "output_type": "execute_result"
    }
   ],
   "source": [
    "t.head(1)"
   ]
  },
  {
   "cell_type": "code",
   "execution_count": 340,
   "metadata": {},
   "outputs": [],
   "source": [
    "df_cross_v0_java_metrics_base = pd.concat( [t,df_cross_v0_java_metrics_base] )"
   ]
  },
  {
   "cell_type": "code",
   "execution_count": 341,
   "metadata": {},
   "outputs": [
    {
     "data": {
      "text/plain": [
       "(129444, 39)"
      ]
     },
     "execution_count": 341,
     "metadata": {},
     "output_type": "execute_result"
    }
   ],
   "source": [
    "df_cross_v0_java_metrics_base.shape"
   ]
  },
  {
   "cell_type": "code",
   "execution_count": 342,
   "metadata": {},
   "outputs": [
    {
     "data": {
      "text/html": [
       "<div>\n",
       "<style scoped>\n",
       "    .dataframe tbody tr th:only-of-type {\n",
       "        vertical-align: middle;\n",
       "    }\n",
       "\n",
       "    .dataframe tbody tr th {\n",
       "        vertical-align: top;\n",
       "    }\n",
       "\n",
       "    .dataframe thead th {\n",
       "        text-align: right;\n",
       "    }\n",
       "</style>\n",
       "<table border=\"1\" class=\"dataframe\">\n",
       "  <thead>\n",
       "    <tr style=\"text-align: right;\">\n",
       "      <th></th>\n",
       "      <th>file</th>\n",
       "      <th>class</th>\n",
       "      <th>wmc</th>\n",
       "      <th>totalMethodsQty</th>\n",
       "      <th>staticMethodsQty</th>\n",
       "      <th>publicMethodsQty</th>\n",
       "      <th>privateMethodsQty</th>\n",
       "      <th>protectedMethodsQty</th>\n",
       "      <th>defaultMethodsQty</th>\n",
       "      <th>abstractMethodsQty</th>\n",
       "      <th>...</th>\n",
       "      <th>numbersQty</th>\n",
       "      <th>assignmentsQty</th>\n",
       "      <th>mathOperationsQty</th>\n",
       "      <th>variablesQty</th>\n",
       "      <th>maxNestedBlocksQty</th>\n",
       "      <th>anonymousClassesQty</th>\n",
       "      <th>innerClassesQty</th>\n",
       "      <th>lambdasQty</th>\n",
       "      <th>uniqueWordsQty</th>\n",
       "      <th>modifiers</th>\n",
       "    </tr>\n",
       "  </thead>\n",
       "  <tbody>\n",
       "    <tr>\n",
       "      <th>18</th>\n",
       "      <td>/home/jovyan/work/nbs/../dvc-icodegen/nbs/nbs_...</td>\n",
       "      <td>ClassRecord23299</td>\n",
       "      <td>4</td>\n",
       "      <td>1</td>\n",
       "      <td>0</td>\n",
       "      <td>0</td>\n",
       "      <td>0</td>\n",
       "      <td>0</td>\n",
       "      <td>1</td>\n",
       "      <td>1</td>\n",
       "      <td>...</td>\n",
       "      <td>1</td>\n",
       "      <td>1</td>\n",
       "      <td>0</td>\n",
       "      <td>0</td>\n",
       "      <td>1</td>\n",
       "      <td>1</td>\n",
       "      <td>0</td>\n",
       "      <td>0</td>\n",
       "      <td>16</td>\n",
       "      <td>1</td>\n",
       "    </tr>\n",
       "  </tbody>\n",
       "</table>\n",
       "<p>1 rows × 39 columns</p>\n",
       "</div>"
      ],
      "text/plain": [
       "                                                 file             class  wmc  \\\n",
       "18  /home/jovyan/work/nbs/../dvc-icodegen/nbs/nbs_...  ClassRecord23299    4   \n",
       "\n",
       "    totalMethodsQty  staticMethodsQty  publicMethodsQty  privateMethodsQty  \\\n",
       "18                1                 0                 0                  0   \n",
       "\n",
       "    protectedMethodsQty  defaultMethodsQty  abstractMethodsQty  ...  \\\n",
       "18                    0                  1                   1  ...   \n",
       "\n",
       "    numbersQty  assignmentsQty  mathOperationsQty  variablesQty  \\\n",
       "18           1               1                  0             0   \n",
       "\n",
       "    maxNestedBlocksQty  anonymousClassesQty  innerClassesQty  lambdasQty  \\\n",
       "18                   1                    1                0           0   \n",
       "\n",
       "    uniqueWordsQty  modifiers  \n",
       "18              16          1  \n",
       "\n",
       "[1 rows x 39 columns]"
      ]
     },
     "execution_count": 342,
     "metadata": {},
     "output_type": "execute_result"
    }
   ],
   "source": [
    "df_cross_v0_java_metrics_base.head(1)"
   ]
  },
  {
   "cell_type": "code",
   "execution_count": 344,
   "metadata": {},
   "outputs": [],
   "source": [
    "assert df_cross_v0_java_metrics_base.shape[0] == len(file_path)"
   ]
  },
  {
   "cell_type": "code",
   "execution_count": 397,
   "metadata": {},
   "outputs": [],
   "source": [
    "#saving\n",
    "df_cross_v0_java_metrics.to_json(params2['output'] / 'ck-metrics-buggy.jsonl', orient=\"records\", lines=True)"
   ]
  },
  {
   "cell_type": "code",
   "execution_count": 345,
   "metadata": {},
   "outputs": [],
   "source": [
    "#Merging DataFrames\n",
    "df_cross_v1_base = pd.merge( df_cross_v0, df_cross_v0_java_metrics_base, on = 'file' )"
   ]
  },
  {
   "cell_type": "code",
   "execution_count": 371,
   "metadata": {},
   "outputs": [],
   "source": [
    "df_error_tax_v1_base = pd.merge(df_error_tax_v0, df_cross_v0_java_metrics_base, on = 'file' )"
   ]
  },
  {
   "cell_type": "code",
   "execution_count": 372,
   "metadata": {},
   "outputs": [],
   "source": [
    "appropriate_columns_r = {\n",
    "    'wmc':'z_wmc', \n",
    "    'totalMethodsQty':'z_totalMethodsQty', \n",
    "    'staticMethodsQty':'z_staticMethodsQty', \n",
    "    'publicMethodsQty':'z_publicMethodsQty', \n",
    "    'privateMethodsQty':'z_privateMethodsQty',\n",
    "    'protectedMethodsQty':'z_protectedMethodsQty', \n",
    "    'defaultMethodsQty':'z_defaultMethodsQty', \n",
    "    'abstractMethodsQty':'z_abstractMethodsQty', \n",
    "    'finalMethodsQty':'z_finalMethodsQty',\n",
    "    'synchronizedMethodsQty':'z_synchronizedMethodsQty',\n",
    "    'totalFieldsQty':'z_totalFieldsQty', \n",
    "    'staticFieldsQty':'z_staticFieldsQty', \n",
    "    'publicFieldsQty':'z_publicFieldsQty', \n",
    "    'privateFieldsQty':'z_privateFieldsQty', \n",
    "    'protectedFieldsQty':'z_protectedFieldsQty',        \n",
    "    'defaultFieldsQty':'z_defaultFieldsQty', \n",
    "    'visibleFieldsQty':'z_visibleFieldsQty', \n",
    "    'finalFieldsQty':'z_finalFieldsQty', \n",
    "    'synchronizedFieldsQty':'z_synchronizedFieldsQty',\n",
    "    'nosi':'z_nosi', \n",
    "    'loc':'z_loc', \n",
    "    'returnQty':'z_returnQty', \n",
    "    'loopQty':'z_loopQty', \n",
    "    'comparisonsQty':'z_comparisonsQty', \n",
    "    'tryCatchQty':'z_tryCatchQty', \n",
    "    'parenthesizedExpsQty':'z_parenthesizedExpsQty',\n",
    "    'stringLiteralsQty':'z_stringLiteralsQty', \n",
    "    'numbersQty':'z_numbersQty', \n",
    "    'assignmentsQty':'z_assignmentsQty', \n",
    "    'mathOperationsQty':'z_mathOperationsQty', \n",
    "    'variablesQty':'z_variablesQty', \n",
    "    'maxNestedBlocksQty':'z_maxNestedBlocksQty',\n",
    "    'anonymousClassesQty':'z_anonymousClassesQty', \n",
    "    'innerClassesQty':'z_innerClassesQty', \n",
    "    'lambdasQty':'z_lambdasQty', \n",
    "    'uniqueWordsQty':'z_uniqueWordsQty', \n",
    "    'modifiers':'z_modifiers'\n",
    "}"
   ]
  },
  {
   "cell_type": "code",
   "execution_count": 347,
   "metadata": {},
   "outputs": [],
   "source": [
    "df_cross_v1_base.rename(columns = appropriate_columns_r, inplace = True)"
   ]
  },
  {
   "cell_type": "code",
   "execution_count": 373,
   "metadata": {},
   "outputs": [],
   "source": [
    "df_error_tax_v1_base.rename(columns = appropriate_columns_r, inplace = True)"
   ]
  },
  {
   "cell_type": "code",
   "execution_count": 348,
   "metadata": {},
   "outputs": [
    {
     "data": {
      "text/html": [
       "<div>\n",
       "<style scoped>\n",
       "    .dataframe tbody tr th:only-of-type {\n",
       "        vertical-align: middle;\n",
       "    }\n",
       "\n",
       "    .dataframe tbody tr th {\n",
       "        vertical-align: top;\n",
       "    }\n",
       "\n",
       "    .dataframe thead th {\n",
       "        text-align: right;\n",
       "    }\n",
       "</style>\n",
       "<table border=\"1\" class=\"dataframe\">\n",
       "  <thead>\n",
       "    <tr style=\"text-align: right;\">\n",
       "      <th></th>\n",
       "      <th>transformed_code</th>\n",
       "      <th>y_cross_entropy</th>\n",
       "      <th>x_treatment</th>\n",
       "      <th>original_code</th>\n",
       "      <th>z_count_subwords</th>\n",
       "      <th>file</th>\n",
       "      <th>class</th>\n",
       "      <th>z_wmc</th>\n",
       "      <th>z_totalMethodsQty</th>\n",
       "      <th>z_staticMethodsQty</th>\n",
       "      <th>...</th>\n",
       "      <th>z_numbersQty</th>\n",
       "      <th>z_assignmentsQty</th>\n",
       "      <th>z_mathOperationsQty</th>\n",
       "      <th>z_variablesQty</th>\n",
       "      <th>z_maxNestedBlocksQty</th>\n",
       "      <th>z_anonymousClassesQty</th>\n",
       "      <th>z_innerClassesQty</th>\n",
       "      <th>z_lambdasQty</th>\n",
       "      <th>z_uniqueWordsQty</th>\n",
       "      <th>z_modifiers</th>\n",
       "    </tr>\n",
       "  </thead>\n",
       "  <tbody>\n",
       "    <tr>\n",
       "      <th>0</th>\n",
       "      <td>&lt;private&gt; &lt;void&gt; success&lt;(&gt;io.netty.channel.Ch...</td>\n",
       "      <td>6.00622</td>\n",
       "      <td>False</td>\n",
       "      <td>private void success(io.netty.channel.Channel ...</td>\n",
       "      <td>177</td>\n",
       "      <td>/home/jovyan/work/nbs/../dvc-icodegen/nbs/nbs_...</td>\n",
       "      <td>ClassRecord0</td>\n",
       "      <td>1</td>\n",
       "      <td>1</td>\n",
       "      <td>0</td>\n",
       "      <td>...</td>\n",
       "      <td>1</td>\n",
       "      <td>3</td>\n",
       "      <td>0</td>\n",
       "      <td>2</td>\n",
       "      <td>0</td>\n",
       "      <td>0</td>\n",
       "      <td>0</td>\n",
       "      <td>0</td>\n",
       "      <td>8</td>\n",
       "      <td>1</td>\n",
       "    </tr>\n",
       "  </tbody>\n",
       "</table>\n",
       "<p>1 rows × 44 columns</p>\n",
       "</div>"
      ],
      "text/plain": [
       "                                    transformed_code  y_cross_entropy  \\\n",
       "0  <private> <void> success<(>io.netty.channel.Ch...          6.00622   \n",
       "\n",
       "   x_treatment                                      original_code  \\\n",
       "0        False  private void success(io.netty.channel.Channel ...   \n",
       "\n",
       "   z_count_subwords                                               file  \\\n",
       "0               177  /home/jovyan/work/nbs/../dvc-icodegen/nbs/nbs_...   \n",
       "\n",
       "          class  z_wmc  z_totalMethodsQty  z_staticMethodsQty  ...  \\\n",
       "0  ClassRecord0      1                  1                   0  ...   \n",
       "\n",
       "   z_numbersQty  z_assignmentsQty  z_mathOperationsQty  z_variablesQty  \\\n",
       "0             1                 3                    0               2   \n",
       "\n",
       "   z_maxNestedBlocksQty  z_anonymousClassesQty  z_innerClassesQty  \\\n",
       "0                     0                      0                  0   \n",
       "\n",
       "   z_lambdasQty  z_uniqueWordsQty  z_modifiers  \n",
       "0             0                 8            1  \n",
       "\n",
       "[1 rows x 44 columns]"
      ]
     },
     "execution_count": 348,
     "metadata": {},
     "output_type": "execute_result"
    }
   ],
   "source": [
    "df_cross_v1_base.head(1)"
   ]
  },
  {
   "cell_type": "code",
   "execution_count": 374,
   "metadata": {},
   "outputs": [
    {
     "data": {
      "text/html": [
       "<div>\n",
       "<style scoped>\n",
       "    .dataframe tbody tr th:only-of-type {\n",
       "        vertical-align: middle;\n",
       "    }\n",
       "\n",
       "    .dataframe tbody tr th {\n",
       "        vertical-align: top;\n",
       "    }\n",
       "\n",
       "    .dataframe thead th {\n",
       "        text-align: right;\n",
       "    }\n",
       "</style>\n",
       "<table border=\"1\" class=\"dataframe\">\n",
       "  <thead>\n",
       "    <tr style=\"text-align: right;\">\n",
       "      <th></th>\n",
       "      <th>y_blocks</th>\n",
       "      <th>y_exceptions</th>\n",
       "      <th>y_oop</th>\n",
       "      <th>y_tests</th>\n",
       "      <th>y_declarations</th>\n",
       "      <th>y_conditionals</th>\n",
       "      <th>y_loops</th>\n",
       "      <th>y_operators</th>\n",
       "      <th>y_datatypes</th>\n",
       "      <th>y_extra_tokens</th>\n",
       "      <th>...</th>\n",
       "      <th>z_numbersQty</th>\n",
       "      <th>z_assignmentsQty</th>\n",
       "      <th>z_mathOperationsQty</th>\n",
       "      <th>z_variablesQty</th>\n",
       "      <th>z_maxNestedBlocksQty</th>\n",
       "      <th>z_anonymousClassesQty</th>\n",
       "      <th>z_innerClassesQty</th>\n",
       "      <th>z_lambdasQty</th>\n",
       "      <th>z_uniqueWordsQty</th>\n",
       "      <th>z_modifiers</th>\n",
       "    </tr>\n",
       "  </thead>\n",
       "  <tbody>\n",
       "    <tr>\n",
       "      <th>0</th>\n",
       "      <td>0.016686</td>\n",
       "      <td>NaN</td>\n",
       "      <td>0.000009</td>\n",
       "      <td>NaN</td>\n",
       "      <td>3.518000e-07</td>\n",
       "      <td>NaN</td>\n",
       "      <td>NaN</td>\n",
       "      <td>0.000316</td>\n",
       "      <td>NaN</td>\n",
       "      <td>0.189851</td>\n",
       "      <td>...</td>\n",
       "      <td>1</td>\n",
       "      <td>3</td>\n",
       "      <td>0</td>\n",
       "      <td>2</td>\n",
       "      <td>0</td>\n",
       "      <td>0</td>\n",
       "      <td>0</td>\n",
       "      <td>0</td>\n",
       "      <td>8</td>\n",
       "      <td>1</td>\n",
       "    </tr>\n",
       "  </tbody>\n",
       "</table>\n",
       "<p>1 rows × 53 columns</p>\n",
       "</div>"
      ],
      "text/plain": [
       "   y_blocks  y_exceptions     y_oop  y_tests  y_declarations  y_conditionals  \\\n",
       "0  0.016686           NaN  0.000009      NaN    3.518000e-07             NaN   \n",
       "\n",
       "   y_loops  y_operators  y_datatypes  y_extra_tokens  ... z_numbersQty  \\\n",
       "0      NaN     0.000316          NaN        0.189851  ...            1   \n",
       "\n",
       "  z_assignmentsQty  z_mathOperationsQty  z_variablesQty z_maxNestedBlocksQty  \\\n",
       "0                3                    0               2                    0   \n",
       "\n",
       "  z_anonymousClassesQty  z_innerClassesQty  z_lambdasQty  z_uniqueWordsQty  \\\n",
       "0                     0                  0             0                 8   \n",
       "\n",
       "   z_modifiers  \n",
       "0            1  \n",
       "\n",
       "[1 rows x 53 columns]"
      ]
     },
     "execution_count": 374,
     "metadata": {},
     "output_type": "execute_result"
    }
   ],
   "source": [
    "df_error_tax_v1_base.head(1)"
   ]
  },
  {
   "cell_type": "code",
   "execution_count": 278,
   "metadata": {},
   "outputs": [],
   "source": [
    "df_cross_v1_anony = pd.merge( df_cross_v0, df_cross_v0_java_metrics_anony, on = 'file' )"
   ]
  },
  {
   "cell_type": "code",
   "execution_count": 398,
   "metadata": {},
   "outputs": [],
   "source": [
    "df_error_tax_v1_anony = pd.merge( df_error_tax_v0, df_cross_v0_java_metrics_anony, on = 'file' )"
   ]
  },
  {
   "cell_type": "code",
   "execution_count": 279,
   "metadata": {},
   "outputs": [
    {
     "data": {
      "text/plain": [
       "(6000, 44)"
      ]
     },
     "execution_count": 279,
     "metadata": {},
     "output_type": "execute_result"
    }
   ],
   "source": [
    "df_cross_v1_anony.shape"
   ]
  },
  {
   "cell_type": "code",
   "execution_count": 284,
   "metadata": {},
   "outputs": [],
   "source": [
    "df_cross_v1_anony.rename(columns = appropriate_columns, inplace = True)"
   ]
  },
  {
   "cell_type": "code",
   "execution_count": 285,
   "metadata": {},
   "outputs": [
    {
     "data": {
      "text/html": [
       "<div>\n",
       "<style scoped>\n",
       "    .dataframe tbody tr th:only-of-type {\n",
       "        vertical-align: middle;\n",
       "    }\n",
       "\n",
       "    .dataframe tbody tr th {\n",
       "        vertical-align: top;\n",
       "    }\n",
       "\n",
       "    .dataframe thead th {\n",
       "        text-align: right;\n",
       "    }\n",
       "</style>\n",
       "<table border=\"1\" class=\"dataframe\">\n",
       "  <thead>\n",
       "    <tr style=\"text-align: right;\">\n",
       "      <th></th>\n",
       "      <th>transformed_code</th>\n",
       "      <th>y_cross_entropy</th>\n",
       "      <th>x_treatment</th>\n",
       "      <th>original_code</th>\n",
       "      <th>z_count_subwords</th>\n",
       "      <th>file</th>\n",
       "      <th>class</th>\n",
       "      <th>z_wmc</th>\n",
       "      <th>z_totalMethodsQty</th>\n",
       "      <th>z_staticMethodsQty</th>\n",
       "      <th>...</th>\n",
       "      <th>z_numbersQty</th>\n",
       "      <th>z_assignmentsQty</th>\n",
       "      <th>z_mathOperationsQty</th>\n",
       "      <th>z_variablesQty</th>\n",
       "      <th>z_maxNestedBlocksQty</th>\n",
       "      <th>z_anonymousClassesQty</th>\n",
       "      <th>z_innerClassesQty</th>\n",
       "      <th>z_lambdasQty</th>\n",
       "      <th>z_uniqueWordsQty</th>\n",
       "      <th>z_modifiers</th>\n",
       "    </tr>\n",
       "  </thead>\n",
       "  <tbody>\n",
       "    <tr>\n",
       "      <th>0</th>\n",
       "      <td>&lt;public&gt; &lt;static&gt; bolts.Task&lt;lesser&gt;com.&lt;do&gt;un...</td>\n",
       "      <td>6.765714</td>\n",
       "      <td>False</td>\n",
       "      <td>public static bolts.Task&lt;com.dounets.vchat.net...</td>\n",
       "      <td>196</td>\n",
       "      <td>/home/jovyan/work/nbs/../dvc-icodegen/nbs/nbs_...</td>\n",
       "      <td>ClassRecord170$Anonymous1</td>\n",
       "      <td>1</td>\n",
       "      <td>1</td>\n",
       "      <td>0</td>\n",
       "      <td>...</td>\n",
       "      <td>0</td>\n",
       "      <td>0</td>\n",
       "      <td>0</td>\n",
       "      <td>0</td>\n",
       "      <td>0</td>\n",
       "      <td>0</td>\n",
       "      <td>0</td>\n",
       "      <td>0</td>\n",
       "      <td>1</td>\n",
       "      <td>-1</td>\n",
       "    </tr>\n",
       "  </tbody>\n",
       "</table>\n",
       "<p>1 rows × 44 columns</p>\n",
       "</div>"
      ],
      "text/plain": [
       "                                    transformed_code  y_cross_entropy  \\\n",
       "0  <public> <static> bolts.Task<lesser>com.<do>un...         6.765714   \n",
       "\n",
       "   x_treatment                                      original_code  \\\n",
       "0        False  public static bolts.Task<com.dounets.vchat.net...   \n",
       "\n",
       "   z_count_subwords                                               file  \\\n",
       "0               196  /home/jovyan/work/nbs/../dvc-icodegen/nbs/nbs_...   \n",
       "\n",
       "                       class  z_wmc  z_totalMethodsQty  z_staticMethodsQty  \\\n",
       "0  ClassRecord170$Anonymous1      1                  1                   0   \n",
       "\n",
       "   ...  z_numbersQty  z_assignmentsQty  z_mathOperationsQty  z_variablesQty  \\\n",
       "0  ...             0                 0                    0               0   \n",
       "\n",
       "   z_maxNestedBlocksQty  z_anonymousClassesQty  z_innerClassesQty  \\\n",
       "0                     0                      0                  0   \n",
       "\n",
       "   z_lambdasQty  z_uniqueWordsQty  z_modifiers  \n",
       "0             0                 1           -1  \n",
       "\n",
       "[1 rows x 44 columns]"
      ]
     },
     "execution_count": 285,
     "metadata": {},
     "output_type": "execute_result"
    }
   ],
   "source": [
    "df_cross_v1_anony.head(1)"
   ]
  },
  {
   "cell_type": "code",
   "execution_count": 401,
   "metadata": {},
   "outputs": [],
   "source": [
    "#Savings\n",
    "df_error_tax_v1_base.to_json(params2['output'] / 'bug_fix_error_taxonomy_z_v1.jsonl', orient=\"records\", lines=True)\n",
    "df_cross_v1_base.to_json(params2['output'] / 'bug_fix_cross_entropy_z_v1.jsonl', orient=\"records\", lines=True)"
   ]
  },
  {
   "cell_type": "code",
   "execution_count": 402,
   "metadata": {},
   "outputs": [],
   "source": [
    "df_cross_v1_anony.to_json(params2['output'] / 'bug_fix_cross_anony_z_v1.jsonl', orient=\"records\", lines=True)\n",
    "df_error_tax_v1_anony.to_json(params2['output'] / 'bug_fix_error_taxonomy_anony_z_v1.jsonl', orient=\"records\", lines=True)"
   ]
  },
  {
   "cell_type": "markdown",
   "metadata": {},
   "source": [
    "# Descriptive Statistics\n",
    "\n",
    "hierarchical:\n",
    "- [hierarchical] wmc: Weight Method Class or McCabe's complexity\n",
    "\n",
    "code size:\n",
    "- [code size] loc: Lines of code\n",
    "- [code size] Number of methods: Count the number of fields, both total (totalMethodsQty) and specific (i.e., static, public, abstract, private, protected, default, final, and synchronized)\n",
    "- [code size] totalMethodsQty:\n",
    "- [code size] staticMethodsQty\n",
    "- [code size] publicMethodsQty\n",
    "- [code size] privateMethodsQty\n",
    "- [code size] protectedMethodsQty\n",
    "- [code size] defaultMethodsQty\n",
    "- [code size] abstractMethodsQty\n",
    "- [code size] finalMethodsQty\n",
    "- [code size] synchronizedMethodsQty\n",
    "- [code size] Number of fields: Count the number of fields, both total (totalFieldsQty) and specific (i.e., static, public, private, protected, default, final, and synchronized)\n",
    "- [code size] totalFieldsQty\n",
    "- [code size] staticFieldsQty\n",
    "- [code size] publicFieldsQty\n",
    "- [code size] privateFieldsQty\n",
    "- [code size] protectedFieldsQty\n",
    "- [code size] defaultFieldsQty\n",
    "- [code size] visibleFieldsQty\n",
    "- [code size] finalFieldsQty\n",
    "- [code size] synchronizedFieldsQty\n",
    "- [code size] anonymousClassesQty: Number of anonymous classes\n",
    "- [code size] innerClassesQty: Number of inner classes\n",
    "- [code size] lambdasQty: Number of lambda expressions\n",
    "\n",
    "structural:\n",
    "- [structural] returnQty: Number of return instructions\n",
    "- [structural] loopQty: Number of loops (i.e., for, while, do while, enhanced for).\n",
    "- [structural] comparisonsQty: Number of comparisons (i.e., == and !=)\n",
    "- [structural] tryCatchQty: Number of try/catch blocks\n",
    "- [structural] parenthesizedExpsQty: The number of expressions inside parenthesis\n",
    "- [structural] nosi: number of invocations to static methods. It can only count the ones that can be resolved by the JDT.\n",
    "- [structural] assignmentsQty\n",
    "- [structural] mathOperationsQty: The number of math operations (times, divide, remainder, plus, minus, left shit, right shift).\n",
    "- [structural] variablesQty: Number of declared variables\n",
    "- [structural] maxNestedBlocksQty: The highest number of blocks nested together.\n",
    "- [structural] stringLiteralsQty: Number of string literals\n",
    "- [structural] numbersQty: Number of numeric literals\n",
    "- [structural] modifiers: public/abstract/private/protected/native modifiers of classes/methods\n",
    "\n",
    "word size:\n",
    "- [word size] uniqueWordsQty: Number of unique words: Number of unique words in the source code. At method level, it only uses the method body as input. At class level, it uses the entire body of the class as metrics. The algorithm basically counts the number of words in a method/class, after removing Java keywords.\n"
   ]
  },
  {
   "cell_type": "markdown",
   "metadata": {},
   "source": [
    "## Entropy Analysis "
   ]
  },
  {
   "cell_type": "code",
   "execution_count": 349,
   "metadata": {},
   "outputs": [
    {
     "data": {
      "text/html": [
       "<div>\n",
       "<style scoped>\n",
       "    .dataframe tbody tr th:only-of-type {\n",
       "        vertical-align: middle;\n",
       "    }\n",
       "\n",
       "    .dataframe tbody tr th {\n",
       "        vertical-align: top;\n",
       "    }\n",
       "\n",
       "    .dataframe thead th {\n",
       "        text-align: right;\n",
       "    }\n",
       "</style>\n",
       "<table border=\"1\" class=\"dataframe\">\n",
       "  <thead>\n",
       "    <tr style=\"text-align: right;\">\n",
       "      <th></th>\n",
       "      <th>y_cross_entropy</th>\n",
       "      <th>z_count_subwords</th>\n",
       "      <th>z_wmc</th>\n",
       "      <th>z_totalMethodsQty</th>\n",
       "      <th>z_staticMethodsQty</th>\n",
       "      <th>z_publicMethodsQty</th>\n",
       "      <th>z_privateMethodsQty</th>\n",
       "      <th>z_protectedMethodsQty</th>\n",
       "      <th>z_defaultMethodsQty</th>\n",
       "      <th>z_abstractMethodsQty</th>\n",
       "      <th>...</th>\n",
       "      <th>z_numbersQty</th>\n",
       "      <th>z_assignmentsQty</th>\n",
       "      <th>z_mathOperationsQty</th>\n",
       "      <th>z_variablesQty</th>\n",
       "      <th>z_maxNestedBlocksQty</th>\n",
       "      <th>z_anonymousClassesQty</th>\n",
       "      <th>z_innerClassesQty</th>\n",
       "      <th>z_lambdasQty</th>\n",
       "      <th>z_uniqueWordsQty</th>\n",
       "      <th>z_modifiers</th>\n",
       "    </tr>\n",
       "  </thead>\n",
       "  <tbody>\n",
       "    <tr>\n",
       "      <th>count</th>\n",
       "      <td>129444.000000</td>\n",
       "      <td>129444.000000</td>\n",
       "      <td>129444.000000</td>\n",
       "      <td>129444.0</td>\n",
       "      <td>129444.000000</td>\n",
       "      <td>129444.000000</td>\n",
       "      <td>129444.000000</td>\n",
       "      <td>129444.000000</td>\n",
       "      <td>129444.000000</td>\n",
       "      <td>129444.000000</td>\n",
       "      <td>...</td>\n",
       "      <td>129444.000000</td>\n",
       "      <td>129444.000000</td>\n",
       "      <td>129444.000000</td>\n",
       "      <td>129444.000000</td>\n",
       "      <td>129444.000000</td>\n",
       "      <td>129444.000000</td>\n",
       "      <td>129444.000000</td>\n",
       "      <td>129444.000000</td>\n",
       "      <td>129444.000000</td>\n",
       "      <td>129444.0</td>\n",
       "    </tr>\n",
       "    <tr>\n",
       "      <th>mean</th>\n",
       "      <td>6.142502</td>\n",
       "      <td>185.407628</td>\n",
       "      <td>2.482417</td>\n",
       "      <td>1.0</td>\n",
       "      <td>0.128449</td>\n",
       "      <td>0.704490</td>\n",
       "      <td>0.207634</td>\n",
       "      <td>0.065441</td>\n",
       "      <td>0.022434</td>\n",
       "      <td>0.792366</td>\n",
       "      <td>...</td>\n",
       "      <td>0.913654</td>\n",
       "      <td>1.884583</td>\n",
       "      <td>0.571336</td>\n",
       "      <td>1.232247</td>\n",
       "      <td>1.018572</td>\n",
       "      <td>0.023122</td>\n",
       "      <td>0.000348</td>\n",
       "      <td>0.006080</td>\n",
       "      <td>11.336732</td>\n",
       "      <td>1.0</td>\n",
       "    </tr>\n",
       "    <tr>\n",
       "      <th>std</th>\n",
       "      <td>1.510858</td>\n",
       "      <td>64.357274</td>\n",
       "      <td>1.309905</td>\n",
       "      <td>0.0</td>\n",
       "      <td>0.334591</td>\n",
       "      <td>0.456273</td>\n",
       "      <td>0.405615</td>\n",
       "      <td>0.247304</td>\n",
       "      <td>0.148092</td>\n",
       "      <td>0.405615</td>\n",
       "      <td>...</td>\n",
       "      <td>1.720107</td>\n",
       "      <td>1.580910</td>\n",
       "      <td>1.363303</td>\n",
       "      <td>1.161180</td>\n",
       "      <td>0.830400</td>\n",
       "      <td>0.157225</td>\n",
       "      <td>0.020232</td>\n",
       "      <td>0.092444</td>\n",
       "      <td>4.994894</td>\n",
       "      <td>0.0</td>\n",
       "    </tr>\n",
       "    <tr>\n",
       "      <th>min</th>\n",
       "      <td>2.066005</td>\n",
       "      <td>68.000000</td>\n",
       "      <td>1.000000</td>\n",
       "      <td>1.0</td>\n",
       "      <td>0.000000</td>\n",
       "      <td>0.000000</td>\n",
       "      <td>0.000000</td>\n",
       "      <td>0.000000</td>\n",
       "      <td>0.000000</td>\n",
       "      <td>0.000000</td>\n",
       "      <td>...</td>\n",
       "      <td>0.000000</td>\n",
       "      <td>0.000000</td>\n",
       "      <td>0.000000</td>\n",
       "      <td>0.000000</td>\n",
       "      <td>0.000000</td>\n",
       "      <td>0.000000</td>\n",
       "      <td>0.000000</td>\n",
       "      <td>0.000000</td>\n",
       "      <td>3.000000</td>\n",
       "      <td>1.0</td>\n",
       "    </tr>\n",
       "    <tr>\n",
       "      <th>25%</th>\n",
       "      <td>5.038853</td>\n",
       "      <td>143.000000</td>\n",
       "      <td>1.000000</td>\n",
       "      <td>1.0</td>\n",
       "      <td>0.000000</td>\n",
       "      <td>0.000000</td>\n",
       "      <td>0.000000</td>\n",
       "      <td>0.000000</td>\n",
       "      <td>0.000000</td>\n",
       "      <td>1.000000</td>\n",
       "      <td>...</td>\n",
       "      <td>0.000000</td>\n",
       "      <td>1.000000</td>\n",
       "      <td>0.000000</td>\n",
       "      <td>0.000000</td>\n",
       "      <td>0.000000</td>\n",
       "      <td>0.000000</td>\n",
       "      <td>0.000000</td>\n",
       "      <td>0.000000</td>\n",
       "      <td>8.000000</td>\n",
       "      <td>1.0</td>\n",
       "    </tr>\n",
       "    <tr>\n",
       "      <th>50%</th>\n",
       "      <td>5.982966</td>\n",
       "      <td>176.000000</td>\n",
       "      <td>2.000000</td>\n",
       "      <td>1.0</td>\n",
       "      <td>0.000000</td>\n",
       "      <td>1.000000</td>\n",
       "      <td>0.000000</td>\n",
       "      <td>0.000000</td>\n",
       "      <td>0.000000</td>\n",
       "      <td>1.000000</td>\n",
       "      <td>...</td>\n",
       "      <td>0.000000</td>\n",
       "      <td>2.000000</td>\n",
       "      <td>0.000000</td>\n",
       "      <td>1.000000</td>\n",
       "      <td>1.000000</td>\n",
       "      <td>0.000000</td>\n",
       "      <td>0.000000</td>\n",
       "      <td>0.000000</td>\n",
       "      <td>10.000000</td>\n",
       "      <td>1.0</td>\n",
       "    </tr>\n",
       "    <tr>\n",
       "      <th>75%</th>\n",
       "      <td>7.085069</td>\n",
       "      <td>216.000000</td>\n",
       "      <td>3.000000</td>\n",
       "      <td>1.0</td>\n",
       "      <td>0.000000</td>\n",
       "      <td>1.000000</td>\n",
       "      <td>0.000000</td>\n",
       "      <td>0.000000</td>\n",
       "      <td>0.000000</td>\n",
       "      <td>1.000000</td>\n",
       "      <td>...</td>\n",
       "      <td>1.000000</td>\n",
       "      <td>3.000000</td>\n",
       "      <td>0.000000</td>\n",
       "      <td>2.000000</td>\n",
       "      <td>1.000000</td>\n",
       "      <td>0.000000</td>\n",
       "      <td>0.000000</td>\n",
       "      <td>0.000000</td>\n",
       "      <td>13.000000</td>\n",
       "      <td>1.0</td>\n",
       "    </tr>\n",
       "    <tr>\n",
       "      <th>max</th>\n",
       "      <td>12.283474</td>\n",
       "      <td>4465.000000</td>\n",
       "      <td>18.000000</td>\n",
       "      <td>1.0</td>\n",
       "      <td>1.000000</td>\n",
       "      <td>1.000000</td>\n",
       "      <td>1.000000</td>\n",
       "      <td>1.000000</td>\n",
       "      <td>1.000000</td>\n",
       "      <td>1.000000</td>\n",
       "      <td>...</td>\n",
       "      <td>41.000000</td>\n",
       "      <td>19.000000</td>\n",
       "      <td>21.000000</td>\n",
       "      <td>11.000000</td>\n",
       "      <td>6.000000</td>\n",
       "      <td>4.000000</td>\n",
       "      <td>2.000000</td>\n",
       "      <td>5.000000</td>\n",
       "      <td>336.000000</td>\n",
       "      <td>1.0</td>\n",
       "    </tr>\n",
       "  </tbody>\n",
       "</table>\n",
       "<p>8 rows × 39 columns</p>\n",
       "</div>"
      ],
      "text/plain": [
       "       y_cross_entropy  z_count_subwords          z_wmc  z_totalMethodsQty  \\\n",
       "count    129444.000000     129444.000000  129444.000000           129444.0   \n",
       "mean          6.142502        185.407628       2.482417                1.0   \n",
       "std           1.510858         64.357274       1.309905                0.0   \n",
       "min           2.066005         68.000000       1.000000                1.0   \n",
       "25%           5.038853        143.000000       1.000000                1.0   \n",
       "50%           5.982966        176.000000       2.000000                1.0   \n",
       "75%           7.085069        216.000000       3.000000                1.0   \n",
       "max          12.283474       4465.000000      18.000000                1.0   \n",
       "\n",
       "       z_staticMethodsQty  z_publicMethodsQty  z_privateMethodsQty  \\\n",
       "count       129444.000000       129444.000000        129444.000000   \n",
       "mean             0.128449            0.704490             0.207634   \n",
       "std              0.334591            0.456273             0.405615   \n",
       "min              0.000000            0.000000             0.000000   \n",
       "25%              0.000000            0.000000             0.000000   \n",
       "50%              0.000000            1.000000             0.000000   \n",
       "75%              0.000000            1.000000             0.000000   \n",
       "max              1.000000            1.000000             1.000000   \n",
       "\n",
       "       z_protectedMethodsQty  z_defaultMethodsQty  z_abstractMethodsQty  ...  \\\n",
       "count          129444.000000        129444.000000         129444.000000  ...   \n",
       "mean                0.065441             0.022434              0.792366  ...   \n",
       "std                 0.247304             0.148092              0.405615  ...   \n",
       "min                 0.000000             0.000000              0.000000  ...   \n",
       "25%                 0.000000             0.000000              1.000000  ...   \n",
       "50%                 0.000000             0.000000              1.000000  ...   \n",
       "75%                 0.000000             0.000000              1.000000  ...   \n",
       "max                 1.000000             1.000000              1.000000  ...   \n",
       "\n",
       "        z_numbersQty  z_assignmentsQty  z_mathOperationsQty  z_variablesQty  \\\n",
       "count  129444.000000     129444.000000        129444.000000   129444.000000   \n",
       "mean        0.913654          1.884583             0.571336        1.232247   \n",
       "std         1.720107          1.580910             1.363303        1.161180   \n",
       "min         0.000000          0.000000             0.000000        0.000000   \n",
       "25%         0.000000          1.000000             0.000000        0.000000   \n",
       "50%         0.000000          2.000000             0.000000        1.000000   \n",
       "75%         1.000000          3.000000             0.000000        2.000000   \n",
       "max        41.000000         19.000000            21.000000       11.000000   \n",
       "\n",
       "       z_maxNestedBlocksQty  z_anonymousClassesQty  z_innerClassesQty  \\\n",
       "count         129444.000000          129444.000000      129444.000000   \n",
       "mean               1.018572               0.023122           0.000348   \n",
       "std                0.830400               0.157225           0.020232   \n",
       "min                0.000000               0.000000           0.000000   \n",
       "25%                0.000000               0.000000           0.000000   \n",
       "50%                1.000000               0.000000           0.000000   \n",
       "75%                1.000000               0.000000           0.000000   \n",
       "max                6.000000               4.000000           2.000000   \n",
       "\n",
       "        z_lambdasQty  z_uniqueWordsQty  z_modifiers  \n",
       "count  129444.000000     129444.000000     129444.0  \n",
       "mean        0.006080         11.336732          1.0  \n",
       "std         0.092444          4.994894          0.0  \n",
       "min         0.000000          3.000000          1.0  \n",
       "25%         0.000000          8.000000          1.0  \n",
       "50%         0.000000         10.000000          1.0  \n",
       "75%         0.000000         13.000000          1.0  \n",
       "max         5.000000        336.000000          1.0  \n",
       "\n",
       "[8 rows x 39 columns]"
      ]
     },
     "execution_count": 349,
     "metadata": {},
     "output_type": "execute_result"
    }
   ],
   "source": [
    "df_cross_v1_base.describe()"
   ]
  },
  {
   "cell_type": "code",
   "execution_count": 287,
   "metadata": {},
   "outputs": [
    {
     "data": {
      "text/html": [
       "<div>\n",
       "<style scoped>\n",
       "    .dataframe tbody tr th:only-of-type {\n",
       "        vertical-align: middle;\n",
       "    }\n",
       "\n",
       "    .dataframe tbody tr th {\n",
       "        vertical-align: top;\n",
       "    }\n",
       "\n",
       "    .dataframe thead th {\n",
       "        text-align: right;\n",
       "    }\n",
       "</style>\n",
       "<table border=\"1\" class=\"dataframe\">\n",
       "  <thead>\n",
       "    <tr style=\"text-align: right;\">\n",
       "      <th></th>\n",
       "      <th>y_cross_entropy</th>\n",
       "      <th>z_count_subwords</th>\n",
       "      <th>z_wmc</th>\n",
       "      <th>z_totalMethodsQty</th>\n",
       "      <th>z_staticMethodsQty</th>\n",
       "      <th>z_publicMethodsQty</th>\n",
       "      <th>z_privateMethodsQty</th>\n",
       "      <th>z_protectedMethodsQty</th>\n",
       "      <th>z_defaultMethodsQty</th>\n",
       "      <th>z_abstractMethodsQty</th>\n",
       "      <th>...</th>\n",
       "      <th>z_numbersQty</th>\n",
       "      <th>z_assignmentsQty</th>\n",
       "      <th>z_mathOperationsQty</th>\n",
       "      <th>z_variablesQty</th>\n",
       "      <th>z_maxNestedBlocksQty</th>\n",
       "      <th>z_anonymousClassesQty</th>\n",
       "      <th>z_innerClassesQty</th>\n",
       "      <th>z_lambdasQty</th>\n",
       "      <th>z_uniqueWordsQty</th>\n",
       "      <th>z_modifiers</th>\n",
       "    </tr>\n",
       "  </thead>\n",
       "  <tbody>\n",
       "    <tr>\n",
       "      <th>count</th>\n",
       "      <td>6000.000000</td>\n",
       "      <td>6000.000000</td>\n",
       "      <td>6000.000000</td>\n",
       "      <td>6000.000000</td>\n",
       "      <td>6000.000000</td>\n",
       "      <td>6000.000000</td>\n",
       "      <td>6000.000000</td>\n",
       "      <td>6000.000000</td>\n",
       "      <td>6000.000000</td>\n",
       "      <td>6000.000000</td>\n",
       "      <td>...</td>\n",
       "      <td>6000.000000</td>\n",
       "      <td>6000.000000</td>\n",
       "      <td>6000.000000</td>\n",
       "      <td>6000.000000</td>\n",
       "      <td>6000.000000</td>\n",
       "      <td>6000.000000</td>\n",
       "      <td>6000.000000</td>\n",
       "      <td>6000.000000</td>\n",
       "      <td>6000.000000</td>\n",
       "      <td>6000.000000</td>\n",
       "    </tr>\n",
       "    <tr>\n",
       "      <th>mean</th>\n",
       "      <td>7.147433</td>\n",
       "      <td>216.791333</td>\n",
       "      <td>1.402833</td>\n",
       "      <td>1.028667</td>\n",
       "      <td>0.040167</td>\n",
       "      <td>0.834833</td>\n",
       "      <td>0.115333</td>\n",
       "      <td>0.066500</td>\n",
       "      <td>0.012000</td>\n",
       "      <td>0.928667</td>\n",
       "      <td>...</td>\n",
       "      <td>0.225167</td>\n",
       "      <td>0.616333</td>\n",
       "      <td>0.089333</td>\n",
       "      <td>0.374500</td>\n",
       "      <td>0.293000</td>\n",
       "      <td>0.508167</td>\n",
       "      <td>0.007833</td>\n",
       "      <td>0.001167</td>\n",
       "      <td>6.972000</td>\n",
       "      <td>-0.024167</td>\n",
       "    </tr>\n",
       "    <tr>\n",
       "      <th>std</th>\n",
       "      <td>1.347864</td>\n",
       "      <td>55.503041</td>\n",
       "      <td>0.748544</td>\n",
       "      <td>0.363594</td>\n",
       "      <td>0.196366</td>\n",
       "      <td>0.535040</td>\n",
       "      <td>0.319450</td>\n",
       "      <td>0.263482</td>\n",
       "      <td>0.111914</td>\n",
       "      <td>0.477441</td>\n",
       "      <td>...</td>\n",
       "      <td>0.661972</td>\n",
       "      <td>0.951289</td>\n",
       "      <td>0.409122</td>\n",
       "      <td>0.701901</td>\n",
       "      <td>0.522682</td>\n",
       "      <td>0.544655</td>\n",
       "      <td>0.095430</td>\n",
       "      <td>0.034139</td>\n",
       "      <td>4.350368</td>\n",
       "      <td>0.995865</td>\n",
       "    </tr>\n",
       "    <tr>\n",
       "      <th>min</th>\n",
       "      <td>3.698782</td>\n",
       "      <td>91.000000</td>\n",
       "      <td>0.000000</td>\n",
       "      <td>0.000000</td>\n",
       "      <td>0.000000</td>\n",
       "      <td>0.000000</td>\n",
       "      <td>0.000000</td>\n",
       "      <td>0.000000</td>\n",
       "      <td>0.000000</td>\n",
       "      <td>0.000000</td>\n",
       "      <td>...</td>\n",
       "      <td>0.000000</td>\n",
       "      <td>0.000000</td>\n",
       "      <td>0.000000</td>\n",
       "      <td>0.000000</td>\n",
       "      <td>0.000000</td>\n",
       "      <td>0.000000</td>\n",
       "      <td>0.000000</td>\n",
       "      <td>0.000000</td>\n",
       "      <td>0.000000</td>\n",
       "      <td>-1.000000</td>\n",
       "    </tr>\n",
       "    <tr>\n",
       "      <th>25%</th>\n",
       "      <td>6.142089</td>\n",
       "      <td>177.000000</td>\n",
       "      <td>1.000000</td>\n",
       "      <td>1.000000</td>\n",
       "      <td>0.000000</td>\n",
       "      <td>1.000000</td>\n",
       "      <td>0.000000</td>\n",
       "      <td>0.000000</td>\n",
       "      <td>0.000000</td>\n",
       "      <td>1.000000</td>\n",
       "      <td>...</td>\n",
       "      <td>0.000000</td>\n",
       "      <td>0.000000</td>\n",
       "      <td>0.000000</td>\n",
       "      <td>0.000000</td>\n",
       "      <td>0.000000</td>\n",
       "      <td>0.000000</td>\n",
       "      <td>0.000000</td>\n",
       "      <td>0.000000</td>\n",
       "      <td>4.000000</td>\n",
       "      <td>-1.000000</td>\n",
       "    </tr>\n",
       "    <tr>\n",
       "      <th>50%</th>\n",
       "      <td>7.079727</td>\n",
       "      <td>212.500000</td>\n",
       "      <td>1.000000</td>\n",
       "      <td>1.000000</td>\n",
       "      <td>0.000000</td>\n",
       "      <td>1.000000</td>\n",
       "      <td>0.000000</td>\n",
       "      <td>0.000000</td>\n",
       "      <td>0.000000</td>\n",
       "      <td>1.000000</td>\n",
       "      <td>...</td>\n",
       "      <td>0.000000</td>\n",
       "      <td>0.000000</td>\n",
       "      <td>0.000000</td>\n",
       "      <td>0.000000</td>\n",
       "      <td>0.000000</td>\n",
       "      <td>0.000000</td>\n",
       "      <td>0.000000</td>\n",
       "      <td>0.000000</td>\n",
       "      <td>6.000000</td>\n",
       "      <td>-1.000000</td>\n",
       "    </tr>\n",
       "    <tr>\n",
       "      <th>75%</th>\n",
       "      <td>8.096434</td>\n",
       "      <td>250.000000</td>\n",
       "      <td>2.000000</td>\n",
       "      <td>1.000000</td>\n",
       "      <td>0.000000</td>\n",
       "      <td>1.000000</td>\n",
       "      <td>0.000000</td>\n",
       "      <td>0.000000</td>\n",
       "      <td>0.000000</td>\n",
       "      <td>1.000000</td>\n",
       "      <td>...</td>\n",
       "      <td>0.000000</td>\n",
       "      <td>1.000000</td>\n",
       "      <td>0.000000</td>\n",
       "      <td>1.000000</td>\n",
       "      <td>1.000000</td>\n",
       "      <td>1.000000</td>\n",
       "      <td>0.000000</td>\n",
       "      <td>0.000000</td>\n",
       "      <td>9.000000</td>\n",
       "      <td>1.000000</td>\n",
       "    </tr>\n",
       "    <tr>\n",
       "      <th>max</th>\n",
       "      <td>10.829941</td>\n",
       "      <td>621.000000</td>\n",
       "      <td>5.000000</td>\n",
       "      <td>4.000000</td>\n",
       "      <td>1.000000</td>\n",
       "      <td>4.000000</td>\n",
       "      <td>1.000000</td>\n",
       "      <td>3.000000</td>\n",
       "      <td>2.000000</td>\n",
       "      <td>4.000000</td>\n",
       "      <td>...</td>\n",
       "      <td>11.000000</td>\n",
       "      <td>8.000000</td>\n",
       "      <td>7.000000</td>\n",
       "      <td>6.000000</td>\n",
       "      <td>3.000000</td>\n",
       "      <td>4.000000</td>\n",
       "      <td>2.000000</td>\n",
       "      <td>1.000000</td>\n",
       "      <td>28.000000</td>\n",
       "      <td>1.000000</td>\n",
       "    </tr>\n",
       "  </tbody>\n",
       "</table>\n",
       "<p>8 rows × 39 columns</p>\n",
       "</div>"
      ],
      "text/plain": [
       "       y_cross_entropy  z_count_subwords        z_wmc  z_totalMethodsQty  \\\n",
       "count      6000.000000       6000.000000  6000.000000        6000.000000   \n",
       "mean          7.147433        216.791333     1.402833           1.028667   \n",
       "std           1.347864         55.503041     0.748544           0.363594   \n",
       "min           3.698782         91.000000     0.000000           0.000000   \n",
       "25%           6.142089        177.000000     1.000000           1.000000   \n",
       "50%           7.079727        212.500000     1.000000           1.000000   \n",
       "75%           8.096434        250.000000     2.000000           1.000000   \n",
       "max          10.829941        621.000000     5.000000           4.000000   \n",
       "\n",
       "       z_staticMethodsQty  z_publicMethodsQty  z_privateMethodsQty  \\\n",
       "count         6000.000000         6000.000000          6000.000000   \n",
       "mean             0.040167            0.834833             0.115333   \n",
       "std              0.196366            0.535040             0.319450   \n",
       "min              0.000000            0.000000             0.000000   \n",
       "25%              0.000000            1.000000             0.000000   \n",
       "50%              0.000000            1.000000             0.000000   \n",
       "75%              0.000000            1.000000             0.000000   \n",
       "max              1.000000            4.000000             1.000000   \n",
       "\n",
       "       z_protectedMethodsQty  z_defaultMethodsQty  z_abstractMethodsQty  ...  \\\n",
       "count            6000.000000          6000.000000           6000.000000  ...   \n",
       "mean                0.066500             0.012000              0.928667  ...   \n",
       "std                 0.263482             0.111914              0.477441  ...   \n",
       "min                 0.000000             0.000000              0.000000  ...   \n",
       "25%                 0.000000             0.000000              1.000000  ...   \n",
       "50%                 0.000000             0.000000              1.000000  ...   \n",
       "75%                 0.000000             0.000000              1.000000  ...   \n",
       "max                 3.000000             2.000000              4.000000  ...   \n",
       "\n",
       "       z_numbersQty  z_assignmentsQty  z_mathOperationsQty  z_variablesQty  \\\n",
       "count   6000.000000       6000.000000          6000.000000     6000.000000   \n",
       "mean       0.225167          0.616333             0.089333        0.374500   \n",
       "std        0.661972          0.951289             0.409122        0.701901   \n",
       "min        0.000000          0.000000             0.000000        0.000000   \n",
       "25%        0.000000          0.000000             0.000000        0.000000   \n",
       "50%        0.000000          0.000000             0.000000        0.000000   \n",
       "75%        0.000000          1.000000             0.000000        1.000000   \n",
       "max       11.000000          8.000000             7.000000        6.000000   \n",
       "\n",
       "       z_maxNestedBlocksQty  z_anonymousClassesQty  z_innerClassesQty  \\\n",
       "count           6000.000000            6000.000000        6000.000000   \n",
       "mean               0.293000               0.508167           0.007833   \n",
       "std                0.522682               0.544655           0.095430   \n",
       "min                0.000000               0.000000           0.000000   \n",
       "25%                0.000000               0.000000           0.000000   \n",
       "50%                0.000000               0.000000           0.000000   \n",
       "75%                1.000000               1.000000           0.000000   \n",
       "max                3.000000               4.000000           2.000000   \n",
       "\n",
       "       z_lambdasQty  z_uniqueWordsQty  z_modifiers  \n",
       "count   6000.000000       6000.000000  6000.000000  \n",
       "mean       0.001167          6.972000    -0.024167  \n",
       "std        0.034139          4.350368     0.995865  \n",
       "min        0.000000          0.000000    -1.000000  \n",
       "25%        0.000000          4.000000    -1.000000  \n",
       "50%        0.000000          6.000000    -1.000000  \n",
       "75%        0.000000          9.000000     1.000000  \n",
       "max        1.000000         28.000000     1.000000  \n",
       "\n",
       "[8 rows x 39 columns]"
      ]
     },
     "execution_count": 287,
     "metadata": {},
     "output_type": "execute_result"
    }
   ],
   "source": [
    "df_cross_v1_anony.describe()"
   ]
  },
  {
   "cell_type": "code",
   "execution_count": 351,
   "metadata": {},
   "outputs": [],
   "source": [
    "appropriate_columns = [   'z_wmc', 'z_totalMethodsQty', 'z_staticMethodsQty', 'z_publicMethodsQty', 'z_privateMethodsQty',\n",
    "                          'z_protectedMethodsQty', 'z_defaultMethodsQty', 'z_abstractMethodsQty', 'z_finalMethodsQty','z_synchronizedMethodsQty',\n",
    "                          'z_totalFieldsQty', 'z_staticFieldsQty', 'z_publicFieldsQty', 'z_privateFieldsQty', 'z_protectedFieldsQty',\n",
    "                          'z_defaultFieldsQty', 'z_visibleFieldsQty', 'z_finalFieldsQty', 'z_synchronizedFieldsQty',\n",
    "                          'z_nosi', 'z_loc', 'z_returnQty', 'z_loopQty', 'z_comparisonsQty', 'z_tryCatchQty', 'z_parenthesizedExpsQty',\n",
    "                          'z_stringLiteralsQty', 'z_numbersQty', 'z_assignmentsQty', 'z_mathOperationsQty', 'z_variablesQty', 'z_maxNestedBlocksQty',\n",
    "                          'z_anonymousClassesQty', 'z_innerClassesQty', 'z_lambdasQty', 'z_uniqueWordsQty', 'z_modifiers',\n",
    "                          'x_treatment'\n",
    "                      ]"
   ]
  },
  {
   "cell_type": "code",
   "execution_count": 352,
   "metadata": {},
   "outputs": [],
   "source": [
    "#Normalization\n",
    "min_max_scaler = preprocessing.MinMaxScaler()\n",
    "df_cross_v1_base_scaled = pd.DataFrame(min_max_scaler.fit_transform(df_cross_v1_base[appropriate_columns[:-1]]), columns = appropriate_columns[:-1])"
   ]
  },
  {
   "cell_type": "code",
   "execution_count": 353,
   "metadata": {},
   "outputs": [],
   "source": [
    "df_cross_v1_base_scaled['x_treatment'] = df_cross_v1_base.x_treatment.values"
   ]
  },
  {
   "cell_type": "code",
   "execution_count": 356,
   "metadata": {},
   "outputs": [
    {
     "data": {
      "text/plain": [
       "array([[<AxesSubplot:title={'center':'z_abstractMethodsQty'}, xlabel='[x_treatment]'>,\n",
       "        <AxesSubplot:title={'center':'z_anonymousClassesQty'}, xlabel='[x_treatment]'>,\n",
       "        <AxesSubplot:title={'center':'z_assignmentsQty'}, xlabel='[x_treatment]'>,\n",
       "        <AxesSubplot:title={'center':'z_comparisonsQty'}, xlabel='[x_treatment]'>,\n",
       "        <AxesSubplot:title={'center':'z_defaultFieldsQty'}, xlabel='[x_treatment]'>,\n",
       "        <AxesSubplot:title={'center':'z_defaultMethodsQty'}, xlabel='[x_treatment]'>,\n",
       "        <AxesSubplot:title={'center':'z_finalFieldsQty'}, xlabel='[x_treatment]'>],\n",
       "       [<AxesSubplot:title={'center':'z_finalMethodsQty'}, xlabel='[x_treatment]'>,\n",
       "        <AxesSubplot:title={'center':'z_innerClassesQty'}, xlabel='[x_treatment]'>,\n",
       "        <AxesSubplot:title={'center':'z_lambdasQty'}, xlabel='[x_treatment]'>,\n",
       "        <AxesSubplot:title={'center':'z_loc'}, xlabel='[x_treatment]'>,\n",
       "        <AxesSubplot:title={'center':'z_loopQty'}, xlabel='[x_treatment]'>,\n",
       "        <AxesSubplot:title={'center':'z_mathOperationsQty'}, xlabel='[x_treatment]'>,\n",
       "        <AxesSubplot:title={'center':'z_maxNestedBlocksQty'}, xlabel='[x_treatment]'>],\n",
       "       [<AxesSubplot:title={'center':'z_modifiers'}, xlabel='[x_treatment]'>,\n",
       "        <AxesSubplot:title={'center':'z_nosi'}, xlabel='[x_treatment]'>,\n",
       "        <AxesSubplot:title={'center':'z_numbersQty'}, xlabel='[x_treatment]'>,\n",
       "        <AxesSubplot:title={'center':'z_parenthesizedExpsQty'}, xlabel='[x_treatment]'>,\n",
       "        <AxesSubplot:title={'center':'z_privateFieldsQty'}, xlabel='[x_treatment]'>,\n",
       "        <AxesSubplot:title={'center':'z_privateMethodsQty'}, xlabel='[x_treatment]'>,\n",
       "        <AxesSubplot:title={'center':'z_protectedFieldsQty'}, xlabel='[x_treatment]'>],\n",
       "       [<AxesSubplot:title={'center':'z_protectedMethodsQty'}, xlabel='[x_treatment]'>,\n",
       "        <AxesSubplot:title={'center':'z_publicFieldsQty'}, xlabel='[x_treatment]'>,\n",
       "        <AxesSubplot:title={'center':'z_publicMethodsQty'}, xlabel='[x_treatment]'>,\n",
       "        <AxesSubplot:title={'center':'z_returnQty'}, xlabel='[x_treatment]'>,\n",
       "        <AxesSubplot:title={'center':'z_staticFieldsQty'}, xlabel='[x_treatment]'>,\n",
       "        <AxesSubplot:title={'center':'z_staticMethodsQty'}, xlabel='[x_treatment]'>,\n",
       "        <AxesSubplot:title={'center':'z_stringLiteralsQty'}, xlabel='[x_treatment]'>],\n",
       "       [<AxesSubplot:title={'center':'z_synchronizedFieldsQty'}, xlabel='[x_treatment]'>,\n",
       "        <AxesSubplot:title={'center':'z_synchronizedMethodsQty'}, xlabel='[x_treatment]'>,\n",
       "        <AxesSubplot:title={'center':'z_totalFieldsQty'}, xlabel='[x_treatment]'>,\n",
       "        <AxesSubplot:title={'center':'z_totalMethodsQty'}, xlabel='[x_treatment]'>,\n",
       "        <AxesSubplot:title={'center':'z_tryCatchQty'}, xlabel='[x_treatment]'>,\n",
       "        <AxesSubplot:title={'center':'z_uniqueWordsQty'}, xlabel='[x_treatment]'>,\n",
       "        <AxesSubplot:title={'center':'z_variablesQty'}, xlabel='[x_treatment]'>],\n",
       "       [<AxesSubplot:title={'center':'z_visibleFieldsQty'}, xlabel='[x_treatment]'>,\n",
       "        <AxesSubplot:title={'center':'z_wmc'}, xlabel='[x_treatment]'>,\n",
       "        <AxesSubplot:>, <AxesSubplot:>, <AxesSubplot:>, <AxesSubplot:>,\n",
       "        <AxesSubplot:>],\n",
       "       [<AxesSubplot:>, <AxesSubplot:>, <AxesSubplot:>, <AxesSubplot:>,\n",
       "        <AxesSubplot:>, <AxesSubplot:>, <AxesSubplot:>]], dtype=object)"
      ]
     },
     "execution_count": 356,
     "metadata": {},
     "output_type": "execute_result"
    },
    {
     "data": {
      "image/png": "[encoded data removed]",
      "text/plain": [
       "<Figure size 2160x2160 with 49 Axes>"
      ]
     },
     "metadata": {
      "needs_background": "light"
     },
     "output_type": "display_data"
    }
   ],
   "source": [
    "#second covariate by treatment\n",
    "df_cross_v1_base_scaled.boxplot( \n",
    "    by='x_treatment',\n",
    "    showfliers=False,\n",
    "    layout=(7, 7),\n",
    "    figsize = (30,30)\n",
    ")"
   ]
  },
  {
   "cell_type": "code",
   "execution_count": 367,
   "metadata": {},
   "outputs": [
    {
     "data": {
      "text/plain": [
       "array([[<AxesSubplot:title={'center':'z_wmc'}>,\n",
       "        <AxesSubplot:title={'center':'z_totalMethodsQty'}>,\n",
       "        <AxesSubplot:title={'center':'z_staticMethodsQty'}>,\n",
       "        <AxesSubplot:title={'center':'z_publicMethodsQty'}>,\n",
       "        <AxesSubplot:title={'center':'z_privateMethodsQty'}>,\n",
       "        <AxesSubplot:title={'center':'z_protectedMethodsQty'}>,\n",
       "        <AxesSubplot:title={'center':'z_defaultMethodsQty'}>],\n",
       "       [<AxesSubplot:title={'center':'z_abstractMethodsQty'}>,\n",
       "        <AxesSubplot:title={'center':'z_finalMethodsQty'}>,\n",
       "        <AxesSubplot:title={'center':'z_synchronizedMethodsQty'}>,\n",
       "        <AxesSubplot:title={'center':'z_totalFieldsQty'}>,\n",
       "        <AxesSubplot:title={'center':'z_staticFieldsQty'}>,\n",
       "        <AxesSubplot:title={'center':'z_publicFieldsQty'}>,\n",
       "        <AxesSubplot:title={'center':'z_privateFieldsQty'}>],\n",
       "       [<AxesSubplot:title={'center':'z_protectedFieldsQty'}>,\n",
       "        <AxesSubplot:title={'center':'z_defaultFieldsQty'}>,\n",
       "        <AxesSubplot:title={'center':'z_visibleFieldsQty'}>,\n",
       "        <AxesSubplot:title={'center':'z_finalFieldsQty'}>,\n",
       "        <AxesSubplot:title={'center':'z_synchronizedFieldsQty'}>,\n",
       "        <AxesSubplot:title={'center':'z_nosi'}>,\n",
       "        <AxesSubplot:title={'center':'z_loc'}>],\n",
       "       [<AxesSubplot:title={'center':'z_returnQty'}>,\n",
       "        <AxesSubplot:title={'center':'z_loopQty'}>,\n",
       "        <AxesSubplot:title={'center':'z_comparisonsQty'}>,\n",
       "        <AxesSubplot:title={'center':'z_tryCatchQty'}>,\n",
       "        <AxesSubplot:title={'center':'z_parenthesizedExpsQty'}>,\n",
       "        <AxesSubplot:title={'center':'z_stringLiteralsQty'}>,\n",
       "        <AxesSubplot:title={'center':'z_numbersQty'}>],\n",
       "       [<AxesSubplot:title={'center':'z_assignmentsQty'}>,\n",
       "        <AxesSubplot:title={'center':'z_mathOperationsQty'}>,\n",
       "        <AxesSubplot:title={'center':'z_variablesQty'}>,\n",
       "        <AxesSubplot:title={'center':'z_maxNestedBlocksQty'}>,\n",
       "        <AxesSubplot:title={'center':'z_anonymousClassesQty'}>,\n",
       "        <AxesSubplot:title={'center':'z_innerClassesQty'}>,\n",
       "        <AxesSubplot:title={'center':'z_lambdasQty'}>],\n",
       "       [<AxesSubplot:title={'center':'z_uniqueWordsQty'}>,\n",
       "        <AxesSubplot:title={'center':'z_modifiers'}>, <AxesSubplot:>,\n",
       "        <AxesSubplot:>, <AxesSubplot:>, <AxesSubplot:>, <AxesSubplot:>],\n",
       "       [<AxesSubplot:>, <AxesSubplot:>, <AxesSubplot:>, <AxesSubplot:>,\n",
       "        <AxesSubplot:>, <AxesSubplot:>, <AxesSubplot:>]], dtype=object)"
      ]
     },
     "execution_count": 367,
     "metadata": {},
     "output_type": "execute_result"
    },
    {
     "data": {
      "image/png": "[encoded data removed]",
      "text/plain": [
       "<Figure size 2160x2160 with 49 Axes>"
      ]
     },
     "metadata": {
      "needs_background": "light"
     },
     "output_type": "display_data"
    }
   ],
   "source": [
    "df_cross_v1_base_scaled[appropriate_columns[:-1]].hist( \n",
    "    bins=30,\n",
    "    #showfliers=False,\n",
    "    layout=(7, 7),\n",
    "    figsize = (30,30)\n",
    ")"
   ]
  },
  {
   "cell_type": "code",
   "execution_count": 357,
   "metadata": {},
   "outputs": [
    {
     "name": "stderr",
     "output_type": "stream",
     "text": [
      "2021-07-08 19:01:44,221 : INFO : z_wmc:-0.054\n",
      "/opt/conda/lib/python3.8/site-packages/numpy/lib/function_base.py:2559: RuntimeWarning: invalid value encountered in true_divide\n",
      "  c /= stddev[:, None]\n",
      "/opt/conda/lib/python3.8/site-packages/numpy/lib/function_base.py:2560: RuntimeWarning: invalid value encountered in true_divide\n",
      "  c /= stddev[None, :]\n",
      "2021-07-08 19:01:44,224 : INFO : z_totalMethodsQty:nan\n",
      "2021-07-08 19:01:44,227 : INFO : z_staticMethodsQty:0.072\n",
      "2021-07-08 19:01:44,228 : INFO : z_publicMethodsQty:0.021\n",
      "2021-07-08 19:01:44,230 : INFO : z_privateMethodsQty:-0.031\n",
      "2021-07-08 19:01:44,231 : INFO : z_protectedMethodsQty:0.023\n",
      "2021-07-08 19:01:44,232 : INFO : z_defaultMethodsQty:-0.018\n",
      "2021-07-08 19:01:44,234 : INFO : z_abstractMethodsQty:0.031\n",
      "2021-07-08 19:01:44,235 : INFO : z_finalMethodsQty:nan\n",
      "2021-07-08 19:01:44,237 : INFO : z_synchronizedMethodsQty:-0.005\n",
      "2021-07-08 19:01:44,239 : INFO : z_totalFieldsQty:-0.005\n",
      "2021-07-08 19:01:44,241 : INFO : z_staticFieldsQty:nan\n",
      "2021-07-08 19:01:44,243 : INFO : z_publicFieldsQty:nan\n",
      "2021-07-08 19:01:44,245 : INFO : z_privateFieldsQty:nan\n",
      "2021-07-08 19:01:44,247 : INFO : z_protectedFieldsQty:nan\n",
      "2021-07-08 19:01:44,248 : INFO : z_defaultFieldsQty:nan\n",
      "2021-07-08 19:01:44,250 : INFO : z_visibleFieldsQty:nan\n",
      "2021-07-08 19:01:44,252 : INFO : z_finalFieldsQty:nan\n",
      "2021-07-08 19:01:44,254 : INFO : z_synchronizedFieldsQty:nan\n",
      "2021-07-08 19:01:44,255 : INFO : z_nosi:0.019\n",
      "2021-07-08 19:01:44,256 : INFO : z_loc:0.251\n",
      "2021-07-08 19:01:44,258 : INFO : z_returnQty:-0.032\n",
      "2021-07-08 19:01:44,259 : INFO : z_loopQty:-0.119\n",
      "2021-07-08 19:01:44,260 : INFO : z_comparisonsQty:-0.027\n",
      "2021-07-08 19:01:44,261 : INFO : z_tryCatchQty:0.116\n",
      "2021-07-08 19:01:44,263 : INFO : z_parenthesizedExpsQty:-0.155\n",
      "2021-07-08 19:01:44,264 : INFO : z_stringLiteralsQty:0.2\n",
      "2021-07-08 19:01:44,266 : INFO : z_numbersQty:-0.152\n",
      "2021-07-08 19:01:44,268 : INFO : z_assignmentsQty:0.172\n",
      "2021-07-08 19:01:44,270 : INFO : z_mathOperationsQty:-0.097\n",
      "2021-07-08 19:01:44,271 : INFO : z_variablesQty:0.215\n",
      "2021-07-08 19:01:44,273 : INFO : z_maxNestedBlocksQty:-0.079\n",
      "2021-07-08 19:01:44,274 : INFO : z_anonymousClassesQty:0.097\n",
      "2021-07-08 19:01:44,275 : INFO : z_innerClassesQty:0.022\n",
      "2021-07-08 19:01:44,276 : INFO : z_lambdasQty:-0.0\n",
      "2021-07-08 19:01:44,277 : INFO : z_uniqueWordsQty:0.241\n",
      "2021-07-08 19:01:44,279 : INFO : z_modifiers:nan\n"
     ]
    }
   ],
   "source": [
    "#General Correlation\n",
    "for i in appropriate_columns[:-1]:\n",
    "    df_temp = df_cross_v1_base\n",
    "    #df_temp = df_cross_v1_base[[i,'y_cross_entropy']].dropna(axis=0, how='any') #Clearning nans\n",
    "    logging.info( str(i)+':' + str( corrcoef(df_temp[i].values, df_temp.y_cross_entropy.values) ) )"
   ]
  },
  {
   "cell_type": "code",
   "execution_count": 360,
   "metadata": {},
   "outputs": [],
   "source": [
    "df_buggy_cross_v1_base = df_cross_v1_base.loc[lambda row: row['x_treatment'] == True  ].copy()\n",
    "df_nonbuggy_cross_v1_base = df_cross_v1_base.loc[lambda row: row['x_treatment'] == False  ].copy()"
   ]
  },
  {
   "cell_type": "code",
   "execution_count": 361,
   "metadata": {},
   "outputs": [
    {
     "data": {
      "text/plain": [
       "<AxesSubplot:xlabel='z_uniqueWordsQty', ylabel='y_cross_entropy'>"
      ]
     },
     "execution_count": 361,
     "metadata": {},
     "output_type": "execute_result"
    },
    {
     "data": {
      "image/png": "[encoded data removed]",
      "text/plain": [
       "<Figure size 432x288 with 1 Axes>"
      ]
     },
     "metadata": {
      "needs_background": "light"
     },
     "output_type": "display_data"
    }
   ],
   "source": [
    "ax = df_buggy_cross_v1_base.loc[lambda row: row[\"z_uniqueWordsQty\"] < LIM ].plot.scatter(x=\"z_uniqueWordsQty\", y=\"y_cross_entropy\", s=S, color=\"DarkBlue\", label=\"Buggy\")\n",
    "df_nonbuggy_cross_v1_base.loc[lambda row: row[\"z_uniqueWordsQty\"] < LIM ].plot.scatter(x=\"z_uniqueWordsQty\", y=\"y_cross_entropy\", s=S, color=\"Green\", label=\"non-Buggy\", alpha=0.3, ax=ax)"
   ]
  },
  {
   "cell_type": "markdown",
   "metadata": {},
   "source": [
    "## Next Token Prediction Analysis"
   ]
  },
  {
   "cell_type": "code",
   "execution_count": 375,
   "metadata": {},
   "outputs": [
    {
     "data": {
      "text/html": [
       "<div>\n",
       "<style scoped>\n",
       "    .dataframe tbody tr th:only-of-type {\n",
       "        vertical-align: middle;\n",
       "    }\n",
       "\n",
       "    .dataframe tbody tr th {\n",
       "        vertical-align: top;\n",
       "    }\n",
       "\n",
       "    .dataframe thead th {\n",
       "        text-align: right;\n",
       "    }\n",
       "</style>\n",
       "<table border=\"1\" class=\"dataframe\">\n",
       "  <thead>\n",
       "    <tr style=\"text-align: right;\">\n",
       "      <th></th>\n",
       "      <th>y_blocks</th>\n",
       "      <th>y_exceptions</th>\n",
       "      <th>y_oop</th>\n",
       "      <th>y_tests</th>\n",
       "      <th>y_declarations</th>\n",
       "      <th>y_conditionals</th>\n",
       "      <th>y_loops</th>\n",
       "      <th>y_operators</th>\n",
       "      <th>y_datatypes</th>\n",
       "      <th>y_extra_tokens</th>\n",
       "      <th>...</th>\n",
       "      <th>z_numbersQty</th>\n",
       "      <th>z_assignmentsQty</th>\n",
       "      <th>z_mathOperationsQty</th>\n",
       "      <th>z_variablesQty</th>\n",
       "      <th>z_maxNestedBlocksQty</th>\n",
       "      <th>z_anonymousClassesQty</th>\n",
       "      <th>z_innerClassesQty</th>\n",
       "      <th>z_lambdasQty</th>\n",
       "      <th>z_uniqueWordsQty</th>\n",
       "      <th>z_modifiers</th>\n",
       "    </tr>\n",
       "  </thead>\n",
       "  <tbody>\n",
       "    <tr>\n",
       "      <th>count</th>\n",
       "      <td>129444.000000</td>\n",
       "      <td>3.237900e+04</td>\n",
       "      <td>1.280570e+05</td>\n",
       "      <td>7.080000e+02</td>\n",
       "      <td>8.949200e+04</td>\n",
       "      <td>7.478600e+04</td>\n",
       "      <td>3.163100e+04</td>\n",
       "      <td>1.238690e+05</td>\n",
       "      <td>5.470000e+04</td>\n",
       "      <td>129435.000000</td>\n",
       "      <td>...</td>\n",
       "      <td>129444.000000</td>\n",
       "      <td>129444.000000</td>\n",
       "      <td>129444.000000</td>\n",
       "      <td>129444.000000</td>\n",
       "      <td>129444.000000</td>\n",
       "      <td>129444.000000</td>\n",
       "      <td>129444.000000</td>\n",
       "      <td>129444.000000</td>\n",
       "      <td>129444.000000</td>\n",
       "      <td>129444.0</td>\n",
       "    </tr>\n",
       "    <tr>\n",
       "      <th>mean</th>\n",
       "      <td>0.027398</td>\n",
       "      <td>6.619357e-06</td>\n",
       "      <td>1.560847e-03</td>\n",
       "      <td>2.682235e-06</td>\n",
       "      <td>7.849119e-07</td>\n",
       "      <td>1.756289e-05</td>\n",
       "      <td>2.001032e-05</td>\n",
       "      <td>2.942739e-03</td>\n",
       "      <td>1.386176e-05</td>\n",
       "      <td>0.138973</td>\n",
       "      <td>...</td>\n",
       "      <td>0.913654</td>\n",
       "      <td>1.884583</td>\n",
       "      <td>0.571336</td>\n",
       "      <td>1.232247</td>\n",
       "      <td>1.018572</td>\n",
       "      <td>0.023122</td>\n",
       "      <td>0.000348</td>\n",
       "      <td>0.006080</td>\n",
       "      <td>11.336732</td>\n",
       "      <td>1.0</td>\n",
       "    </tr>\n",
       "    <tr>\n",
       "      <th>std</th>\n",
       "      <td>0.018042</td>\n",
       "      <td>1.147974e-05</td>\n",
       "      <td>3.662612e-03</td>\n",
       "      <td>1.730872e-06</td>\n",
       "      <td>9.729956e-06</td>\n",
       "      <td>1.632367e-05</td>\n",
       "      <td>7.926272e-05</td>\n",
       "      <td>1.205765e-02</td>\n",
       "      <td>3.451656e-05</td>\n",
       "      <td>0.041075</td>\n",
       "      <td>...</td>\n",
       "      <td>1.720107</td>\n",
       "      <td>1.580910</td>\n",
       "      <td>1.363303</td>\n",
       "      <td>1.161180</td>\n",
       "      <td>0.830400</td>\n",
       "      <td>0.157225</td>\n",
       "      <td>0.020232</td>\n",
       "      <td>0.092444</td>\n",
       "      <td>4.994894</td>\n",
       "      <td>0.0</td>\n",
       "    </tr>\n",
       "    <tr>\n",
       "      <th>min</th>\n",
       "      <td>0.000492</td>\n",
       "      <td>1.300000e-09</td>\n",
       "      <td>8.000000e-10</td>\n",
       "      <td>1.842000e-07</td>\n",
       "      <td>4.300000e-09</td>\n",
       "      <td>2.500000e-09</td>\n",
       "      <td>7.630000e-08</td>\n",
       "      <td>1.400000e-09</td>\n",
       "      <td>2.400000e-09</td>\n",
       "      <td>0.000181</td>\n",
       "      <td>...</td>\n",
       "      <td>0.000000</td>\n",
       "      <td>0.000000</td>\n",
       "      <td>0.000000</td>\n",
       "      <td>0.000000</td>\n",
       "      <td>0.000000</td>\n",
       "      <td>0.000000</td>\n",
       "      <td>0.000000</td>\n",
       "      <td>0.000000</td>\n",
       "      <td>3.000000</td>\n",
       "      <td>1.0</td>\n",
       "    </tr>\n",
       "    <tr>\n",
       "      <th>25%</th>\n",
       "      <td>0.013624</td>\n",
       "      <td>8.082000e-07</td>\n",
       "      <td>8.300000e-08</td>\n",
       "      <td>1.641200e-06</td>\n",
       "      <td>1.819000e-07</td>\n",
       "      <td>7.591900e-06</td>\n",
       "      <td>4.239600e-06</td>\n",
       "      <td>1.492274e-04</td>\n",
       "      <td>8.347000e-07</td>\n",
       "      <td>0.111008</td>\n",
       "      <td>...</td>\n",
       "      <td>0.000000</td>\n",
       "      <td>1.000000</td>\n",
       "      <td>0.000000</td>\n",
       "      <td>0.000000</td>\n",
       "      <td>0.000000</td>\n",
       "      <td>0.000000</td>\n",
       "      <td>0.000000</td>\n",
       "      <td>0.000000</td>\n",
       "      <td>8.000000</td>\n",
       "      <td>1.0</td>\n",
       "    </tr>\n",
       "    <tr>\n",
       "      <th>50%</th>\n",
       "      <td>0.024140</td>\n",
       "      <td>1.648700e-06</td>\n",
       "      <td>8.668500e-06</td>\n",
       "      <td>2.242750e-06</td>\n",
       "      <td>3.461000e-07</td>\n",
       "      <td>1.201850e-05</td>\n",
       "      <td>9.298200e-06</td>\n",
       "      <td>3.664036e-04</td>\n",
       "      <td>3.514200e-06</td>\n",
       "      <td>0.137228</td>\n",
       "      <td>...</td>\n",
       "      <td>0.000000</td>\n",
       "      <td>2.000000</td>\n",
       "      <td>0.000000</td>\n",
       "      <td>1.000000</td>\n",
       "      <td>1.000000</td>\n",
       "      <td>0.000000</td>\n",
       "      <td>0.000000</td>\n",
       "      <td>0.000000</td>\n",
       "      <td>10.000000</td>\n",
       "      <td>1.0</td>\n",
       "    </tr>\n",
       "    <tr>\n",
       "      <th>75%</th>\n",
       "      <td>0.037357</td>\n",
       "      <td>8.043200e-06</td>\n",
       "      <td>1.417618e-03</td>\n",
       "      <td>3.153475e-06</td>\n",
       "      <td>4.551000e-07</td>\n",
       "      <td>2.195810e-05</td>\n",
       "      <td>1.711530e-05</td>\n",
       "      <td>1.072184e-03</td>\n",
       "      <td>1.234690e-05</td>\n",
       "      <td>0.164987</td>\n",
       "      <td>...</td>\n",
       "      <td>1.000000</td>\n",
       "      <td>3.000000</td>\n",
       "      <td>0.000000</td>\n",
       "      <td>2.000000</td>\n",
       "      <td>1.000000</td>\n",
       "      <td>0.000000</td>\n",
       "      <td>0.000000</td>\n",
       "      <td>0.000000</td>\n",
       "      <td>13.000000</td>\n",
       "      <td>1.0</td>\n",
       "    </tr>\n",
       "    <tr>\n",
       "      <th>max</th>\n",
       "      <td>0.180986</td>\n",
       "      <td>2.466836e-04</td>\n",
       "      <td>1.678386e-01</td>\n",
       "      <td>1.249600e-05</td>\n",
       "      <td>1.013232e-03</td>\n",
       "      <td>5.137535e-04</td>\n",
       "      <td>8.033565e-03</td>\n",
       "      <td>4.924544e-01</td>\n",
       "      <td>1.900545e-03</td>\n",
       "      <td>0.369389</td>\n",
       "      <td>...</td>\n",
       "      <td>41.000000</td>\n",
       "      <td>19.000000</td>\n",
       "      <td>21.000000</td>\n",
       "      <td>11.000000</td>\n",
       "      <td>6.000000</td>\n",
       "      <td>4.000000</td>\n",
       "      <td>2.000000</td>\n",
       "      <td>5.000000</td>\n",
       "      <td>336.000000</td>\n",
       "      <td>1.0</td>\n",
       "    </tr>\n",
       "  </tbody>\n",
       "</table>\n",
       "<p>8 rows × 48 columns</p>\n",
       "</div>"
      ],
      "text/plain": [
       "            y_blocks  y_exceptions         y_oop       y_tests  \\\n",
       "count  129444.000000  3.237900e+04  1.280570e+05  7.080000e+02   \n",
       "mean        0.027398  6.619357e-06  1.560847e-03  2.682235e-06   \n",
       "std         0.018042  1.147974e-05  3.662612e-03  1.730872e-06   \n",
       "min         0.000492  1.300000e-09  8.000000e-10  1.842000e-07   \n",
       "25%         0.013624  8.082000e-07  8.300000e-08  1.641200e-06   \n",
       "50%         0.024140  1.648700e-06  8.668500e-06  2.242750e-06   \n",
       "75%         0.037357  8.043200e-06  1.417618e-03  3.153475e-06   \n",
       "max         0.180986  2.466836e-04  1.678386e-01  1.249600e-05   \n",
       "\n",
       "       y_declarations  y_conditionals       y_loops   y_operators  \\\n",
       "count    8.949200e+04    7.478600e+04  3.163100e+04  1.238690e+05   \n",
       "mean     7.849119e-07    1.756289e-05  2.001032e-05  2.942739e-03   \n",
       "std      9.729956e-06    1.632367e-05  7.926272e-05  1.205765e-02   \n",
       "min      4.300000e-09    2.500000e-09  7.630000e-08  1.400000e-09   \n",
       "25%      1.819000e-07    7.591900e-06  4.239600e-06  1.492274e-04   \n",
       "50%      3.461000e-07    1.201850e-05  9.298200e-06  3.664036e-04   \n",
       "75%      4.551000e-07    2.195810e-05  1.711530e-05  1.072184e-03   \n",
       "max      1.013232e-03    5.137535e-04  8.033565e-03  4.924544e-01   \n",
       "\n",
       "        y_datatypes  y_extra_tokens  ...   z_numbersQty  z_assignmentsQty  \\\n",
       "count  5.470000e+04   129435.000000  ...  129444.000000     129444.000000   \n",
       "mean   1.386176e-05        0.138973  ...       0.913654          1.884583   \n",
       "std    3.451656e-05        0.041075  ...       1.720107          1.580910   \n",
       "min    2.400000e-09        0.000181  ...       0.000000          0.000000   \n",
       "25%    8.347000e-07        0.111008  ...       0.000000          1.000000   \n",
       "50%    3.514200e-06        0.137228  ...       0.000000          2.000000   \n",
       "75%    1.234690e-05        0.164987  ...       1.000000          3.000000   \n",
       "max    1.900545e-03        0.369389  ...      41.000000         19.000000   \n",
       "\n",
       "       z_mathOperationsQty  z_variablesQty  z_maxNestedBlocksQty  \\\n",
       "count        129444.000000   129444.000000         129444.000000   \n",
       "mean              0.571336        1.232247              1.018572   \n",
       "std               1.363303        1.161180              0.830400   \n",
       "min               0.000000        0.000000              0.000000   \n",
       "25%               0.000000        0.000000              0.000000   \n",
       "50%               0.000000        1.000000              1.000000   \n",
       "75%               0.000000        2.000000              1.000000   \n",
       "max              21.000000       11.000000              6.000000   \n",
       "\n",
       "       z_anonymousClassesQty  z_innerClassesQty   z_lambdasQty  \\\n",
       "count          129444.000000      129444.000000  129444.000000   \n",
       "mean                0.023122           0.000348       0.006080   \n",
       "std                 0.157225           0.020232       0.092444   \n",
       "min                 0.000000           0.000000       0.000000   \n",
       "25%                 0.000000           0.000000       0.000000   \n",
       "50%                 0.000000           0.000000       0.000000   \n",
       "75%                 0.000000           0.000000       0.000000   \n",
       "max                 4.000000           2.000000       5.000000   \n",
       "\n",
       "       z_uniqueWordsQty  z_modifiers  \n",
       "count     129444.000000     129444.0  \n",
       "mean          11.336732          1.0  \n",
       "std            4.994894          0.0  \n",
       "min            3.000000          1.0  \n",
       "25%            8.000000          1.0  \n",
       "50%           10.000000          1.0  \n",
       "75%           13.000000          1.0  \n",
       "max          336.000000          1.0  \n",
       "\n",
       "[8 rows x 48 columns]"
      ]
     },
     "execution_count": 375,
     "metadata": {},
     "output_type": "execute_result"
    }
   ],
   "source": [
    "df_error_tax_v1_base.describe()"
   ]
  },
  {
   "cell_type": "code",
   "execution_count": 392,
   "metadata": {},
   "outputs": [
    {
     "name": "stderr",
     "output_type": "stream",
     "text": [
      "2021-07-08 19:33:32,854 : INFO : [y_blocks] - [z_loc]:-0.418\n",
      "2021-07-08 19:33:32,858 : INFO : [y_blocks] - [z_tryCatchQty]:-0.213\n",
      "2021-07-08 19:33:32,860 : INFO : [y_blocks] - [z_parenthesizedExpsQty]:0.466\n",
      "2021-07-08 19:33:32,864 : INFO : [y_blocks] - [z_mathOperationsQty]:0.274\n",
      "2021-07-08 19:33:32,866 : INFO : [y_blocks] - [z_maxNestedBlocksQty]:-0.222\n"
     ]
    }
   ],
   "source": [
    "CORR_LIMIT = 0.2\n",
    "#General Correlation\n",
    "for i in taxonomy:\n",
    "    for j in appropriate_columns[:-1]:\n",
    "        df_temp = df_error_tax_v1_base\n",
    "        #df_temp = df_error_tax_v1_base[[i,j]].dropna(axis=0, how='any')\n",
    "        correlation = corrcoef(df_temp[i].values, df_temp[j].values)\n",
    "        if np.absolute(correlation) >= CORR_LIMIT:\n",
    "            logging.info( '['+ str(i) +'] - ['+ str(j) +']'+':' + str( correlation ) )"
   ]
  },
  {
   "cell_type": "code",
   "execution_count": 386,
   "metadata": {},
   "outputs": [],
   "source": [
    "df_buggy_error_tax_v1_base = df_error_tax_v1_base.loc[lambda row: row['x_treatment'] == True  ].copy()\n",
    "df_nonbuggy_error_tax_v1_base = df_error_tax_v1_base.loc[lambda row: row['x_treatment'] == False  ].copy()"
   ]
  },
  {
   "cell_type": "code",
   "execution_count": 388,
   "metadata": {},
   "outputs": [
    {
     "data": {
      "text/plain": [
       "<AxesSubplot:xlabel='z_loc', ylabel='y_blocks'>"
      ]
     },
     "execution_count": 388,
     "metadata": {},
     "output_type": "execute_result"
    },
    {
     "data": {
      "image/png": "[encoded data removed]",
      "text/plain": [
       "<Figure size 432x288 with 1 Axes>"
      ]
     },
     "metadata": {
      "needs_background": "light"
     },
     "output_type": "display_data"
    }
   ],
   "source": [
    "#An Example with z_loc due to the correlation with y_blocks\n",
    "ax = df_buggy_error_tax_v1_base.loc[lambda row: row[\"z_loc\"] < LIM ].plot.scatter(x=\"z_loc\", y=\"y_blocks\", s=S, color=\"DarkBlue\", label=\"Buggy\")\n",
    "df_nonbuggy_error_tax_v1_base.loc[lambda row: row[\"z_loc\"] < LIM ].plot.scatter(x=\"z_loc\", y=\"y_blocks\", s=S, color=\"Green\", label=\"non-Buggy\", alpha=0.3, ax=ax)"
   ]
  },
  {
   "cell_type": "code",
   "execution_count": 389,
   "metadata": {},
   "outputs": [
    {
     "data": {
      "text/plain": [
       "<AxesSubplot:xlabel='z_parenthesizedExpsQty', ylabel='y_blocks'>"
      ]
     },
     "execution_count": 389,
     "metadata": {},
     "output_type": "execute_result"
    },
    {
     "data": {
      "image/png": "[encoded data removed]",
      "text/plain": [
       "<Figure size 432x288 with 1 Axes>"
      ]
     },
     "metadata": {
      "needs_background": "light"
     },
     "output_type": "display_data"
    }
   ],
   "source": [
    "#An Example with z_parenthesizedExpsQty due to the correlation with y_blocks\n",
    "ax = df_buggy_error_tax_v1_base.loc[lambda row: row[\"z_parenthesizedExpsQty\"] < LIM ].plot.scatter(x=\"z_parenthesizedExpsQty\", y=\"y_blocks\", s=S, color=\"DarkBlue\", label=\"Buggy\")\n",
    "df_nonbuggy_error_tax_v1_base.loc[lambda row: row[\"z_parenthesizedExpsQty\"] < LIM ].plot.scatter(x=\"z_parenthesizedExpsQty\", y=\"y_blocks\", s=S, color=\"Green\", label=\"non-Buggy\", alpha=0.3, ax=ax)"
   ]
  },
  {
   "cell_type": "code",
   "execution_count": null,
   "metadata": {},
   "outputs": [],
   "source": []
  }
 ],
 "metadata": {
  "kernelspec": {
   "display_name": "Python 3",
   "language": "python",
   "name": "python3"
  },
  "language_info": {
   "codemirror_mode": {
    "name": "ipython",
    "version": 3
   },
   "file_extension": ".py",
   "mimetype": "text/x-python",
   "name": "python",
   "nbconvert_exporter": "python",
   "pygments_lexer": "ipython3",
   "version": "3.8.6"
  }
 },
 "nbformat": 4,
 "nbformat_minor": 4
}
