{
 "cells": [
  {
   "cell_type": "code",
   "execution_count": null,
   "metadata": {},
   "outputs": [],
   "source": [
    "# default_exp data"
   ]
  },
  {
   "cell_type": "code",
   "execution_count": null,
   "metadata": {},
   "outputs": [],
   "source": [
    "#hide\n",
    "%load_ext autoreload\n",
    "%autoreload 2\n",
    "%matplotlib inline"
   ]
  },
  {
   "cell_type": "markdown",
   "metadata": {},
   "source": [
    "# Data\n",
    "\n",
    "> This model contains all the necessary functionality for managing data."
   ]
  },
  {
   "cell_type": "code",
   "execution_count": null,
   "metadata": {},
   "outputs": [],
   "source": [
    "# export\n",
    "from pathlib import Path\n",
    "from tokenizers import Tokenizer, models, pre_tokenizers, decoders, trainers, processors"
   ]
  },
  {
   "cell_type": "code",
   "execution_count": null,
   "metadata": {},
   "outputs": [],
   "source": [
    "#hide\n",
    "from nbdev.showdoc import *"
   ]
  },
  {
   "cell_type": "code",
   "execution_count": null,
   "metadata": {},
   "outputs": [
    {
     "data": {
      "text/html": "<div>\n<style scoped>\n    .dataframe tbody tr th:only-of-type {\n        vertical-align: middle;\n    }\n\n    .dataframe tbody tr th {\n        vertical-align: top;\n    }\n\n    .dataframe thead th {\n        text-align: right;\n    }\n</style>\n<table border=\"1\" class=\"dataframe\">\n  <thead>\n    <tr style=\"text-align: right;\">\n      <th></th>\n      <th>code</th>\n      <th>docstring</th>\n    </tr>\n  </thead>\n  <tbody>\n    <tr>\n      <th>22198</th>\n      <td>protected Object[] validateArguments(Method me...</td>\n      <td>Validates the array of {@link Object arguments...</td>\n    </tr>\n    <tr>\n      <th>5223</th>\n      <td>@SuppressWarnings(\"rawtypes\")\\n\\tpublic void s...</td>\n      <td>Sets the class loader to be used on serializat...</td>\n    </tr>\n    <tr>\n      <th>29127</th>\n      <td>public ServiceFuture&lt;List&lt;BackupEngineBaseReso...</td>\n      <td>The backup management servers registered to a ...</td>\n    </tr>\n    <tr>\n      <th>5079</th>\n      <td>private void ensureMetaCharsetElement() {\\n   ...</td>\n      <td>Ensures a meta charset (html) or xml declarati...</td>\n    </tr>\n    <tr>\n      <th>11797</th>\n      <td>public InstallationJob getJob(Plugin plugin) {...</td>\n      <td>Returns latest install/upgrade job for the giv...</td>\n    </tr>\n  </tbody>\n</table>\n</div>",
      "text/plain": "                                                    code  \\\n22198  protected Object[] validateArguments(Method me...   \n5223   @SuppressWarnings(&quot;rawtypes&quot;)\\n\\tpublic void s...   \n29127  public ServiceFuture&lt;List&lt;BackupEngineBaseReso...   \n5079   private void ensureMetaCharsetElement() {\\n   ...   \n11797  public InstallationJob getJob(Plugin plugin) {...   \n\n                                               docstring  \n22198  Validates the array of {@link Object arguments...  \n5223   Sets the class loader to be used on serializat...  \n29127  The backup management servers registered to a ...  \n5079   Ensures a meta charset (html) or xml declarati...  \n11797  Returns latest install/upgrade job for the giv...  "
     },
     "execution_count": null,
     "metadata": {},
     "output_type": "execute_result"
    }
   ],
   "source": [
    "# hide\n",
    "from ds4se.mgmnt.prep.i import jsonl_list_to_dataframe, get_dfs\n",
    "\n",
    "path = Path('/home/nathan/Downloads/')\n",
    "df_trn, df_val, df_tst = get_dfs(path/\"java/final/jsonl\")\n",
    "\n",
    "sample = 0.01\n",
    "df_trn = df_trn.sample(frac = sample)\n",
    "df_val = df_val.sample(frac = sample)\n",
    "df_tst = df_tst.sample(frac = sample)\n",
    "df_trn.head()"
   ]
  },
  {
   "cell_type": "code",
   "execution_count": null,
   "metadata": {},
   "outputs": [
    {
     "data": {
      "text/plain": "(4545, 153, 269)"
     },
     "execution_count": null,
     "metadata": {},
     "output_type": "execute_result"
    }
   ],
   "source": [
    "# hide\n",
    "len(df_trn), len(df_val), len(df_tst)"
   ]
  },
  {
   "cell_type": "code",
   "execution_count": null,
   "metadata": {},
   "outputs": [],
   "source": [
    "# export\n",
    "# TODO: add special tokens and test case\n",
    "def train_tokenizer(df, n = None, vocab_sz = 20_000, min_freq = 2, output = None):\n",
    "    \"\"\"\n",
    "    Train a ByteLevel BPE tokenizer on a given pandas dataframe. Code adapted from https://github.com/huggingface/tokenizers/tree/master/bindings/python.\n",
    "\n",
    "    :param df: the pandas dataframe containing each method to have the tokenizer train on\n",
    "    :param n: the number of methods to evaluate. If none, the entire dataframe will be used\n",
    "    :param vocab_sz: the maximum vocabulary size of the trained tokenizer\n",
    "    :param min_freq: the minimum frequency a token has to occur to be considered\n",
    "    :returns: returns a trained ByteLevel BPE tokenizer\n",
    "    \"\"\"\n",
    "    if n is None: n = len(df)\n",
    "\n",
    "    # create tmp file to store df contents for training tokenizer\n",
    "    tmp_path = Path('/tmp')\n",
    "    tmp_path.mkdir(parents = True, exist_ok = True)\n",
    "    with open(tmp_path/'tmp_tokenize.txt', 'w') as f:\n",
    "        f.write('\\n'.join(df.code.values[:n]))\n",
    "\n",
    "    # initialize a tokenizer\n",
    "    tokenizer = Tokenizer(models.BPE())\n",
    "\n",
    "    # customize pre-tokenization and decoding\n",
    "    tokenizer.pre_tokenizer = pre_tokenizers.ByteLevel(add_prefix_space = True)\n",
    "    tokenizer.decoder = decoders.ByteLevel()\n",
    "    tokenizer.post_processor = processors.ByteLevel(trim_offsets = True)\n",
    "\n",
    "    # train tokenizer with data in tmp file\n",
    "    trainer = trainers.BpeTrainer(vocab_size = vocab_sz, min_frequency = min_freq)\n",
    "    tokenizer.train(trainer, [str(tmp_path/'tmp_tokenize.txt')])\n",
    "\n",
    "    # save tokenizer if output path given\n",
    "    if output is not None:\n",
    "        tokenizer.save(output, pretty = True)\n",
    "    \n",
    "    return tokenizer"
   ]
  },
  {
   "cell_type": "code",
   "execution_count": null,
   "metadata": {},
   "outputs": [
    {
     "data": {
      "text/plain": "Encoding(num_tokens=248, attributes=[ids, type_ids, tokens, offsets, attention_mask, special_tokens_mask, overflowing])"
     },
     "execution_count": null,
     "metadata": {},
     "output_type": "execute_result"
    }
   ],
   "source": [
    "# hide\n",
    "tokenizer = train_tokenizer(df_trn)"
   ]
  },
  {
   "cell_type": "code",
   "execution_count": null,
   "metadata": {
    "tags": []
   },
   "outputs": [
    {
     "name": "stdout",
     "output_type": "stream",
     "text": "protected Object[] validateArguments(Method method, Object... args) {\n    Assert.notNull(method, &quot;Method cannot be null&quot;);\n\n    Object[] arguments = nullSafeArray(args);\n\n    int methodParameterCount = method.getParameterCount();\n\n    assertThat(arguments.length)\n      .throwing(newIllegalArgumentException(\n        &quot;The number of arguments [%1$d] does not match the number of parameters [%2$d] for method [%3$s] in class [%4$s]&quot;,\n        arguments.length, methodParameterCount, method.getName(), method.getDeclaringClass().getName()))\n      .isEqualTo(methodParameterCount);\n\n    Class&lt;?&gt;[] parameterTypes = method.getParameterTypes();\n\n    int parameterIndex = 0;\n\n    for (Object argument : arguments) {\n      assertThat(argument)\n        .throwing(newIllegalArgumentException(&quot;Argument [%1$s] is not assignable to parameter [%2$d] of type [%3$s]&quot;,\n          argument, parameterIndex, parameterTypes[parameterIndex].getName()))\n        .isAssignableTo(parameterTypes[parameterIndex++]);\n    }\n\n    return arguments;\n  }\n====================================================================================================\n[&#39;Ġprotected&#39;, &#39;ĠObject&#39;, &#39;[]&#39;, &#39;Ġvalidate&#39;, &#39;Arguments&#39;, &#39;(&#39;, &#39;Method&#39;, &#39;Ġmethod&#39;, &#39;,&#39;, &#39;ĠObject&#39;, &#39;...&#39;, &#39;Ġargs&#39;, &#39;)&#39;, &#39;Ġ{&#39;, &#39;Ċ&#39;, &#39;ĠĠĠ&#39;, &#39;ĠAssert&#39;, &#39;.&#39;, &#39;notNull&#39;, &#39;(&#39;, &#39;method&#39;, &#39;,&#39;, &#39;Ġ&quot;&#39;, &#39;Method&#39;, &#39;Ġcannot&#39;, &#39;Ġbe&#39;, &#39;Ġnull&#39;, &#39;&quot;);&#39;, &#39;Ċ&#39;, &#39;Ċ&#39;, &#39;ĠĠĠ&#39;, &#39;ĠObject&#39;, &#39;[]&#39;, &#39;Ġarguments&#39;, &#39;Ġ=&#39;, &#39;Ġnull&#39;, &#39;Safe&#39;, &#39;Array&#39;, &#39;(&#39;, &#39;args&#39;, &#39;);&#39;, &#39;Ċ&#39;, &#39;Ċ&#39;, &#39;ĠĠĠ&#39;, &#39;Ġint&#39;, &#39;Ġmethod&#39;, &#39;Parameter&#39;, &#39;Count&#39;, &#39;Ġ=&#39;, &#39;Ġmethod&#39;, &#39;.&#39;, &#39;getParameter&#39;, &#39;Count&#39;, &#39;();&#39;, &#39;Ċ&#39;, &#39;Ċ&#39;, &#39;ĠĠĠ&#39;, &#39;Ġassert&#39;, &#39;That&#39;, &#39;(&#39;, &#39;arguments&#39;, &#39;.&#39;, &#39;length&#39;, &#39;)&#39;, &#39;Ċ&#39;, &#39;ĠĠĠĠĠ&#39;, &#39;Ġ.&#39;, &#39;throw&#39;, &#39;ing&#39;, &#39;(&#39;, &#39;new&#39;, &#39;IllegalArgumentException&#39;, &#39;(&#39;, &#39;Ċ&#39;, &#39;ĠĠĠĠĠĠĠ&#39;, &#39;Ġ&quot;&#39;, &#39;The&#39;, &#39;Ġnumber&#39;, &#39;Ġof&#39;, &#39;Ġarguments&#39;, &#39;Ġ[%&#39;, &#39;1&#39;, &#39;$&#39;, &#39;d&#39;, &#39;]&#39;, &#39;Ġdoes&#39;, &#39;Ġnot&#39;, &#39;Ġmatch&#39;, &#39;Ġthe&#39;, &#39;Ġnumber&#39;, &#39;Ġof&#39;, &#39;Ġparameters&#39;, &#39;Ġ[%&#39;, &#39;2&#39;, &#39;$&#39;, &#39;d&#39;, &#39;]&#39;, &#39;Ġfor&#39;, &#39;Ġmethod&#39;, &#39;Ġ[%&#39;, &#39;3&#39;, &#39;$&#39;, &#39;s&#39;, &#39;]&#39;, &#39;Ġin&#39;, &#39;Ġclass&#39;, &#39;Ġ[%&#39;, &#39;4&#39;, &#39;$&#39;, &#39;s&#39;, &#39;]&quot;,&#39;, &#39;Ċ&#39;, &#39;ĠĠĠĠĠĠĠ&#39;, &#39;Ġarguments&#39;, &#39;.&#39;, &#39;length&#39;, &#39;,&#39;, &#39;Ġmethod&#39;, &#39;Parameter&#39;, &#39;Count&#39;, &#39;,&#39;, &#39;Ġmethod&#39;, &#39;.&#39;, &#39;getName&#39;, &#39;(),&#39;, &#39;Ġmethod&#39;, &#39;.&#39;, &#39;getDeclar&#39;, &#39;ingClass&#39;, &#39;().&#39;, &#39;getName&#39;, &#39;()))&#39;, &#39;Ċ&#39;, &#39;ĠĠĠĠĠ&#39;, &#39;Ġ.&#39;, &#39;isEqual&#39;, &#39;To&#39;, &#39;(&#39;, &#39;method&#39;, &#39;Parameter&#39;, &#39;Count&#39;, &#39;);&#39;, &#39;Ċ&#39;, &#39;Ċ&#39;, &#39;ĠĠĠ&#39;, &#39;ĠClass&#39;, &#39;&lt;?&gt;[]&#39;, &#39;ĠparameterTypes&#39;, &#39;Ġ=&#39;, &#39;Ġmethod&#39;, &#39;.&#39;, &#39;getParameterTypes&#39;, &#39;();&#39;, &#39;Ċ&#39;, &#39;Ċ&#39;, &#39;ĠĠĠ&#39;, &#39;Ġint&#39;, &#39;ĠparameterIndex&#39;, &#39;Ġ=&#39;, &#39;Ġ0&#39;, &#39;;&#39;, &#39;Ċ&#39;, &#39;Ċ&#39;, &#39;ĠĠĠ&#39;, &#39;Ġfor&#39;, &#39;Ġ(&#39;, &#39;Object&#39;, &#39;Ġargument&#39;, &#39;Ġ:&#39;, &#39;Ġarguments&#39;, &#39;)&#39;, &#39;Ġ{&#39;, &#39;Ċ&#39;, &#39;ĠĠĠĠĠ&#39;, &#39;Ġassert&#39;, &#39;That&#39;, &#39;(&#39;, &#39;argument&#39;, &#39;)&#39;, &#39;Ċ&#39;, &#39;ĠĠĠĠĠĠĠ&#39;, &#39;Ġ.&#39;, &#39;throw&#39;, &#39;ing&#39;, &#39;(&#39;, &#39;new&#39;, &#39;IllegalArgumentException&#39;, &#39;(&quot;&#39;, &#39;Argument&#39;, &#39;Ġ[%&#39;, &#39;1&#39;, &#39;$&#39;, &#39;s&#39;, &#39;]&#39;, &#39;Ġis&#39;, &#39;Ġnot&#39;, &#39;Ġass&#39;, &#39;ignable&#39;, &#39;Ġto&#39;, &#39;Ġparameter&#39;, &#39;Ġ[%&#39;, &#39;2&#39;, &#39;$&#39;, &#39;d&#39;, &#39;]&#39;, &#39;Ġof&#39;, &#39;Ġtype&#39;, &#39;Ġ[%&#39;, &#39;3&#39;, &#39;$&#39;, &#39;s&#39;, &#39;]&quot;,&#39;, &#39;Ċ&#39;, &#39;ĠĠĠĠĠĠĠĠĠ&#39;, &#39;Ġargument&#39;, &#39;,&#39;, &#39;ĠparameterIndex&#39;, &#39;,&#39;, &#39;ĠparameterTypes&#39;, &#39;[&#39;, &#39;parameterIndex&#39;, &#39;].&#39;, &#39;getName&#39;, &#39;()))&#39;, &#39;Ċ&#39;, &#39;ĠĠĠĠĠĠĠ&#39;, &#39;Ġ.&#39;, &#39;is&#39;, &#39;Assignable&#39;, &#39;To&#39;, &#39;(&#39;, &#39;parameterTypes&#39;, &#39;[&#39;, &#39;parameterIndex&#39;, &#39;++&#39;, &#39;]);&#39;, &#39;Ċ&#39;, &#39;ĠĠĠ&#39;, &#39;Ġ}&#39;, &#39;Ċ&#39;, &#39;Ċ&#39;, &#39;ĠĠĠ&#39;, &#39;Ġreturn&#39;, &#39;Ġarguments&#39;, &#39;;&#39;, &#39;Ċ&#39;, &#39;Ġ&#39;, &#39;Ġ}&#39;]\n"
    }
   ],
   "source": [
    "# hide\n",
    "idx = 0\n",
    "encoded = tokenizer.encode(df_trn.code.values[idx])\n",
    "print(df_trn.code.values[idx])\n",
    "print('=' * 100)\n",
    "print(encoded.tokens)"
   ]
  },
  {
   "cell_type": "code",
   "execution_count": null,
   "metadata": {},
   "outputs": [],
   "source": []
  }
 ],
 "metadata": {
  "kernelspec": {
   "display_name": "Python 3",
   "language": "python",
   "name": "python3"
  }
 },
 "nbformat": 4,
 "nbformat_minor": 4
}
