{
 "cells": [
  {
   "cell_type": "code",
   "execution_count": null,
   "metadata": {},
   "outputs": [],
   "source": [
    "# default_exp data"
   ]
  },
  {
   "cell_type": "code",
   "execution_count": null,
   "metadata": {},
   "outputs": [],
   "source": [
    "#hide\n",
    "%load_ext autoreload\n",
    "%autoreload 2\n",
    "%matplotlib inline"
   ]
  },
  {
   "cell_type": "markdown",
   "metadata": {},
   "source": [
    "# Data\n",
    "\n",
    "> This model contains all the necessary functionality for managing data."
   ]
  },
  {
   "cell_type": "code",
   "execution_count": null,
   "metadata": {},
   "outputs": [],
   "source": [
    "# export\n",
    "import icodegen\n",
    "import re\n",
    "\n",
    "from pathlib import Path\n",
    "from subprocess import check_output\n",
    "from tokenizers import Tokenizer, models, pre_tokenizers, decoders, trainers, processors"
   ]
  },
  {
   "cell_type": "code",
   "execution_count": null,
   "metadata": {},
   "outputs": [],
   "source": [
    "#hide\n",
    "from nbdev.showdoc import *"
   ]
  },
  {
   "cell_type": "code",
   "execution_count": null,
   "metadata": {},
   "outputs": [
    {
     "data": {
      "text/html": "<div>\n<style scoped>\n    .dataframe tbody tr th:only-of-type {\n        vertical-align: middle;\n    }\n\n    .dataframe tbody tr th {\n        vertical-align: top;\n    }\n\n    .dataframe thead th {\n        text-align: right;\n    }\n</style>\n<table border=\"1\" class=\"dataframe\">\n  <thead>\n    <tr style=\"text-align: right;\">\n      <th></th>\n      <th>code</th>\n      <th>docstring</th>\n    </tr>\n  </thead>\n  <tbody>\n    <tr>\n      <th>12678</th>\n      <td>@Override\\n\\tpublic void removeListeners(Strin...</td>\n      <td>--- REMOVE ALL REMOTE SERVICES/ACTIONS OF A NO...</td>\n    </tr>\n    <tr>\n      <th>665</th>\n      <td>public void loseWeight()\\n    {\\n        if (s...</td>\n      <td>去掉多余的buffer</td>\n    </tr>\n    <tr>\n      <th>22702</th>\n      <td>public static JWT verify(String jwt, byte[] se...</td>\n      <td>Validate whether the JWT is valid. If valid re...</td>\n    </tr>\n    <tr>\n      <th>16110</th>\n      <td>public String updateByPrimaryKey(MappedStateme...</td>\n      <td>通过主键更新全部字段\\n\\n@param ms</td>\n    </tr>\n    <tr>\n      <th>853</th>\n      <td>public ArrayList&lt;String&gt; vps_serviceName_addit...</td>\n      <td>Get allowed durations for 'additionalDisk' opt...</td>\n    </tr>\n  </tbody>\n</table>\n</div>",
      "text/plain": "                                                    code  \\\n12678  @Override\\n\\tpublic void removeListeners(Strin...   \n665    public void loseWeight()\\n    {\\n        if (s...   \n22702  public static JWT verify(String jwt, byte[] se...   \n16110  public String updateByPrimaryKey(MappedStateme...   \n853    public ArrayList&lt;String&gt; vps_serviceName_addit...   \n\n                                               docstring  \n12678  --- REMOVE ALL REMOTE SERVICES/ACTIONS OF A NO...  \n665                                          去掉多余的buffer  \n22702  Validate whether the JWT is valid. If valid re...  \n16110                            通过主键更新全部字段\\n\\n@param ms  \n853    Get allowed durations for &#39;additionalDisk&#39; opt...  "
     },
     "execution_count": null,
     "metadata": {},
     "output_type": "execute_result"
    }
   ],
   "source": [
    "# hide\n",
    "from ds4se.mgmnt.prep.i import jsonl_list_to_dataframe, get_dfs\n",
    "\n",
    "path = Path('/home/nathan/Downloads/')\n",
    "df_trn, df_val, df_tst = get_dfs(path/\"java/final/jsonl\")\n",
    "\n",
    "sample = 0.01\n",
    "df_trn = df_trn.sample(frac = sample)\n",
    "df_val = df_val.sample(frac = sample)\n",
    "df_tst = df_tst.sample(frac = sample)\n",
    "df_trn.head()"
   ]
  },
  {
   "cell_type": "code",
   "execution_count": null,
   "metadata": {},
   "outputs": [
    {
     "data": {
      "text/plain": "(4545, 153, 269)"
     },
     "execution_count": null,
     "metadata": {},
     "output_type": "execute_result"
    }
   ],
   "source": [
    "# hide\n",
    "len(df_trn), len(df_val), len(df_tst)"
   ]
  },
  {
   "cell_type": "markdown",
   "metadata": {},
   "source": [
    "Uncrustify failure case. Will need to look into finding how many failure cases uncrustify generates.\n",
    "\n",
    "Original:\n",
    "```\n",
    "@Override\n",
    "    public WSStats[] getStatsArray(StatDescriptor[] sd, Boolean recursive) {\n",
    "        if (tc.isEntryEnabled())\n",
    "            Tr.entry(tc, \"getStatsArray (StatDescriptor[], Boolean)\");\n",
    "\n",
    "        if (sd == null || sd.length == 0) {\n",
    "            if (tc.isEntryEnabled())\n",
    "                Tr.exit(tc, \"StatDescriptor is null or empty\");\n",
    "            return null;\n",
    "        }\n",
    "\n",
    "        StatsImpl[] stats = PmiRegistry.getStats(sd, recursive.booleanValue(), new PmiModuleConfig(null));\n",
    "\n",
    "        if (tc.isEntryEnabled())\n",
    "            Tr.exit(tc, \"getStatsArray (StatDescriptor[], Boolean)\");\n",
    "\n",
    "        return stats;\n",
    "    }\n",
    "```\n",
    "\n",
    "Beautified:\n",
    "```\n",
    "@Override public WSStats[] getStatsArray(StatDescriptor[] sd, Boolean\n",
    "    recursive) {\n",
    "    if (tc.isEntryEnabled())\n",
    "\tTr.entry(tc, \"getStatsArray (StatDescriptor[], Boolean)\");\n",
    "    if (sd == null || sd.length == 0) {\n",
    "\tif (tc.isEntryEnabled())\n",
    "```"
   ]
  },
  {
   "cell_type": "code",
   "execution_count": null,
   "metadata": {},
   "outputs": [
    {
     "data": {
      "text/html": "<div>\n<style scoped>\n    .dataframe tbody tr th:only-of-type {\n        vertical-align: middle;\n    }\n\n    .dataframe tbody tr th {\n        vertical-align: top;\n    }\n\n    .dataframe thead th {\n        text-align: right;\n    }\n</style>\n<table border=\"1\" class=\"dataframe\">\n  <thead>\n    <tr style=\"text-align: right;\">\n      <th></th>\n      <th>code</th>\n    </tr>\n  </thead>\n  <tbody>\n    <tr>\n      <th>0</th>\n      <td>public void setPipelines(java.util.Collection&lt;...</td>\n    </tr>\n  </tbody>\n</table>\n</div>",
      "text/plain": "                                                code\n0  public void setPipelines(java.util.Collection&lt;..."
     },
     "execution_count": null,
     "metadata": {},
     "output_type": "execute_result"
    }
   ],
   "source": [
    "import pandas as pd\n",
    "\n",
    "df_fake = pd.DataFrame([\n",
    "    '''public void setPipelines(java.util.Collection<Pipeline> pipelines) {\n",
    "        if (pipelines == null) {\n",
    "            this.pipelines = null;\n",
    "            return;\n",
    "        }\n",
    "\n",
    "        this.pipelines = new com.amazonaws.internal.SdkInternalList<Pipeline>(pipelines);\n",
    "    }\n",
    "    '''\n",
    "], columns = ['code']); df_fake"
   ]
  },
  {
   "cell_type": "code",
   "execution_count": null,
   "metadata": {},
   "outputs": [],
   "source": [
    "# export\n",
    "def _beautify(mthd):\n",
    "    # get path of icodegen\n",
    "    icodegen_path = Path(icodegen.__path__[0])\n",
    "\n",
    "    # create tmp file to store df contents for training tokenizer\n",
    "    tmp_path = Path('/tmp')\n",
    "    tmp_path.mkdir(parents = True, exist_ok = True)\n",
    "    with open(tmp_path/'tmp.java', 'w') as f:\n",
    "        f.write(mthd)\n",
    "\n",
    "    beaut_mthd = check_output([\n",
    "        icodegen_path/'uncrustify', '-c', icodegen_path/'sun.cfg',\n",
    "        '-f', tmp_path/'tmp.java'\n",
    "    ]).decode('utf-8')\n",
    "\n",
    "    return beaut_mthd\n",
    "\n",
    "# TODO: fix bugs that cause to crash/hang on certain inputs\n",
    "def beautify_code(df, n = None):\n",
    "    \"\"\"\n",
    "    Beautify the methods in a pandas dataframe using uncrustify with sun.cfg style, i.e., Oracle's style.\n",
    "\n",
    "    :param df: the pandas dataframe containing each method to be beautified\n",
    "    :param n: the number of methods to evaluate. If none, the entire dataframe will be used\n",
    "    :returns: returns a modified dataframe with the methods beautified\n",
    "    \"\"\"\n",
    "    if n is None: n = len(df)\n",
    "\n",
    "    df = df.iloc[:n].copy()\n",
    "    df.code = df.code.apply(lambda mthd: _beautify(mthd))\n",
    "    \n",
    "    return df"
   ]
  },
  {
   "cell_type": "code",
   "execution_count": null,
   "metadata": {},
   "outputs": [],
   "source": [
    "BEAUT_MTHD = '''public void setPipelines(java.util.Collection<Pipeline> pipelines) {\n",
    "    if (pipelines == null) {\n",
    "\tthis.pipelines = null;\n",
    "\treturn;\n",
    "    }\n",
    "    this.pipelines = new com.amazonaws.internal.SdkInternalList<Pipeline>(\n",
    "\tpipelines);\n",
    "}\n",
    "'''\n",
    "\n",
    "df_beaut = beautify_code(df_fake)\n",
    "\n",
    "assert BEAUT_MTHD == df_beaut.code.values[0]"
   ]
  },
  {
   "cell_type": "code",
   "execution_count": null,
   "metadata": {
    "tags": []
   },
   "outputs": [
    {
     "name": "stdout",
     "output_type": "stream",
     "text": "CPU times: user 14.2 ms, sys: 76.3 ms, total: 90.6 ms\nWall time: 273 ms\n"
    }
   ],
   "source": [
    "# hide\n",
    "%time df_beaut = beautify_code(df_trn, n = 10)"
   ]
  },
  {
   "cell_type": "code",
   "execution_count": null,
   "metadata": {
    "tags": []
   },
   "outputs": [
    {
     "name": "stdout",
     "output_type": "stream",
     "text": "@Override\n\tpublic void removeListeners(String nodeID) {\n\t\tboolean found = false;\n\t\twriteLock.lock();\n\t\ttry {\n\t\t\tIterator&lt;HashMap&lt;String, Strategy&lt;ListenerEndpoint&gt;&gt;&gt; groupIterator = listeners.values().iterator();\n\t\t\twhile (groupIterator.hasNext()) {\n\t\t\t\tHashMap&lt;String, Strategy&lt;ListenerEndpoint&gt;&gt; groups = groupIterator.next();\n\t\t\t\tIterator&lt;Strategy&lt;ListenerEndpoint&gt;&gt; strategyIterator = groups.values().iterator();\n\t\t\t\twhile (strategyIterator.hasNext()) {\n\t\t\t\t\tStrategy&lt;ListenerEndpoint&gt; strategy = strategyIterator.next();\n\t\t\t\t\tif (strategy.remove(nodeID)) {\n\t\t\t\t\t\tfound = true;\n\t\t\t\t\t\tif (strategy.isEmpty()) {\n\t\t\t\t\t\t\tstrategyIterator.remove();\n\t\t\t\t\t\t}\n\t\t\t\t\t}\n\t\t\t\t}\n\t\t\t\tif (groups.isEmpty()) {\n\t\t\t\t\tgroupIterator.remove();\n\t\t\t\t}\n\t\t\t}\n\t\t} finally {\n\n\t\t\t// Clear caches\n\t\t\tif (found) {\n\t\t\t\temitterCache.clear();\n\t\t\t\tbroadcasterCache.clear();\n\t\t\t\tlocalBroadcasterCache.clear();\n\t\t\t}\n\n\t\t\twriteLock.unlock();\n\t\t}\n\t}\n@Override public void removeListeners(String nodeID) {\n    boolean found = false;\n\n    writeLock.lock();\n    try {\n\tIterator&lt;HashMap&lt;String, Strategy&lt;ListenerEndpoint&gt; &gt; &gt; groupIterator =\n\t    listeners.values().iterator();\n\n\twhile (groupIterator.hasNext()) {\n\t    HashMap&lt;String, Strategy&lt;ListenerEndpoint&gt; &gt; groups =\n\t\tgroupIterator.next();\n\t    Iterator&lt;Strategy&lt;ListenerEndpoint&gt; &gt; strategyIterator =\n\t\tgroups.values().iterator();\n\n\t    while (strategyIterator.hasNext()) {\n\t\tStrategy&lt;ListenerEndpoint&gt; strategy = strategyIterator.next();\n\n\t\tif (strategy.remove(nodeID)) {\n\t\t    found = true;\n\t\t    if (strategy.isEmpty())\n\t\t\tstrategyIterator.remove();\n\t\t}\n\t    }\n\t    if (groups.isEmpty())\n\t\tgroupIterator.remove();\n\t}\n    } finally {\n\t// Clear caches\n\tif (found) {\n\t    emitterCache.clear();\n\t    broadcasterCache.clear();\n\t    localBroadcasterCache.clear();\n\t}\n\twriteLock.unlock();\n    }\n}\n\n"
    }
   ],
   "source": [
    "# hide\n",
    "idx = 0\n",
    "print(df_trn.code.values[idx])\n",
    "print(df_beaut.code.values[idx])"
   ]
  },
  {
   "cell_type": "code",
   "execution_count": null,
   "metadata": {},
   "outputs": [],
   "source": [
    "# export\n",
    "# dicts of special tokens we are adding to the tokenizers so they do not get split\n",
    "\n",
    "# from https://docs.oracle.com/javase/tutorial/java/nutsandbolts/_keywords.html\n",
    "java_reserved_tokens = {\n",
    "    'abstract': '<abstract>', 'assert': '<assert>', 'boolean': '<boolean>',\n",
    "    'break': '<break>', 'byte': '<byte>', 'case': '<case>',\n",
    "    'catch': '<catch>', 'char': '<char>', 'class': '<class>',\n",
    "    'const': '<const>', 'continue': '<continue>', 'default': '<default>',\n",
    "    'do': '<do>', 'double': '<double>', 'else': '<else>',\n",
    "    'enum': '<enum>', 'extends': '<extends>', 'final': '<final>',\n",
    "    'finally': '<finally>', 'float': '<float>', 'for': '<for>',\n",
    "    'goto': '<goto>', 'if': '<if>', 'implements': '<implements>',\n",
    "    'import': '<import>', 'instanceof': '<instanceof>', 'int': '<int>',\n",
    "    'interface': '<interface>', 'long': '<long>', 'native': '<native>',\n",
    "    'new': '<new>', 'package': '<package>', 'private': '<private>',\n",
    "    'protected': '<protected>', 'public': '<public>', 'return': '<return>',\n",
    "    'short': '<short>', 'static': '<static>', 'strictfp': '<strictfp>',\n",
    "    'super': '<super>', 'switch': '<switch>', 'synchronized': '<synchronized>',\n",
    "    'this': '<this>', 'throw': '<throw>', 'throws': '<throws>',\n",
    "    'transient': '<transient>', 'try': '<try>', 'void': '<void>',\n",
    "    'volatile': '<volatile>', 'while': '<while>'\n",
    "}\n",
    "\n",
    "# from https://docs.oracle.com/javase/tutorial/java/nutsandbolts/opsummary.html\n",
    "java_operator_tokens = {\n",
    "    '=': '<=>', '+': '<+>', '-': '<->',\n",
    "    '*': '<*>', '/': '</>', '%': '<%>',\n",
    "    '++': '<++>', '--': '<-->', '!': '<!>',\n",
    "    '==': '<==>', '!=': '<!=>', '>': '<greater>',\n",
    "    '>=': '<greater_equal>', '<': '<lesser>', '<=': '<lesser_equal>',\n",
    "    '&&': '<&&>', '||': '<||>', '?': '<?>',\n",
    "    ':': '<:>', '~': '<~>', '<<': '<double_lesser>',\n",
    "    '>>': '<double_greater>', '>>>': '<triple_greater>', '&': '<&>',\n",
    "    '^': '<^>', '|': '<|>'\n",
    "}\n",
    "\n",
    "java_structural_tokens = {\n",
    "    '{': '<{>', '}': '<}>', '[': '<[>',\n",
    "    ']': '<]>', '<': '<lesser>', '>': '<greater>',\n",
    "    '(': '<(>', ')': '<)>', ';': '<;>'\n",
    "}\n",
    "\n",
    "java_extra_tokens = {\n",
    "    '@': '<@>', '...': '<...>'\n",
    "}\n",
    "\n",
    "extra_tokens = {\n",
    "    ' ': '<space>', '\\n': '<n>', '\\t': '<t>'\n",
    "}\n",
    "\n",
    "# combination of all dictionaries\n",
    "java_special_tokens = {\n",
    "    **java_reserved_tokens, **java_operator_tokens, **java_structural_tokens,\n",
    "    **java_extra_tokens, **extra_tokens\n",
    "}"
   ]
  },
  {
   "cell_type": "code",
   "execution_count": null,
   "metadata": {},
   "outputs": [
    {
     "data": {
      "text/html": "<div>\n<style scoped>\n    .dataframe tbody tr th:only-of-type {\n        vertical-align: middle;\n    }\n\n    .dataframe tbody tr th {\n        vertical-align: top;\n    }\n\n    .dataframe thead th {\n        text-align: right;\n    }\n</style>\n<table border=\"1\" class=\"dataframe\">\n  <thead>\n    <tr style=\"text-align: right;\">\n      <th></th>\n      <th>code</th>\n    </tr>\n  </thead>\n  <tbody>\n    <tr>\n      <th>0</th>\n      <td>&gt;&gt;&gt; &gt; + public ++ \\n\\n \\t \\t \\t\\t</td>\n    </tr>\n  </tbody>\n</table>\n</div>",
      "text/plain": "                                  code\n0  &gt;&gt;&gt; &gt; + public ++ \\n\\n \\t \\t \\t\\t  "
     },
     "execution_count": null,
     "metadata": {},
     "output_type": "execute_result"
    }
   ],
   "source": [
    "df_fake = pd.DataFrame(['>>> > + public ++ \\n\\n \\t \\t \\t\\t  '], columns = ['code']); df_fake"
   ]
  },
  {
   "cell_type": "code",
   "execution_count": null,
   "metadata": {},
   "outputs": [],
   "source": [
    "# export\n",
    "def _replace_toks(mthd, spec_toks):\n",
    "    \"\"\"\n",
    "    Helper function for replacing all special tokens in a given method. This will replace longer special tokens first in order to not mistakenly breakup a special token that is part of a longer sequence. Adapted from https://stackoverflow.com/a/6117124/5768407 and https://stackoverflow.com/a/11753945/5768407\n",
    "\n",
    "    :param mthd: the method to have it's special tokens replaced\n",
    "    :param spec_toks: a dictionary containing the special tokens to replace and the new tokens to replace them with\n",
    "    :returns: returns the method with all of its special tokens replaced\n",
    "    \"\"\"\n",
    "    # construct escaped versions of keys for running through regex\n",
    "    spec_toks = dict((re.escape(k), spec_toks[k]) for k in sorted(spec_toks, key=len, reverse=True))\n",
    "    # construct regex pattern for finding all special tokens in a method\n",
    "    pattern = re.compile(\"|\".join(spec_toks.keys()))\n",
    "    # replace all special tokens in a method\n",
    "    mthd = pattern.sub(lambda m: spec_toks[re.escape(m.group(0))], mthd)\n",
    "\n",
    "    return mthd\n",
    "\n",
    "def replace_special_tokens(df, spec_toks, n = None):\n",
    "    \"\"\"\n",
    "    Replace all the special tokens in a pandas dataframe.\n",
    "\n",
    "    :param df: the pandas dataframe containing each method to replace special tokens in\n",
    "    :param n: the number of methods to evaluate. If none, the entire dataframe will be used\n",
    "    :returns: returns a modified dataframe with the special tokens replaced\n",
    "    \"\"\"\n",
    "    if n is None: n = len(df)\n",
    "\n",
    "    df = df.iloc[:n].copy()\n",
    "    df.code = df.code.apply(lambda mthd: _replace_toks(mthd, spec_toks))\n",
    "\n",
    "    return df"
   ]
  },
  {
   "cell_type": "code",
   "execution_count": null,
   "metadata": {},
   "outputs": [],
   "source": [
    "REPLACED_MTHD = '<triple_greater><space><greater><space><+><space><public><space><++><space><n><n><space><t><space><t><space><t><t><space><space>'\n",
    "df_replaced = replace_special_tokens(df_fake, java_special_tokens)\n",
    "\n",
    "assert REPLACED_MTHD == df_replaced.code.values[0]"
   ]
  },
  {
   "cell_type": "code",
   "execution_count": null,
   "metadata": {
    "tags": []
   },
   "outputs": [
    {
     "name": "stdout",
     "output_type": "stream",
     "text": "&lt;private&gt;&lt;space&gt;&lt;void&gt;&lt;space&gt;setFKField&lt;(&gt;Object&lt;space&gt;targetObject,&lt;space&gt;ClassDescriptor&lt;space&gt;cld,&lt;space&gt;ObjectReferenceDescriptor&lt;space&gt;rds,&lt;space&gt;Object&lt;space&gt;referencedObject&lt;)&gt;&lt;n&gt;&lt;space&gt;&lt;space&gt;&lt;space&gt;&lt;space&gt;&lt;{&gt;&lt;n&gt;&lt;space&gt;&lt;space&gt;&lt;space&gt;&lt;space&gt;&lt;space&gt;&lt;space&gt;&lt;space&gt;&lt;space&gt;ValueContainer&lt;[&gt;&lt;]&gt;&lt;space&gt;refPkValues&lt;;&gt;&lt;n&gt;&lt;space&gt;&lt;space&gt;&lt;space&gt;&lt;space&gt;&lt;space&gt;&lt;space&gt;&lt;space&gt;&lt;space&gt;FieldDescriptor&lt;space&gt;fld&lt;;&gt;&lt;n&gt;&lt;space&gt;&lt;space&gt;&lt;space&gt;&lt;space&gt;&lt;space&gt;&lt;space&gt;&lt;space&gt;&lt;space&gt;FieldDescriptor&lt;[&gt;&lt;]&gt;&lt;space&gt;objFkFields&lt;space&gt;&lt;=&gt;&lt;space&gt;rds.getForeignKeyFieldDescriptors&lt;(&gt;cld&lt;)&gt;&lt;;&gt;&lt;n&gt;&lt;space&gt;&lt;space&gt;&lt;space&gt;&lt;space&gt;&lt;space&gt;&lt;space&gt;&lt;space&gt;&lt;space&gt;&lt;if&gt;&lt;space&gt;&lt;(&gt;objFkFields&lt;space&gt;&lt;==&gt;&lt;space&gt;null&lt;)&gt;&lt;n&gt;&lt;space&gt;&lt;space&gt;&lt;space&gt;&lt;space&gt;&lt;space&gt;&lt;space&gt;&lt;space&gt;&lt;space&gt;&lt;{&gt;&lt;n&gt;&lt;space&gt;&lt;space&gt;&lt;space&gt;&lt;space&gt;&lt;space&gt;&lt;space&gt;&lt;space&gt;&lt;space&gt;&lt;space&gt;&lt;space&gt;&lt;space&gt;&lt;space&gt;&lt;throw&gt;&lt;space&gt;&lt;new&gt;&lt;space&gt;PersistenceBrokerException&lt;(&gt;&quot;No&lt;space&gt;&lt;for&gt;eign&lt;space&gt;key&lt;space&gt;fields&lt;space&gt;defined&lt;space&gt;&lt;for&gt;&lt;space&gt;&lt;class&gt;&lt;space&gt;&#39;&quot;&lt;+&gt;cld.getClassNameOfObject&lt;(&gt;&lt;)&gt;&lt;+&gt;&quot;&#39;&quot;&lt;)&gt;&lt;;&gt;&lt;n&gt;&lt;space&gt;&lt;space&gt;&lt;space&gt;&lt;space&gt;&lt;space&gt;&lt;space&gt;&lt;space&gt;&lt;space&gt;&lt;}&gt;&lt;n&gt;&lt;space&gt;&lt;space&gt;&lt;space&gt;&lt;space&gt;&lt;space&gt;&lt;space&gt;&lt;space&gt;&lt;space&gt;&lt;if&gt;&lt;(&gt;referencedObject&lt;space&gt;&lt;==&gt;&lt;space&gt;null&lt;)&gt;&lt;n&gt;&lt;space&gt;&lt;space&gt;&lt;space&gt;&lt;space&gt;&lt;space&gt;&lt;space&gt;&lt;space&gt;&lt;space&gt;&lt;{&gt;&lt;n&gt;&lt;space&gt;&lt;space&gt;&lt;space&gt;&lt;space&gt;&lt;space&gt;&lt;space&gt;&lt;space&gt;&lt;space&gt;&lt;space&gt;&lt;space&gt;&lt;space&gt;&lt;space&gt;refPkValues&lt;space&gt;&lt;=&gt;&lt;space&gt;null&lt;;&gt;&lt;n&gt;&lt;space&gt;&lt;space&gt;&lt;space&gt;&lt;space&gt;&lt;space&gt;&lt;space&gt;&lt;space&gt;&lt;space&gt;&lt;}&gt;&lt;n&gt;&lt;space&gt;&lt;space&gt;&lt;space&gt;&lt;space&gt;&lt;space&gt;&lt;space&gt;&lt;space&gt;&lt;space&gt;&lt;else&gt;&lt;n&gt;&lt;space&gt;&lt;space&gt;&lt;space&gt;&lt;space&gt;&lt;space&gt;&lt;space&gt;&lt;space&gt;&lt;space&gt;&lt;{&gt;&lt;n&gt;&lt;space&gt;&lt;space&gt;&lt;space&gt;&lt;space&gt;&lt;space&gt;&lt;space&gt;&lt;space&gt;&lt;space&gt;&lt;space&gt;&lt;space&gt;&lt;space&gt;&lt;space&gt;Class&lt;space&gt;refClass&lt;space&gt;&lt;=&gt;&lt;space&gt;proxyFactory.getRealClass&lt;(&gt;referencedObject&lt;)&gt;&lt;;&gt;&lt;n&gt;&lt;space&gt;&lt;space&gt;&lt;space&gt;&lt;space&gt;&lt;space&gt;&lt;space&gt;&lt;space&gt;&lt;space&gt;&lt;space&gt;&lt;space&gt;&lt;space&gt;&lt;space&gt;ClassDescriptor&lt;space&gt;refCld&lt;space&gt;&lt;=&gt;&lt;space&gt;getClassDescriptor&lt;(&gt;refClass&lt;)&gt;&lt;;&gt;&lt;n&gt;&lt;space&gt;&lt;space&gt;&lt;space&gt;&lt;space&gt;&lt;space&gt;&lt;space&gt;&lt;space&gt;&lt;space&gt;&lt;space&gt;&lt;space&gt;&lt;space&gt;&lt;space&gt;refPkValues&lt;space&gt;&lt;=&gt;&lt;space&gt;brokerHelper.getKeyValues&lt;(&gt;refCld,&lt;space&gt;referencedObject,&lt;space&gt;false&lt;)&gt;&lt;;&gt;&lt;n&gt;&lt;space&gt;&lt;space&gt;&lt;space&gt;&lt;space&gt;&lt;space&gt;&lt;space&gt;&lt;space&gt;&lt;space&gt;&lt;}&gt;&lt;n&gt;&lt;space&gt;&lt;space&gt;&lt;space&gt;&lt;space&gt;&lt;space&gt;&lt;space&gt;&lt;space&gt;&lt;space&gt;&lt;for&gt;&lt;space&gt;&lt;(&gt;&lt;int&gt;&lt;space&gt;i&lt;space&gt;&lt;=&gt;&lt;space&gt;0&lt;;&gt;&lt;space&gt;i&lt;space&gt;&lt;lesser&gt;&lt;space&gt;objFkFields.length&lt;;&gt;&lt;space&gt;i&lt;++&gt;&lt;)&gt;&lt;n&gt;&lt;space&gt;&lt;space&gt;&lt;space&gt;&lt;space&gt;&lt;space&gt;&lt;space&gt;&lt;space&gt;&lt;space&gt;&lt;{&gt;&lt;n&gt;&lt;space&gt;&lt;space&gt;&lt;space&gt;&lt;space&gt;&lt;space&gt;&lt;space&gt;&lt;space&gt;&lt;space&gt;&lt;space&gt;&lt;space&gt;&lt;space&gt;&lt;space&gt;fld&lt;space&gt;&lt;=&gt;&lt;space&gt;objFkFields&lt;[&gt;i&lt;]&gt;&lt;;&gt;&lt;n&gt;&lt;space&gt;&lt;space&gt;&lt;space&gt;&lt;space&gt;&lt;space&gt;&lt;space&gt;&lt;space&gt;&lt;space&gt;&lt;space&gt;&lt;space&gt;&lt;space&gt;&lt;space&gt;&lt;/&gt;&lt;*&gt;&lt;n&gt;&lt;space&gt;&lt;space&gt;&lt;space&gt;&lt;space&gt;&lt;space&gt;&lt;space&gt;&lt;space&gt;&lt;space&gt;&lt;space&gt;&lt;space&gt;&lt;space&gt;&lt;space&gt;arminw&lt;:&gt;&lt;n&gt;&lt;space&gt;&lt;space&gt;&lt;space&gt;&lt;space&gt;&lt;space&gt;&lt;space&gt;&lt;space&gt;&lt;space&gt;&lt;space&gt;&lt;space&gt;&lt;space&gt;&lt;space&gt;we&lt;space&gt;set&lt;space&gt;the&lt;space&gt;FK&lt;space&gt;value&lt;space&gt;when&lt;space&gt;the&lt;space&gt;extracted&lt;space&gt;PK&lt;space&gt;fields&lt;space&gt;from&lt;space&gt;the&lt;space&gt;referenced&lt;space&gt;object&lt;space&gt;are&lt;space&gt;not&lt;space&gt;null&lt;space&gt;at&lt;space&gt;all&lt;n&gt;&lt;space&gt;&lt;space&gt;&lt;space&gt;&lt;space&gt;&lt;space&gt;&lt;space&gt;&lt;space&gt;&lt;space&gt;&lt;space&gt;&lt;space&gt;&lt;space&gt;&lt;space&gt;or&lt;space&gt;&lt;if&gt;&lt;space&gt;null,&lt;space&gt;the&lt;space&gt;FK&lt;space&gt;field&lt;space&gt;was&lt;space&gt;not&lt;space&gt;a&lt;space&gt;PK&lt;space&gt;field&lt;space&gt;of&lt;space&gt;target&lt;space&gt;object&lt;space&gt;too.&lt;n&gt;&lt;space&gt;&lt;space&gt;&lt;space&gt;&lt;space&gt;&lt;space&gt;&lt;space&gt;&lt;space&gt;&lt;space&gt;&lt;space&gt;&lt;space&gt;&lt;space&gt;&lt;space&gt;Should&lt;space&gt;be&lt;space&gt;ok,&lt;space&gt;because&lt;space&gt;the&lt;space&gt;values&lt;space&gt;of&lt;space&gt;the&lt;space&gt;extracted&lt;space&gt;PK&lt;space&gt;field&lt;space&gt;values&lt;space&gt;should&lt;space&gt;never&lt;space&gt;be&lt;space&gt;null&lt;space&gt;and&lt;space&gt;never&lt;n&gt;&lt;space&gt;&lt;space&gt;&lt;space&gt;&lt;space&gt;&lt;space&gt;&lt;space&gt;&lt;space&gt;&lt;space&gt;&lt;space&gt;&lt;space&gt;&lt;space&gt;&lt;space&gt;change,&lt;space&gt;so&lt;space&gt;it&lt;space&gt;&lt;do&gt;esn&#39;t&lt;space&gt;matter&lt;space&gt;&lt;if&gt;&lt;space&gt;the&lt;space&gt;target&lt;space&gt;field&lt;space&gt;is&lt;space&gt;a&lt;space&gt;PK&lt;space&gt;too.&lt;n&gt;&lt;space&gt;&lt;space&gt;&lt;space&gt;&lt;space&gt;&lt;space&gt;&lt;space&gt;&lt;space&gt;&lt;space&gt;&lt;space&gt;&lt;space&gt;&lt;space&gt;&lt;space&gt;&lt;*&gt;&lt;/&gt;&lt;n&gt;&lt;space&gt;&lt;space&gt;&lt;space&gt;&lt;space&gt;&lt;space&gt;&lt;space&gt;&lt;space&gt;&lt;space&gt;&lt;space&gt;&lt;space&gt;&lt;space&gt;&lt;space&gt;&lt;if&gt;&lt;(&gt;refPkValues&lt;space&gt;&lt;!=&gt;&lt;space&gt;null&lt;space&gt;&lt;||&gt;&lt;space&gt;&lt;!&gt;fld.isPrimaryKey&lt;(&gt;&lt;)&gt;&lt;)&gt;&lt;n&gt;&lt;space&gt;&lt;space&gt;&lt;space&gt;&lt;space&gt;&lt;space&gt;&lt;space&gt;&lt;space&gt;&lt;space&gt;&lt;space&gt;&lt;space&gt;&lt;space&gt;&lt;space&gt;&lt;{&gt;&lt;n&gt;&lt;space&gt;&lt;space&gt;&lt;space&gt;&lt;space&gt;&lt;space&gt;&lt;space&gt;&lt;space&gt;&lt;space&gt;&lt;space&gt;&lt;space&gt;&lt;space&gt;&lt;space&gt;&lt;space&gt;&lt;space&gt;&lt;space&gt;&lt;space&gt;fld.getPersistentField&lt;(&gt;&lt;)&gt;.set&lt;(&gt;targetObject,&lt;space&gt;refPkValues&lt;space&gt;&lt;!=&gt;&lt;space&gt;null&lt;space&gt;&lt;?&gt;&lt;space&gt;refPkValues&lt;[&gt;i&lt;]&gt;.getValue&lt;(&gt;&lt;)&gt;&lt;:&gt;&lt;space&gt;null&lt;)&gt;&lt;;&gt;&lt;n&gt;&lt;space&gt;&lt;space&gt;&lt;space&gt;&lt;space&gt;&lt;space&gt;&lt;space&gt;&lt;space&gt;&lt;space&gt;&lt;space&gt;&lt;space&gt;&lt;space&gt;&lt;space&gt;&lt;}&gt;&lt;n&gt;&lt;space&gt;&lt;space&gt;&lt;space&gt;&lt;space&gt;&lt;space&gt;&lt;space&gt;&lt;space&gt;&lt;space&gt;&lt;}&gt;&lt;n&gt;&lt;space&gt;&lt;space&gt;&lt;space&gt;&lt;space&gt;&lt;}&gt;\n"
    }
   ],
   "source": [
    "# hide\n",
    "df_replaced = replace_special_tokens(df_trn, java_special_tokens)\n",
    "print(df_replaced.code.values[5])"
   ]
  },
  {
   "cell_type": "code",
   "execution_count": null,
   "metadata": {},
   "outputs": [],
   "source": [
    "fake_data = '<triple_greater><space><greater><space><+><space><public><space><++><space><n><n><space><t><space><t><space><t><t><space><space>'"
   ]
  },
  {
   "cell_type": "code",
   "execution_count": null,
   "metadata": {},
   "outputs": [],
   "source": [
    "# export\n",
    "# TODO: test case and stop merges across camel and snake case\n",
    "def train_tokenizer(df, n = None, vocab_sz = 20_000, min_freq = 2, output = None):\n",
    "    \"\"\"\n",
    "    Train a ByteLevel BPE tokenizer on a given pandas dataframe. Code adapted from https://github.com/huggingface/tokenizers/tree/master/bindings/python.\n",
    "\n",
    "    :param df: the pandas dataframe containing each method to have the tokenizer train on\n",
    "    :param n: the number of methods to evaluate. If none, the entire dataframe will be used\n",
    "    :param vocab_sz: the maximum vocabulary size of the trained tokenizer\n",
    "    :param min_freq: the minimum frequency a token has to occur to be considered\n",
    "    :returns: returns a trained ByteLevel BPE tokenizer\n",
    "    \"\"\"\n",
    "    if n is None: n = len(df)\n",
    "\n",
    "    # create tmp file to store df contents for training tokenizer\n",
    "    tmp_path = Path('/tmp')\n",
    "    tmp_path.mkdir(parents = True, exist_ok = True)\n",
    "    with open(tmp_path/'tmp_tokenize.txt', 'w') as f:\n",
    "        f.write('\\n'.join(df.code.values[:n]))\n",
    "\n",
    "    # initialize a tokenizer\n",
    "    tokenizer = Tokenizer(models.BPE())\n",
    "\n",
    "    # customize pre-tokenization and decoding\n",
    "    tokenizer.pre_tokenizer = pre_tokenizers.ByteLevel(add_prefix_space = True)\n",
    "    tokenizer.decoder = decoders.ByteLevel()\n",
    "    tokenizer.post_processor = processors.ByteLevel(trim_offsets = True)\n",
    "\n",
    "    # train tokenizer with data in tmp file\n",
    "    trainer = trainers.BpeTrainer(\n",
    "        vocab_size = vocab_sz, min_frequency = min_freq,\n",
    "        special_tokens = list(java_special_tokens.values())\n",
    "    )\n",
    "    tokenizer.train(trainer, [str(tmp_path/'tmp_tokenize.txt')])\n",
    "\n",
    "    # save tokenizer if output path given\n",
    "    if output is not None:\n",
    "        tokenizer.save(output, pretty = True)\n",
    "    \n",
    "    return tokenizer"
   ]
  },
  {
   "cell_type": "code",
   "execution_count": null,
   "metadata": {},
   "outputs": [],
   "source": [
    "tokenizer = train_tokenizer(df_fake)"
   ]
  },
  {
   "cell_type": "code",
   "execution_count": null,
   "metadata": {},
   "outputs": [],
   "source": [
    "TOKENIZED_SPEC = [\n",
    "    '<triple_greater>', '<space>', '<greater>', '<space>', '<+>', '<space>',\n",
    "    '<public>', '<space>', '<++>', '<space>', '<n>', '<n>',\n",
    "    '<space>', '<t>', '<space>', '<t>', '<space>', '<t>',\n",
    "    '<t>', '<space>', '<space>'\n",
    "]\n",
    "\n",
    "encoded = tokenizer.encode(fake_data)\n",
    "\n",
    "assert TOKENIZED_SPEC == encoded.tokens"
   ]
  },
  {
   "cell_type": "code",
   "execution_count": null,
   "metadata": {},
   "outputs": [],
   "source": [
    "# TODO: add test case for more realistic example, i.e., real method. Issue is generating small fake data to train tokenizer on. Are these tokenizers deterministic when training?"
   ]
  },
  {
   "cell_type": "code",
   "execution_count": null,
   "metadata": {
    "tags": []
   },
   "outputs": [
    {
     "name": "stdout",
     "output_type": "stream",
     "text": "&lt;@&gt;Override&lt;space&gt;&lt;public&gt;&lt;space&gt;&lt;void&gt;&lt;space&gt;removeListeners&lt;(&gt;String&lt;space&gt;nodeID&lt;)&gt;&lt;space&gt;&lt;{&gt;&lt;n&gt;&lt;space&gt;&lt;space&gt;&lt;space&gt;&lt;space&gt;&lt;boolean&gt;&lt;space&gt;found&lt;space&gt;&lt;=&gt;&lt;space&gt;false&lt;;&gt;&lt;n&gt;&lt;n&gt;&lt;space&gt;&lt;space&gt;&lt;space&gt;&lt;space&gt;writeLock.lock&lt;(&gt;&lt;)&gt;&lt;;&gt;&lt;n&gt;&lt;space&gt;&lt;space&gt;&lt;space&gt;&lt;space&gt;&lt;try&gt;&lt;space&gt;&lt;{&gt;&lt;n&gt;&lt;t&gt;Iterator&lt;lesser&gt;HashMap&lt;lesser&gt;String,&lt;space&gt;Strategy&lt;lesser&gt;ListenerEndpo&lt;int&gt;&lt;greater&gt;&lt;space&gt;&lt;greater&gt;&lt;space&gt;&lt;greater&gt;&lt;space&gt;groupIterator&lt;space&gt;&lt;=&gt;&lt;n&gt;&lt;t&gt;&lt;space&gt;&lt;space&gt;&lt;space&gt;&lt;space&gt;listeners.values&lt;(&gt;&lt;)&gt;.iterator&lt;(&gt;&lt;)&gt;&lt;;&gt;&lt;n&gt;&lt;n&gt;&lt;t&gt;&lt;while&gt;&lt;space&gt;&lt;(&gt;groupIterator.hasNext&lt;(&gt;&lt;)&gt;&lt;)&gt;&lt;space&gt;&lt;{&gt;&lt;n&gt;&lt;t&gt;&lt;space&gt;&lt;space&gt;&lt;space&gt;&lt;space&gt;HashMap&lt;lesser&gt;String,&lt;space&gt;Strategy&lt;lesser&gt;ListenerEndpo&lt;int&gt;&lt;greater&gt;&lt;space&gt;&lt;greater&gt;&lt;space&gt;groups&lt;space&gt;&lt;=&gt;&lt;n&gt;&lt;t&gt;&lt;t&gt;groupIterator.next&lt;(&gt;&lt;)&gt;&lt;;&gt;&lt;n&gt;&lt;t&gt;&lt;space&gt;&lt;space&gt;&lt;space&gt;&lt;space&gt;Iterator&lt;lesser&gt;Strategy&lt;lesser&gt;ListenerEndpo&lt;int&gt;&lt;greater&gt;&lt;space&gt;&lt;greater&gt;&lt;space&gt;strategyIterator&lt;space&gt;&lt;=&gt;&lt;n&gt;&lt;t&gt;&lt;t&gt;groups.values&lt;(&gt;&lt;)&gt;.iterator&lt;(&gt;&lt;)&gt;&lt;;&gt;&lt;n&gt;&lt;n&gt;&lt;t&gt;&lt;space&gt;&lt;space&gt;&lt;space&gt;&lt;space&gt;&lt;while&gt;&lt;space&gt;&lt;(&gt;strategyIterator.hasNext&lt;(&gt;&lt;)&gt;&lt;)&gt;&lt;space&gt;&lt;{&gt;&lt;n&gt;&lt;t&gt;&lt;t&gt;Strategy&lt;lesser&gt;ListenerEndpo&lt;int&gt;&lt;greater&gt;&lt;space&gt;strategy&lt;space&gt;&lt;=&gt;&lt;space&gt;strategyIterator.next&lt;(&gt;&lt;)&gt;&lt;;&gt;&lt;n&gt;&lt;n&gt;&lt;t&gt;&lt;t&gt;&lt;if&gt;&lt;space&gt;&lt;(&gt;strategy.remove&lt;(&gt;nodeID&lt;)&gt;&lt;)&gt;&lt;space&gt;&lt;{&gt;&lt;n&gt;&lt;t&gt;&lt;t&gt;&lt;space&gt;&lt;space&gt;&lt;space&gt;&lt;space&gt;found&lt;space&gt;&lt;=&gt;&lt;space&gt;true&lt;;&gt;&lt;n&gt;&lt;t&gt;&lt;t&gt;&lt;space&gt;&lt;space&gt;&lt;space&gt;&lt;space&gt;&lt;if&gt;&lt;space&gt;&lt;(&gt;strategy.isEmpty&lt;(&gt;&lt;)&gt;&lt;)&gt;&lt;n&gt;&lt;t&gt;&lt;t&gt;&lt;t&gt;strategyIterator.remove&lt;(&gt;&lt;)&gt;&lt;;&gt;&lt;n&gt;&lt;t&gt;&lt;t&gt;&lt;}&gt;&lt;n&gt;&lt;t&gt;&lt;space&gt;&lt;space&gt;&lt;space&gt;&lt;space&gt;&lt;}&gt;&lt;n&gt;&lt;t&gt;&lt;space&gt;&lt;space&gt;&lt;space&gt;&lt;space&gt;&lt;if&gt;&lt;space&gt;&lt;(&gt;groups.isEmpty&lt;(&gt;&lt;)&gt;&lt;)&gt;&lt;n&gt;&lt;t&gt;&lt;t&gt;groupIterator.remove&lt;(&gt;&lt;)&gt;&lt;;&gt;&lt;n&gt;&lt;t&gt;&lt;}&gt;&lt;n&gt;&lt;space&gt;&lt;space&gt;&lt;space&gt;&lt;space&gt;&lt;}&gt;&lt;space&gt;&lt;finally&gt;&lt;space&gt;&lt;{&gt;&lt;n&gt;&lt;t&gt;&lt;/&gt;&lt;/&gt;&lt;space&gt;Clear&lt;space&gt;caches&lt;n&gt;&lt;t&gt;&lt;if&gt;&lt;space&gt;&lt;(&gt;found&lt;)&gt;&lt;space&gt;&lt;{&gt;&lt;n&gt;&lt;t&gt;&lt;space&gt;&lt;space&gt;&lt;space&gt;&lt;space&gt;emitterCache.clear&lt;(&gt;&lt;)&gt;&lt;;&gt;&lt;n&gt;&lt;t&gt;&lt;space&gt;&lt;space&gt;&lt;space&gt;&lt;space&gt;broadcasterCache.clear&lt;(&gt;&lt;)&gt;&lt;;&gt;&lt;n&gt;&lt;t&gt;&lt;space&gt;&lt;space&gt;&lt;space&gt;&lt;space&gt;localBroadcasterCache.clear&lt;(&gt;&lt;)&gt;&lt;;&gt;&lt;n&gt;&lt;t&gt;&lt;}&gt;&lt;n&gt;&lt;t&gt;writeLock.unlock&lt;(&gt;&lt;)&gt;&lt;;&gt;&lt;n&gt;&lt;space&gt;&lt;space&gt;&lt;space&gt;&lt;space&gt;&lt;}&gt;&lt;n&gt;&lt;}&gt;&lt;n&gt;\n====================================================================================================\n[&#39;&lt;@&gt;&#39;, &#39;Ġ&#39;, &#39;i&#39;, &#39;&lt;space&gt;&#39;, &#39;&lt;public&gt;&#39;, &#39;&lt;space&gt;&#39;, &#39;&lt;void&gt;&#39;, &#39;&lt;space&gt;&#39;, &#39;Ġ&#39;, &#39;i&#39;, &#39;&lt;(&gt;&#39;, &#39;Ġ&#39;, &#39;i&#39;, &#39;&lt;space&gt;&#39;, &#39;Ġ&#39;, &#39;&lt;)&gt;&#39;, &#39;&lt;space&gt;&#39;, &#39;&lt;{&gt;&#39;, &#39;&lt;n&gt;&#39;, &#39;&lt;space&gt;&#39;, &#39;&lt;space&gt;&#39;, &#39;&lt;space&gt;&#39;, &#39;&lt;space&gt;&#39;, &#39;&lt;boolean&gt;&#39;, &#39;&lt;space&gt;&#39;, &#39;Ġ&#39;, &#39;u&#39;, &#39;&lt;space&gt;&#39;, &#39;&lt;=&gt;&#39;, &#39;&lt;space&gt;&#39;, &#39;Ġ&#39;, &#39;l&#39;, &#39;&lt;;&gt;&#39;, &#39;&lt;n&gt;&#39;, &#39;&lt;n&gt;&#39;, &#39;&lt;space&gt;&#39;, &#39;&lt;space&gt;&#39;, &#39;&lt;space&gt;&#39;, &#39;&lt;space&gt;&#39;, &#39;Ġ&#39;, &#39;i&#39;, &#39;c&#39;, &#39;l&#39;, &#39;c&#39;, &#39;&lt;(&gt;&#39;, &#39;&lt;)&gt;&#39;, &#39;&lt;;&gt;&#39;, &#39;&lt;n&gt;&#39;, &#39;&lt;space&gt;&#39;, &#39;&lt;space&gt;&#39;, &#39;&lt;space&gt;&#39;, &#39;&lt;space&gt;&#39;, &#39;&lt;try&gt;&#39;, &#39;&lt;space&gt;&#39;, &#39;&lt;{&gt;&#39;, &#39;&lt;n&gt;&#39;, &#39;&lt;t&gt;&#39;, &#39;Ġ&#39;, &#39;&lt;lesser&gt;&#39;, &#39;Ġ&#39;, &#39;p&#39;, &#39;&lt;lesser&gt;&#39;, &#39;Ġ&#39;, &#39;i&#39;, &#39;&lt;space&gt;&#39;, &#39;Ġ&#39;, &#39;&lt;lesser&gt;&#39;, &#39;Ġ&#39;, &#39;i&#39;, &#39;p&#39;, &#39;&lt;int&gt;&#39;, &#39;&lt;greater&gt;&#39;, &#39;&lt;space&gt;&#39;, &#39;&lt;greater&gt;&#39;, &#39;&lt;space&gt;&#39;, &#39;&lt;greater&gt;&#39;, &#39;&lt;space&gt;&#39;, &#39;Ġ&#39;, &#39;u&#39;, &#39;p&#39;, &#39;&lt;space&gt;&#39;, &#39;&lt;=&gt;&#39;, &#39;&lt;n&gt;&#39;, &#39;&lt;t&gt;&#39;, &#39;&lt;space&gt;&#39;, &#39;&lt;space&gt;&#39;, &#39;&lt;space&gt;&#39;, &#39;&lt;space&gt;&#39;, &#39;Ġ&#39;, &#39;l&#39;, &#39;i&#39;, &#39;l&#39;, &#39;u&#39;, &#39;&lt;(&gt;&#39;, &#39;&lt;)&gt;&#39;, &#39;Ġ&#39;, &#39;i&#39;, &#39;&lt;(&gt;&#39;, &#39;&lt;)&gt;&#39;, &#39;&lt;;&gt;&#39;, &#39;&lt;n&gt;&#39;, &#39;&lt;n&gt;&#39;, &#39;&lt;t&gt;&#39;, &#39;&lt;while&gt;&#39;, &#39;&lt;space&gt;&#39;, &#39;&lt;(&gt;&#39;, &#39;Ġ&#39;, &#39;u&#39;, &#39;p&#39;, &#39;&lt;(&gt;&#39;, &#39;&lt;)&gt;&#39;, &#39;&lt;)&gt;&#39;, &#39;&lt;space&gt;&#39;, &#39;&lt;{&gt;&#39;, &#39;&lt;n&gt;&#39;, &#39;&lt;t&gt;&#39;, &#39;&lt;space&gt;&#39;, &#39;&lt;space&gt;&#39;, &#39;&lt;space&gt;&#39;, &#39;&lt;space&gt;&#39;, &#39;Ġ&#39;, &#39;p&#39;, &#39;&lt;lesser&gt;&#39;, &#39;Ġ&#39;, &#39;i&#39;, &#39;&lt;space&gt;&#39;, &#39;Ġ&#39;, &#39;&lt;lesser&gt;&#39;, &#39;Ġ&#39;, &#39;i&#39;, &#39;p&#39;, &#39;&lt;int&gt;&#39;, &#39;&lt;greater&gt;&#39;, &#39;&lt;space&gt;&#39;, &#39;&lt;greater&gt;&#39;, &#39;&lt;space&gt;&#39;, &#39;Ġ&#39;, &#39;u&#39;, &#39;p&#39;, &#39;&lt;space&gt;&#39;, &#39;&lt;=&gt;&#39;, &#39;&lt;n&gt;&#39;, &#39;&lt;t&gt;&#39;, &#39;&lt;t&gt;&#39;, &#39;Ġ&#39;, &#39;u&#39;, &#39;p&#39;, &#39;&lt;(&gt;&#39;, &#39;&lt;)&gt;&#39;, &#39;&lt;;&gt;&#39;, &#39;&lt;n&gt;&#39;, &#39;&lt;t&gt;&#39;, &#39;&lt;space&gt;&#39;, &#39;&lt;space&gt;&#39;, &#39;&lt;space&gt;&#39;, &#39;&lt;space&gt;&#39;, &#39;Ġ&#39;, &#39;&lt;lesser&gt;&#39;, &#39;Ġ&#39;, &#39;&lt;lesser&gt;&#39;, &#39;Ġ&#39;, &#39;i&#39;, &#39;p&#39;, &#39;&lt;int&gt;&#39;, &#39;&lt;greater&gt;&#39;, &#39;&lt;space&gt;&#39;, &#39;&lt;greater&gt;&#39;, &#39;&lt;space&gt;&#39;, &#39;Ġ&#39;, &#39;&lt;space&gt;&#39;, &#39;&lt;=&gt;&#39;, &#39;&lt;n&gt;&#39;, &#39;&lt;t&gt;&#39;, &#39;&lt;t&gt;&#39;, &#39;Ġ&#39;, &#39;u&#39;, &#39;p&#39;, &#39;l&#39;, &#39;u&#39;, &#39;&lt;(&gt;&#39;, &#39;&lt;)&gt;&#39;, &#39;Ġ&#39;, &#39;i&#39;, &#39;&lt;(&gt;&#39;, &#39;&lt;)&gt;&#39;, &#39;&lt;;&gt;&#39;, &#39;&lt;n&gt;&#39;, &#39;&lt;n&gt;&#39;, &#39;&lt;t&gt;&#39;, &#39;&lt;space&gt;&#39;, &#39;&lt;space&gt;&#39;, &#39;&lt;space&gt;&#39;, &#39;&lt;space&gt;&#39;, &#39;&lt;while&gt;&#39;, &#39;&lt;space&gt;&#39;, &#39;&lt;(&gt;&#39;, &#39;Ġ&#39;, &#39;&lt;(&gt;&#39;, &#39;&lt;)&gt;&#39;, &#39;&lt;)&gt;&#39;, &#39;&lt;space&gt;&#39;, &#39;&lt;{&gt;&#39;, &#39;&lt;n&gt;&#39;, &#39;&lt;t&gt;&#39;, &#39;&lt;t&gt;&#39;, &#39;Ġ&#39;, &#39;&lt;lesser&gt;&#39;, &#39;Ġ&#39;, &#39;i&#39;, &#39;p&#39;, &#39;&lt;int&gt;&#39;, &#39;&lt;greater&gt;&#39;, &#39;&lt;space&gt;&#39;, &#39;Ġ&#39;, &#39;&lt;space&gt;&#39;, &#39;&lt;=&gt;&#39;, &#39;&lt;space&gt;&#39;, &#39;Ġ&#39;, &#39;&lt;(&gt;&#39;, &#39;&lt;)&gt;&#39;, &#39;&lt;;&gt;&#39;, &#39;&lt;n&gt;&#39;, &#39;&lt;n&gt;&#39;, &#39;&lt;t&gt;&#39;, &#39;&lt;t&gt;&#39;, &#39;&lt;if&gt;&#39;, &#39;&lt;space&gt;&#39;, &#39;&lt;(&gt;&#39;, &#39;Ġ&#39;, &#39;&lt;(&gt;&#39;, &#39;Ġ&#39;, &#39;&lt;)&gt;&#39;, &#39;&lt;)&gt;&#39;, &#39;&lt;space&gt;&#39;, &#39;&lt;{&gt;&#39;, &#39;&lt;n&gt;&#39;, &#39;&lt;t&gt;&#39;, &#39;&lt;t&gt;&#39;, &#39;&lt;space&gt;&#39;, &#39;&lt;space&gt;&#39;, &#39;&lt;space&gt;&#39;, &#39;&lt;space&gt;&#39;, &#39;Ġ&#39;, &#39;u&#39;, &#39;&lt;space&gt;&#39;, &#39;&lt;=&gt;&#39;, &#39;&lt;space&gt;&#39;, &#39;Ġ&#39;, &#39;u&#39;, &#39;&lt;;&gt;&#39;, &#39;&lt;n&gt;&#39;, &#39;&lt;t&gt;&#39;, &#39;&lt;t&gt;&#39;, &#39;&lt;space&gt;&#39;, &#39;&lt;space&gt;&#39;, &#39;&lt;space&gt;&#39;, &#39;&lt;space&gt;&#39;, &#39;&lt;if&gt;&#39;, &#39;&lt;space&gt;&#39;, &#39;&lt;(&gt;&#39;, &#39;Ġ&#39;, &#39;i&#39;, &#39;p&#39;, &#39;&lt;(&gt;&#39;, &#39;&lt;)&gt;&#39;, &#39;&lt;)&gt;&#39;, &#39;&lt;n&gt;&#39;, &#39;&lt;t&gt;&#39;, &#39;&lt;t&gt;&#39;, &#39;&lt;t&gt;&#39;, &#39;Ġ&#39;, &#39;&lt;(&gt;&#39;, &#39;&lt;)&gt;&#39;, &#39;&lt;;&gt;&#39;, &#39;&lt;n&gt;&#39;, &#39;&lt;t&gt;&#39;, &#39;&lt;t&gt;&#39;, &#39;&lt;}&gt;&#39;, &#39;&lt;n&gt;&#39;, &#39;&lt;t&gt;&#39;, &#39;&lt;space&gt;&#39;, &#39;&lt;space&gt;&#39;, &#39;&lt;space&gt;&#39;, &#39;&lt;space&gt;&#39;, &#39;&lt;}&gt;&#39;, &#39;&lt;n&gt;&#39;, &#39;&lt;t&gt;&#39;, &#39;&lt;space&gt;&#39;, &#39;&lt;space&gt;&#39;, &#39;&lt;space&gt;&#39;, &#39;&lt;space&gt;&#39;, &#39;&lt;if&gt;&#39;, &#39;&lt;space&gt;&#39;, &#39;&lt;(&gt;&#39;, &#39;Ġ&#39;, &#39;u&#39;, &#39;p&#39;, &#39;i&#39;, &#39;p&#39;, &#39;&lt;(&gt;&#39;, &#39;&lt;)&gt;&#39;, &#39;&lt;)&gt;&#39;, &#39;&lt;n&gt;&#39;, &#39;&lt;t&gt;&#39;, &#39;&lt;t&gt;&#39;, &#39;Ġ&#39;, &#39;u&#39;, &#39;p&#39;, &#39;&lt;(&gt;&#39;, &#39;&lt;)&gt;&#39;, &#39;&lt;;&gt;&#39;, &#39;&lt;n&gt;&#39;, &#39;&lt;t&gt;&#39;, &#39;&lt;}&gt;&#39;, &#39;&lt;n&gt;&#39;, &#39;&lt;space&gt;&#39;, &#39;&lt;space&gt;&#39;, &#39;&lt;space&gt;&#39;, &#39;&lt;space&gt;&#39;, &#39;&lt;}&gt;&#39;, &#39;&lt;space&gt;&#39;, &#39;&lt;finally&gt;&#39;, &#39;&lt;space&gt;&#39;, &#39;&lt;{&gt;&#39;, &#39;&lt;n&gt;&#39;, &#39;&lt;t&gt;&#39;, &#39;&lt;/&gt;&#39;, &#39;&lt;/&gt;&#39;, &#39;&lt;space&gt;&#39;, &#39;Ġ&#39;, &#39;l&#39;, &#39;&lt;space&gt;&#39;, &#39;Ġ&#39;, &#39;c&#39;, &#39;c&#39;, &#39;&lt;n&gt;&#39;, &#39;&lt;t&gt;&#39;, &#39;&lt;if&gt;&#39;, &#39;&lt;space&gt;&#39;, &#39;&lt;(&gt;&#39;, &#39;Ġ&#39;, &#39;u&#39;, &#39;&lt;)&gt;&#39;, &#39;&lt;space&gt;&#39;, &#39;&lt;{&gt;&#39;, &#39;&lt;n&gt;&#39;, &#39;&lt;t&gt;&#39;, &#39;&lt;space&gt;&#39;, &#39;&lt;space&gt;&#39;, &#39;&lt;space&gt;&#39;, &#39;&lt;space&gt;&#39;, &#39;Ġ&#39;, &#39;i&#39;, &#39;c&#39;, &#39;c&#39;, &#39;l&#39;, &#39;&lt;(&gt;&#39;, &#39;&lt;)&gt;&#39;, &#39;&lt;;&gt;&#39;, &#39;&lt;n&gt;&#39;, &#39;&lt;t&gt;&#39;, &#39;&lt;space&gt;&#39;, &#39;&lt;space&gt;&#39;, &#39;&lt;space&gt;&#39;, &#39;&lt;space&gt;&#39;, &#39;Ġ&#39;, &#39;b&#39;, &#39;c&#39;, &#39;c&#39;, &#39;c&#39;, &#39;l&#39;, &#39;&lt;(&gt;&#39;, &#39;&lt;)&gt;&#39;, &#39;&lt;;&gt;&#39;, &#39;&lt;n&gt;&#39;, &#39;&lt;t&gt;&#39;, &#39;&lt;space&gt;&#39;, &#39;&lt;space&gt;&#39;, &#39;&lt;space&gt;&#39;, &#39;&lt;space&gt;&#39;, &#39;Ġ&#39;, &#39;l&#39;, &#39;c&#39;, &#39;l&#39;, &#39;c&#39;, &#39;c&#39;, &#39;c&#39;, &#39;l&#39;, &#39;&lt;(&gt;&#39;, &#39;&lt;)&gt;&#39;, &#39;&lt;;&gt;&#39;, &#39;&lt;n&gt;&#39;, &#39;&lt;t&gt;&#39;, &#39;&lt;}&gt;&#39;, &#39;&lt;n&gt;&#39;, &#39;&lt;t&gt;&#39;, &#39;Ġ&#39;, &#39;i&#39;, &#39;c&#39;, &#39;u&#39;, &#39;l&#39;, &#39;c&#39;, &#39;&lt;(&gt;&#39;, &#39;&lt;)&gt;&#39;, &#39;&lt;;&gt;&#39;, &#39;&lt;n&gt;&#39;, &#39;&lt;space&gt;&#39;, &#39;&lt;space&gt;&#39;, &#39;&lt;space&gt;&#39;, &#39;&lt;space&gt;&#39;, &#39;&lt;}&gt;&#39;, &#39;&lt;n&gt;&#39;, &#39;&lt;}&gt;&#39;, &#39;&lt;n&gt;&#39;]\n"
    }
   ],
   "source": [
    "# hide\n",
    "idx = 0\n",
    "df_beaut = beautify_code(df_trn, n = 10)\n",
    "df_replaced = replace_special_tokens(df_beaut, java_special_tokens)\n",
    "\n",
    "tokenizer = train_tokenizer(df_trn)\n",
    "encoded = tokenizer.encode(df_replaced.code.values[idx])\n",
    "print(df_replaced.code.values[idx])\n",
    "print('=' * 100)\n",
    "print(encoded.tokens)"
   ]
  },
  {
   "cell_type": "code",
   "execution_count": null,
   "metadata": {},
   "outputs": [],
   "source": []
  }
 ],
 "metadata": {
  "kernelspec": {
   "display_name": "icodegen",
   "language": "python",
   "name": "icodegen"
  }
 },
 "nbformat": 4,
 "nbformat_minor": 4
}
