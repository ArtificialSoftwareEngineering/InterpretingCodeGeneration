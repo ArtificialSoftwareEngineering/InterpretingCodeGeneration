{
 "cells": [
  {
   "cell_type": "code",
   "execution_count": null,
   "metadata": {},
   "outputs": [],
   "source": [
    "# default_exp data.transforms"
   ]
  },
  {
   "cell_type": "markdown",
   "metadata": {},
   "source": [
    "# Data Transforms\n",
    "\n",
    "> API details."
   ]
  },
  {
   "cell_type": "code",
   "execution_count": null,
   "metadata": {},
   "outputs": [],
   "source": [
    "# TODO: Add type hints"
   ]
  },
  {
   "cell_type": "code",
   "execution_count": null,
   "metadata": {},
   "outputs": [],
   "source": [
    "# export\n",
    "import re\n",
    "\n",
    "import pandas as pd\n",
    "\n",
    "from random import shuffle\n",
    "from tokenizers import Tokenizer\n",
    "from typing import Callable, Optional"
   ]
  },
  {
   "cell_type": "code",
   "execution_count": null,
   "metadata": {},
   "outputs": [],
   "source": [
    "#hide\n",
    "from nbdev.showdoc import *"
   ]
  },
  {
   "cell_type": "markdown",
   "metadata": {},
   "source": [
    "## Semantic Preserving"
   ]
  },
  {
   "cell_type": "code",
   "execution_count": null,
   "metadata": {},
   "outputs": [],
   "source": [
    "# export\n",
    "# TODO: Write test case\n",
    "def java_comment_remover(mthd: str) -> str:\n",
    "    \"\"\"\n",
    "    Remove all comments from a given java method. Code from https://stackoverflow.com/a/241506/5768407.\n",
    "\n",
    "    :param mthd: the method to have its comments removed\n",
    "    :returns: returns the method with its comments removed\n",
    "    \"\"\"\n",
    "    def replacer(match):\n",
    "        s = match.group(0)\n",
    "        if s.startswith('/'):\n",
    "            return \" \" # note: a space and not an empty string\n",
    "        else:\n",
    "            return s\n",
    "    \n",
    "    pattern = re.compile(\n",
    "        r'//.*?$|/\\*.*?\\*/|\\'(?:\\\\.|[^\\\\\\'])*\\'|\"(?:\\\\.|[^\\\\\"])*\"',\n",
    "        re.DOTALL | re.MULTILINE\n",
    "    )\n",
    "    return re.sub(pattern, replacer, mthd)"
   ]
  },
  {
   "cell_type": "markdown",
   "metadata": {},
   "source": [
    "## Non-Semantic Preserving"
   ]
  },
  {
   "cell_type": "code",
   "execution_count": null,
   "metadata": {},
   "outputs": [],
   "source": [
    "# export\n",
    "# TODO: add test cases\n",
    "def randomize_lines(mthd: str) -> str:\n",
    "    \"\"\"\n",
    "    Randomize the lines in a given method.\n",
    "\n",
    "    :param mthd: the method to have its lines randomized\n",
    "    :returns: returns the method with its lines randomized\n",
    "    \"\"\"\n",
    "    mthd = mthd.split('<n>')\n",
    "    shuffle(mthd)\n",
    "    \n",
    "    return '<n>'.join(mthd)\n",
    "\n",
    "def randomize_tokens(mthd: str, tokenizer: Tokenizer) -> str:\n",
    "    \"\"\"\n",
    "    Randomize the tokens in a given method.\n",
    "\n",
    "    :param mthd: the method to have its tokens randomized\n",
    "    :param tokenizer: the tokenizer that will tokenize the given method\n",
    "    :returns: returns the method with its tokens randomized\n",
    "    \"\"\"\n",
    "    mthd = tokenizer.encode(mthd).ids\n",
    "    shuffle(mthd)\n",
    "    \n",
    "    return tokenizer.decode(mthd)"
   ]
  },
  {
   "cell_type": "code",
   "execution_count": null,
   "metadata": {},
   "outputs": [],
   "source": [
    "# hide\n",
    "from icodegen.data import *\n",
    "\n",
    "df_fake = pd.DataFrame([\n",
    "    '''public void setPipelines(java.util.Collection<Pipeline> pipelines) {\n",
    "        if (pipelines == null) {\n",
    "            this.pipelines = null;\n",
    "            return;\n",
    "        }\n",
    "\n",
    "        this.pipelines = new com.amazonaws.internal.SdkInternalList<Pipeline>(pipelines);\n",
    "    }\n",
    "    '''\n",
    "], columns = ['code']); df_fake\n",
    "df_fake = beautify_code(df_fake)\n",
    "df_fake = replace_special_tokens(df_fake, java_special_tokens)\n",
    "tokenizer = train_tokenizer(df_fake)"
   ]
  },
  {
   "cell_type": "code",
   "execution_count": null,
   "metadata": {},
   "outputs": [],
   "source": [
    "# export\n",
    "# TODO: add docs and test case\n",
    "def transform_df(df: pd.DataFrame, transform: Callable, n: Optional[int] = None) -> pd.DataFrame:\n",
    "    \"\"\"\n",
    "    Transform the given pandas dataframe using the given transformation.\n",
    "\n",
    "    :param df: the dataframe containing each method to be transformed\n",
    "    :param transform: the transformation that will be applied to each method in the dataframe\n",
    "    :param n: the number of methods to evaluate. If none, the entire dataframe will be used\n",
    "    :returns: returns a modified dataframe with the methods transformed\n",
    "    \"\"\"\n",
    "    if n is None: n = len(df)\n",
    "\n",
    "    df = df.iloc[:n].copy()\n",
    "    df.code = df.code.apply(transform)\n",
    "\n",
    "    return df"
   ]
  }
 ],
 "metadata": {
  "kernelspec": {
   "display_name": "icodegen",
   "language": "python",
   "name": "icodegen"
  }
 },
 "nbformat": 4,
 "nbformat_minor": 4
}
