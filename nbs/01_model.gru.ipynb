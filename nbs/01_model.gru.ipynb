{
 "cells": [
  {
   "cell_type": "code",
   "execution_count": null,
   "metadata": {},
   "outputs": [],
   "source": [
    "# default_exp model.gru"
   ]
  },
  {
   "cell_type": "code",
   "execution_count": null,
   "metadata": {},
   "outputs": [],
   "source": [
    "# hide\n",
    "%load_ext autoreload\n",
    "%autoreload 2\n",
    "%matplotlib inline"
   ]
  },
  {
   "cell_type": "code",
   "execution_count": null,
   "metadata": {},
   "outputs": [],
   "source": [
    "#! pip install datasets\n",
    "#! pip install tokenizers -U"
   ]
  },
  {
   "cell_type": "code",
   "execution_count": null,
   "metadata": {},
   "outputs": [],
   "source": [
    "#HF datasets\n",
    "from datasets import list_datasets, load_dataset, list_metrics, load_metric\n",
    "from datasets import Dataset"
   ]
  },
  {
   "cell_type": "code",
   "execution_count": null,
   "metadata": {},
   "outputs": [],
   "source": [
    "#HF preprocessing\n",
    "from tokenizers import Tokenizer"
   ]
  },
  {
   "cell_type": "code",
   "execution_count": null,
   "metadata": {},
   "outputs": [],
   "source": [
    "from datetime import datetime"
   ]
  },
  {
   "cell_type": "code",
   "execution_count": null,
   "metadata": {},
   "outputs": [],
   "source": [
    "import tensorflow as tf\n",
    "import numpy as np\n",
    "import pandas as pd\n",
    "import os\n",
    "import time"
   ]
  },
  {
   "cell_type": "code",
   "execution_count": null,
   "metadata": {},
   "outputs": [],
   "source": [
    "#functional programming\n",
    "import functools "
   ]
  },
  {
   "cell_type": "code",
   "execution_count": null,
   "metadata": {},
   "outputs": [],
   "source": [
    "#experimental\n",
    "#import tensorflow.experimental.numpy as tnp"
   ]
  },
  {
   "cell_type": "code",
   "execution_count": null,
   "metadata": {},
   "outputs": [],
   "source": [
    "from pathlib import Path"
   ]
  },
  {
   "cell_type": "code",
   "execution_count": null,
   "metadata": {},
   "outputs": [],
   "source": [
    "#export\n",
    "import logging\n",
    "logging.basicConfig(format='%(asctime)s : %(levelname)s : %(message)s', level=logging.INFO)"
   ]
  },
  {
   "cell_type": "markdown",
   "metadata": {},
   "source": [
    "# Deep Generative Coding with GRUs \n",
    ">\n",
    ">@danaderp 11.17.20 This a GRU generative architecture for the CodeSearchNet dataset.\n",
    ">"
   ]
  },
  {
   "cell_type": "code",
   "execution_count": null,
   "metadata": {},
   "outputs": [],
   "source": [
    "path_data = Path('../dvc-icodegen') #dataset path\n",
    "def params():\n",
    "    return {\n",
    "        'dummy_path' : path_data/'dummy/',\n",
    "        'hyper': {\n",
    "            'seq_length':100, #This Value depends on the EDA\n",
    "            'batch_size':64,\n",
    "            'buffer_size':10000,\n",
    "            'rnn_units':1024,\n",
    "            'epochs':10\n",
    "        },\n",
    "        'checkpoint_dir':path_data/'models/',\n",
    "        'dataset':path_data/'searchnet/[codesearchnet-java-1597073966.81902].csv',\n",
    "        'eda':path_data/'eda/',\n",
    "        'tokenizer':path_data/'bpe/tokenizer-java.json'\n",
    "    }"
   ]
  },
  {
   "cell_type": "code",
   "execution_count": null,
   "metadata": {},
   "outputs": [],
   "source": [
    "params = params()"
   ]
  },
  {
   "cell_type": "code",
   "execution_count": null,
   "metadata": {},
   "outputs": [
    {
     "name": "stderr",
     "output_type": "stream",
     "text": [
      "2020-11-23 11:39:29,633 : INFO : 100\n",
      "2020-11-23 11:39:29,635 : INFO : ../dvc-icodegen/searchnet/[codesearchnet-java-1597073966.81902].csv\n",
      "2020-11-23 11:39:29,637 : INFO : ../dvc-icodegen/eda\n",
      "2020-11-23 11:39:29,638 : INFO : ../dvc-icodegen/bpe/tokenizer-java.json\n"
     ]
    }
   ],
   "source": [
    "#tst\n",
    "logging.info(params['hyper']['seq_length'])\n",
    "logging.info(params['dataset'])\n",
    "logging.info(params['eda'])\n",
    "logging.info(params['tokenizer'])"
   ]
  },
  {
   "cell_type": "markdown",
   "metadata": {},
   "source": [
    "## Datasets Processing"
   ]
  },
  {
   "cell_type": "code",
   "execution_count": null,
   "metadata": {},
   "outputs": [],
   "source": [
    "#Loading CodeSearchNet Dataset\n",
    "java_df = pd.read_csv(params['dataset'], sep='~') #without bpe vectorization"
   ]
  },
  {
   "cell_type": "code",
   "execution_count": null,
   "metadata": {},
   "outputs": [
    {
     "data": {
      "text/html": [
       "<div>\n",
       "<style scoped>\n",
       "    .dataframe tbody tr th:only-of-type {\n",
       "        vertical-align: middle;\n",
       "    }\n",
       "\n",
       "    .dataframe tbody tr th {\n",
       "        vertical-align: top;\n",
       "    }\n",
       "\n",
       "    .dataframe thead th {\n",
       "        text-align: right;\n",
       "    }\n",
       "</style>\n",
       "<table border=\"1\" class=\"dataframe\">\n",
       "  <thead>\n",
       "    <tr style=\"text-align: right;\">\n",
       "      <th></th>\n",
       "      <th>repo</th>\n",
       "      <th>path</th>\n",
       "      <th>url</th>\n",
       "      <th>code</th>\n",
       "      <th>code_tokens</th>\n",
       "      <th>docstring</th>\n",
       "      <th>docstring_tokens</th>\n",
       "      <th>language</th>\n",
       "      <th>partition</th>\n",
       "      <th>bpe32k</th>\n",
       "      <th>code_len</th>\n",
       "      <th>bpe32_len</th>\n",
       "      <th>bpe_ids</th>\n",
       "    </tr>\n",
       "  </thead>\n",
       "  <tbody>\n",
       "    <tr>\n",
       "      <th>0</th>\n",
       "      <td>apache/spark</td>\n",
       "      <td>sql/hive-thriftserver/src/main/java/org/apache...</td>\n",
       "      <td>https://github.com/apache/spark/blob/25ee0474f...</td>\n",
       "      <td>&lt;@&gt;Override&lt;n&gt;  &lt;public&gt; OperationHandle getSc...</td>\n",
       "      <td>['@', 'Override', 'public', 'OperationHandle',...</td>\n",
       "      <td>/* (non-Javadoc)\\n@see org.apache.hive.service...</td>\n",
       "      <td>['/', '*', '(', 'non', '-', 'Javadoc', ')']</td>\n",
       "      <td>java</td>\n",
       "      <td>train</td>\n",
       "      <td>['▁', '@', 'Override', '▁public', '▁Operation'...</td>\n",
       "      <td>31.0</td>\n",
       "      <td>43.0</td>\n",
       "      <td>[83, 186, 601, 88, 187, 34, 3916, 2854, 4673, ...</td>\n",
       "    </tr>\n",
       "    <tr>\n",
       "      <th>1</th>\n",
       "      <td>BlueBrain/bluima</td>\n",
       "      <td>modules/bluima_typesystem/src/main/java/de/jul...</td>\n",
       "      <td>https://github.com/BlueBrain/bluima/blob/793ea...</td>\n",
       "      <td>&lt;public&gt; &lt;void&gt; setTextObjects&lt;(&gt;FSArray v&lt;)&gt; ...</td>\n",
       "      <td>['public', 'void', 'setTextObjects', '(', 'FSA...</td>\n",
       "      <td>setter for textObjects - sets the text objects...</td>\n",
       "      <td>['setter', 'for', 'textObjects', '-', 'sets', ...</td>\n",
       "      <td>java</td>\n",
       "      <td>train</td>\n",
       "      <td>['▁public', '▁void', '▁setText', 'Objects', '(...</td>\n",
       "      <td>64.0</td>\n",
       "      <td>92.0</td>\n",
       "      <td>[34, 186, 47, 645, 989, 3718, 80, 727, 139, 54...</td>\n",
       "    </tr>\n",
       "  </tbody>\n",
       "</table>\n",
       "</div>"
      ],
      "text/plain": [
       "               repo                                               path  \\\n",
       "0      apache/spark  sql/hive-thriftserver/src/main/java/org/apache...   \n",
       "1  BlueBrain/bluima  modules/bluima_typesystem/src/main/java/de/jul...   \n",
       "\n",
       "                                                 url  \\\n",
       "0  https://github.com/apache/spark/blob/25ee0474f...   \n",
       "1  https://github.com/BlueBrain/bluima/blob/793ea...   \n",
       "\n",
       "                                                code  \\\n",
       "0  <@>Override<n>  <public> OperationHandle getSc...   \n",
       "1  <public> <void> setTextObjects<(>FSArray v<)> ...   \n",
       "\n",
       "                                         code_tokens  \\\n",
       "0  ['@', 'Override', 'public', 'OperationHandle',...   \n",
       "1  ['public', 'void', 'setTextObjects', '(', 'FSA...   \n",
       "\n",
       "                                           docstring  \\\n",
       "0  /* (non-Javadoc)\\n@see org.apache.hive.service...   \n",
       "1  setter for textObjects - sets the text objects...   \n",
       "\n",
       "                                    docstring_tokens language partition  \\\n",
       "0        ['/', '*', '(', 'non', '-', 'Javadoc', ')']     java     train   \n",
       "1  ['setter', 'for', 'textObjects', '-', 'sets', ...     java     train   \n",
       "\n",
       "                                              bpe32k  code_len  bpe32_len  \\\n",
       "0  ['▁', '@', 'Override', '▁public', '▁Operation'...      31.0       43.0   \n",
       "1  ['▁public', '▁void', '▁setText', 'Objects', '(...      64.0       92.0   \n",
       "\n",
       "                                             bpe_ids  \n",
       "0  [83, 186, 601, 88, 187, 34, 3916, 2854, 4673, ...  \n",
       "1  [34, 186, 47, 645, 989, 3718, 80, 727, 139, 54...  "
      ]
     },
     "execution_count": null,
     "metadata": {},
     "output_type": "execute_result"
    }
   ],
   "source": [
    "java_df.head(2)"
   ]
  },
  {
   "cell_type": "markdown",
   "metadata": {},
   "source": [
    "### Vectorize the Tokens with BPE"
   ]
  },
  {
   "cell_type": "markdown",
   "metadata": {},
   "source": [
    "Without BPE Vectorization"
   ]
  },
  {
   "cell_type": "code",
   "execution_count": null,
   "metadata": {},
   "outputs": [],
   "source": [
    "new_tokenizer = Tokenizer.from_file( str( params['tokenizer'] ) )"
   ]
  },
  {
   "cell_type": "code",
   "execution_count": null,
   "metadata": {},
   "outputs": [
    {
     "name": "stderr",
     "output_type": "stream",
     "text": [
      "2020-11-18 11:25:09,448 : INFO : 10000 unique characters\n"
     ]
    }
   ],
   "source": [
    "# The unique subwords in the dataset\n",
    "vocab = sorted(set( new_tokenizer.get_vocab().keys() ))\n",
    "logging.info('{} unique characters'.format( len( vocab ) ) )"
   ]
  },
  {
   "cell_type": "code",
   "execution_count": null,
   "metadata": {},
   "outputs": [
    {
     "name": "stderr",
     "output_type": "stream",
     "text": [
      "2020-11-23 20:58:32,841 : INFO : ['Ġ', '<&&>', 'Ġ', '<{>', 'Ġ<', 'ĠD', 'av', 'id', 'c', 'it', 'o']\n",
      "2020-11-23 20:58:32,844 : INFO : [186, 65, 186, 76, 190, 546, 1869, 287, 155, 258, 167]\n",
      "2020-11-23 20:58:32,845 : INFO : ['ĠĠ']\n",
      "2020-11-23 20:58:32,846 : INFO : [187]\n",
      "2020-11-23 20:58:32,848 : INFO : ['Ġ']\n",
      "2020-11-23 20:58:32,849 : INFO : [186]\n"
     ]
    }
   ],
   "source": [
    "logging.info( new_tokenizer.encode(' <&&> <{>< Davidcito').tokens )\n",
    "logging.info( new_tokenizer.encode(' <&&> <{>< Davidcito').ids )\n",
    "logging.info( new_tokenizer.encode('  ').tokens )\n",
    "logging.info( new_tokenizer.encode('  ').ids )\n",
    "logging.info( new_tokenizer.encode('🤗').tokens )\n",
    "logging.info( new_tokenizer.encode('🤗').ids )"
   ]
  },
  {
   "cell_type": "code",
   "execution_count": null,
   "metadata": {},
   "outputs": [
    {
     "name": "stderr",
     "output_type": "stream",
     "text": [
      "2020-11-23 11:42:13,228 : INFO : [83, 186, 601, 88, 187, 34, 3916, 2854, 4673, 1172, 349, 80, 5260, 2854, 1738, 2854, 100, 334, 242, 4739, 319, 100, 88, 300, 334, 2890, 319, 81, 186, 44, 726, 713, 5158, 186, 76, 88, 188, 35, 242, 474, 714, 102, 959, 1172, 349, 80, 1738, 2854, 100, 242, 4739, 319, 100, 2890, 319, 81, 82, 88, 187, 77]\n"
     ]
    }
   ],
   "source": [
    "logging.info( new_tokenizer.encode( java_df.code.values[0] ).ids )"
   ]
  },
  {
   "cell_type": "code",
   "execution_count": null,
   "metadata": {},
   "outputs": [],
   "source": [
    "#This is the optimal way\n",
    "output = new_tokenizer.encode_batch(\n",
    "    [[\"Hello, y'all!\", \"How are you 😁 ?\"], [\"Hello to you too!\", \"I'm fine, thank you!\"]]\n",
    ")"
   ]
  },
  {
   "cell_type": "code",
   "execution_count": null,
   "metadata": {},
   "outputs": [],
   "source": [
    "java_df['bpe_ids'] = [ new_tokenizer.encode( str(m) ).ids for m in java_df.code.values] #Run this once"
   ]
  },
  {
   "cell_type": "code",
   "execution_count": null,
   "metadata": {},
   "outputs": [
    {
     "data": {
      "text/plain": [
       "1605759118.768157"
      ]
     },
     "execution_count": null,
     "metadata": {},
     "output_type": "execute_result"
    }
   ],
   "source": [
    "timestamp = datetime.timestamp(datetime.now())\n",
    "timestamp"
   ]
  },
  {
   "cell_type": "code",
   "execution_count": null,
   "metadata": {},
   "outputs": [],
   "source": [
    "java_df.to_csv('../dvc-icodegen/searchnet/'+'[{}]-codesearchnet_java_bpe10k.csv'.format(timestamp), sep='~')"
   ]
  },
  {
   "cell_type": "markdown",
   "metadata": {},
   "source": [
    "With BPE Vectorization"
   ]
  },
  {
   "cell_type": "code",
   "execution_count": null,
   "metadata": {},
   "outputs": [],
   "source": [
    "java_df = pd.read_csv(path_data/'searchnet/[1605759118.768157]-codesearchnet_java_bpe10k.csv', sep='~', index_col=0) #with bpe vectorization"
   ]
  },
  {
   "cell_type": "code",
   "execution_count": null,
   "metadata": {},
   "outputs": [],
   "source": [
    "# Partitions\n",
    "df_train = java_df[java_df['partition'] == 'train']\n",
    "df_valid = java_df[java_df['partition'] == 'valid']\n",
    "df_test = java_df[java_df['partition'] == 'test']"
   ]
  },
  {
   "cell_type": "code",
   "execution_count": null,
   "metadata": {},
   "outputs": [
    {
     "name": "stderr",
     "output_type": "stream",
     "text": [
      "2020-11-23 12:58:29,736 : INFO : Train Partition Size (384868, 13)\n",
      "2020-11-23 12:58:29,737 : INFO : Valid Partition Size (14605, 13)\n",
      "2020-11-23 12:58:29,738 : INFO : Test Partition Size (25011, 13)\n"
     ]
    }
   ],
   "source": [
    "logging.info(\"Train Partition Size \"+ str(df_train.shape) )\n",
    "logging.info(\"Valid Partition Size \"+ str(df_valid.shape) )\n",
    "logging.info(\"Test Partition Size \"+ str(df_test.shape) )"
   ]
  },
  {
   "cell_type": "code",
   "execution_count": null,
   "metadata": {},
   "outputs": [],
   "source": [
    "tokenizer_len = [len( eval(elem) ) for elem in df_train.bpe_ids.values] #Len of a method BECAREFUL when reading with BPE"
   ]
  },
  {
   "cell_type": "code",
   "execution_count": null,
   "metadata": {},
   "outputs": [],
   "source": [
    "tokenizer_max_len = max( tokenizer_len ) #Max Len of a method\n",
    "tokenizer_min_len = min( tokenizer_len ) #Min Len of a method"
   ]
  },
  {
   "cell_type": "code",
   "execution_count": null,
   "metadata": {},
   "outputs": [
    {
     "name": "stderr",
     "output_type": "stream",
     "text": [
      "2020-11-23 14:17:20,068 : INFO : tokenizer_max_len 85184\n",
      "2020-11-23 14:17:20,069 : INFO : tokenizer_min_len 26\n"
     ]
    }
   ],
   "source": [
    "logging.info(\"tokenizer_max_len \"+ str( tokenizer_max_len ) )\n",
    "logging.info(\"tokenizer_min_len \"+ str( tokenizer_min_len ) )"
   ]
  },
  {
   "cell_type": "code",
   "execution_count": null,
   "metadata": {},
   "outputs": [
    {
     "name": "stderr",
     "output_type": "stream",
     "text": [
      "/home/danaderp/.conda/envs/icodegen/lib/python3.7/site-packages/ipykernel_launcher.py:1: SettingWithCopyWarning: \n",
      "A value is trying to be set on a copy of a slice from a DataFrame.\n",
      "Try using .loc[row_indexer,col_indexer] = value instead\n",
      "\n",
      "See the caveats in the documentation: https://pandas.pydata.org/pandas-docs/stable/user_guide/indexing.html#returning-a-view-versus-a-copy\n",
      "  \"\"\"Entry point for launching an IPython kernel.\n"
     ]
    }
   ],
   "source": [
    "df_train['tokenizer_len'] = tokenizer_len"
   ]
  },
  {
   "cell_type": "markdown",
   "metadata": {},
   "source": [
    "*The prediction task*\n",
    "\n",
    "Given a character, or a sequence of characters, what is the most probable next character? This is the task we're training the model to perform. The input to the model will be a sequence of characters, and we train the model to predict the output—the following character at each time step.\n",
    "\n",
    "Since RNNs maintain an internal state that depends on the previously seen elements, given all the characters computed until this moment, what is the next character?"
   ]
  },
  {
   "cell_type": "code",
   "execution_count": null,
   "metadata": {},
   "outputs": [
    {
     "name": "stderr",
     "output_type": "stream",
     "text": [
      "2020-11-23 20:44:22,115 : INFO : <@>Override<n>  <public> OperationHandle getSchemas<(>SessionHandle sessionHandle, String catalogName,<n>      String schemaName<)> <throws> HiveSQLException <{><n>    <return> cliService.getSchemas<(>sessionHandle, catalogName, schemaName<)><;><n>  <}>\n",
      "2020-11-23 20:44:22,116 : INFO : [83, 186, 601, 88, 187, 34, 3916, 2854, 4673, 1172, 349, 80, 5260, 2854, 1738, 2854, 100, 334, 242, 4739, 319, 100, 88, 300, 334, 2890, 319, 81, 186, 44, 726, 713, 5158, 186, 76, 88, 188, 35, 242, 474, 714, 102, 959, 1172, 349, 80, 1738, 2854, 100, 242, 4739, 319, 100, 2890, 319, 81, 82, 88, 187, 77]\n",
      "2020-11-23 20:44:22,118 : INFO : <@> Override<n>  <public> OperationHandle getSchemas<(> SessionHandle sessionHandle, String catalogName,<n>      String schemaName<)> <throws> HiveSQLException <{><n>    <return> cliService.getSchemas<(> sessionHandle, catalogName, schemaName<)><;><n>  <}>\n",
      "2020-11-23 20:44:22,119 : INFO : <abstract><assert><abstract>\n"
     ]
    }
   ],
   "source": [
    "#Testing Decoder \n",
    "logging.info( df_train.code.values[0] ) \n",
    "logging.info( df_train.bpe_ids.values[0] ) \n",
    "logging.info( new_tokenizer.decode( eval( df_train.bpe_ids.values[0]) , skip_special_tokens=False ) ) #Enable special Tokens!\n",
    "logging.info( new_tokenizer.decode( [0 ,1 ,0 ] , skip_special_tokens=False ) ) #Enable special Tokens!"
   ]
  },
  {
   "cell_type": "markdown",
   "metadata": {},
   "source": [
    "## EDA \n",
    "to determine the number of features in the tensor. Do not confuse with the number of batch. "
   ]
  },
  {
   "cell_type": "code",
   "execution_count": null,
   "metadata": {},
   "outputs": [
    {
     "data": {
      "text/html": [
       "<div>\n",
       "<style scoped>\n",
       "    .dataframe tbody tr th:only-of-type {\n",
       "        vertical-align: middle;\n",
       "    }\n",
       "\n",
       "    .dataframe tbody tr th {\n",
       "        vertical-align: top;\n",
       "    }\n",
       "\n",
       "    .dataframe thead th {\n",
       "        text-align: right;\n",
       "    }\n",
       "</style>\n",
       "<table border=\"1\" class=\"dataframe\">\n",
       "  <thead>\n",
       "    <tr style=\"text-align: right;\">\n",
       "      <th></th>\n",
       "      <th>code_len</th>\n",
       "      <th>bpe32_len</th>\n",
       "      <th>tokenizer_len</th>\n",
       "    </tr>\n",
       "  </thead>\n",
       "  <tbody>\n",
       "    <tr>\n",
       "      <th>count</th>\n",
       "      <td>384868.00</td>\n",
       "      <td>384868.00</td>\n",
       "      <td>384868.00</td>\n",
       "    </tr>\n",
       "    <tr>\n",
       "      <th>mean</th>\n",
       "      <td>113.72</td>\n",
       "      <td>147.15</td>\n",
       "      <td>234.01</td>\n",
       "    </tr>\n",
       "    <tr>\n",
       "      <th>std</th>\n",
       "      <td>194.01</td>\n",
       "      <td>313.90</td>\n",
       "      <td>493.64</td>\n",
       "    </tr>\n",
       "    <tr>\n",
       "      <th>min</th>\n",
       "      <td>20.00</td>\n",
       "      <td>20.00</td>\n",
       "      <td>26.00</td>\n",
       "    </tr>\n",
       "    <tr>\n",
       "      <th>25%</th>\n",
       "      <td>42.00</td>\n",
       "      <td>50.00</td>\n",
       "      <td>78.00</td>\n",
       "    </tr>\n",
       "    <tr>\n",
       "      <th>50%</th>\n",
       "      <td>67.00</td>\n",
       "      <td>81.00</td>\n",
       "      <td>128.00</td>\n",
       "    </tr>\n",
       "    <tr>\n",
       "      <th>75%</th>\n",
       "      <td>122.00</td>\n",
       "      <td>151.00</td>\n",
       "      <td>243.00</td>\n",
       "    </tr>\n",
       "    <tr>\n",
       "      <th>max</th>\n",
       "      <td>27192.00</td>\n",
       "      <td>52975.00</td>\n",
       "      <td>85184.00</td>\n",
       "    </tr>\n",
       "  </tbody>\n",
       "</table>\n",
       "</div>"
      ],
      "text/plain": [
       "        code_len  bpe32_len  tokenizer_len\n",
       "count  384868.00  384868.00      384868.00\n",
       "mean      113.72     147.15         234.01\n",
       "std       194.01     313.90         493.64\n",
       "min        20.00      20.00          26.00\n",
       "25%        42.00      50.00          78.00\n",
       "50%        67.00      81.00         128.00\n",
       "75%       122.00     151.00         243.00\n",
       "max     27192.00   52975.00       85184.00"
      ]
     },
     "execution_count": null,
     "metadata": {},
     "output_type": "execute_result"
    }
   ],
   "source": [
    "df_train.describe().round(2)"
   ]
  },
  {
   "cell_type": "code",
   "execution_count": null,
   "metadata": {},
   "outputs": [
    {
     "data": {
      "text/plain": [
       "code_len         144.0\n",
       "bpe32_len        180.0\n",
       "tokenizer_len    290.0\n",
       "Name: 0.8, dtype: float64"
      ]
     },
     "execution_count": null,
     "metadata": {},
     "output_type": "execute_result"
    }
   ],
   "source": [
    "df_train.quantile(q=0.8)"
   ]
  },
  {
   "cell_type": "code",
   "execution_count": null,
   "metadata": {},
   "outputs": [
    {
     "data": {
      "text/plain": [
       "array([[<matplotlib.axes._subplots.AxesSubplot object at 0x7f31b980bf90>,\n",
       "        <matplotlib.axes._subplots.AxesSubplot object at 0x7f31b9796ad0>]],\n",
       "      dtype=object)"
      ]
     },
     "execution_count": null,
     "metadata": {},
     "output_type": "execute_result"
    },
    {
     "data": {
      "image/png": "[encoded data removed]",
      "text/plain": [
       "<Figure size 720x360 with 2 Axes>"
      ]
     },
     "metadata": {
      "needs_background": "light"
     },
     "output_type": "display_data"
    }
   ],
   "source": [
    "MAX_SEQ = 300\n",
    "df_train[df_train['tokenizer_len']<=MAX_SEQ].hist(column=['tokenizer_len', 'code_len'],color='k',bins=50,figsize=[10,5],alpha=0.5)"
   ]
  },
  {
   "cell_type": "markdown",
   "metadata": {},
   "source": [
    "### Tensorflow Datasets [Default]"
   ]
  },
  {
   "cell_type": "code",
   "execution_count": null,
   "metadata": {},
   "outputs": [],
   "source": [
    "df_temp = df_train.take([0,-1,384867])"
   ]
  },
  {
   "cell_type": "code",
   "execution_count": null,
   "metadata": {},
   "outputs": [
    {
     "data": {
      "text/html": [
       "<div>\n",
       "<style scoped>\n",
       "    .dataframe tbody tr th:only-of-type {\n",
       "        vertical-align: middle;\n",
       "    }\n",
       "\n",
       "    .dataframe tbody tr th {\n",
       "        vertical-align: top;\n",
       "    }\n",
       "\n",
       "    .dataframe thead th {\n",
       "        text-align: right;\n",
       "    }\n",
       "</style>\n",
       "<table border=\"1\" class=\"dataframe\">\n",
       "  <thead>\n",
       "    <tr style=\"text-align: right;\">\n",
       "      <th></th>\n",
       "      <th>repo</th>\n",
       "      <th>path</th>\n",
       "      <th>url</th>\n",
       "      <th>code</th>\n",
       "      <th>code_tokens</th>\n",
       "      <th>docstring</th>\n",
       "      <th>docstring_tokens</th>\n",
       "      <th>language</th>\n",
       "      <th>partition</th>\n",
       "      <th>bpe32k</th>\n",
       "      <th>code_len</th>\n",
       "      <th>bpe32_len</th>\n",
       "      <th>bpe_ids</th>\n",
       "    </tr>\n",
       "  </thead>\n",
       "  <tbody>\n",
       "    <tr>\n",
       "      <th>0</th>\n",
       "      <td>apache/spark</td>\n",
       "      <td>sql/hive-thriftserver/src/main/java/org/apache...</td>\n",
       "      <td>https://github.com/apache/spark/blob/25ee0474f...</td>\n",
       "      <td>&lt;@&gt;Override&lt;n&gt;  &lt;public&gt; OperationHandle getSc...</td>\n",
       "      <td>['@', 'Override', 'public', 'OperationHandle',...</td>\n",
       "      <td>/* (non-Javadoc)\\n@see org.apache.hive.service...</td>\n",
       "      <td>['/', '*', '(', 'non', '-', 'Javadoc', ')']</td>\n",
       "      <td>java</td>\n",
       "      <td>train</td>\n",
       "      <td>['▁', '@', 'Override', '▁public', '▁Operation'...</td>\n",
       "      <td>31.0</td>\n",
       "      <td>43.0</td>\n",
       "      <td>[83, 186, 601, 88, 187, 34, 3916, 2854, 4673, ...</td>\n",
       "    </tr>\n",
       "    <tr>\n",
       "      <th>634927</th>\n",
       "      <td>elki-project/elki</td>\n",
       "      <td>elki-outlier/src/main/java/de/lmu/ifi/dbs/elki...</td>\n",
       "      <td>https://github.com/elki-project/elki/blob/b546...</td>\n",
       "      <td>&lt;protected&gt; &lt;static&gt; &lt;double&gt; sparsity&lt;(&gt;&lt;fina...</td>\n",
       "      <td>['protected', 'static', 'double', 'sparsity', ...</td>\n",
       "      <td>Method to calculate the sparsity coefficient o...</td>\n",
       "      <td>['Method', 'to', 'calculate', 'the', 'sparsity...</td>\n",
       "      <td>java</td>\n",
       "      <td>train</td>\n",
       "      <td>['▁protected', '▁static', '▁double', '▁sparsit...</td>\n",
       "      <td>65.0</td>\n",
       "      <td>76.0</td>\n",
       "      <td>[33, 186, 37, 186, 13, 273, 773, 171, 489, 80,...</td>\n",
       "    </tr>\n",
       "    <tr>\n",
       "      <th>634927</th>\n",
       "      <td>elki-project/elki</td>\n",
       "      <td>elki-outlier/src/main/java/de/lmu/ifi/dbs/elki...</td>\n",
       "      <td>https://github.com/elki-project/elki/blob/b546...</td>\n",
       "      <td>&lt;protected&gt; &lt;static&gt; &lt;double&gt; sparsity&lt;(&gt;&lt;fina...</td>\n",
       "      <td>['protected', 'static', 'double', 'sparsity', ...</td>\n",
       "      <td>Method to calculate the sparsity coefficient o...</td>\n",
       "      <td>['Method', 'to', 'calculate', 'the', 'sparsity...</td>\n",
       "      <td>java</td>\n",
       "      <td>train</td>\n",
       "      <td>['▁protected', '▁static', '▁double', '▁sparsit...</td>\n",
       "      <td>65.0</td>\n",
       "      <td>76.0</td>\n",
       "      <td>[33, 186, 37, 186, 13, 273, 773, 171, 489, 80,...</td>\n",
       "    </tr>\n",
       "  </tbody>\n",
       "</table>\n",
       "</div>"
      ],
      "text/plain": [
       "                     repo                                               path  \\\n",
       "0            apache/spark  sql/hive-thriftserver/src/main/java/org/apache...   \n",
       "634927  elki-project/elki  elki-outlier/src/main/java/de/lmu/ifi/dbs/elki...   \n",
       "634927  elki-project/elki  elki-outlier/src/main/java/de/lmu/ifi/dbs/elki...   \n",
       "\n",
       "                                                      url  \\\n",
       "0       https://github.com/apache/spark/blob/25ee0474f...   \n",
       "634927  https://github.com/elki-project/elki/blob/b546...   \n",
       "634927  https://github.com/elki-project/elki/blob/b546...   \n",
       "\n",
       "                                                     code  \\\n",
       "0       <@>Override<n>  <public> OperationHandle getSc...   \n",
       "634927  <protected> <static> <double> sparsity<(><fina...   \n",
       "634927  <protected> <static> <double> sparsity<(><fina...   \n",
       "\n",
       "                                              code_tokens  \\\n",
       "0       ['@', 'Override', 'public', 'OperationHandle',...   \n",
       "634927  ['protected', 'static', 'double', 'sparsity', ...   \n",
       "634927  ['protected', 'static', 'double', 'sparsity', ...   \n",
       "\n",
       "                                                docstring  \\\n",
       "0       /* (non-Javadoc)\\n@see org.apache.hive.service...   \n",
       "634927  Method to calculate the sparsity coefficient o...   \n",
       "634927  Method to calculate the sparsity coefficient o...   \n",
       "\n",
       "                                         docstring_tokens language partition  \\\n",
       "0             ['/', '*', '(', 'non', '-', 'Javadoc', ')']     java     train   \n",
       "634927  ['Method', 'to', 'calculate', 'the', 'sparsity...     java     train   \n",
       "634927  ['Method', 'to', 'calculate', 'the', 'sparsity...     java     train   \n",
       "\n",
       "                                                   bpe32k  code_len  \\\n",
       "0       ['▁', '@', 'Override', '▁public', '▁Operation'...      31.0   \n",
       "634927  ['▁protected', '▁static', '▁double', '▁sparsit...      65.0   \n",
       "634927  ['▁protected', '▁static', '▁double', '▁sparsit...      65.0   \n",
       "\n",
       "        bpe32_len                                            bpe_ids  \n",
       "0            43.0  [83, 186, 601, 88, 187, 34, 3916, 2854, 4673, ...  \n",
       "634927       76.0  [33, 186, 37, 186, 13, 273, 773, 171, 489, 80,...  \n",
       "634927       76.0  [33, 186, 37, 186, 13, 273, 773, 171, 489, 80,...  "
      ]
     },
     "execution_count": null,
     "metadata": {},
     "output_type": "execute_result"
    }
   ],
   "source": [
    "df_temp"
   ]
  },
  {
   "cell_type": "markdown",
   "metadata": {},
   "source": [
    "*Masking* is a way to tell sequence-processing layers that certain timesteps in an input are missing, and thus should be skipped when processing the data.\n",
    "\n",
    "*Padding* is a special form of masking where the masked steps are at the start or at the beginning of a sequence. Padding comes from the need to encode sequence data into contiguous batches: in order to make all sequences in a batch fit a given standard length, it is necessary to pad or truncate some sequences."
   ]
  },
  {
   "cell_type": "code",
   "execution_count": null,
   "metadata": {},
   "outputs": [],
   "source": [
    "#Resizing Methods\n",
    "# It is recommended to use \"post\" padding when working with RNN layers\n",
    "# (in order to be able to use the\n",
    "# CuDNN implementation of the layers).\n",
    "#For a padding reference check https://stackoverflow.com/questions/35751306/python-how-to-pad-numpy-array-with-zeros\n",
    "def method_resize(np_non_rec, len_seq):\n",
    "    \"\"\"This function recieves a vector of encoded methods and resized according to a length sequence\n",
    "    the length sequence es the number of columns or features\n",
    "    The function takes a non-rectangular tensor and transforms it into a rectangular one\n",
    "    \"\"\"\n",
    "    rows = int(np.ceil( np_non_rec.shape[0]  / len_seq )) #Minimum # of rows to complete/shape the sequence\n",
    "    pad_diff = (rows * len_seq) - np_non_rec.shape[0] #1D required sequence minus the shape of the original tensor\n",
    "    np_rec = np.pad(np_non_rec, [(0, pad_diff ),] , mode='constant', constant_values=0 ) #np padding\n",
    "    np_rec = np.reshape( np_rec, (rows , len_seq) ) #Reshaping The Tensor\n",
    "    return np_rec"
   ]
  },
  {
   "cell_type": "code",
   "execution_count": null,
   "metadata": {},
   "outputs": [],
   "source": [
    "#The Following Function summarizes all the method transformation into sequences\n",
    "def method2seq(raw_inputs, seq_length ):\n",
    "    '''This Function generated the conceptual decomposition of a method into \n",
    "    a sequence or sequences given a max-len.\n",
    "    # The method2seq method lets us easily convert these individual methods to sequences of the desired size.'''\n",
    "    np_raw_inputs = [np.array( eval(m) ) for m in raw_inputs] #Extracting/Evaluating the tensors stored in pandas\n",
    "    np_resized_inputs = [ method_resize( m, seq_length ) for m in np_raw_inputs ] #Resizing methods \n",
    "    np_resized_inputs = functools.reduce(lambda a,b :np.concatenate((a,b), axis=0), np_resized_inputs ) #Merging Decomposed Sequences\n",
    "    return tf.data.Dataset.from_tensor_slices( np_resized_inputs )"
   ]
  },
  {
   "cell_type": "markdown",
   "metadata": {},
   "source": [
    "#### Testing Tensorflow Datasets"
   ]
  },
  {
   "cell_type": "code",
   "execution_count": null,
   "metadata": {},
   "outputs": [
    {
     "data": {
      "text/plain": [
       "[array([  83,  186,  601,   88,  187,   34, 3916, 2854, 4673, 1172,  349,\n",
       "          80, 5260, 2854, 1738, 2854,  100,  334,  242, 4739,  319,  100,\n",
       "          88,  300,  334, 2890,  319,   81,  186,   44,  726,  713, 5158,\n",
       "         186,   76,   88,  188,   35,  242,  474,  714,  102,  959, 1172,\n",
       "         349,   80, 1738, 2854,  100,  242, 4739,  319,  100, 2890,  319,\n",
       "          81,   82,   88,  187,   77,    0,    0,    0,    0,    0,    0,\n",
       "           0,    0,    0,    0,    0,    0,    0,    0,    0,    0,    0,\n",
       "           0,    0,    0,    0,    0,    0,    0,    0,    0,    0,    0,\n",
       "           0,    0,    0,    0,    0,    0,    0,    0,    0,    0,    0,\n",
       "           0,    0,    0,    0,    0,    0,    0,    0,    0,    0,    0,\n",
       "           0,    0,    0,    0,    0,    0,    0,    0,    0,    0,    0,\n",
       "           0,    0,    0,    0,    0,    0,    0,    0,    0,    0,    0,\n",
       "           0,    0,    0,    0,    0,    0,    0,    0,    0,    0,    0,\n",
       "           0,    0,    0,    0,    0,    0,    0,    0,    0,    0,    0,\n",
       "           0,    0,    0,    0,    0,    0,    0,    0,    0,    0,    0,\n",
       "           0,    0,    0,    0,    0,    0,    0,    0,    0,    0,    0,\n",
       "           0,    0,    0,    0,    0,    0,    0,    0,    0,    0,    0,\n",
       "           0,    0,    0,    0,    0,    0,    0,    0,    0,    0,    0,\n",
       "           0,    0,    0,    0,    0,    0,    0,    0,    0,    0,    0,\n",
       "           0,    0,    0,    0,    0,    0,    0,    0,    0,    0,    0,\n",
       "           0,    0,    0,    0,    0,    0,    0,    0,    0,    0,    0,\n",
       "           0,    0,    0,    0,    0,    0,    0,    0,    0,    0,    0,\n",
       "           0,    0,    0,    0,    0,    0,    0,    0,    0,    0,    0,\n",
       "           0,    0,    0,    0,    0,    0,    0,    0,    0,    0,    0,\n",
       "           0,    0,    0,    0,    0,    0,    0,    0,    0,    0,    0,\n",
       "           0,    0,    0,    0,    0,    0,    0,    0,    0,    0,    0,\n",
       "           0,    0,    0,    0,    0,    0,    0,    0,    0,    0,    0,\n",
       "           0,    0,    0]),\n",
       " array([  33,  186,   37,  186,   13,  273,  773,  171,  489,   80,   17,\n",
       "         186,   26,  645,  786,  100,  186,   17,  186,   26, 2608,  786,\n",
       "         100,  186,   17,  186,   26, 1224,  100,  186,   17,  186,   13,\n",
       "        4147,  161,   81,  186,   76,   88,  188,   54,   54, 4802,  273,\n",
       "         773,  171,  489,  242,   88,  188,   17,  186,   13,  411,  131,\n",
       "         186,   50, 1740,  651,  102, 8622,  161,   80,  500,  102,  186,\n",
       "          54, 4147,  161,  100, 1224,   81,   82,   88,  188,   35,  186,\n",
       "          80,  645,  786,  186,   52,  186,   80, 2608,  786,  186,   53,\n",
       "         411,  131,   81,   81,  186,   54, 7133, 2863,  102, 6695,   80,\n",
       "        2608,  786,  186,   53,  411,  131,  186,   53,  186,   80,  500,\n",
       "         186,   52,  411,  131,   81,   81,   82,   88,  187,   77,    0,\n",
       "           0,    0,    0,    0,    0,    0,    0,    0,    0,    0,    0,\n",
       "           0,    0,    0,    0,    0,    0,    0,    0,    0,    0,    0,\n",
       "           0,    0,    0,    0,    0,    0,    0,    0,    0,    0,    0,\n",
       "           0,    0,    0,    0,    0,    0,    0,    0,    0,    0,    0,\n",
       "           0,    0,    0,    0,    0,    0,    0,    0,    0,    0,    0,\n",
       "           0,    0,    0,    0,    0,    0,    0,    0,    0,    0,    0,\n",
       "           0,    0,    0,    0,    0,    0,    0,    0,    0,    0,    0,\n",
       "           0,    0,    0,    0,    0,    0,    0,    0,    0,    0,    0,\n",
       "           0,    0,    0,    0,    0,    0,    0,    0,    0,    0,    0,\n",
       "           0,    0,    0,    0,    0,    0,    0,    0,    0,    0,    0,\n",
       "           0,    0,    0,    0,    0,    0,    0,    0,    0,    0,    0,\n",
       "           0,    0,    0,    0,    0,    0,    0,    0,    0,    0,    0,\n",
       "           0,    0,    0,    0,    0,    0,    0,    0,    0,    0,    0,\n",
       "           0,    0,    0,    0,    0,    0,    0,    0,    0,    0,    0,\n",
       "           0,    0,    0,    0,    0,    0,    0,    0,    0,    0,    0,\n",
       "           0,    0,    0,    0,    0,    0,    0,    0,    0,    0,    0,\n",
       "           0,    0,    0]),\n",
       " array([  33,  186,   37,  186,   13,  273,  773,  171,  489,   80,   17,\n",
       "         186,   26,  645,  786,  100,  186,   17,  186,   26, 2608,  786,\n",
       "         100,  186,   17,  186,   26, 1224,  100,  186,   17,  186,   13,\n",
       "        4147,  161,   81,  186,   76,   88,  188,   54,   54, 4802,  273,\n",
       "         773,  171,  489,  242,   88,  188,   17,  186,   13,  411,  131,\n",
       "         186,   50, 1740,  651,  102, 8622,  161,   80,  500,  102,  186,\n",
       "          54, 4147,  161,  100, 1224,   81,   82,   88,  188,   35,  186,\n",
       "          80,  645,  786,  186,   52,  186,   80, 2608,  786,  186,   53,\n",
       "         411,  131,   81,   81,  186,   54, 7133, 2863,  102, 6695,   80,\n",
       "        2608,  786,  186,   53,  411,  131,  186,   53,  186,   80,  500,\n",
       "         186,   52,  411,  131,   81,   81,   82,   88,  187,   77,    0,\n",
       "           0,    0,    0,    0,    0,    0,    0,    0,    0,    0,    0,\n",
       "           0,    0,    0,    0,    0,    0,    0,    0,    0,    0,    0,\n",
       "           0,    0,    0,    0,    0,    0,    0,    0,    0,    0,    0,\n",
       "           0,    0,    0,    0,    0,    0,    0,    0,    0,    0,    0,\n",
       "           0,    0,    0,    0,    0,    0,    0,    0,    0,    0,    0,\n",
       "           0,    0,    0,    0,    0,    0,    0,    0,    0,    0,    0,\n",
       "           0,    0,    0,    0,    0,    0,    0,    0,    0,    0,    0,\n",
       "           0,    0,    0,    0,    0,    0,    0,    0,    0,    0,    0,\n",
       "           0,    0,    0,    0,    0,    0,    0,    0,    0,    0,    0,\n",
       "           0,    0,    0,    0,    0,    0,    0,    0,    0,    0,    0,\n",
       "           0,    0,    0,    0,    0,    0,    0,    0,    0,    0,    0,\n",
       "           0,    0,    0,    0,    0,    0,    0,    0,    0,    0,    0,\n",
       "           0,    0,    0,    0,    0,    0,    0,    0,    0,    0,    0,\n",
       "           0,    0,    0,    0,    0,    0,    0,    0,    0,    0,    0,\n",
       "           0,    0,    0,    0,    0,    0,    0,    0,    0,    0,    0,\n",
       "           0,    0,    0,    0,    0,    0,    0,    0,    0,    0,    0,\n",
       "           0,    0,    0])]"
      ]
     },
     "execution_count": null,
     "metadata": {},
     "output_type": "execute_result"
    }
   ],
   "source": [
    "tf_sequences_train = method2seq( df_temp.bpe_ids.values, MAX_SEQ )\n",
    "list(tf_sequences_train.as_numpy_iterator()) #TST"
   ]
  },
  {
   "cell_type": "code",
   "execution_count": null,
   "metadata": {},
   "outputs": [
    {
     "name": "stdout",
     "output_type": "stream",
     "text": [
      "<@> Override<n>  <public> OperationHandle getSchemas<(> SessionHandle sessionHandle, String catalogName,<n>      String schemaName<)> <throws> HiveSQLException <{><n>    <return> cliService.getSchemas<(> sessionHandle, catalogName, schemaName<)><;><n>  <}><abstract><abstract><abstract><abstract><abstract><abstract><abstract><abstract><abstract><abstract><abstract><abstract><abstract><abstract><abstract><abstract><abstract><abstract><abstract><abstract><abstract><abstract><abstract><abstract><abstract><abstract><abstract><abstract><abstract><abstract><abstract><abstract><abstract><abstract><abstract><abstract><abstract><abstract><abstract><abstract><abstract><abstract><abstract><abstract><abstract><abstract><abstract><abstract><abstract><abstract><abstract><abstract><abstract><abstract><abstract><abstract><abstract><abstract><abstract><abstract><abstract><abstract><abstract><abstract><abstract><abstract><abstract><abstract><abstract><abstract><abstract><abstract><abstract><abstract><abstract><abstract><abstract><abstract><abstract><abstract><abstract><abstract><abstract><abstract><abstract><abstract><abstract><abstract><abstract><abstract><abstract><abstract><abstract><abstract><abstract><abstract><abstract><abstract><abstract><abstract><abstract><abstract><abstract><abstract><abstract><abstract><abstract><abstract><abstract><abstract><abstract><abstract><abstract><abstract><abstract><abstract><abstract><abstract><abstract><abstract><abstract><abstract><abstract><abstract><abstract><abstract><abstract><abstract><abstract><abstract><abstract><abstract><abstract><abstract><abstract><abstract><abstract><abstract><abstract><abstract><abstract><abstract><abstract><abstract><abstract><abstract><abstract><abstract><abstract><abstract><abstract><abstract><abstract><abstract><abstract><abstract><abstract><abstract><abstract><abstract><abstract><abstract><abstract><abstract><abstract><abstract><abstract><abstract><abstract><abstract><abstract><abstract><abstract><abstract><abstract><abstract><abstract><abstract><abstract><abstract><abstract><abstract><abstract><abstract><abstract><abstract><abstract><abstract><abstract><abstract><abstract><abstract><abstract><abstract><abstract><abstract><abstract><abstract><abstract><abstract><abstract><abstract><abstract><abstract><abstract><abstract><abstract><abstract><abstract><abstract><abstract><abstract><abstract><abstract><abstract><abstract><abstract><abstract><abstract><abstract><abstract><abstract><abstract><abstract><abstract><abstract><abstract><abstract><abstract><abstract><abstract><abstract><abstract><abstract><abstract><abstract><abstract><abstract><abstract><abstract>\n",
      "<protected> <static> <double> sparsity<(><final> <int> setsize, <final> <int> dbsize, <final> <int> k, <final> <double> phi<)> <{><n>    </></> calculate sparsity c<n>    <final> <double> fK <=> MathUtil.powi<(> 1. </> phi, k<)><;><n>    <return> <(> setsize <-> <(> dbsize <*> fK<)><)> </> FastMath.sqrt<(> dbsize <*> fK <*> <(> 1 <-> fK<)><)><;><n>  <}><abstract><abstract><abstract><abstract><abstract><abstract><abstract><abstract><abstract><abstract><abstract><abstract><abstract><abstract><abstract><abstract><abstract><abstract><abstract><abstract><abstract><abstract><abstract><abstract><abstract><abstract><abstract><abstract><abstract><abstract><abstract><abstract><abstract><abstract><abstract><abstract><abstract><abstract><abstract><abstract><abstract><abstract><abstract><abstract><abstract><abstract><abstract><abstract><abstract><abstract><abstract><abstract><abstract><abstract><abstract><abstract><abstract><abstract><abstract><abstract><abstract><abstract><abstract><abstract><abstract><abstract><abstract><abstract><abstract><abstract><abstract><abstract><abstract><abstract><abstract><abstract><abstract><abstract><abstract><abstract><abstract><abstract><abstract><abstract><abstract><abstract><abstract><abstract><abstract><abstract><abstract><abstract><abstract><abstract><abstract><abstract><abstract><abstract><abstract><abstract><abstract><abstract><abstract><abstract><abstract><abstract><abstract><abstract><abstract><abstract><abstract><abstract><abstract><abstract><abstract><abstract><abstract><abstract><abstract><abstract><abstract><abstract><abstract><abstract><abstract><abstract><abstract><abstract><abstract><abstract><abstract><abstract><abstract><abstract><abstract><abstract><abstract><abstract><abstract><abstract><abstract><abstract><abstract><abstract><abstract><abstract><abstract><abstract><abstract><abstract><abstract><abstract><abstract><abstract><abstract><abstract><abstract><abstract><abstract><abstract><abstract><abstract><abstract><abstract><abstract><abstract><abstract><abstract><abstract><abstract><abstract><abstract><abstract><abstract><abstract><abstract><abstract><abstract><abstract><abstract>\n",
      "<protected> <static> <double> sparsity<(><final> <int> setsize, <final> <int> dbsize, <final> <int> k, <final> <double> phi<)> <{><n>    </></> calculate sparsity c<n>    <final> <double> fK <=> MathUtil.powi<(> 1. </> phi, k<)><;><n>    <return> <(> setsize <-> <(> dbsize <*> fK<)><)> </> FastMath.sqrt<(> dbsize <*> fK <*> <(> 1 <-> fK<)><)><;><n>  <}><abstract><abstract><abstract><abstract><abstract><abstract><abstract><abstract><abstract><abstract><abstract><abstract><abstract><abstract><abstract><abstract><abstract><abstract><abstract><abstract><abstract><abstract><abstract><abstract><abstract><abstract><abstract><abstract><abstract><abstract><abstract><abstract><abstract><abstract><abstract><abstract><abstract><abstract><abstract><abstract><abstract><abstract><abstract><abstract><abstract><abstract><abstract><abstract><abstract><abstract><abstract><abstract><abstract><abstract><abstract><abstract><abstract><abstract><abstract><abstract><abstract><abstract><abstract><abstract><abstract><abstract><abstract><abstract><abstract><abstract><abstract><abstract><abstract><abstract><abstract><abstract><abstract><abstract><abstract><abstract><abstract><abstract><abstract><abstract><abstract><abstract><abstract><abstract><abstract><abstract><abstract><abstract><abstract><abstract><abstract><abstract><abstract><abstract><abstract><abstract><abstract><abstract><abstract><abstract><abstract><abstract><abstract><abstract><abstract><abstract><abstract><abstract><abstract><abstract><abstract><abstract><abstract><abstract><abstract><abstract><abstract><abstract><abstract><abstract><abstract><abstract><abstract><abstract><abstract><abstract><abstract><abstract><abstract><abstract><abstract><abstract><abstract><abstract><abstract><abstract><abstract><abstract><abstract><abstract><abstract><abstract><abstract><abstract><abstract><abstract><abstract><abstract><abstract><abstract><abstract><abstract><abstract><abstract><abstract><abstract><abstract><abstract><abstract><abstract><abstract><abstract><abstract><abstract><abstract><abstract><abstract><abstract><abstract><abstract><abstract><abstract><abstract><abstract><abstract><abstract>\n"
     ]
    }
   ],
   "source": [
    "for i in tf_sequences_train.take(3):\n",
    "    print( new_tokenizer.decode( i.numpy() , skip_special_tokens=False ) )"
   ]
  },
  {
   "cell_type": "markdown",
   "metadata": {},
   "source": [
    "### HuggingFace Datasets [Not recommended]"
   ]
  },
  {
   "cell_type": "code",
   "execution_count": null,
   "metadata": {},
   "outputs": [],
   "source": [
    "# Loading from In-Memory Data\n",
    "hf_train_java = Dataset.from_pandas(df_temp)"
   ]
  },
  {
   "cell_type": "code",
   "execution_count": null,
   "metadata": {},
   "outputs": [
    {
     "data": {
      "text/plain": [
       "Dataset(features: {'repo': Value(dtype='string', id=None), 'path': Value(dtype='string', id=None), 'url': Value(dtype='string', id=None), 'code': Value(dtype='string', id=None), 'code_tokens': Value(dtype='string', id=None), 'docstring': Value(dtype='string', id=None), 'docstring_tokens': Value(dtype='string', id=None), 'language': Value(dtype='string', id=None), 'partition': Value(dtype='string', id=None), 'bpe32k': Value(dtype='string', id=None), 'code_len': Value(dtype='float64', id=None), 'bpe32_len': Value(dtype='float64', id=None), 'bpe_ids': Value(dtype='string', id=None), '__index_level_0__': Value(dtype='int64', id=None)}, num_rows: 3)"
      ]
     },
     "execution_count": null,
     "metadata": {},
     "output_type": "execute_result"
    }
   ],
   "source": [
    "hf_train_java"
   ]
  },
  {
   "cell_type": "code",
   "execution_count": null,
   "metadata": {},
   "outputs": [
    {
     "data": {
      "text/plain": [
       "'[83, 186, 601, 88, 187, 34, 3916, 2854, 4673, 1172, 349, 80, 5260, 2854, 1738, 2854, 100, 334, 242, 4739, 319, 100, 88, 300, 334, 2890, 319, 81, 186, 44, 726, 713, 5158, 186, 76, 88, 188, 35, 242, 474, 714, 102, 959, 1172, 349, 80, 1738, 2854, 100, 242, 4739, 319, 100, 2890, 319, 81, 82, 88, 187, 77]'"
      ]
     },
     "execution_count": null,
     "metadata": {},
     "output_type": "execute_result"
    }
   ],
   "source": [
    "hf_train_java['bpe_ids'][0]"
   ]
  },
  {
   "cell_type": "code",
   "execution_count": null,
   "metadata": {},
   "outputs": [],
   "source": [
    "hf_train_java.set_format(type='tensorflow', columns=['bpe_ids'])"
   ]
  },
  {
   "cell_type": "code",
   "execution_count": null,
   "metadata": {},
   "outputs": [
    {
     "ename": "AttributeError",
     "evalue": "'list' object has no attribute 'to_tensor'",
     "output_type": "error",
     "traceback": [
      "\u001b[0;31m---------------------------------------------------------------------------\u001b[0m",
      "\u001b[0;31mAttributeError\u001b[0m                            Traceback (most recent call last)",
      "\u001b[0;32m<ipython-input-65-3cccdb16a190>\u001b[0m in \u001b[0;36m<module>\u001b[0;34m\u001b[0m\n\u001b[1;32m      1\u001b[0m \u001b[0;31m#A Dictionary of Features\u001b[0m\u001b[0;34m\u001b[0m\u001b[0;34m\u001b[0m\u001b[0;34m\u001b[0m\u001b[0m\n\u001b[0;32m----> 2\u001b[0;31m \u001b[0mtrain_features\u001b[0m \u001b[0;34m=\u001b[0m \u001b[0;34m{\u001b[0m\u001b[0mx\u001b[0m\u001b[0;34m:\u001b[0m \u001b[0mhf_train_java\u001b[0m\u001b[0;34m[\u001b[0m\u001b[0mx\u001b[0m\u001b[0;34m]\u001b[0m\u001b[0;34m.\u001b[0m\u001b[0mto_tensor\u001b[0m\u001b[0;34m(\u001b[0m\u001b[0mdefault_value\u001b[0m\u001b[0;34m=\u001b[0m\u001b[0;36m0\u001b[0m\u001b[0;34m,\u001b[0m \u001b[0mshape\u001b[0m\u001b[0;34m=\u001b[0m\u001b[0;34m[\u001b[0m \u001b[0;32mNone\u001b[0m\u001b[0;34m,\u001b[0m \u001b[0mtokenizer_max_len\u001b[0m \u001b[0;34m]\u001b[0m\u001b[0;34m)\u001b[0m \u001b[0;32mfor\u001b[0m \u001b[0mx\u001b[0m \u001b[0;32min\u001b[0m \u001b[0;34m[\u001b[0m\u001b[0;34m'bpe_ids'\u001b[0m\u001b[0;34m]\u001b[0m\u001b[0;34m}\u001b[0m\u001b[0;34m\u001b[0m\u001b[0;34m\u001b[0m\u001b[0m\n\u001b[0m",
      "\u001b[0;32m<ipython-input-65-3cccdb16a190>\u001b[0m in \u001b[0;36m<dictcomp>\u001b[0;34m(.0)\u001b[0m\n\u001b[1;32m      1\u001b[0m \u001b[0;31m#A Dictionary of Features\u001b[0m\u001b[0;34m\u001b[0m\u001b[0;34m\u001b[0m\u001b[0;34m\u001b[0m\u001b[0m\n\u001b[0;32m----> 2\u001b[0;31m \u001b[0mtrain_features\u001b[0m \u001b[0;34m=\u001b[0m \u001b[0;34m{\u001b[0m\u001b[0mx\u001b[0m\u001b[0;34m:\u001b[0m \u001b[0mhf_train_java\u001b[0m\u001b[0;34m[\u001b[0m\u001b[0mx\u001b[0m\u001b[0;34m]\u001b[0m\u001b[0;34m.\u001b[0m\u001b[0mto_tensor\u001b[0m\u001b[0;34m(\u001b[0m\u001b[0mdefault_value\u001b[0m\u001b[0;34m=\u001b[0m\u001b[0;36m0\u001b[0m\u001b[0;34m,\u001b[0m \u001b[0mshape\u001b[0m\u001b[0;34m=\u001b[0m\u001b[0;34m[\u001b[0m \u001b[0;32mNone\u001b[0m\u001b[0;34m,\u001b[0m \u001b[0mtokenizer_max_len\u001b[0m \u001b[0;34m]\u001b[0m\u001b[0;34m)\u001b[0m \u001b[0;32mfor\u001b[0m \u001b[0mx\u001b[0m \u001b[0;32min\u001b[0m \u001b[0;34m[\u001b[0m\u001b[0;34m'bpe_ids'\u001b[0m\u001b[0;34m]\u001b[0m\u001b[0;34m}\u001b[0m\u001b[0;34m\u001b[0m\u001b[0;34m\u001b[0m\u001b[0m\n\u001b[0m",
      "\u001b[0;31mAttributeError\u001b[0m: 'list' object has no attribute 'to_tensor'"
     ]
    }
   ],
   "source": [
    "#A Dictionary of Features\n",
    "train_features = {x: hf_train_java[x].to_tensor(default_value=0, shape=[ None, tokenizer_max_len ]) for x in ['bpe_ids']}"
   ]
  },
  {
   "cell_type": "code",
   "execution_count": null,
   "metadata": {},
   "outputs": [
    {
     "data": {
      "text/plain": [
       "tensorflow.python.framework.ops.EagerTensor"
      ]
     },
     "execution_count": null,
     "metadata": {},
     "output_type": "execute_result"
    }
   ],
   "source": [
    "type(train_features['bpe_ids'])"
   ]
  },
  {
   "cell_type": "code",
   "execution_count": null,
   "metadata": {},
   "outputs": [],
   "source": [
    "# Create training examples / targets\n",
    "tfdataset = tf.data.Dataset.from_tensor_slices((features, hf_train_java[\"bpe_ids\"]))"
   ]
  },
  {
   "cell_type": "markdown",
   "metadata": {},
   "source": [
    "## Create training examples and targets"
   ]
  },
  {
   "cell_type": "code",
   "execution_count": null,
   "metadata": {},
   "outputs": [],
   "source": [
    "# The maximum length sentence we want for a single input in characters\n",
    "seq_length = MAX_SEQ \n",
    "#seq_length = params['hyper']['seq_length'] \n",
    "#examples_per_epoch = len(text)//(seq_length+1) "
   ]
  },
  {
   "cell_type": "markdown",
   "metadata": {},
   "source": [
    "For each sequence, duplicate and shift it to form the input and target text by using the map method to apply a simple function to each batch:"
   ]
  },
  {
   "cell_type": "code",
   "execution_count": null,
   "metadata": {},
   "outputs": [],
   "source": [
    "def split_input_target(chunk):\n",
    "    input_text = chunk[:-1]\n",
    "    target_text = chunk[1:]\n",
    "    return input_text, target_text"
   ]
  },
  {
   "cell_type": "code",
   "execution_count": null,
   "metadata": {},
   "outputs": [],
   "source": [
    "#dataset = sequences.map(split_input_target)\n",
    "dataset = tf_sequences_train.map( split_input_target ) #TST <----- Deactivate when using the big dataset"
   ]
  },
  {
   "cell_type": "code",
   "execution_count": null,
   "metadata": {},
   "outputs": [
    {
     "name": "stdout",
     "output_type": "stream",
     "text": [
      "Input data:  <@> Override<n>  <public> OperationHandle getSchemas<(> SessionHandle sessionHandle, String catalogName,<n>      String schemaName<)> <throws> HiveSQLException <{><n>    <return> cliService.getSchemas<(> sessionHandle, catalogName, schemaName<)><;><n>  <}><abstract><abstract><abstract><abstract><abstract><abstract><abstract><abstract><abstract><abstract><abstract><abstract><abstract><abstract><abstract><abstract><abstract><abstract><abstract><abstract><abstract><abstract><abstract><abstract><abstract><abstract><abstract><abstract><abstract><abstract><abstract><abstract><abstract><abstract><abstract><abstract><abstract><abstract><abstract><abstract><abstract><abstract><abstract><abstract><abstract><abstract><abstract><abstract><abstract><abstract><abstract><abstract><abstract><abstract><abstract><abstract><abstract><abstract><abstract><abstract><abstract><abstract><abstract><abstract><abstract><abstract><abstract><abstract><abstract><abstract><abstract><abstract><abstract><abstract><abstract><abstract><abstract><abstract><abstract><abstract><abstract><abstract><abstract><abstract><abstract><abstract><abstract><abstract><abstract><abstract><abstract><abstract><abstract><abstract><abstract><abstract><abstract><abstract><abstract><abstract><abstract><abstract><abstract><abstract><abstract><abstract><abstract><abstract><abstract><abstract><abstract><abstract><abstract><abstract><abstract><abstract><abstract><abstract><abstract><abstract><abstract><abstract><abstract><abstract><abstract><abstract><abstract><abstract><abstract><abstract><abstract><abstract><abstract><abstract><abstract><abstract><abstract><abstract><abstract><abstract><abstract><abstract><abstract><abstract><abstract><abstract><abstract><abstract><abstract><abstract><abstract><abstract><abstract><abstract><abstract><abstract><abstract><abstract><abstract><abstract><abstract><abstract><abstract><abstract><abstract><abstract><abstract><abstract><abstract><abstract><abstract><abstract><abstract><abstract><abstract><abstract><abstract><abstract><abstract><abstract><abstract><abstract><abstract><abstract><abstract><abstract><abstract><abstract><abstract><abstract><abstract><abstract><abstract><abstract><abstract><abstract><abstract><abstract><abstract><abstract><abstract><abstract><abstract><abstract><abstract><abstract><abstract><abstract><abstract><abstract><abstract><abstract><abstract><abstract><abstract><abstract><abstract><abstract><abstract><abstract><abstract><abstract><abstract><abstract><abstract><abstract><abstract><abstract><abstract><abstract><abstract><abstract><abstract><abstract><abstract><abstract><abstract><abstract><abstract>\n",
      "Target data:  Override<n>  <public> OperationHandle getSchemas<(> SessionHandle sessionHandle, String catalogName,<n>      String schemaName<)> <throws> HiveSQLException <{><n>    <return> cliService.getSchemas<(> sessionHandle, catalogName, schemaName<)><;><n>  <}><abstract><abstract><abstract><abstract><abstract><abstract><abstract><abstract><abstract><abstract><abstract><abstract><abstract><abstract><abstract><abstract><abstract><abstract><abstract><abstract><abstract><abstract><abstract><abstract><abstract><abstract><abstract><abstract><abstract><abstract><abstract><abstract><abstract><abstract><abstract><abstract><abstract><abstract><abstract><abstract><abstract><abstract><abstract><abstract><abstract><abstract><abstract><abstract><abstract><abstract><abstract><abstract><abstract><abstract><abstract><abstract><abstract><abstract><abstract><abstract><abstract><abstract><abstract><abstract><abstract><abstract><abstract><abstract><abstract><abstract><abstract><abstract><abstract><abstract><abstract><abstract><abstract><abstract><abstract><abstract><abstract><abstract><abstract><abstract><abstract><abstract><abstract><abstract><abstract><abstract><abstract><abstract><abstract><abstract><abstract><abstract><abstract><abstract><abstract><abstract><abstract><abstract><abstract><abstract><abstract><abstract><abstract><abstract><abstract><abstract><abstract><abstract><abstract><abstract><abstract><abstract><abstract><abstract><abstract><abstract><abstract><abstract><abstract><abstract><abstract><abstract><abstract><abstract><abstract><abstract><abstract><abstract><abstract><abstract><abstract><abstract><abstract><abstract><abstract><abstract><abstract><abstract><abstract><abstract><abstract><abstract><abstract><abstract><abstract><abstract><abstract><abstract><abstract><abstract><abstract><abstract><abstract><abstract><abstract><abstract><abstract><abstract><abstract><abstract><abstract><abstract><abstract><abstract><abstract><abstract><abstract><abstract><abstract><abstract><abstract><abstract><abstract><abstract><abstract><abstract><abstract><abstract><abstract><abstract><abstract><abstract><abstract><abstract><abstract><abstract><abstract><abstract><abstract><abstract><abstract><abstract><abstract><abstract><abstract><abstract><abstract><abstract><abstract><abstract><abstract><abstract><abstract><abstract><abstract><abstract><abstract><abstract><abstract><abstract><abstract><abstract><abstract><abstract><abstract><abstract><abstract><abstract><abstract><abstract><abstract><abstract><abstract><abstract><abstract><abstract><abstract><abstract><abstract><abstract><abstract><abstract><abstract><abstract><abstract><abstract>\n"
     ]
    }
   ],
   "source": [
    "#Print the first example input and target values:\n",
    "for input_example, target_example in  dataset.take(1):\n",
    "    print('Input data: ', new_tokenizer.decode( input_example.numpy() , skip_special_tokens=False ) )\n",
    "    print('Target data:', new_tokenizer.decode( target_example.numpy() , skip_special_tokens=False ) )"
   ]
  },
  {
   "cell_type": "markdown",
   "metadata": {},
   "source": [
    "Each index of these vectors is processed as a one time step. For the input at time step 0, the model receives the index for \"<@>\" and tries to predict the index for \"Override\" as the next character. At the next timestep, it does the same thing but the RNN considers the previous step context in addition to the current input character."
   ]
  },
  {
   "cell_type": "code",
   "execution_count": null,
   "metadata": {},
   "outputs": [],
   "source": []
  }
 ],
 "metadata": {
  "kernelspec": {
   "display_name": "Python 3",
   "language": "python",
   "name": "python3"
  }
 },
 "nbformat": 4,
 "nbformat_minor": 4
}
