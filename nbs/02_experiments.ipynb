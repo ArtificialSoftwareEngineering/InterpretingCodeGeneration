{
 "cells": [
  {
   "cell_type": "code",
   "execution_count": null,
   "metadata": {},
   "outputs": [],
   "source": [
    "# default_exp experiments"
   ]
  },
  {
   "cell_type": "markdown",
   "metadata": {},
   "source": [
    "# Experiments\n",
    "\n",
    "> API details."
   ]
  },
  {
   "cell_type": "code",
   "execution_count": null,
   "metadata": {},
   "outputs": [],
   "source": [
    "# export\n",
    "from ds4se.mgmnt.prep.i import jsonl_list_to_dataframe, get_dfs\n",
    "from pathlib import Path"
   ]
  },
  {
   "cell_type": "code",
   "execution_count": null,
   "metadata": {},
   "outputs": [],
   "source": [
    "#hide\n",
    "from nbdev.showdoc import *"
   ]
  },
  {
   "cell_type": "code",
   "execution_count": null,
   "metadata": {},
   "outputs": [],
   "source": [
    "path = Path('/home/nathan/Downloads/')"
   ]
  },
  {
   "cell_type": "code",
   "execution_count": null,
   "metadata": {},
   "outputs": [
    {
     "data": {
      "text/html": "<div>\n<style scoped>\n    .dataframe tbody tr th:only-of-type {\n        vertical-align: middle;\n    }\n\n    .dataframe tbody tr th {\n        vertical-align: top;\n    }\n\n    .dataframe thead th {\n        text-align: right;\n    }\n</style>\n<table border=\"1\" class=\"dataframe\">\n  <thead>\n    <tr style=\"text-align: right;\">\n      <th></th>\n      <th>code</th>\n      <th>docstring</th>\n    </tr>\n  </thead>\n  <tbody>\n    <tr>\n      <th>0</th>\n      <td>protected final void bindIndexed(Configuration...</td>\n      <td>Bind indexed elements to the supplied collecti...</td>\n    </tr>\n    <tr>\n      <th>1</th>\n      <td>public void setServletRegistrationBeans(\\n\\t\\t...</td>\n      <td>Set {@link ServletRegistrationBean}s that the ...</td>\n    </tr>\n    <tr>\n      <th>2</th>\n      <td>public void addServletRegistrationBeans(\\n\\t\\t...</td>\n      <td>Add {@link ServletRegistrationBean}s for the f...</td>\n    </tr>\n    <tr>\n      <th>3</th>\n      <td>public void setServletNames(Collection&lt;String&gt;...</td>\n      <td>Set servlet names that the filter will be regi...</td>\n    </tr>\n    <tr>\n      <th>4</th>\n      <td>public void addServletNames(String... servletN...</td>\n      <td>Add servlet names for the filter.\\n@param serv...</td>\n    </tr>\n  </tbody>\n</table>\n</div>",
      "text/plain": "                                                code  \\\n0  protected final void bindIndexed(Configuration...   \n1  public void setServletRegistrationBeans(\\n\\t\\t...   \n2  public void addServletRegistrationBeans(\\n\\t\\t...   \n3  public void setServletNames(Collection&lt;String&gt;...   \n4  public void addServletNames(String... servletN...   \n\n                                           docstring  \n0  Bind indexed elements to the supplied collecti...  \n1  Set {@link ServletRegistrationBean}s that the ...  \n2  Add {@link ServletRegistrationBean}s for the f...  \n3  Set servlet names that the filter will be regi...  \n4  Add servlet names for the filter.\\n@param serv...  "
     },
     "execution_count": null,
     "metadata": {},
     "output_type": "execute_result"
    }
   ],
   "source": [
    "df_trn, df_val, df_tst = get_dfs(path/\"java/final/jsonl\")\n",
    "df_trn.head()"
   ]
  },
  {
   "cell_type": "code",
   "execution_count": null,
   "metadata": {},
   "outputs": [],
   "source": [
    "tokenizer = GPT2Tokenizer.from_pretrained('gpt2')\n",
    "trnsfr = TFGPT2LMHeadModel.from_pretrained('gpt2')\n",
    "model = TransformerModel(tokenizer, trnsfr)"
   ]
  },
  {
   "cell_type": "code",
   "execution_count": null,
   "metadata": {},
   "outputs": [],
   "source": [
    "# export\n",
    "def mean_probs(df, model):\n",
    "    for mthd in df.code.values:\n",
    "        pass"
   ]
  }
 ],
 "metadata": {
  "kernelspec": {
   "display_name": "Python 3",
   "language": "python",
   "name": "python3"
  }
 },
 "nbformat": 4,
 "nbformat_minor": 4
}
