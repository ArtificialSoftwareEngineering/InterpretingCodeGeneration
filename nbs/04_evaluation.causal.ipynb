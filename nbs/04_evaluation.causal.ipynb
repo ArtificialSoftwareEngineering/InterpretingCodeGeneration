{
 "cells": [
  {
   "cell_type": "code",
   "execution_count": null,
   "id": "strategic-nevada",
   "metadata": {},
   "outputs": [],
   "source": [
    "# default_exp evaluation.causal"
   ]
  },
  {
   "cell_type": "code",
   "execution_count": null,
   "id": "fancy-density",
   "metadata": {},
   "outputs": [],
   "source": [
    "# hide\n",
    "%load_ext autoreload\n",
    "%autoreload 2\n",
    "%matplotlib inline"
   ]
  },
  {
   "cell_type": "code",
   "execution_count": null,
   "id": "found-florence",
   "metadata": {},
   "outputs": [],
   "source": [
    "import tensorflow as tf\n",
    "physical_devices = tf.config.list_physical_devices('GPU')\n",
    "tf.config.experimental.set_memory_growth(physical_devices[0], enable=True)"
   ]
  },
  {
   "cell_type": "markdown",
   "id": "isolated-albuquerque",
   "metadata": {},
   "source": [
    "# Causal Evaluation\n",
    "\n",
    "> causal"
   ]
  },
  {
   "cell_type": "code",
   "execution_count": null,
   "id": "vocational-incident",
   "metadata": {},
   "outputs": [],
   "source": [
    "#export\n",
    "import numpy as np\n",
    "import pandas as pd\n",
    "\n",
    "import dowhy\n",
    "from dowhy import CausalModel\n",
    "import dowhy.datasets "
   ]
  },
  {
   "cell_type": "code",
   "execution_count": null,
   "id": "binary-superior",
   "metadata": {},
   "outputs": [],
   "source": [
    "#export\n",
    "from enum import Enum, auto\n",
    "from abc import ABC,abstractmethod\n",
    "import logging"
   ]
  },
  {
   "cell_type": "code",
   "execution_count": null,
   "id": "relative-artwork",
   "metadata": {},
   "outputs": [],
   "source": [
    "#export\n",
    "# Avoid printing dataconversion warnings from sklearn\n",
    "import warnings\n",
    "from sklearn.exceptions import DataConversionWarning\n",
    "warnings.filterwarnings(action='ignore', category=DataConversionWarning)"
   ]
  },
  {
   "cell_type": "code",
   "execution_count": null,
   "id": "final-damages",
   "metadata": {},
   "outputs": [],
   "source": [
    "# Config dict to set the logging level\n",
    "import logging.config\n",
    "DEFAULT_LOGGING = {\n",
    "    'version': 1,\n",
    "    'disable_existing_loggers': False,\n",
    "    'loggers': {\n",
    "        '': {\n",
    "            'level': 'WARN',\n",
    "        },\n",
    "    }\n",
    "}\n",
    "\n",
    "logging.config.dictConfig(DEFAULT_LOGGING)"
   ]
  },
  {
   "cell_type": "markdown",
   "id": "considered-oxygen",
   "metadata": {},
   "source": [
    "# 0. Utility Classes"
   ]
  },
  {
   "cell_type": "code",
   "execution_count": null,
   "id": "driving-operation",
   "metadata": {},
   "outputs": [],
   "source": [
    "#This data is for testing purpuses"
   ]
  },
  {
   "cell_type": "code",
   "execution_count": null,
   "id": "secret-rouge",
   "metadata": {},
   "outputs": [],
   "source": [
    "#export\n",
    "class MethodName(Enum):\n",
    "    propensity_score_stratification = 'backdoor.propensity_score_stratification' #<--- This is only for binary treatments\n",
    "    linear_regression = 'backdoor.linear_regression'\n",
    "    propensity_score_weighting = 'backdoor.propensity_score_weighting' #<--- This is only for binary treatments\n",
    "    \n",
    "class TargetUnit(Enum):\n",
    "    atc = 'atc' #Causal effect on the control group \n",
    "    ate = 'ate' #Average Treatment Effect\n",
    "    att = 'att' \n",
    "    \n",
    "class RefuteEstimate(Enum):\n",
    "    random_common_cause = 'random_common_cause' #Add Random Common Cause:\n",
    "    add_unobserved_common_cause = 'add_unobserved_common_cause' #Add Unobserved Common Causes\n",
    "    placebo_treatment_refuter = 'placebo_treatment_refuter' #Placebo Treatment\n",
    "    data_subset_refuter = 'data_subset_refuter' #Removing a random subset of the data"
   ]
  },
  {
   "cell_type": "code",
   "execution_count": null,
   "id": "marked-carroll",
   "metadata": {},
   "outputs": [
    {
     "data": {
      "text/plain": [
       "'propensity_score_stratification'"
      ]
     },
     "execution_count": null,
     "metadata": {},
     "output_type": "execute_result"
    }
   ],
   "source": [
    "MethodName.propensity_score_stratification.name"
   ]
  },
  {
   "cell_type": "code",
   "execution_count": null,
   "id": "radio-insured",
   "metadata": {},
   "outputs": [
    {
     "data": {
      "text/plain": [
       "'ate'"
      ]
     },
     "execution_count": null,
     "metadata": {},
     "output_type": "execute_result"
    }
   ],
   "source": [
    "TargetUnit.ate.value"
   ]
  },
  {
   "cell_type": "code",
   "execution_count": null,
   "id": "wireless-victim",
   "metadata": {},
   "outputs": [],
   "source": [
    "#export\n",
    "class PropensityWeighting(Enum):\n",
    "    ips_weight = {'weighting_scheme':'ips_weight'} #1.Vanilla Inverse Propensity Score weighting (IPS)\n",
    "    ips_normalized_weight = {'weighting_scheme':'ips_normalized_weight'} #2.Self-normalized IPS weighting (also known as the Hajek estimator)\n",
    "    ips_stabilized_weight = {'weighting_scheme':'ips_stabilized_weight'} #3.Stabilized IPS weighting"
   ]
  },
  {
   "cell_type": "code",
   "execution_count": null,
   "id": "introductory-chair",
   "metadata": {},
   "outputs": [],
   "source": [
    "#export\n",
    "#create the abstract class for causal methods\n",
    "class CausalCodeGen(ABC):\n",
    "    #1. Identification\n",
    "    @abstractmethod\n",
    "    def identification(self):\n",
    "        'identify a target estimand under the model'\n",
    "        pass\n",
    "    \n",
    "    #2. Estimation\n",
    "    @abstractmethod\n",
    "    def estimation(self):\n",
    "        'Estimate causal effect based on the identified estimand'\n",
    "        pass\n",
    "    \n",
    "    #3. Refuting\n",
    "    @abstractmethod\n",
    "    def refuting(self):\n",
    "        'Refute the obtained estimate'\n",
    "        pass\n",
    "    \n",
    "    #4. Display\n",
    "    @abstractmethod\n",
    "    def display(self):\n",
    "        pass"
   ]
  },
  {
   "cell_type": "markdown",
   "id": "leading-matrix",
   "metadata": {},
   "source": [
    "# 1. CausalCodeGen without a directed graph \n",
    "Here we specify common causes (confounders) and instruments (if any)"
   ]
  },
  {
   "cell_type": "code",
   "execution_count": null,
   "id": "regulated-queue",
   "metadata": {},
   "outputs": [],
   "source": [
    "#export\n",
    "class CausalCodeGenNoGraph(CausalCodeGen):\n",
    "    def __init__(self, \n",
    "            df_data, \n",
    "            treatment = ['treatment'],\n",
    "            outcome = 'outcome',\n",
    "            common_causes = ['confounders']\n",
    "        ):\n",
    "        #0. Creating the causal model\n",
    "        self.model= CausalModel(\n",
    "                data = df_data,\n",
    "                treatment = treatment,\n",
    "                outcome = outcome,\n",
    "                common_causes = common_causes,\n",
    "                #effect_modifiers=data[\"effect_modifier_names\"]\n",
    "            )\n",
    "    \n",
    "     #1. Identification\n",
    "    def identification(self,proceed_when_unidentifiable=True):\n",
    "        self.identified_estimand = self.model.identify_effect(proceed_when_unidentifiable=proceed_when_unidentifiable)\n",
    "        #print(self.identified_estimand)\n",
    "        print('Identification Done')\n",
    "        pass \n",
    "    \n",
    "    #2. Estimation\n",
    "    def estimation(self, method_name, target_units = TargetUnit.ate.value):\n",
    "        self.estimate = self.model.estimate_effect(\n",
    "            self.identified_estimand,\n",
    "            method_name = method_name,\n",
    "            target_units = target_units\n",
    "        )\n",
    "        #print(self.estimate)\n",
    "        #print(\"Causal Estimate is \" + str(self.estimate.value))\n",
    "        print('Estimation Done')\n",
    "        pass\n",
    "    \n",
    "    #3. Refuting\n",
    "    def refuting(self, method):\n",
    "        default = \"Incorrect method\"\n",
    "        return getattr(self, 'refuting_' + str(method), lambda: default)()\n",
    "\n",
    "    def refuting_1(self, random_seed = 1):\n",
    "        '''Adding a random common cause variable\n",
    "         Does the estimation method change its estimate after \n",
    "         we add an independent random variable as a common \n",
    "         cause to the dataset? (Hint: It should not)'''\n",
    "        res_random=self.model.refute_estimate(\n",
    "            self.identified_estimand, \n",
    "            self.estimate, \n",
    "            method_name = RefuteEstimate.random_common_cause.value,\n",
    "            random_seed = random_seed\n",
    "        )\n",
    "        return res_random\n",
    "    \n",
    "    def refuting_2(self, random_seed = 1):\n",
    "        '''Adding an unobserved common cause variable\n",
    "        How sensitive is the effect estimate when we add an \n",
    "        additional common cause (confounder) to the dataset that is correlated with the treatment and the outcome? \n",
    "        (Hint: It should not be too sensitive)\n",
    "        '''\n",
    "        res_unobserved = self.model.refute_estimate(\n",
    "            self.identified_estimand, \n",
    "            self.estimate, \n",
    "            method_name=RefuteEstimate.add_unobserved_common_cause.value,\n",
    "            confounders_effect_on_treatment=\"binary_flip\", \n",
    "            confounders_effect_on_outcome=\"linear\",\n",
    "            effect_strength_on_treatment=0.01, \n",
    "            effect_strength_on_outcome=0.02,\n",
    "            random_seed = random_seed\n",
    "        )\n",
    "        return res_unobserved\n",
    "    \n",
    "    def refuting_3(self, random_seed = 1):\n",
    "        '''Replacing treatment with a random (placebo) variable\n",
    "        What happens to the estimated causal effect when we replace \n",
    "        the true treatment variable with an independent random variable? \n",
    "        (Hint: the effect should go to zero)\n",
    "        '''\n",
    "        res_placebo = self.model.refute_estimate(\n",
    "            self.identified_estimand, \n",
    "            self.estimate,\n",
    "            method_name=RefuteEstimate.placebo_treatment_refuter.value, \n",
    "            placebo_type=\"permute\",\n",
    "            random_seed = random_seed\n",
    "        )\n",
    "        return res_placebo\n",
    "    \n",
    "    def refuting_4(self, random_seed = 1):\n",
    "        '''Removing a random subset of the data\n",
    "        Does the estimated effect change significantly \n",
    "        when we replace the given dataset with a randomly selected subset? \n",
    "        (Hint: It should not)\n",
    "        '''\n",
    "        res_subset = self.model.refute_estimate(\n",
    "            self.identified_estimand, \n",
    "            self.estimate,\n",
    "            method_name = RefuteEstimate.data_subset_refuter.value, \n",
    "            subset_fraction = 0.9, \n",
    "            random_seed = random_seed\n",
    "        )\n",
    "        return res_subset\n",
    "    \n",
    "    #4. Display\n",
    "    def display(self):\n",
    "        self.model.view_model()"
   ]
  },
  {
   "cell_type": "markdown",
   "id": "italic-bristol",
   "metadata": {},
   "source": [
    "### Testing CausalCodeGenNoGraph"
   ]
  },
  {
   "cell_type": "code",
   "execution_count": null,
   "id": "decent-vegetation",
   "metadata": {},
   "outputs": [],
   "source": [
    "#tst\n",
    "data = dowhy.datasets.linear_dataset(\n",
    "        beta=10,\n",
    "        num_common_causes=5,\n",
    "        num_instruments = 0,\n",
    "        num_effect_modifiers=0,\n",
    "        num_samples=50000, \n",
    "        treatment_is_binary=True,\n",
    "        num_discrete_common_causes=1\n",
    "    )"
   ]
  },
  {
   "cell_type": "code",
   "execution_count": null,
   "id": "absent-africa",
   "metadata": {},
   "outputs": [
    {
     "name": "stdout",
     "output_type": "stream",
     "text": [
      "         W0        W1        W2        W3 W4     v0          y\n",
      "0 -0.217585  0.536326  0.139622  0.068094  1   True  10.520135\n",
      "1 -1.899889 -0.832019 -1.851850  1.407486  0   True   2.170744\n",
      "2 -0.557304 -0.237813 -0.487432  1.457238  2   True  11.748666\n",
      "3 -3.146042 -1.360608 -0.029511 -0.742156  1  False -13.264900\n",
      "4 -0.814657 -1.880069 -0.790882  0.642590  0  False  -3.535823\n"
     ]
    }
   ],
   "source": [
    "df = data[\"df\"]\n",
    "print(df.head())\n",
    "#print(data[\"dot_graph\"])\n",
    "#print(\"\\n\")\n",
    "#print(data[\"gml_graph\"])"
   ]
  },
  {
   "cell_type": "code",
   "execution_count": null,
   "id": "opposed-interface",
   "metadata": {},
   "outputs": [
    {
     "name": "stderr",
     "output_type": "stream",
     "text": [
      "WARNING:dowhy.causal_model:Causal Graph not provided. DoWhy will construct a graph based on data inputs.\n"
     ]
    }
   ],
   "source": [
    "#tst\n",
    "obj_causalCodeGenNoGraph = CausalCodeGenNoGraph(\n",
    "    df_data = df,\n",
    "    treatment = data[\"treatment_name\"],\n",
    "    outcome = data[\"outcome_name\"],\n",
    "    common_causes = data[\"common_causes_names\"],\n",
    ")"
   ]
  },
  {
   "cell_type": "code",
   "execution_count": null,
   "id": "overhead-church",
   "metadata": {},
   "outputs": [
    {
     "name": "stderr",
     "output_type": "stream",
     "text": [
      "WARNING:dowhy.causal_graph:Warning: Pygraphviz cannot be loaded. Check that graphviz and pygraphviz are installed.\n"
     ]
    },
    {
     "data": {
      "image/png": "[encoded data removed]",
      "text/plain": [
       "<Figure size 432x288 with 1 Axes>"
      ]
     },
     "metadata": {},
     "output_type": "display_data"
    }
   ],
   "source": [
    "#tst display\n",
    "obj_causalCodeGenNoGraph.display()"
   ]
  },
  {
   "cell_type": "code",
   "execution_count": null,
   "id": "pursuant-policy",
   "metadata": {},
   "outputs": [
    {
     "name": "stdout",
     "output_type": "stream",
     "text": [
      "Identification Done\n"
     ]
    }
   ],
   "source": [
    "#tst identification\n",
    "obj_causalCodeGenNoGraph.identification()"
   ]
  },
  {
   "cell_type": "code",
   "execution_count": null,
   "id": "endless-alpha",
   "metadata": {},
   "outputs": [
    {
     "name": "stdout",
     "output_type": "stream",
     "text": [
      "*** Causal Estimate ***\n",
      "\n",
      "## Identified estimand\n",
      "Estimand type: nonparametric-ate\n",
      "\n",
      "### Estimand : 1\n",
      "Estimand name: backdoor\n",
      "Estimand expression:\n",
      "  d                                 \n",
      "─────(Expectation(y|W0,W4,W2,W1,W3))\n",
      "d[v₀]                               \n",
      "Estimand assumption 1, Unconfoundedness: If U→{v0} and U→y then P(y|v0,W0,W4,W2,W1,W3,U) = P(y|v0,W0,W4,W2,W1,W3)\n",
      "\n",
      "## Realized estimand\n",
      "b: y~v0+W0+W4+W2+W1+W3\n",
      "Target units: ate\n",
      "\n",
      "## Estimate\n",
      "Mean value: 10.134956483366805\n",
      "\n",
      "Causal Estimate is 10.134956483366805\n",
      "Estimation Done\n"
     ]
    }
   ],
   "source": [
    "#tst estimation binary\n",
    "obj_causalCodeGenNoGraph.estimation(\n",
    "    method_name=MethodName.propensity_score_stratification.value #<------- HyperParameter\n",
    ")"
   ]
  },
  {
   "cell_type": "code",
   "execution_count": null,
   "id": "impaired-supervisor",
   "metadata": {},
   "outputs": [
    {
     "name": "stderr",
     "output_type": "stream",
     "text": [
      "ERROR:dowhy.causal_estimator:Propensity score methods are applicable only for binary treatments\n"
     ]
    },
    {
     "ename": "Exception",
     "evalue": "Propensity score methods are applicable only for binary treatments",
     "output_type": "error",
     "traceback": [
      "\u001b[0;31m---------------------------------------------------------------------------\u001b[0m",
      "\u001b[0;31mException\u001b[0m                                 Traceback (most recent call last)",
      "\u001b[0;32m<ipython-input-93-97f266684ca1>\u001b[0m in \u001b[0;36m<module>\u001b[0;34m\u001b[0m\n\u001b[1;32m      1\u001b[0m \u001b[0;31m# tst estimation non-binary\u001b[0m\u001b[0;34m\u001b[0m\u001b[0;34m\u001b[0m\u001b[0;34m\u001b[0m\u001b[0m\n\u001b[0;32m----> 2\u001b[0;31m obj_causalCodeGenNoGraph.estimation(\n\u001b[0m\u001b[1;32m      3\u001b[0m     \u001b[0;31m#method_name=MethodName.linear_regression.value #<------- HyperParameter\u001b[0m\u001b[0;34m\u001b[0m\u001b[0;34m\u001b[0m\u001b[0;34m\u001b[0m\u001b[0m\n\u001b[1;32m      4\u001b[0m     \u001b[0mmethod_name\u001b[0m\u001b[0;34m=\u001b[0m\u001b[0mMethodName\u001b[0m\u001b[0;34m.\u001b[0m\u001b[0mpropensity_score_weighting\u001b[0m\u001b[0;34m.\u001b[0m\u001b[0mvalue\u001b[0m \u001b[0;31m#<------- HyperParameter\u001b[0m\u001b[0;34m\u001b[0m\u001b[0;34m\u001b[0m\u001b[0m\n\u001b[1;32m      5\u001b[0m )\n",
      "\u001b[0;32m<ipython-input-51-9b3416b0e4a6>\u001b[0m in \u001b[0;36mestimation\u001b[0;34m(self, method_name)\u001b[0m\n\u001b[1;32m     23\u001b[0m     \u001b[0;31m#2. Estimation\u001b[0m\u001b[0;34m\u001b[0m\u001b[0;34m\u001b[0m\u001b[0;34m\u001b[0m\u001b[0m\n\u001b[1;32m     24\u001b[0m     \u001b[0;32mdef\u001b[0m \u001b[0mestimation\u001b[0m\u001b[0;34m(\u001b[0m\u001b[0mself\u001b[0m\u001b[0;34m,\u001b[0m \u001b[0mmethod_name\u001b[0m\u001b[0;34m)\u001b[0m\u001b[0;34m:\u001b[0m\u001b[0;34m\u001b[0m\u001b[0;34m\u001b[0m\u001b[0m\n\u001b[0;32m---> 25\u001b[0;31m         self.estimate = self.model.estimate_effect(\n\u001b[0m\u001b[1;32m     26\u001b[0m             \u001b[0mself\u001b[0m\u001b[0;34m.\u001b[0m\u001b[0midentified_estimand\u001b[0m\u001b[0;34m,\u001b[0m\u001b[0;34m\u001b[0m\u001b[0;34m\u001b[0m\u001b[0m\n\u001b[1;32m     27\u001b[0m             method_name = method_name)\n",
      "\u001b[0;32m/opt/conda/lib/python3.8/site-packages/dowhy/causal_model.py\u001b[0m in \u001b[0;36mestimate_effect\u001b[0;34m(self, identified_estimand, method_name, control_value, treatment_value, test_significance, evaluate_effect_strength, confidence_intervals, target_units, effect_modifiers, method_params)\u001b[0m\n\u001b[1;32m    216\u001b[0m                                   treatment_value=treatment_value)\n\u001b[1;32m    217\u001b[0m         \u001b[0;32melse\u001b[0m\u001b[0;34m:\u001b[0m\u001b[0;34m\u001b[0m\u001b[0;34m\u001b[0m\u001b[0m\n\u001b[0;32m--> 218\u001b[0;31m             causal_estimator = causal_estimator_class(\n\u001b[0m\u001b[1;32m    219\u001b[0m                 \u001b[0mself\u001b[0m\u001b[0;34m.\u001b[0m\u001b[0m_data\u001b[0m\u001b[0;34m,\u001b[0m\u001b[0;34m\u001b[0m\u001b[0;34m\u001b[0m\u001b[0m\n\u001b[1;32m    220\u001b[0m                 \u001b[0midentified_estimand\u001b[0m\u001b[0;34m,\u001b[0m\u001b[0;34m\u001b[0m\u001b[0;34m\u001b[0m\u001b[0m\n",
      "\u001b[0;32m/opt/conda/lib/python3.8/site-packages/dowhy/causal_estimators/propensity_score_weighting_estimator.py\u001b[0m in \u001b[0;36m__init__\u001b[0;34m(self, min_ps_score, max_ps_score, *args, **kwargs)\u001b[0m\n\u001b[1;32m     19\u001b[0m \u001b[0;34m\u001b[0m\u001b[0m\n\u001b[1;32m     20\u001b[0m     \u001b[0;32mdef\u001b[0m \u001b[0m__init__\u001b[0m\u001b[0;34m(\u001b[0m\u001b[0mself\u001b[0m\u001b[0;34m,\u001b[0m \u001b[0;34m*\u001b[0m\u001b[0margs\u001b[0m\u001b[0;34m,\u001b[0m \u001b[0mmin_ps_score\u001b[0m\u001b[0;34m=\u001b[0m\u001b[0;36m0.05\u001b[0m\u001b[0;34m,\u001b[0m \u001b[0mmax_ps_score\u001b[0m\u001b[0;34m=\u001b[0m\u001b[0;36m0.95\u001b[0m\u001b[0;34m,\u001b[0m \u001b[0;34m**\u001b[0m\u001b[0mkwargs\u001b[0m\u001b[0;34m)\u001b[0m\u001b[0;34m:\u001b[0m\u001b[0;34m\u001b[0m\u001b[0;34m\u001b[0m\u001b[0m\n\u001b[0;32m---> 21\u001b[0;31m         \u001b[0msuper\u001b[0m\u001b[0;34m(\u001b[0m\u001b[0;34m)\u001b[0m\u001b[0;34m.\u001b[0m\u001b[0m__init__\u001b[0m\u001b[0;34m(\u001b[0m\u001b[0;34m*\u001b[0m\u001b[0margs\u001b[0m\u001b[0;34m,\u001b[0m \u001b[0;34m**\u001b[0m\u001b[0mkwargs\u001b[0m\u001b[0;34m)\u001b[0m\u001b[0;34m\u001b[0m\u001b[0;34m\u001b[0m\u001b[0m\n\u001b[0m\u001b[1;32m     22\u001b[0m \u001b[0;34m\u001b[0m\u001b[0m\n\u001b[1;32m     23\u001b[0m         \u001b[0mself\u001b[0m\u001b[0;34m.\u001b[0m\u001b[0mlogger\u001b[0m\u001b[0;34m.\u001b[0m\u001b[0minfo\u001b[0m\u001b[0;34m(\u001b[0m\u001b[0;34m\"INFO: Using Propensity Score Weighting Estimator\"\u001b[0m\u001b[0;34m)\u001b[0m\u001b[0;34m\u001b[0m\u001b[0;34m\u001b[0m\u001b[0m\n",
      "\u001b[0;32m/opt/conda/lib/python3.8/site-packages/dowhy/causal_estimators/propensity_score_estimator.py\u001b[0m in \u001b[0;36m__init__\u001b[0;34m(self, *args, **kwargs)\u001b[0m\n\u001b[1;32m     19\u001b[0m             \u001b[0merror_msg\u001b[0m \u001b[0;34m=\u001b[0m \u001b[0;34m\"Propensity score methods are applicable only for binary treatments\"\u001b[0m\u001b[0;34m\u001b[0m\u001b[0;34m\u001b[0m\u001b[0m\n\u001b[1;32m     20\u001b[0m             \u001b[0mself\u001b[0m\u001b[0;34m.\u001b[0m\u001b[0mlogger\u001b[0m\u001b[0;34m.\u001b[0m\u001b[0merror\u001b[0m\u001b[0;34m(\u001b[0m\u001b[0merror_msg\u001b[0m\u001b[0;34m)\u001b[0m\u001b[0;34m\u001b[0m\u001b[0;34m\u001b[0m\u001b[0m\n\u001b[0;32m---> 21\u001b[0;31m             \u001b[0;32mraise\u001b[0m \u001b[0mException\u001b[0m\u001b[0;34m(\u001b[0m\u001b[0merror_msg\u001b[0m\u001b[0;34m)\u001b[0m\u001b[0;34m\u001b[0m\u001b[0;34m\u001b[0m\u001b[0m\n\u001b[0m\u001b[1;32m     22\u001b[0m \u001b[0;34m\u001b[0m\u001b[0m\n\u001b[1;32m     23\u001b[0m         self.logger.debug(\"Back-door variables used:\" +\n",
      "\u001b[0;31mException\u001b[0m: Propensity score methods are applicable only for binary treatments"
     ]
    }
   ],
   "source": [
    "# tst estimation non-binary\n",
    "obj_causalCodeGenNoGraph.estimation(\n",
    "    #method_name=MethodName.linear_regression.value #<------- HyperParameter\n",
    "    method_name=MethodName.propensity_score_weighting.value #<------- HyperParameter\n",
    ")"
   ]
  },
  {
   "cell_type": "code",
   "execution_count": null,
   "id": "printable-basic",
   "metadata": {},
   "outputs": [
    {
     "name": "stdout",
     "output_type": "stream",
     "text": [
      "Refute: Add a Random Common Cause\n",
      "Estimated effect:10.134956483366805\n",
      "New effect:10.133086550414514\n",
      "\n"
     ]
    }
   ],
   "source": [
    "#tst refuting\n",
    "method = [1,2,3,4] #<----- Hyperparameter\n",
    "res_method = obj_causalCodeGenNoGraph.refuting(1)\n",
    "print(res_method)"
   ]
  },
  {
   "cell_type": "code",
   "execution_count": null,
   "id": "reserved-psychiatry",
   "metadata": {},
   "outputs": [],
   "source": [
    "res_method = [obj_causalCodeGenNoGraph.refuting(i) for i in method]"
   ]
  },
  {
   "cell_type": "code",
   "execution_count": null,
   "id": "intermediate-queensland",
   "metadata": {},
   "outputs": [
    {
     "name": "stdout",
     "output_type": "stream",
     "text": [
      "Refute: Add a Random Common Cause\n",
      "Estimated effect:1.0000328405626493\n",
      "New effect:1.0000327587229392\n",
      "\n"
     ]
    }
   ],
   "source": [
    "print(res_method[0])"
   ]
  },
  {
   "cell_type": "code",
   "execution_count": null,
   "id": "based-detail",
   "metadata": {},
   "outputs": [
    {
     "name": "stdout",
     "output_type": "stream",
     "text": [
      "Refute: Add an Unobserved Common Cause\n",
      "Estimated effect:1.0000328405626493\n",
      "New effect:0.9712936036900406\n",
      "\n"
     ]
    }
   ],
   "source": [
    "print(res_method[1])"
   ]
  },
  {
   "cell_type": "code",
   "execution_count": null,
   "id": "announced-wellington",
   "metadata": {},
   "outputs": [
    {
     "name": "stdout",
     "output_type": "stream",
     "text": [
      "Refute: Use a Placebo Treatment\n",
      "Estimated effect:1.0000328405626493\n",
      "New effect:-0.0003850245605117542\n",
      "p value:0.45999999999999996\n",
      "\n"
     ]
    }
   ],
   "source": [
    "print(res_method[2])"
   ]
  },
  {
   "cell_type": "code",
   "execution_count": null,
   "id": "metallic-mason",
   "metadata": {},
   "outputs": [
    {
     "name": "stdout",
     "output_type": "stream",
     "text": [
      "Refute: Use a subset of data\n",
      "Estimated effect:1.0000328405626493\n",
      "New effect:1.0000328101400593\n",
      "p value:0.49\n",
      "\n"
     ]
    }
   ],
   "source": [
    "print(res_method[3])"
   ]
  },
  {
   "cell_type": "markdown",
   "id": "generous-resistance",
   "metadata": {},
   "source": [
    "# 2. CausalCodeGen Estimating effect of multiple treatments"
   ]
  },
  {
   "cell_type": "code",
   "execution_count": null,
   "id": "animated-corner",
   "metadata": {},
   "outputs": [],
   "source": [
    "#export\n",
    "class CausalCodeGenMultiple(CausalCodeGen):\n",
    "    def __init__(self, \n",
    "            df_data, \n",
    "            treatment = ['treatment'],\n",
    "            outcome = 'outcome',\n",
    "            common_causes = ['confounders']\n",
    "        ):\n",
    "        #0. Creating the causal model\n",
    "        self.model= CausalModel(\n",
    "                data = df_data,\n",
    "                treatment = treatment,\n",
    "                outcome = outcome,\n",
    "                common_causes = common_causes,\n",
    "                #effect_modifiers=data[\"effect_modifier_names\"]\n",
    "            )\n",
    "    \n",
    "     #1. Identification\n",
    "    def identification(self,proceed_when_unidentifiable=True):\n",
    "        self.identified_estimand = self.model.identify_effect(proceed_when_unidentifiable=proceed_when_unidentifiable)\n",
    "        print(self.identified_estimand)\n",
    "        print('Identification Done')\n",
    "        pass\n",
    "    \n",
    "    #2. Estimation\n",
    "    def estimation(self, target_units = TargetUnit.ate.value):\n",
    "        self.estimate = self.model.estimate_effect(\n",
    "            self.identified_estimand,\n",
    "            method_name =  MethodName.linear_regression.value,\n",
    "            target_units = target_units,\n",
    "            method_params={'need_conditional_estimates': False} #No Effect Modifiers Proposed\n",
    "        )\n",
    "        print(self.estimate)\n",
    "        print(\"Causal Estimate is \" + str(self.estimate.value))\n",
    "        print('Estimation Done')\n",
    "        pass\n",
    "    \n",
    "    #3. Refuting\n",
    "    def refuting(self, method):\n",
    "        default = \"Incorrect method\"\n",
    "        return getattr(self, 'refuting_' + str(method), lambda: default)()\n",
    "\n",
    "    def refuting_1(self, random_seed = 1):\n",
    "        '''Adding a random common cause variable\n",
    "         Does the estimation method change its estimate after \n",
    "         we add an independent random variable as a common \n",
    "         cause to the dataset? (Hint: It should not)'''\n",
    "        res_random=self.model.refute_estimate(\n",
    "            self.identified_estimand, \n",
    "            self.estimate, \n",
    "            method_name = RefuteEstimate.random_common_cause.value,\n",
    "            random_seed = random_seed\n",
    "        )\n",
    "        return res_random\n",
    "    \n",
    "    def refuting_2(self, random_seed = 1):\n",
    "        '''Adding an unobserved common cause variable\n",
    "        How sensitive is the effect estimate when we add an \n",
    "        additional common cause (confounder) to the dataset that is correlated with the treatment and the outcome? \n",
    "        (Hint: It should not be too sensitive)\n",
    "        '''\n",
    "        res_unobserved = self.model.refute_estimate(\n",
    "            self.identified_estimand, \n",
    "            self.estimate, \n",
    "            method_name=RefuteEstimate.add_unobserved_common_cause.value,\n",
    "            confounders_effect_on_treatment=\"binary_flip\", \n",
    "            confounders_effect_on_outcome=\"linear\",\n",
    "            effect_strength_on_treatment=0.01, \n",
    "            effect_strength_on_outcome=0.02,\n",
    "            random_seed = random_seed\n",
    "        )\n",
    "        return res_unobserved\n",
    "    \n",
    "    def refuting_3(self, random_seed = 1):\n",
    "        '''Replacing treatment with a random (placebo) variable\n",
    "        What happens to the estimated causal effect when we replace \n",
    "        the true treatment variable with an independent random variable? \n",
    "        (Hint: the effect should go to zero)\n",
    "        '''\n",
    "        res_placebo = self.model.refute_estimate(\n",
    "            self.identified_estimand, \n",
    "            self.estimate,\n",
    "            method_name=RefuteEstimate.placebo_treatment_refuter.value, \n",
    "            #placebo_type=\"permute\",\n",
    "            random_seed = random_seed\n",
    "        )\n",
    "        return res_placebo\n",
    "    \n",
    "    def refuting_4(self, random_seed = 1):\n",
    "        '''Removing a random subset of the data\n",
    "        Does the estimated effect change significantly \n",
    "        when we replace the given dataset with a randomly selected subset? \n",
    "        (Hint: It should not)\n",
    "        '''\n",
    "        res_subset = self.model.refute_estimate(\n",
    "            self.identified_estimand, \n",
    "            self.estimate,\n",
    "            method_name = RefuteEstimate.data_subset_refuter.value, \n",
    "            subset_fraction = 0.9, \n",
    "            random_seed = random_seed\n",
    "        )\n",
    "        return res_subset\n",
    "    \n",
    "    #4. Display\n",
    "    def display(self):\n",
    "        self.model.view_model()"
   ]
  },
  {
   "cell_type": "markdown",
   "id": "friendly-alcohol",
   "metadata": {},
   "source": [
    "### Testing CausalCodeGenMultiple"
   ]
  },
  {
   "cell_type": "code",
   "execution_count": null,
   "id": "promotional-camping",
   "metadata": {},
   "outputs": [],
   "source": [
    "#tst\n",
    "data = dowhy.datasets.linear_dataset(\n",
    "        beta=1,\n",
    "        num_common_causes=5,\n",
    "        num_instruments = 0,\n",
    "        num_effect_modifiers=0,\n",
    "        num_treatments=2, #<---- Multiple Treatments\n",
    "        num_samples=50000, \n",
    "        treatment_is_binary=False,\n",
    "        num_discrete_common_causes=1,\n",
    "        one_hot_encode=False\n",
    "    )"
   ]
  },
  {
   "cell_type": "code",
   "execution_count": null,
   "id": "labeled-catch",
   "metadata": {},
   "outputs": [
    {
     "name": "stdout",
     "output_type": "stream",
     "text": [
      "         W0        W1        W2        W3 W4        v0        v1         y\n",
      "0 -0.274541  0.009782  2.388789  0.730394  2  1.511253  2.677098  5.188463\n",
      "1 -0.441859  0.159592  0.692636 -0.389202  0 -1.064271 -0.884891 -2.217550\n",
      "2 -0.571757 -0.652518  2.326633  2.540033  3  1.422953  1.647342  4.881359\n",
      "3 -1.986849 -1.588103  0.902386  0.171443  3 -0.542460  1.362156  0.977594\n",
      "4 -3.139434 -0.858884  0.691831  2.276057  2 -0.260207  0.717398  0.629266\n"
     ]
    }
   ],
   "source": [
    "df = data[\"df\"]\n",
    "print(df.head())"
   ]
  },
  {
   "cell_type": "code",
   "execution_count": null,
   "id": "imposed-dutch",
   "metadata": {},
   "outputs": [
    {
     "name": "stderr",
     "output_type": "stream",
     "text": [
      "WARNING:dowhy.causal_model:Causal Graph not provided. DoWhy will construct a graph based on data inputs.\n"
     ]
    }
   ],
   "source": [
    "#tst\n",
    "obj_causalCodeGenMultiple = CausalCodeGenMultiple(\n",
    "    df_data = df,\n",
    "    treatment = data[\"treatment_name\"],\n",
    "    outcome = data[\"outcome_name\"],\n",
    "    common_causes = data[\"common_causes_names\"],\n",
    ")"
   ]
  },
  {
   "cell_type": "code",
   "execution_count": null,
   "id": "graphic-eugene",
   "metadata": {},
   "outputs": [
    {
     "name": "stderr",
     "output_type": "stream",
     "text": [
      "WARNING:dowhy.causal_graph:Warning: Pygraphviz cannot be loaded. Check that graphviz and pygraphviz are installed.\n"
     ]
    },
    {
     "data": {
      "image/png": "[encoded data removed]",
      "text/plain": [
       "<Figure size 432x288 with 1 Axes>"
      ]
     },
     "metadata": {},
     "output_type": "display_data"
    }
   ],
   "source": [
    "#tst display\n",
    "obj_causalCodeGenMultiple.display()"
   ]
  },
  {
   "cell_type": "code",
   "execution_count": null,
   "id": "blank-composite",
   "metadata": {},
   "outputs": [
    {
     "name": "stdout",
     "output_type": "stream",
     "text": [
      "Estimand type: nonparametric-ate\n",
      "\n",
      "### Estimand : 1\n",
      "Estimand name: backdoor\n",
      "Estimand expression:\n",
      "    d                                   \n",
      "─────────(Expectation(y|W0,W4,W2,W1,W3))\n",
      "d[v₀  v₁]                               \n",
      "Estimand assumption 1, Unconfoundedness: If U→{v0,v1} and U→y then P(y|v0,v1,W0,W4,W2,W1,W3,U) = P(y|v0,v1,W0,W4,W2,W1,W3)\n",
      "\n",
      "### Estimand : 2\n",
      "Estimand name: iv\n",
      "No such variable found!\n",
      "\n",
      "### Estimand : 3\n",
      "Estimand name: frontdoor\n",
      "No such variable found!\n",
      "\n",
      "Identification Done\n"
     ]
    }
   ],
   "source": [
    "#tst identification\n",
    "obj_causalCodeGenMultiple.identification()"
   ]
  },
  {
   "cell_type": "code",
   "execution_count": null,
   "id": "isolated-stationery",
   "metadata": {},
   "outputs": [
    {
     "name": "stdout",
     "output_type": "stream",
     "text": [
      "*** Causal Estimate ***\n",
      "\n",
      "## Identified estimand\n",
      "Estimand type: nonparametric-ate\n",
      "\n",
      "### Estimand : 1\n",
      "Estimand name: backdoor\n",
      "Estimand expression:\n",
      "    d                                   \n",
      "─────────(Expectation(y|W0,W4,W2,W1,W3))\n",
      "d[v₀  v₁]                               \n",
      "Estimand assumption 1, Unconfoundedness: If U→{v0,v1} and U→y then P(y|v0,v1,W0,W4,W2,W1,W3,U) = P(y|v0,v1,W0,W4,W2,W1,W3)\n",
      "\n",
      "## Realized estimand\n",
      "b: y~v0+v1+W0+W4+W2+W1+W3\n",
      "Target units: ate\n",
      "\n",
      "## Estimate\n",
      "Mean value: 2.0000328649260055\n",
      "\n",
      "Causal Estimate is 2.0000328649260055\n",
      "Estimation Done\n"
     ]
    }
   ],
   "source": [
    "#tst estimation binary\n",
    "obj_causalCodeGenMultiple.estimation()"
   ]
  },
  {
   "cell_type": "code",
   "execution_count": null,
   "id": "behavioral-camel",
   "metadata": {},
   "outputs": [
    {
     "name": "stdout",
     "output_type": "stream",
     "text": [
      "Refute: Add a Random Common Cause\n",
      "Estimated effect:1.999944122500283\n",
      "New effect:1.999943644474333\n",
      "\n"
     ]
    }
   ],
   "source": [
    "res_method = obj_causalCodeGenMultiple.refuting(1)\n",
    "print(res_method)"
   ]
  },
  {
   "cell_type": "code",
   "execution_count": null,
   "id": "photographic-paraguay",
   "metadata": {},
   "outputs": [
    {
     "name": "stdout",
     "output_type": "stream",
     "text": [
      "Refute: Add an Unobserved Common Cause\n",
      "Estimated effect:1.999944122500283\n",
      "New effect:1.8503717509500066\n",
      "\n"
     ]
    }
   ],
   "source": [
    "res_method = obj_causalCodeGenMultiple.refuting(2)\n",
    "print(res_method)"
   ]
  },
  {
   "cell_type": "code",
   "execution_count": null,
   "id": "pursuant-college",
   "metadata": {},
   "outputs": [
    {
     "name": "stdout",
     "output_type": "stream",
     "text": [
      "Refute: Use a Placebo Treatment\n",
      "Estimated effect:2.0000328649260055\n",
      "New effect:8.881784197001252e-16\n",
      "p value:0.0\n",
      "\n"
     ]
    }
   ],
   "source": [
    "res_method = obj_causalCodeGenMultiple.refuting(3)\n",
    "print(res_method)"
   ]
  },
  {
   "cell_type": "code",
   "execution_count": null,
   "id": "willing-publicity",
   "metadata": {},
   "outputs": [
    {
     "name": "stdout",
     "output_type": "stream",
     "text": [
      "Refute: Use a subset of data\n",
      "Estimated effect:1.999944122500283\n",
      "New effect:1.999940483773885\n",
      "p value:0.38\n",
      "\n"
     ]
    }
   ],
   "source": [
    "res_method = obj_causalCodeGenMultiple.refuting(4)\n",
    "print(res_method)"
   ]
  }
 ],
 "metadata": {
  "kernelspec": {
   "display_name": "Python 3",
   "language": "python",
   "name": "python3"
  },
  "language_info": {
   "codemirror_mode": {
    "name": "ipython",
    "version": 3
   },
   "file_extension": ".py",
   "mimetype": "text/x-python",
   "name": "python",
   "nbconvert_exporter": "python",
   "pygments_lexer": "ipython3",
   "version": "3.8.6"
  }
 },
 "nbformat": 4,
 "nbformat_minor": 5
}
