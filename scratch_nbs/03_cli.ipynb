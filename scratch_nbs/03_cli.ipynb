{
 "cells": [
  {
   "cell_type": "code",
   "execution_count": null,
   "metadata": {},
   "outputs": [],
   "source": [
    "# default_exp cli"
   ]
  },
  {
   "cell_type": "markdown",
   "metadata": {},
   "source": [
    "# CLI\n",
    "\n",
    "> Contains all the CLI functions that your library provides."
   ]
  },
  {
   "cell_type": "markdown",
   "metadata": {},
   "source": [
    "Some data and code taken from https://github.com/github/CodeSearchNet\n",
    "\n",
    "```\n",
    "MIT License\n",
    "\n",
    "Copyright (c) 2019 GitHub\n",
    "\n",
    "Permission is hereby granted, free of charge, to any person obtaining a copy\n",
    "of this software and associated documentation files (the \"Software\"), to deal\n",
    "in the Software without restriction, including without limitation the rights\n",
    "to use, copy, modify, merge, publish, distribute, sublicense, and/or sell\n",
    "copies of the Software, and to permit persons to whom the Software is\n",
    "furnished to do so, subject to the following conditions:\n",
    "\n",
    "The above copyright notice and this permission notice shall be included in all\n",
    "copies or substantial portions of the Software.\n",
    "\n",
    "THE SOFTWARE IS PROVIDED \"AS IS\", WITHOUT WARRANTY OF ANY KIND, EXPRESS OR\n",
    "IMPLIED, INCLUDING BUT NOT LIMITED TO THE WARRANTIES OF MERCHANTABILITY,\n",
    "FITNESS FOR A PARTICULAR PURPOSE AND NONINFRINGEMENT. IN NO EVENT SHALL THE\n",
    "AUTHORS OR COPYRIGHT HOLDERS BE LIABLE FOR ANY CLAIM, DAMAGES OR OTHER\n",
    "LIABILITY, WHETHER IN AN ACTION OF CONTRACT, TORT OR OTHERWISE, ARISING FROM,\n",
    "OUT OF OR IN CONNECTION WITH THE SOFTWARE OR THE USE OR OTHER DEALINGS IN THE\n",
    "SOFTWARE.\n",
    "```\n",
    "\n",
    "```\n",
    "@article{husain2019codesearchnet,\n",
    "  title={{CodeSearchNet} challenge: Evaluating the state of semantic code search},\n",
    "  author={Husain, Hamel and Wu, Ho-Hsiang and Gazit, Tiferet and Allamanis, Miltiadis and Brockschmidt, Marc},\n",
    "  journal={arXiv preprint arXiv:1909.09436},\n",
    "  year={2019}\n",
    "}\n",
    "```"
   ]
  },
  {
   "cell_type": "code",
   "execution_count": 2,
   "metadata": {},
   "outputs": [],
   "source": [
    "# export\n",
    "import gdown\n",
    "import io\n",
    "import logging\n",
    "import requests\n",
    "import zipfile\n",
    "\n",
    "import pandas as pd\n",
    "\n",
    "from collections import defaultdict\n",
    "from fastcore.script import call_parse, Param\n",
    "from icodegen.data.core import convert_df_to_tfds\n",
    "from icodegen.data.transforms import (\n",
    "    code_token_randomizer,\n",
    "    line_randomizer,\n",
    "    java_comment_remover,\n",
    "    transform_df,\n",
    ")\n",
    "from icodegen.evaluation.core import (\n",
    "    get_mean_probs,\n",
    "    mean_dist_probs,\n",
    "    get_mean_cross_entropy,\n",
    ")\n",
    "from icodegen.model.core import RNNModel, TransformerModel\n",
    "from pathlib import Path\n",
    "\n",
    "logger = logging.getLogger()\n",
    "logger.setLevel(logging.INFO)"
   ]
  },
  {
   "cell_type": "markdown",
   "metadata": {},
   "source": [
    "## TODO Standardize naming convention to use `path` instead of `dir`"
   ]
  },
  {
   "cell_type": "code",
   "execution_count": 3,
   "metadata": {},
   "outputs": [],
   "source": [
    "# export\n",
    "URLs = {\n",
    "    \"bigclonebenchmark_lg\": \"https://drive.google.com/uc?id=1-4LPiiKGR5Zmg-TLqZEkRbRIdg7UlJQb\",\n",
    "    \"bigclonebenchmark_sm\": \"https://drive.google.com/uc?id=1FCq0lSs4oqc3jpSoucsHlRqjmbVwdRQ9\",\n",
    "    \"bug_fix_pairs\": \"https://drive.google.com/uc?id=1XEhnsQ3Uy6SnFz349I0Iu9lz4ggAaiQp\",\n",
    "    \"codesearchnet_java\": \"https://s3.amazonaws.com/code-search-net/CodeSearchNet/v2/java.zip\",\n",
    "}"
   ]
  },
  {
   "cell_type": "code",
   "execution_count": 21,
   "metadata": {},
   "outputs": [],
   "source": [
    "# export\n",
    "@call_parse\n",
    "def download_data(\n",
    "    out_dir: Param(\"The output directory to download and extract all files to.\", str)\n",
    "):\n",
    "    \"\"\"\n",
    "    Function for downloading all the data to reproduce our study.\n",
    "    \"\"\"\n",
    "    out_dir = Path(out_dir)\n",
    "\n",
    "    # TODO: Make individual folders to place all these files in\n",
    "    # Download bigclonebenchmark_lg and bigclonebenchmark_sm\n",
    "    logging.info(\"Downloading BigCloneBenchmark datasets.\")\n",
    "    #     gdown.download(\n",
    "    #         URLs[\"bigclonebenchmark_lg\"], str(out_dir / \"bigclonebenchmark_lg.csv\")\n",
    "    #     )\n",
    "    #     gdown.download(\n",
    "    #         URLs[\"bigclonebenchmark_sm\"], str(out_dir / \"bigclonebenchmark_sm.csv\")\n",
    "    #     )\n",
    "\n",
    "    # Download Bug Fix Pairs\n",
    "    logging.info(\"Downloading and extracting Bug Fix Pairs dataset.\")\n",
    "    #     gdown.cached_download(\n",
    "    #         URLs[\"bug_fix_pairs\"],\n",
    "    #         str(out_dir / \"bug_fix_pairs.zip\"),\n",
    "    #         postprocess=gdown.extractall,\n",
    "    #     )\n",
    "    #     with zipfile.ZipFile(\n",
    "    #         str(out_dir / \"datasets\" / \"50-100\" / \"source_code.zip\"), \"r\"\n",
    "    #     ) as zip_ref:\n",
    "    #         zip_ref.extractall(out_dir)\n",
    "\n",
    "    # from https://stackoverflow.com/a/14260592/5768407 by users\n",
    "    # yoavram (https://stackoverflow.com/users/1063612/yoavram) and\n",
    "    # kamran kausar (https://stackoverflow.com/users/3486460/kamran-kausar)\n",
    "    logging.info(\"Downloading and extracting CodeSearchNet Challenge dataset.\")\n",
    "    r = requests.get(URLs[\"codesearchnet_java\"])\n",
    "    z = zipfile.ZipFile(io.BytesIO(r.content))\n",
    "    z.extractall(out_dir / \"codesearchnet_java\")"
   ]
  },
  {
   "cell_type": "code",
   "execution_count": 22,
   "metadata": {},
   "outputs": [
    {
     "name": "stderr",
     "output_type": "stream",
     "text": [
      "INFO:root:Downloading BigCloneBenchmark datasets.\n",
      "INFO:root:Downloading and extracting Bug Fix Pairs dataset.\n",
      "INFO:root:Downloading and extracting CodeSearchNet Challenge dataset.\n"
     ]
    }
   ],
   "source": [
    "download_data(\"/tmp\")\n",
    "\n",
    "assert Path(\"/tmp/bigclonebenchmark_lg.csv\").exists()\n",
    "assert Path(\"/tmp/bigclonebenchmark_sm.csv\").exists()\n",
    "\n",
    "assert Path(\"/tmp/bug_fix_pairs.zip\").exists()\n",
    "assert Path(\"/tmp/50-100/buggy\").exists()\n",
    "assert Path(\"/tmp/50-100/fixed\").exists()\n",
    "\n",
    "assert Path(\"/tmp/codesearchnet_java\").exists()"
   ]
  },
  {
   "cell_type": "code",
   "execution_count": null,
   "metadata": {},
   "outputs": [],
   "source": [
    "# export\n",
    "def _process_bigclonebenchmark(path):\n",
    "    pass"
   ]
  },
  {
   "cell_type": "code",
   "execution_count": null,
   "metadata": {},
   "outputs": [],
   "source": [
    "# df = pd.read_csv(\"/tmp/bigclonebenchmark_lg.csv\")\n",
    "# df.head()"
   ]
  },
  {
   "cell_type": "code",
   "execution_count": null,
   "metadata": {},
   "outputs": [],
   "source": [
    "# df.clone_type.value_counts()"
   ]
  },
  {
   "cell_type": "code",
   "execution_count": 14,
   "metadata": {},
   "outputs": [],
   "source": [
    "# export\n",
    "def _process_bug_fix(path):\n",
    "    buggy_paths = sorted((path / \"50-100\").glob(\"buggy/*.java\"))\n",
    "    fixed_paths = sorted((path / \"50-100\").glob(\"fixed/*.java\"))\n",
    "    bugs = []\n",
    "    fixes = []\n",
    "    for bug_p, fix_p in zip(buggy_paths, fixed_paths):\n",
    "        with open(bug_p, \"r\") as f:\n",
    "            bugs.append(f.read())\n",
    "\n",
    "        with open(fix_p, \"r\") as f:\n",
    "            fixes.append(f.read())\n",
    "\n",
    "    df_buggy = pd.DataFrame(bugs, columns=[\"code\"])\n",
    "    df_fixed = pd.DataFrame(fixes, columns=[\"code\"])\n",
    "\n",
    "    # Saving to jsonl because csv formatting is causing issues with quoting\n",
    "    df_buggy.to_json(path / \"buggy.jsonl\", orient=\"records\", lines=True)\n",
    "    df_fixed.to_json(path / \"fixed.jsonl\", orient=\"records\", lines=True)\n",
    "\n",
    "\n",
    "# #     df = pd.DataFrame(zip(bugs, fixes), columns=[\"buggy\", \"fixed\"])\n",
    "# #     # Saving to jsonl because csv formatting is causing issues with quoting\n",
    "# #     df.to_json(path / \"bug_fix_pairs.jsonl\", orient=\"records\", lines=True)"
   ]
  },
  {
   "cell_type": "code",
   "execution_count": 15,
   "metadata": {},
   "outputs": [],
   "source": [
    "_process_bug_fix(Path(\"/tmp\"))\n",
    "\n",
    "assert Path(\"/tmp/buggy.jsonl\").exists()\n",
    "assert Path(\"/tmp/fixed.jsonl\").exists()"
   ]
  },
  {
   "cell_type": "code",
   "execution_count": null,
   "metadata": {},
   "outputs": [],
   "source": [
    "# BUGGY_MTHD = \"\"\"\\\n",
    "# private void success(io.netty.channel.Channel channel) {\n",
    "#     org.mycat.netty.mysql.MySQLHandshakeHandler.logger.debug(\"success info return form MySQLHandshakeHandler\");\n",
    "#     io.netty.buffer.ByteBuf out = channel.alloc().buffer();\n",
    "#     org.mycat.netty.mysql.OK ok = new org.mycat.netty.mysql.OK();\n",
    "#     ok.sequenceId = 2;\n",
    "#     ok.setStatusFlag(Flags.SERVER_STATUS_AUTOCOMMIT);\n",
    "#     out.writeBytes(ok.toPacket());\n",
    "#     channel.writeAndFlush(out);\n",
    "# }\"\"\"\n",
    "# FIXED_MTHD = \"\"\"\\\n",
    "# private void success(io.netty.channel.Channel channel) {\n",
    "#     org.mycat.netty.mysql.MySQLHandshakeHandler.logger.info(\"success info return form MySQLHandshakeHandler\");\n",
    "#     io.netty.buffer.ByteBuf out = channel.alloc().buffer();\n",
    "#     org.mycat.netty.mysql.OK ok = new org.mycat.netty.mysql.OK();\n",
    "#     ok.sequenceId = 2;\n",
    "#     ok.setStatusFlag(Flags.SERVER_STATUS_AUTOCOMMIT);\n",
    "#     out.writeBytes(ok.toPacket());\n",
    "#     channel.writeAndFlush(out);\n",
    "# }\"\"\"\n",
    "# df = pd.read_json(\"/tmp/bug_fix_pairs.jsonl\", orient=\"records\", lines=True)\n",
    "\n",
    "# assert BUGGY_MTHD == df.buggy.values[0] and FIXED_MTHD == df.fixed.values[0]"
   ]
  },
  {
   "cell_type": "code",
   "execution_count": 6,
   "metadata": {},
   "outputs": [],
   "source": [
    "# export\n",
    "def _jsonl_list_to_dataframe(file_list, columns=None):\n",
    "    \"\"\"Load a list of jsonl.gz files into a pandas DataFrame.\"\"\"\n",
    "    return pd.concat(\n",
    "        [\n",
    "            pd.read_json(f, orient=\"records\", compression=\"gzip\", lines=True)[columns]\n",
    "            for f in file_list\n",
    "        ],\n",
    "        sort=False,\n",
    "    )\n",
    "\n",
    "\n",
    "def _process_codesearchnet(path):\n",
    "    \"\"\"\n",
    "    Grabs the different data splits and converts them into dataframes.\n",
    "    Expects format from Code Search Net Challenge.\n",
    "    \"\"\"\n",
    "    for split in [\"train\", \"valid\", \"test\"]:\n",
    "        files = sorted((path / \"java\" / \"final\" / \"jsonl\" / split).glob(\"**/*.gz\"))\n",
    "        df = _jsonl_list_to_dataframe(files, [\"code\"])\n",
    "        # Saving to jsonl because csv formatting is causing issues with quoting\n",
    "        df.to_json(path / f\"{split}.jsonl\", orient=\"records\", lines=True)"
   ]
  },
  {
   "cell_type": "code",
   "execution_count": 23,
   "metadata": {},
   "outputs": [],
   "source": [
    "# export\n",
    "@call_parse\n",
    "def process_data(\n",
    "    down_dir: Param(\n",
    "        \"The directory where all the files were downloaded and extracted to.\", str\n",
    "    )\n",
    "):\n",
    "    \"\"\"Function for processing data related to the library.\"\"\"\n",
    "    down_dir = Path(down_dir)\n",
    "\n",
    "    # Process CodeSearchNet Challenge data\n",
    "    _process_codesearchnet(down_dir / \"codesearchnet_java\")\n",
    "\n",
    "    # Process Bug Fix Pairs data\n",
    "\n",
    "\n",
    "#     _process_bug_fix(down_dir)"
   ]
  },
  {
   "cell_type": "code",
   "execution_count": 24,
   "metadata": {},
   "outputs": [],
   "source": [
    "process_data(\"/tmp\")"
   ]
  },
  {
   "cell_type": "code",
   "execution_count": null,
   "metadata": {},
   "outputs": [],
   "source": [
    "# export\n",
    "\n",
    "# Experiment 0.0.0\n",
    "VANILLA_CONFIG = {\n",
    "    \"rnn_type\": \"rnn\",\n",
    "    \"n_layers\": 1,\n",
    "    \"vocab_size\": 10_000,\n",
    "    \"embedding_dim\": 256,\n",
    "    \"rnn_units\": 1_024,\n",
    "    \"batch_size\": 64,\n",
    "}\n",
    "\n",
    "# Experiment 1.0.0\n",
    "GRU_CONFIG_1 = {\n",
    "    \"rnn_type\": \"gru\",\n",
    "    \"n_layers\": 1,\n",
    "    \"vocab_size\": 10_000,\n",
    "    \"embedding_dim\": 256,\n",
    "    \"rnn_units\": 1_024,\n",
    "    \"batch_size\": 64,\n",
    "}\n",
    "\n",
    "# Experiment 1.1.0\n",
    "GRU_CONFIG_2 = {\n",
    "    \"rnn_type\": \"gru\",\n",
    "    \"n_layers\": 2,\n",
    "    \"vocab_size\": 10_000,\n",
    "    \"embedding_dim\": 256,\n",
    "    \"rnn_units\": 1_024,\n",
    "    \"batch_size\": 64,\n",
    "}\n",
    "\n",
    "# Experiment 1.1.1\n",
    "GRU_CONFIG_3 = {\n",
    "    \"rnn_type\": \"gru\",\n",
    "    \"n_layers\": 3,\n",
    "    \"vocab_size\": 10_000,\n",
    "    \"embedding_dim\": 256,\n",
    "    \"rnn_units\": 1_024,\n",
    "    \"batch_size\": 64,\n",
    "}\n",
    "\n",
    "# Experiment 1.2.0\n",
    "GRU_CONFIG_4 = {\n",
    "    \"rnn_type\": \"gru\",\n",
    "    \"n_layers\": 1,\n",
    "    \"vocab_size\": 10_000,\n",
    "    \"embedding_dim\": 256,\n",
    "    \"rnn_units\": 512,\n",
    "    \"batch_size\": 64,\n",
    "}\n",
    "\n",
    "# Experiment 1.2.1\n",
    "GRU_CONFIG_5 = {\n",
    "    \"rnn_type\": \"gru\",\n",
    "    \"n_layers\": 1,\n",
    "    \"vocab_size\": 10_000,\n",
    "    \"embedding_dim\": 256,\n",
    "    \"rnn_units\": 2_048,\n",
    "    \"batch_size\": 64,\n",
    "}\n",
    "\n",
    "_RNN_CONFIGs = [\n",
    "    VANILLA_CONFIG,\n",
    "    GRU_CONFIG_1,\n",
    "    GRU_CONFIG_2,\n",
    "    GRU_CONFIG_3,\n",
    "    GRU_CONFIG_4,\n",
    "    GRU_CONFIG_5,\n",
    "]"
   ]
  },
  {
   "cell_type": "code",
   "execution_count": 8,
   "metadata": {},
   "outputs": [],
   "source": [
    "# export\n",
    "@call_parse\n",
    "def train(\n",
    "    data_path: Param(\"The path to where the data to train the models is located\", str),\n",
    "    out_path: Param(\"The output path to save all model chkpts to.\", str),\n",
    "    epochs: Param(\"The number of epochs to train each model for.\", int) = 64,\n",
    "    max_length: Param(\n",
    "        \"The maximum number of tokens each method can be. Truncation and padding will occur if the method is too long or short, respectively.\",\n",
    "        int,\n",
    "    ) = 64,\n",
    "    batch_size: Param(\"The batch size to use for training each model.\", int) = 64,\n",
    "):\n",
    "    \"\"\"Function for training models related to the library.\"\"\"\n",
    "    data_path = Path(data_path)\n",
    "    out_path = Path(out_path)\n",
    "\n",
    "    # Load in the dataset\n",
    "    df = pd.read_json(\"/tmp/bug_fix_pairs.jsonl\", orient=\"records\", lines=True)\n",
    "\n",
    "    # Train BPE tokenizer\n",
    "    # Check if the path where the tokenizer is to be saved is not empty\n",
    "    # if it is not empty then just load the tokenizer there.\n",
    "\n",
    "    # Tokenize the dataset and convert it to tfds\n",
    "    dataset = convert_df_to_tfds(df, tokenizer, max_length, batch_size)\n",
    "\n",
    "    logging.info(\"Starting the training of all RNN based models.\")\n",
    "    # Train RNN based models\n",
    "    for config in _RNN_CONFIGs:\n",
    "        rnn_model = RNNModel(\n",
    "            config[\"rnn_type\"],\n",
    "            config[\"n_layers\"],\n",
    "            config[\"vocab_size\"],\n",
    "            config[\"embedding_dim\"],\n",
    "            config[\"rnn_units\"],\n",
    "            config[\"batch_size\"],\n",
    "            str(out_path),\n",
    "            tokenizer,\n",
    "        )\n",
    "        rnn_model.train(dataset, epochs)\n",
    "\n",
    "    logging.info(\"Starting the training of all Transformer based models.\")\n",
    "    # Train Transformer models\n",
    "    pass"
   ]
  },
  {
   "cell_type": "code",
   "execution_count": 9,
   "metadata": {},
   "outputs": [],
   "source": [
    "# export\n",
    "_TRANSFORMs = {\n",
    "    \"randomized_tokens\": code_token_randomizer,\n",
    "    \"randomized_lines\": line_randomizer,\n",
    "    \"comments_removed\": java_comment_remover,\n",
    "}"
   ]
  },
  {
   "cell_type": "code",
   "execution_count": 73,
   "metadata": {},
   "outputs": [],
   "source": [
    "# export\n",
    "def _get_metrics(df, model):\n",
    "    mean_probs = get_mean_probs(df, model)\n",
    "    df_dist = mean_dist_probs(df, model)\n",
    "    mean_cross_entropy = get_mean_cross_entropy(df, model)\n",
    "\n",
    "    return {\n",
    "        \"mean_probs\": mean_probs,\n",
    "        \"dist_mean\": df_dist,\n",
    "        \"mean_cross_entropy\": mean_cross_entropy,\n",
    "    }\n",
    "\n",
    "\n",
    "def _long_range(data_dir, model, n=None):\n",
    "    long_range_results = {}\n",
    "\n",
    "    df_buggy = pd.read_json(data_dir / \"buggy.jsonl\", orient=\"records\", lines=True)[:n]\n",
    "    long_range_results[\"buggy\"] = _get_metrics(df_buggy, model)\n",
    "    del df_buggy\n",
    "\n",
    "    df_fixed = pd.read_json(data_dir / \"fixed.jsonl\", orient=\"records\", lines=True)[:n]\n",
    "    long_range_results[\"fixed\"] = _get_metrics(df_fixed, model)\n",
    "    del df_fixed\n",
    "\n",
    "    df_codesearchnet = pd.read_json(\n",
    "        data_dir / \"codesearchnet_java\" / \"test.jsonl\", orient=\"records\", lines=True\n",
    "    )[:n]\n",
    "    long_range_results[\"codesearchnet_original\"] = _get_metrics(df_codesearchnet, model)\n",
    "\n",
    "    for transform in _TRANSFORMs:\n",
    "        df_transformed = transform_df(df_codesearchnet, _TRANSFORMs[transform])\n",
    "        long_range_results[\"codesearchnet_\" + transform] = _get_metrics(\n",
    "            df_transformed, model\n",
    "        )\n",
    "        del df_transformed\n",
    "\n",
    "    return long_range_results"
   ]
  },
  {
   "cell_type": "code",
   "execution_count": 44,
   "metadata": {},
   "outputs": [
    {
     "name": "stderr",
     "output_type": "stream",
     "text": [
      "All model checkpoint layers were used when initializing TFGPT2LMHeadModel.\n",
      "\n",
      "All the layers of TFGPT2LMHeadModel were initialized from the model checkpoint at sshleifer/tiny-gpt2.\n",
      "If your task is similar to the task the model of the checkpoint was trained on, you can already use TFGPT2LMHeadModel for predictions without further training.\n"
     ]
    }
   ],
   "source": [
    "# hide\n",
    "# Setting up testing data\n",
    "import random\n",
    "\n",
    "from transformers import GPT2Tokenizer, TFGPT2LMHeadModel\n",
    "\n",
    "# Using tiny-gpt2 for just quick tests since it is... tiny :)\n",
    "tokenizer = GPT2Tokenizer.from_pretrained(\"sshleifer/tiny-gpt2\")\n",
    "trnsfr = TFGPT2LMHeadModel.from_pretrained(\"sshleifer/tiny-gpt2\")\n",
    "model = TransformerModel(tokenizer, trnsfr)"
   ]
  },
  {
   "cell_type": "code",
   "execution_count": 74,
   "metadata": {},
   "outputs": [],
   "source": [
    "random.seed(42)\n",
    "long_range_results = _long_range(Path(\"/tmp\"), model, n=100)\n",
    "# print(long_range_results)"
   ]
  },
  {
   "cell_type": "code",
   "execution_count": 81,
   "metadata": {
    "collapsed": true,
    "jupyter": {
     "outputs_hidden": true
    }
   },
   "outputs": [
    {
     "name": "stdout",
     "output_type": "stream",
     "text": [
      "{'buggy': {'dist_mean': Empty DataFrame\n",
      "Columns: [dist, mean_prob]\n",
      "Index: [],\n",
      "           'mean_cross_entropy': 10.815437,\n",
      "           'mean_probs': array([2.01492267e-05, 2.00443741e-05,            nan, ...,\n",
      "                  nan,            nan,            nan])},\n",
      " 'codesearchnet_comments_removed': {'dist_mean': Empty DataFrame\n",
      "Columns: [dist, mean_prob]\n",
      "Index: [],\n",
      "                                    'mean_cross_entropy': 10.815763,\n",
      "                                    'mean_probs': array([2.00331542e-05, 2.01434953e-05,            nan, ...,\n",
      "                  nan,            nan,            nan])},\n",
      " 'codesearchnet_original': {'dist_mean': Empty DataFrame\n",
      "Columns: [dist, mean_prob]\n",
      "Index: [],\n",
      "                            'mean_cross_entropy': 10.815763,\n",
      "                            'mean_probs': array([2.00331542e-05, 2.01434953e-05,            nan, ...,\n",
      "                  nan,            nan,            nan])},\n",
      " 'codesearchnet_randomized_lines': {'dist_mean': Empty DataFrame\n",
      "Columns: [dist, mean_prob]\n",
      "Index: [],\n",
      "                                    'mean_cross_entropy': 10.815592,\n",
      "                                    'mean_probs': array([1.99028382e-05, 2.01312049e-05,            nan, ...,\n",
      "                  nan,            nan,            nan])},\n",
      " 'codesearchnet_randomized_tokens': {'dist_mean': Empty DataFrame\n",
      "Columns: [dist, mean_prob]\n",
      "Index: [],\n",
      "                                     'mean_cross_entropy': 10.815699,\n",
      "                                     'mean_probs': array([2.01473913e-05, 1.99381167e-05,            nan, ...,\n",
      "                  nan,            nan,            nan])},\n",
      " 'fixed': {'dist_mean': Empty DataFrame\n",
      "Columns: [dist, mean_prob]\n",
      "Index: [],\n",
      "           'mean_cross_entropy': 10.815347,\n",
      "           'mean_probs': array([2.01485749e-05, 1.99614875e-05,            nan, ...,\n",
      "                  nan,            nan,            nan])}}\n"
     ]
    }
   ],
   "source": [
    "import pprint\n",
    "\n",
    "pprint.pprint(long_range_results)"
   ]
  },
  {
   "cell_type": "code",
   "execution_count": 75,
   "metadata": {},
   "outputs": [
    {
     "data": {
      "text/plain": [
       "10.815763"
      ]
     },
     "execution_count": 75,
     "metadata": {},
     "output_type": "execute_result"
    }
   ],
   "source": [
    "long_range_results[\"codesearchnet_original\"][\"mean_cross_entropy\"]"
   ]
  },
  {
   "cell_type": "code",
   "execution_count": 83,
   "metadata": {},
   "outputs": [
    {
     "name": "stdout",
     "output_type": "stream",
     "text": [
      "10.815699 10.815592 10.815763\n"
     ]
    }
   ],
   "source": [
    "print(\n",
    "    long_range_results[\"codesearchnet_randomized_tokens\"][\"mean_cross_entropy\"],\n",
    "    long_range_results[\"codesearchnet_randomized_lines\"][\"mean_cross_entropy\"],\n",
    "    long_range_results[\"codesearchnet_comments_removed\"][\"mean_cross_entropy\"],\n",
    ")"
   ]
  },
  {
   "cell_type": "code",
   "execution_count": null,
   "metadata": {},
   "outputs": [],
   "source": [
    "# export\n",
    "def _counterfactual(control_results, treatment_results):\n",
    "    pass"
   ]
  },
  {
   "cell_type": "code",
   "execution_count": null,
   "metadata": {},
   "outputs": [],
   "source": [
    "# export\n",
    "@call_parse\n",
    "def evaluate(\n",
    "    data_dir: Param(\"The message\", str),\n",
    "    model_dir: Param(\"The message\", str),\n",
    "    out_dir: Param(\"The message\", str),\n",
    "):\n",
    "    \"\"\"Function for evaluating models related to the library.\"\"\"\n",
    "    data_dir = Path(data_dir)\n",
    "    model_dir = Path(model_dir)\n",
    "    out_dir = Path(out_dir)\n",
    "\n",
    "    results = defaultdict(dict)\n",
    "    #     models = []\n",
    "    # These model folders will need to contain the config of the model as well\n",
    "    # to differentiate them\n",
    "    for m_path in model_dir.glob(\"*/\"):\n",
    "        model = None\n",
    "        if m_path.name == \"Transformer\":\n",
    "            model = TransformerModel.from_path(m_path)\n",
    "        elif m_path.name == \"GRU\":\n",
    "            model = RNNModel.from_path(m_path)\n",
    "        elif m_path.name == \"RNN\":\n",
    "            pass\n",
    "\n",
    "        # Long-Range Interactions\n",
    "        results[m_path.name][\"long_range\"] = _long_range(data_dir, model)\n",
    "\n",
    "        # Counterfactuals\n",
    "\n",
    "\n",
    "#         results[m_path][\"counterfactual\"] = _counterfactual(data_dir, model)\n",
    "# _counterfactual(control_results, treatment_results)\n",
    "\n",
    "# Save results in json format\n",
    "# Long-Range Interactions\n",
    "#     long_range_results = _long_range(data_dir, models)\n",
    "#     long_range_results\n",
    "\n",
    "#     # Counterfactuals\n",
    "#     counterfactual_results = []\n",
    "#     counterfactual_results\n",
    "#     for transform in _TRANSFORMs:\n",
    "#         pass\n",
    "# _counterfactual(control_results, treatment_results)"
   ]
  },
  {
   "cell_type": "code",
   "execution_count": null,
   "metadata": {},
   "outputs": [],
   "source": [
    "# export\n",
    "@call_parse\n",
    "def reproduce(\n",
    "    out_dir: Param(\n",
    "        \"The output directory to download, extract, and save all files to.\", str\n",
    "    )\n",
    "):\n",
    "    \"\"\"Function for reproducing results related to the library.\"\"\"\n",
    "    download_data(out_dir)\n",
    "    process_data(out_dir)"
   ]
  },
  {
   "cell_type": "code",
   "execution_count": null,
   "metadata": {},
   "outputs": [],
   "source": [
    "# hide\n",
    "from nbdev.export import notebook2script\n",
    "\n",
    "notebook2script()"
   ]
  }
 ],
 "metadata": {
  "kernelspec": {
   "display_name": "Python 3",
   "language": "python",
   "name": "python3"
  },
  "language_info": {
   "codemirror_mode": {
    "name": "ipython",
    "version": 3
   },
   "file_extension": ".py",
   "mimetype": "text/x-python",
   "name": "python",
   "nbconvert_exporter": "python",
   "pygments_lexer": "ipython3",
   "version": "3.7.8"
  }
 },
 "nbformat": 4,
 "nbformat_minor": 4
}
