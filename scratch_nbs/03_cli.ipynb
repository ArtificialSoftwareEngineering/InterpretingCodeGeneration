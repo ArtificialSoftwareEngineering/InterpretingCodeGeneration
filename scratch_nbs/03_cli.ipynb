{
 "cells": [
  {
   "cell_type": "code",
   "execution_count": null,
   "metadata": {},
   "outputs": [],
   "source": [
    "# default_exp cli"
   ]
  },
  {
   "cell_type": "markdown",
   "metadata": {},
   "source": [
    "# CLI\n",
    "\n",
    "> Contains all the CLI functions that your library provides."
   ]
  },
  {
   "cell_type": "markdown",
   "metadata": {},
   "source": [
    "Some data and code taken from https://github.com/github/CodeSearchNet\n",
    "\n",
    "```\n",
    "MIT License\n",
    "\n",
    "Copyright (c) 2019 GitHub\n",
    "\n",
    "Permission is hereby granted, free of charge, to any person obtaining a copy\n",
    "of this software and associated documentation files (the \"Software\"), to deal\n",
    "in the Software without restriction, including without limitation the rights\n",
    "to use, copy, modify, merge, publish, distribute, sublicense, and/or sell\n",
    "copies of the Software, and to permit persons to whom the Software is\n",
    "furnished to do so, subject to the following conditions:\n",
    "\n",
    "The above copyright notice and this permission notice shall be included in all\n",
    "copies or substantial portions of the Software.\n",
    "\n",
    "THE SOFTWARE IS PROVIDED \"AS IS\", WITHOUT WARRANTY OF ANY KIND, EXPRESS OR\n",
    "IMPLIED, INCLUDING BUT NOT LIMITED TO THE WARRANTIES OF MERCHANTABILITY,\n",
    "FITNESS FOR A PARTICULAR PURPOSE AND NONINFRINGEMENT. IN NO EVENT SHALL THE\n",
    "AUTHORS OR COPYRIGHT HOLDERS BE LIABLE FOR ANY CLAIM, DAMAGES OR OTHER\n",
    "LIABILITY, WHETHER IN AN ACTION OF CONTRACT, TORT OR OTHERWISE, ARISING FROM,\n",
    "OUT OF OR IN CONNECTION WITH THE SOFTWARE OR THE USE OR OTHER DEALINGS IN THE\n",
    "SOFTWARE.\n",
    "```\n",
    "\n",
    "```\n",
    "@article{husain2019codesearchnet,\n",
    "  title={{CodeSearchNet} challenge: Evaluating the state of semantic code search},\n",
    "  author={Husain, Hamel and Wu, Ho-Hsiang and Gazit, Tiferet and Allamanis, Miltiadis and Brockschmidt, Marc},\n",
    "  journal={arXiv preprint arXiv:1909.09436},\n",
    "  year={2019}\n",
    "}\n",
    "```"
   ]
  },
  {
   "cell_type": "code",
   "execution_count": 1,
   "metadata": {},
   "outputs": [],
   "source": [
    "# export\n",
    "import logging\n",
    "import random\n",
    "\n",
    "import tensorflow as tf\n",
    "\n",
    "from fastcore.script import call_parse, Param\n",
    "from icodegen.data.core import (\n",
    "    _download_data,\n",
    "    process_data,\n",
    ")\n",
    "from pathlib import Path\n",
    "\n",
    "seed = 115\n",
    "\n",
    "logger = logging.getLogger()\n",
    "logger.setLevel(logging.INFO)"
   ]
  },
  {
   "cell_type": "code",
   "execution_count": null,
   "metadata": {},
   "outputs": [],
   "source": [
    "# export\n",
    "@call_parse\n",
    "def download_data(\n",
    "    out_path: Param(\"The output path to download and extract all files to.\", str)\n",
    "):\n",
    "    \"\"\"\n",
    "    Function for downloading all the data to reproduce our study.\n",
    "    \"\"\"\n",
    "    out_path = Path(out_path)\n",
    "\n",
    "    _download_data(out_path)"
   ]
  },
  {
   "cell_type": "code",
   "execution_count": null,
   "metadata": {},
   "outputs": [],
   "source": [
    "data_path = Path(\"/tmp/data\")\n",
    "download_data(str(data_path))\n",
    "\n",
    "bigclone_path = data_path / \"bigclonebenchmark\"\n",
    "assert Path(bigclone_path / \"bigclonebenchmark_lg.csv\").exists()\n",
    "assert Path(bigclone_path / \"bigclonebenchmark_sm.csv\").exists()\n",
    "\n",
    "bugfix_path = data_path / \"bug_fix\"\n",
    "assert Path(bugfix_path / \"bug_fix_pairs.zip\").exists()\n",
    "assert Path(bugfix_path / \"50-100/buggy\").exists()\n",
    "assert Path(bugfix_path / \"50-100/fixed\").exists()\n",
    "\n",
    "codesearchnet_path = data_path / \"codesearchnet\"\n",
    "assert Path(codesearchnet_path / \"codesearchnet_java\").exists()"
   ]
  },
  {
   "cell_type": "code",
   "execution_count": null,
   "metadata": {},
   "outputs": [],
   "source": [
    "# export\n",
    "@call_parse\n",
    "def reproduce(\n",
    "    out_path: Param(\n",
    "        \"The output directory to download, extract, and save all files to.\", str\n",
    "    )\n",
    "):\n",
    "    \"\"\"Function for reproducing results related to the library.\"\"\"\n",
    "    random.seed(seed)\n",
    "    tf.random.set_seed(seed)\n",
    "    out_path = Path(out_path)\n",
    "\n",
    "    _download_data(out_path)\n",
    "    process_data(out_path)"
   ]
  },
  {
   "cell_type": "code",
   "execution_count": null,
   "metadata": {},
   "outputs": [],
   "source": [
    "# hide\n",
    "from nbdev.export import notebook2script\n",
    "\n",
    "notebook2script()"
   ]
  }
 ],
 "metadata": {
  "kernelspec": {
   "display_name": "Python 3",
   "language": "python",
   "name": "python3"
  },
  "language_info": {
   "codemirror_mode": {
    "name": "ipython",
    "version": 3
   },
   "file_extension": ".py",
   "mimetype": "text/x-python",
   "name": "python",
   "nbconvert_exporter": "python",
   "pygments_lexer": "ipython3",
   "version": "3.8.6"
  }
 },
 "nbformat": 4,
 "nbformat_minor": 4
}
